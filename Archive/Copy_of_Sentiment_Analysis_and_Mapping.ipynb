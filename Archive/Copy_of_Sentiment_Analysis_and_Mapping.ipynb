{
  "nbformat": 4,
  "nbformat_minor": 0,
  "metadata": {
    "colab": {
      "provenance": [],
      "authorship_tag": "ABX9TyP1rr4MOPQZYqRUUY2I5Ah+",
      "include_colab_link": true
    },
    "kernelspec": {
      "name": "python3",
      "display_name": "Python 3"
    },
    "language_info": {
      "name": "python"
    }
  },
  "cells": [
    {
      "cell_type": "markdown",
      "metadata": {
        "id": "view-in-github",
        "colab_type": "text"
      },
      "source": [
        "<a href=\"https://colab.research.google.com/github/ilinashah177/Coursework-Website/blob/main/Copy_of_Sentiment_Analysis_and_Mapping.ipynb\" target=\"_parent\"><img src=\"https://colab.research.google.com/assets/colab-badge.svg\" alt=\"Open In Colab\"/></a>"
      ]
    },
    {
      "cell_type": "code",
      "execution_count": 86,
      "metadata": {
        "id": "oyc4ByJJZpaB"
      },
      "outputs": [],
      "source": [
        "%%capture\n",
        "!pip install spacy\n",
        "!pip install scattertext\n",
        "!pip install tika\n",
        "!pip install spacytextblob\n",
        "!python -m spacy download en_core_web_sm"
      ]
    },
    {
      "cell_type": "code",
      "source": [
        "import spacy\n",
        "import json\n",
        "import pylab\n",
        "from IPython.core.display import display, HTML\n",
        "import nltk\n",
        "from tika import parser\n",
        "import numpy as np\n",
        "import pandas as pd\n",
        "import matplotlib.pyplot as plt\n",
        "from spacytextblob.spacytextblob import SpacyTextBlob\n",
        "\n",
        "%matplotlib inline\n",
        "pylab.rcParams['figure.figsize'] = (10., 8.)\n",
        "nlp = spacy.load(\"en_core_web_sm\")\n",
        "nlp.add_pipe('spacytextblob')"
      ],
      "metadata": {
        "colab": {
          "base_uri": "https://localhost:8080/"
        },
        "id": "H9UgPfm9aNVf",
        "outputId": "d332f82f-867b-4fa4-eff0-756581ea9bc2"
      },
      "execution_count": 87,
      "outputs": [
        {
          "output_type": "execute_result",
          "data": {
            "text/plain": [
              "<spacytextblob.spacytextblob.SpacyTextBlob at 0x78e86c3ad050>"
            ]
          },
          "metadata": {},
          "execution_count": 87
        }
      ]
    },
    {
      "cell_type": "code",
      "source": [
        "def analyze_urls_from_csv(file_path):\n",
        "    try:\n",
        "        df = pd.read_csv(file_path)\n",
        "        # Check for required columns in the DataFrame\n",
        "        if not all(col in df.columns for col in ['Country', 'URL']):\n",
        "            raise ValueError(\"The CSV file must contain 'Country' and 'URL' columns.\")\n",
        "\n",
        "    except FileNotFoundError:\n",
        "        print(f\"Error: File '{file_path}' not found.\")\n",
        "        return None\n",
        "    except pd.errors.EmptyDataError:\n",
        "        print(f\"Error: File '{file_path}' is empty.\")\n",
        "        return None\n",
        "    except ValueError as e:\n",
        "        print(f\"Error: {e}\")\n",
        "        return None\n",
        "    except Exception as e:\n",
        "        print(f\"An unexpected error occurred: {e}\")\n",
        "        return None\n",
        "\n",
        "\n",
        "    results = []\n",
        "    processed_urls = set()  # Keep track of processed URLs\n",
        "\n",
        "    for index, row in df.iterrows():\n",
        "        country = row['Country']\n",
        "        url = row['URL']\n",
        "\n",
        "        if url in processed_urls:\n",
        "            print(f\"Skipping URL (already processed): {url}\")\n",
        "            continue\n",
        "\n",
        "        processed_urls.add(url)  # Add URL to processed set\n",
        "\n",
        "        try:\n",
        "            raw = parser.from_file(url)\n",
        "            text = raw.get('content', '')  # Handle cases where 'content' might be missing\n",
        "            if not text:\n",
        "              print(f\"Warning: No text content found for URL: {url}\")\n",
        "              continue #Skip to the next URL\n",
        "\n",
        "            doc = nlp(text)\n",
        "            sentiment = doc._.blob.polarity\n",
        "            polarity = doc._.blob.polarity\n",
        "            subjectivity = doc._.blob.subjectivity\n",
        "            overall_sentiment = \"Positive\" if sentiment > 0.05 else (\"Negative\" if sentiment < -0.05 else \"Neutral\")\n",
        "\n",
        "            results.append([country, url, sentiment, polarity, subjectivity, overall_sentiment])\n",
        "            print(f\"Processed URL: {url}\")\n",
        "\n",
        "        except Exception as e:\n",
        "            print(f\"Error processing URL '{url}': {e}\")\n",
        "\n",
        "    results_df = pd.DataFrame(results, columns=['Country', 'URL', 'Sentiment', 'Polarity', 'Subjectivity', 'Overall Sentiment'])\n",
        "    return results_df\n",
        "\n",
        "# Example usage (replace 'your_file.csv' with the actual file path)\n",
        "file_path = 'your_file.csv'  #Provide the name of the uploaded file\n",
        "results_df = analyze_urls_from_csv(file_path)\n",
        "\n",
        "if results_df is not None:\n",
        "    display(results_df)\n",
        "    # You can save the results to a new CSV file:\n",
        "    #results_df.to_csv('sentiment_analysis_results.csv', index=False)"
      ],
      "metadata": {
        "colab": {
          "base_uri": "https://localhost:8080/"
        },
        "id": "4MWKBp-ReJOC",
        "outputId": "45b34426-7c4c-44ec-e980-c3b8ec6a2a9a"
      },
      "execution_count": 115,
      "outputs": [
        {
          "output_type": "stream",
          "name": "stdout",
          "text": [
            "Error: File 'your_file.csv' not found.\n"
          ]
        }
      ]
    },
    {
      "cell_type": "code",
      "source": [
        "from google.colab import files\n",
        "uploaded = files.upload()\n",
        "file_path = list(uploaded.keys())[0] # Get the name of the uploaded file\n",
        "\n",
        "# Now you can use file_path in your analyze_urls_from_csv function\n",
        "results_df = analyze_urls_from_csv(file_path)\n",
        "\n",
        "if results_df is not None:\n",
        "    display(results_df)"
      ],
      "metadata": {
        "colab": {
          "base_uri": "https://localhost:8080/",
          "height": 1000
        },
        "id": "8yYFWXFLgKK3",
        "outputId": "f08a38c7-74c3-4249-aee4-9924d93ac115"
      },
      "execution_count": 116,
      "outputs": [
        {
          "output_type": "display_data",
          "data": {
            "text/plain": [
              "<IPython.core.display.HTML object>"
            ],
            "text/html": [
              "\n",
              "     <input type=\"file\" id=\"files-118c4b4a-20cd-42ac-a32d-3160563f80e8\" name=\"files[]\" multiple disabled\n",
              "        style=\"border:none\" />\n",
              "     <output id=\"result-118c4b4a-20cd-42ac-a32d-3160563f80e8\">\n",
              "      Upload widget is only available when the cell has been executed in the\n",
              "      current browser session. Please rerun this cell to enable.\n",
              "      </output>\n",
              "      <script>// Copyright 2017 Google LLC\n",
              "//\n",
              "// Licensed under the Apache License, Version 2.0 (the \"License\");\n",
              "// you may not use this file except in compliance with the License.\n",
              "// You may obtain a copy of the License at\n",
              "//\n",
              "//      http://www.apache.org/licenses/LICENSE-2.0\n",
              "//\n",
              "// Unless required by applicable law or agreed to in writing, software\n",
              "// distributed under the License is distributed on an \"AS IS\" BASIS,\n",
              "// WITHOUT WARRANTIES OR CONDITIONS OF ANY KIND, either express or implied.\n",
              "// See the License for the specific language governing permissions and\n",
              "// limitations under the License.\n",
              "\n",
              "/**\n",
              " * @fileoverview Helpers for google.colab Python module.\n",
              " */\n",
              "(function(scope) {\n",
              "function span(text, styleAttributes = {}) {\n",
              "  const element = document.createElement('span');\n",
              "  element.textContent = text;\n",
              "  for (const key of Object.keys(styleAttributes)) {\n",
              "    element.style[key] = styleAttributes[key];\n",
              "  }\n",
              "  return element;\n",
              "}\n",
              "\n",
              "// Max number of bytes which will be uploaded at a time.\n",
              "const MAX_PAYLOAD_SIZE = 100 * 1024;\n",
              "\n",
              "function _uploadFiles(inputId, outputId) {\n",
              "  const steps = uploadFilesStep(inputId, outputId);\n",
              "  const outputElement = document.getElementById(outputId);\n",
              "  // Cache steps on the outputElement to make it available for the next call\n",
              "  // to uploadFilesContinue from Python.\n",
              "  outputElement.steps = steps;\n",
              "\n",
              "  return _uploadFilesContinue(outputId);\n",
              "}\n",
              "\n",
              "// This is roughly an async generator (not supported in the browser yet),\n",
              "// where there are multiple asynchronous steps and the Python side is going\n",
              "// to poll for completion of each step.\n",
              "// This uses a Promise to block the python side on completion of each step,\n",
              "// then passes the result of the previous step as the input to the next step.\n",
              "function _uploadFilesContinue(outputId) {\n",
              "  const outputElement = document.getElementById(outputId);\n",
              "  const steps = outputElement.steps;\n",
              "\n",
              "  const next = steps.next(outputElement.lastPromiseValue);\n",
              "  return Promise.resolve(next.value.promise).then((value) => {\n",
              "    // Cache the last promise value to make it available to the next\n",
              "    // step of the generator.\n",
              "    outputElement.lastPromiseValue = value;\n",
              "    return next.value.response;\n",
              "  });\n",
              "}\n",
              "\n",
              "/**\n",
              " * Generator function which is called between each async step of the upload\n",
              " * process.\n",
              " * @param {string} inputId Element ID of the input file picker element.\n",
              " * @param {string} outputId Element ID of the output display.\n",
              " * @return {!Iterable<!Object>} Iterable of next steps.\n",
              " */\n",
              "function* uploadFilesStep(inputId, outputId) {\n",
              "  const inputElement = document.getElementById(inputId);\n",
              "  inputElement.disabled = false;\n",
              "\n",
              "  const outputElement = document.getElementById(outputId);\n",
              "  outputElement.innerHTML = '';\n",
              "\n",
              "  const pickedPromise = new Promise((resolve) => {\n",
              "    inputElement.addEventListener('change', (e) => {\n",
              "      resolve(e.target.files);\n",
              "    });\n",
              "  });\n",
              "\n",
              "  const cancel = document.createElement('button');\n",
              "  inputElement.parentElement.appendChild(cancel);\n",
              "  cancel.textContent = 'Cancel upload';\n",
              "  const cancelPromise = new Promise((resolve) => {\n",
              "    cancel.onclick = () => {\n",
              "      resolve(null);\n",
              "    };\n",
              "  });\n",
              "\n",
              "  // Wait for the user to pick the files.\n",
              "  const files = yield {\n",
              "    promise: Promise.race([pickedPromise, cancelPromise]),\n",
              "    response: {\n",
              "      action: 'starting',\n",
              "    }\n",
              "  };\n",
              "\n",
              "  cancel.remove();\n",
              "\n",
              "  // Disable the input element since further picks are not allowed.\n",
              "  inputElement.disabled = true;\n",
              "\n",
              "  if (!files) {\n",
              "    return {\n",
              "      response: {\n",
              "        action: 'complete',\n",
              "      }\n",
              "    };\n",
              "  }\n",
              "\n",
              "  for (const file of files) {\n",
              "    const li = document.createElement('li');\n",
              "    li.append(span(file.name, {fontWeight: 'bold'}));\n",
              "    li.append(span(\n",
              "        `(${file.type || 'n/a'}) - ${file.size} bytes, ` +\n",
              "        `last modified: ${\n",
              "            file.lastModifiedDate ? file.lastModifiedDate.toLocaleDateString() :\n",
              "                                    'n/a'} - `));\n",
              "    const percent = span('0% done');\n",
              "    li.appendChild(percent);\n",
              "\n",
              "    outputElement.appendChild(li);\n",
              "\n",
              "    const fileDataPromise = new Promise((resolve) => {\n",
              "      const reader = new FileReader();\n",
              "      reader.onload = (e) => {\n",
              "        resolve(e.target.result);\n",
              "      };\n",
              "      reader.readAsArrayBuffer(file);\n",
              "    });\n",
              "    // Wait for the data to be ready.\n",
              "    let fileData = yield {\n",
              "      promise: fileDataPromise,\n",
              "      response: {\n",
              "        action: 'continue',\n",
              "      }\n",
              "    };\n",
              "\n",
              "    // Use a chunked sending to avoid message size limits. See b/62115660.\n",
              "    let position = 0;\n",
              "    do {\n",
              "      const length = Math.min(fileData.byteLength - position, MAX_PAYLOAD_SIZE);\n",
              "      const chunk = new Uint8Array(fileData, position, length);\n",
              "      position += length;\n",
              "\n",
              "      const base64 = btoa(String.fromCharCode.apply(null, chunk));\n",
              "      yield {\n",
              "        response: {\n",
              "          action: 'append',\n",
              "          file: file.name,\n",
              "          data: base64,\n",
              "        },\n",
              "      };\n",
              "\n",
              "      let percentDone = fileData.byteLength === 0 ?\n",
              "          100 :\n",
              "          Math.round((position / fileData.byteLength) * 100);\n",
              "      percent.textContent = `${percentDone}% done`;\n",
              "\n",
              "    } while (position < fileData.byteLength);\n",
              "  }\n",
              "\n",
              "  // All done.\n",
              "  yield {\n",
              "    response: {\n",
              "      action: 'complete',\n",
              "    }\n",
              "  };\n",
              "}\n",
              "\n",
              "scope.google = scope.google || {};\n",
              "scope.google.colab = scope.google.colab || {};\n",
              "scope.google.colab._files = {\n",
              "  _uploadFiles,\n",
              "  _uploadFilesContinue,\n",
              "};\n",
              "})(self);\n",
              "</script> "
            ]
          },
          "metadata": {}
        },
        {
          "output_type": "stream",
          "name": "stderr",
          "text": [
            "2025-01-24 01:10:53,733 [MainThread  ] [INFO ]  Retrieving https://pubmed.ncbi.nlm.nih.gov/39592827/ to /tmp/39592827.\n",
            "INFO:tika.tika:Retrieving https://pubmed.ncbi.nlm.nih.gov/39592827/ to /tmp/39592827.\n"
          ]
        },
        {
          "output_type": "stream",
          "name": "stdout",
          "text": [
            "Saving NLP Sentiments 4.csv to NLP Sentiments 4 (1).csv\n"
          ]
        },
        {
          "output_type": "stream",
          "name": "stderr",
          "text": [
            "2025-01-24 01:10:53,956 [MainThread  ] [INFO ]  Retrieving https://www.sciencedirect.com/science/article/pii/S0960148122003494 to /tmp/science-article-pii-s0960148122003494.\n",
            "INFO:tika.tika:Retrieving https://www.sciencedirect.com/science/article/pii/S0960148122003494 to /tmp/science-article-pii-s0960148122003494.\n"
          ]
        },
        {
          "output_type": "stream",
          "name": "stdout",
          "text": [
            "Processed URL: https://pubmed.ncbi.nlm.nih.gov/39592827/\n"
          ]
        },
        {
          "output_type": "stream",
          "name": "stderr",
          "text": [
            "2025-01-24 01:10:54,239 [MainThread  ] [INFO ]  Retrieving https://www.energypolicy.columbia.edu/publications/china-pakistan-economic-corridor-power-projects-insights-environmental-and-debt-sustainability/ to /tmp/publications-china-pakistan-economic-corridor-power-projects-insights-environmental-and-debt-sustainability.\n",
            "INFO:tika.tika:Retrieving https://www.energypolicy.columbia.edu/publications/china-pakistan-economic-corridor-power-projects-insights-environmental-and-debt-sustainability/ to /tmp/publications-china-pakistan-economic-corridor-power-projects-insights-environmental-and-debt-sustainability.\n",
            "2025-01-24 01:10:54,319 [MainThread  ] [INFO ]  Retrieving https://sdpi.org/assets/lib/uploads/Environmental-implications-of-coal-based-energy-under-CPEC.pdf to /tmp/assets-lib-uploads-environmental-implications-of-coal-based-energy-under-cpec.pdf.\n",
            "INFO:tika.tika:Retrieving https://sdpi.org/assets/lib/uploads/Environmental-implications-of-coal-based-energy-under-CPEC.pdf to /tmp/assets-lib-uploads-environmental-implications-of-coal-based-energy-under-cpec.pdf.\n"
          ]
        },
        {
          "output_type": "stream",
          "name": "stdout",
          "text": [
            "Error processing URL 'https://www.sciencedirect.com/science/article/pii/S0960148122003494': HTTP Error 403: Forbidden\n",
            "Error processing URL 'https://www.energypolicy.columbia.edu/publications/china-pakistan-economic-corridor-power-projects-insights-environmental-and-debt-sustainability/': HTTP Error 403: Forbidden\n"
          ]
        },
        {
          "output_type": "stream",
          "name": "stderr",
          "text": [
            "2025-01-24 01:10:56,403 [MainThread  ] [INFO ]  Retrieving https://cscr.pk/explore/themes/energy-environment/cpec-promoting-green-and-sustainable-development/ to /tmp/explore-themes-energy-environment-cpec-promoting-green-and-sustainable-development.\n",
            "INFO:tika.tika:Retrieving https://cscr.pk/explore/themes/energy-environment/cpec-promoting-green-and-sustainable-development/ to /tmp/explore-themes-energy-environment-cpec-promoting-green-and-sustainable-development.\n"
          ]
        },
        {
          "output_type": "stream",
          "name": "stdout",
          "text": [
            "Processed URL: https://sdpi.org/assets/lib/uploads/Environmental-implications-of-coal-based-energy-under-CPEC.pdf\n"
          ]
        },
        {
          "output_type": "stream",
          "name": "stderr",
          "text": [
            "2025-01-24 01:10:56,919 [MainThread  ] [INFO ]  Retrieving https://pmc.ncbi.nlm.nih.gov/articles/PMC11259830/ to /tmp/articles-pmc11259830.\n",
            "INFO:tika.tika:Retrieving https://pmc.ncbi.nlm.nih.gov/articles/PMC11259830/ to /tmp/articles-pmc11259830.\n"
          ]
        },
        {
          "output_type": "stream",
          "name": "stdout",
          "text": [
            "Error processing URL 'https://cscr.pk/explore/themes/energy-environment/cpec-promoting-green-and-sustainable-development/': <urlopen error [Errno 104] Connection reset by peer>\n"
          ]
        },
        {
          "output_type": "stream",
          "name": "stderr",
          "text": [
            "2025-01-24 01:10:57,187 [MainThread  ] [INFO ]  Retrieving https://sdpi.org/green-china-pakistan-economic-corridor-cpec-alliance/event_detail to /tmp/green-china-pakistan-economic-corridor-cpec-alliance-event_detail.\n",
            "INFO:tika.tika:Retrieving https://sdpi.org/green-china-pakistan-economic-corridor-cpec-alliance/event_detail to /tmp/green-china-pakistan-economic-corridor-cpec-alliance-event_detail.\n"
          ]
        },
        {
          "output_type": "stream",
          "name": "stdout",
          "text": [
            "Error processing URL 'https://pmc.ncbi.nlm.nih.gov/articles/PMC11259830/': HTTP Error 403: Forbidden\n"
          ]
        },
        {
          "output_type": "stream",
          "name": "stderr",
          "text": [
            "2025-01-24 01:10:58,732 [MainThread  ] [INFO ]  Retrieving https://link.springer.com/article/10.1007/s11356-022-22813-3 to /tmp/article-10.1007-s11356-022-22813-3.\n",
            "INFO:tika.tika:Retrieving https://link.springer.com/article/10.1007/s11356-022-22813-3 to /tmp/article-10.1007-s11356-022-22813-3.\n"
          ]
        },
        {
          "output_type": "stream",
          "name": "stdout",
          "text": [
            "Processed URL: https://sdpi.org/green-china-pakistan-economic-corridor-cpec-alliance/event_detail\n"
          ]
        },
        {
          "output_type": "stream",
          "name": "stderr",
          "text": [
            "2025-01-24 01:11:03,734 [MainThread  ] [INFO ]  Retrieving https://people.climate.columbia.edu/projects/view/232 to /tmp/projects-view-232.\n",
            "INFO:tika.tika:Retrieving https://people.climate.columbia.edu/projects/view/232 to /tmp/projects-view-232.\n"
          ]
        },
        {
          "output_type": "stream",
          "name": "stdout",
          "text": [
            "Processed URL: https://link.springer.com/article/10.1007/s11356-022-22813-3\n"
          ]
        },
        {
          "output_type": "stream",
          "name": "stderr",
          "text": [
            "2025-01-24 01:11:03,971 [MainThread  ] [INFO ]  Retrieving https://dialogue.earth/en/business/11750-why-don-t-cpec-projects-factor-in-the-climate-crisis/ to /tmp/en-business-11750-why-don-t-cpec-projects-factor-in-the-climate-crisis.\n",
            "INFO:tika.tika:Retrieving https://dialogue.earth/en/business/11750-why-don-t-cpec-projects-factor-in-the-climate-crisis/ to /tmp/en-business-11750-why-don-t-cpec-projects-factor-in-the-climate-crisis.\n"
          ]
        },
        {
          "output_type": "stream",
          "name": "stdout",
          "text": [
            "Processed URL: https://people.climate.columbia.edu/projects/view/232\n"
          ]
        },
        {
          "output_type": "stream",
          "name": "stderr",
          "text": [
            "2025-01-24 01:11:04,488 [MainThread  ] [INFO ]  Retrieving https://www.eurasiantimes.com/cpec-environment-renewable-energy/ to /tmp/cpec-environment-renewable-energy.\n",
            "INFO:tika.tika:Retrieving https://www.eurasiantimes.com/cpec-environment-renewable-energy/ to /tmp/cpec-environment-renewable-energy.\n"
          ]
        },
        {
          "output_type": "stream",
          "name": "stdout",
          "text": [
            "Processed URL: https://dialogue.earth/en/business/11750-why-don-t-cpec-projects-factor-in-the-climate-crisis/\n"
          ]
        },
        {
          "output_type": "stream",
          "name": "stderr",
          "text": [
            "2025-01-24 01:11:05,512 [MainThread  ] [INFO ]  Retrieving https://link.springer.com/article/10.1007/s11356-019-07428-5 to /tmp/article-10.1007-s11356-019-07428-5.\n",
            "INFO:tika.tika:Retrieving https://link.springer.com/article/10.1007/s11356-019-07428-5 to /tmp/article-10.1007-s11356-019-07428-5.\n"
          ]
        },
        {
          "output_type": "stream",
          "name": "stdout",
          "text": [
            "Processed URL: https://www.eurasiantimes.com/cpec-environment-renewable-energy/\n"
          ]
        },
        {
          "output_type": "stream",
          "name": "stderr",
          "text": [
            "2025-01-24 01:11:07,351 [MainThread  ] [INFO ]  Retrieving https://ojs.jdss.org.pk/journal/article/view/820 to /tmp/journal-article-view-820.\n",
            "INFO:tika.tika:Retrieving https://ojs.jdss.org.pk/journal/article/view/820 to /tmp/journal-article-view-820.\n"
          ]
        },
        {
          "output_type": "stream",
          "name": "stdout",
          "text": [
            "Processed URL: https://link.springer.com/article/10.1007/s11356-019-07428-5\n"
          ]
        },
        {
          "output_type": "stream",
          "name": "stderr",
          "text": [
            "2025-01-24 01:11:08,524 [MainThread  ] [INFO ]  Retrieving https://greenfdc.org/green-finance-guideline-baseline-for-china-pakistan-economic-corridor-cpec/ to /tmp/green-finance-guideline-baseline-for-china-pakistan-economic-corridor-cpec.\n",
            "INFO:tika.tika:Retrieving https://greenfdc.org/green-finance-guideline-baseline-for-china-pakistan-economic-corridor-cpec/ to /tmp/green-finance-guideline-baseline-for-china-pakistan-economic-corridor-cpec.\n"
          ]
        },
        {
          "output_type": "stream",
          "name": "stdout",
          "text": [
            "Processed URL: https://ojs.jdss.org.pk/journal/article/view/820\n"
          ]
        },
        {
          "output_type": "stream",
          "name": "stderr",
          "text": [
            "2025-01-24 01:11:10,296 [MainThread  ] [INFO ]  Retrieving https://www.bu.edu/gdp/2022/01/24/what-drives-pakistans-coal-fired-power-plant-construction-boom-understanding-the-china-pakistan-economic-corridors-energy-portfolio/ to /tmp/gdp-2022-01-24-what-drives-pakistans-coal-fired-power-plant-construction-boom-understanding-the-china-pakistan-economic-corridors-energy-portfolio.\n",
            "INFO:tika.tika:Retrieving https://www.bu.edu/gdp/2022/01/24/what-drives-pakistans-coal-fired-power-plant-construction-boom-understanding-the-china-pakistan-economic-corridors-energy-portfolio/ to /tmp/gdp-2022-01-24-what-drives-pakistans-coal-fired-power-plant-construction-boom-understanding-the-china-pakistan-economic-corridors-energy-portfolio.\n"
          ]
        },
        {
          "output_type": "stream",
          "name": "stdout",
          "text": [
            "Processed URL: https://greenfdc.org/green-finance-guideline-baseline-for-china-pakistan-economic-corridor-cpec/\n"
          ]
        },
        {
          "output_type": "stream",
          "name": "stderr",
          "text": [
            "2025-01-24 01:11:10,573 [MainThread  ] [INFO ]  Retrieving https://dialogue.earth/en/energy/gwadar-coal-returns-to-china-pakistan-economic-corridor/ to /tmp/en-energy-gwadar-coal-returns-to-china-pakistan-economic-corridor.\n",
            "INFO:tika.tika:Retrieving https://dialogue.earth/en/energy/gwadar-coal-returns-to-china-pakistan-economic-corridor/ to /tmp/en-energy-gwadar-coal-returns-to-china-pakistan-economic-corridor.\n"
          ]
        },
        {
          "output_type": "stream",
          "name": "stdout",
          "text": [
            "Processed URL: https://www.bu.edu/gdp/2022/01/24/what-drives-pakistans-coal-fired-power-plant-construction-boom-understanding-the-china-pakistan-economic-corridors-energy-portfolio/\n"
          ]
        },
        {
          "output_type": "stream",
          "name": "stderr",
          "text": [
            "2025-01-24 01:11:11,301 [MainThread  ] [INFO ]  Retrieving https://migrationletters.com/index.php/ml/article/view/11540/7709 to /tmp/index.php-ml-article-view-11540-7709.\n",
            "INFO:tika.tika:Retrieving https://migrationletters.com/index.php/ml/article/view/11540/7709 to /tmp/index.php-ml-article-view-11540-7709.\n"
          ]
        },
        {
          "output_type": "stream",
          "name": "stdout",
          "text": [
            "Processed URL: https://dialogue.earth/en/energy/gwadar-coal-returns-to-china-pakistan-economic-corridor/\n"
          ]
        },
        {
          "output_type": "stream",
          "name": "stderr",
          "text": [
            "2025-01-24 01:11:12,254 [MainThread  ] [INFO ]  Retrieving https://cpec.gov.pk to /tmp/file_1737681072.\n",
            "INFO:tika.tika:Retrieving https://cpec.gov.pk to /tmp/file_1737681072.\n"
          ]
        },
        {
          "output_type": "stream",
          "name": "stdout",
          "text": [
            "Processed URL: https://migrationletters.com/index.php/ml/article/view/11540/7709\n"
          ]
        },
        {
          "output_type": "stream",
          "name": "stderr",
          "text": [
            "2025-01-24 01:11:15,009 [MainThread  ] [INFO ]  Retrieving http://www.xinhuanet.com/english/2019-08/11/c_138300906.htm to /tmp/english-2019-08-11-c_138300906.htm.\n",
            "INFO:tika.tika:Retrieving http://www.xinhuanet.com/english/2019-08/11/c_138300906.htm to /tmp/english-2019-08-11-c_138300906.htm.\n"
          ]
        },
        {
          "output_type": "stream",
          "name": "stdout",
          "text": [
            "Processed URL: https://cpec.gov.pk\n"
          ]
        },
        {
          "output_type": "stream",
          "name": "stderr",
          "text": [
            "2025-01-24 01:11:16,280 [MainThread  ] [INFO ]  Retrieving https://thediplomat.com/2018/04/cpecs-environmental-toll/ to /tmp/2018-04-cpecs-environmental-toll.\n",
            "INFO:tika.tika:Retrieving https://thediplomat.com/2018/04/cpecs-environmental-toll/ to /tmp/2018-04-cpecs-environmental-toll.\n",
            "2025-01-24 01:11:16,364 [MainThread  ] [INFO ]  Retrieving https://ideas.repec.org/a/eee/renene/v190y2022icp188-207.html to /tmp/a-eee-renene-v190y2022icp188-207.html.\n",
            "INFO:tika.tika:Retrieving https://ideas.repec.org/a/eee/renene/v190y2022icp188-207.html to /tmp/a-eee-renene-v190y2022icp188-207.html.\n"
          ]
        },
        {
          "output_type": "stream",
          "name": "stdout",
          "text": [
            "Processed URL: http://www.xinhuanet.com/english/2019-08/11/c_138300906.htm\n",
            "Error processing URL 'https://thediplomat.com/2018/04/cpecs-environmental-toll/': HTTP Error 403: Forbidden\n"
          ]
        },
        {
          "output_type": "stream",
          "name": "stderr",
          "text": [
            "2025-01-24 01:11:17,219 [MainThread  ] [INFO ]  Retrieving http://ajss.abasyn.edu.pk/admineditor/papers/V11I1-13.pdf to /tmp/admineditor-papers-v11i1-13.pdf.\n",
            "INFO:tika.tika:Retrieving http://ajss.abasyn.edu.pk/admineditor/papers/V11I1-13.pdf to /tmp/admineditor-papers-v11i1-13.pdf.\n"
          ]
        },
        {
          "output_type": "stream",
          "name": "stdout",
          "text": [
            "Processed URL: https://ideas.repec.org/a/eee/renene/v190y2022icp188-207.html\n"
          ]
        },
        {
          "output_type": "stream",
          "name": "stderr",
          "text": [
            "2025-01-24 01:11:19,558 [MainThread  ] [INFO ]  Retrieving https://pureportal.strath.ac.uk/en/publications/china-pakistan-economic-corridor-cpec-tourism-demand-and-environm/fingerprints/ to /tmp/en-publications-china-pakistan-economic-corridor-cpec-tourism-demand-and-environm-fingerprints.\n",
            "INFO:tika.tika:Retrieving https://pureportal.strath.ac.uk/en/publications/china-pakistan-economic-corridor-cpec-tourism-demand-and-environm/fingerprints/ to /tmp/en-publications-china-pakistan-economic-corridor-cpec-tourism-demand-and-environm-fingerprints.\n"
          ]
        },
        {
          "output_type": "stream",
          "name": "stdout",
          "text": [
            "Processed URL: http://ajss.abasyn.edu.pk/admineditor/papers/V11I1-13.pdf\n"
          ]
        },
        {
          "output_type": "stream",
          "name": "stderr",
          "text": [
            "2025-01-24 01:11:19,796 [MainThread  ] [INFO ]  Retrieving https://newlinesinstitute.org/strategic-competition/mapping-a-u-s-strategy-to-counter-chinas-cpec-clout/ to /tmp/strategic-competition-mapping-a-u-s-strategy-to-counter-chinas-cpec-clout.\n",
            "INFO:tika.tika:Retrieving https://newlinesinstitute.org/strategic-competition/mapping-a-u-s-strategy-to-counter-chinas-cpec-clout/ to /tmp/strategic-competition-mapping-a-u-s-strategy-to-counter-chinas-cpec-clout.\n",
            "2025-01-24 01:11:19,891 [MainThread  ] [INFO ]  Retrieving https://www.thenews.com.pk/magazine/money-matters/1232789-cpecs-road-to-renewables to /tmp/magazine-money-matters-1232789-cpecs-road-to-renewables.\n",
            "INFO:tika.tika:Retrieving https://www.thenews.com.pk/magazine/money-matters/1232789-cpecs-road-to-renewables to /tmp/magazine-money-matters-1232789-cpecs-road-to-renewables.\n",
            "2025-01-24 01:11:19,956 [MainThread  ] [INFO ]  Retrieving https://www.thehindu.com/news/international/china-refuses-to-further-expand-cooperation-with-pak-in-energy-water-climate-under-cpec/article67348727.ece to /tmp/news-international-china-refuses-to-further-expand-cooperation-with-pak-in-energy-water-climate-under-cpec-article67348727.ece.\n",
            "INFO:tika.tika:Retrieving https://www.thehindu.com/news/international/china-refuses-to-further-expand-cooperation-with-pak-in-energy-water-climate-under-cpec/article67348727.ece to /tmp/news-international-china-refuses-to-further-expand-cooperation-with-pak-in-energy-water-climate-under-cpec-article67348727.ece.\n"
          ]
        },
        {
          "output_type": "stream",
          "name": "stdout",
          "text": [
            "Error processing URL 'https://pureportal.strath.ac.uk/en/publications/china-pakistan-economic-corridor-cpec-tourism-demand-and-environm/fingerprints/': HTTP Error 403: Forbidden\n",
            "Error processing URL 'https://newlinesinstitute.org/strategic-competition/mapping-a-u-s-strategy-to-counter-chinas-cpec-clout/': HTTP Error 403: Forbidden\n",
            "Error processing URL 'https://www.thenews.com.pk/magazine/money-matters/1232789-cpecs-road-to-renewables': HTTP Error 403: Forbidden\n"
          ]
        },
        {
          "output_type": "stream",
          "name": "stderr",
          "text": [
            "2025-01-24 01:11:20,037 [MainThread  ] [INFO ]  Retrieving https://issra.pk/pub/insight/2023/A-DECADE-OF-CPEC–AN-APPRAISAL/A-DECADE-OF-CPEC–AN-APPRAISAL.html to /tmp/pub-insight-2023-a-decade-of-cpec-an-appraisal-a-decade-of-cpec-an-appraisal.html.\n",
            "INFO:tika.tika:Retrieving https://issra.pk/pub/insight/2023/A-DECADE-OF-CPEC–AN-APPRAISAL/A-DECADE-OF-CPEC–AN-APPRAISAL.html to /tmp/pub-insight-2023-a-decade-of-cpec-an-appraisal-a-decade-of-cpec-an-appraisal.html.\n",
            "2025-01-24 01:11:20,044 [MainThread  ] [INFO ]  Retrieving https://www.gmfus.org/news/returning-shadows-china-pakistan-and-fate-cpec to /tmp/news-returning-shadows-china-pakistan-and-fate-cpec.\n",
            "INFO:tika.tika:Retrieving https://www.gmfus.org/news/returning-shadows-china-pakistan-and-fate-cpec to /tmp/news-returning-shadows-china-pakistan-and-fate-cpec.\n",
            "2025-01-24 01:11:20,118 [MainThread  ] [INFO ]  Retrieving https://www.dawn.com/news/1857807 to /tmp/news-1857807.\n",
            "INFO:tika.tika:Retrieving https://www.dawn.com/news/1857807 to /tmp/news-1857807.\n"
          ]
        },
        {
          "output_type": "stream",
          "name": "stdout",
          "text": [
            "Error processing URL 'https://www.thehindu.com/news/international/china-refuses-to-further-expand-cooperation-with-pak-in-energy-water-climate-under-cpec/article67348727.ece': HTTP Error 403: Forbidden\n",
            "Error processing URL 'https://issra.pk/pub/insight/2023/A-DECADE-OF-CPEC–AN-APPRAISAL/A-DECADE-OF-CPEC–AN-APPRAISAL.html': 'ascii' codec can't encode character '\\u2013' in position 38: ordinal not in range(128)\n",
            "Error processing URL 'https://www.gmfus.org/news/returning-shadows-china-pakistan-and-fate-cpec': HTTP Error 403: Forbidden\n"
          ]
        },
        {
          "output_type": "stream",
          "name": "stderr",
          "text": [
            "2025-01-24 01:11:20,757 [MainThread  ] [INFO ]  Retrieving https://eng.yidaiyilu.gov.cn/p/0JLDQFPD.html to /tmp/p-0jldqfpd.html.\n",
            "INFO:tika.tika:Retrieving https://eng.yidaiyilu.gov.cn/p/0JLDQFPD.html to /tmp/p-0jldqfpd.html.\n"
          ]
        },
        {
          "output_type": "stream",
          "name": "stdout",
          "text": [
            "Processed URL: https://www.dawn.com/news/1857807\n"
          ]
        },
        {
          "output_type": "stream",
          "name": "stderr",
          "text": [
            "2025-01-24 01:11:21,631 [MainThread  ] [INFO ]  Retrieving https://www.worldscientific.com/doi/pdf/10.1142/S237774002150007X?srsltid=AfmBOorrzjQat0mHbvpzKzT25zkNRJYqJXEVZpIfh1g5pDBqzccZelwj to /tmp/doi-pdf-10.1142-s237774002150007x.\n",
            "INFO:tika.tika:Retrieving https://www.worldscientific.com/doi/pdf/10.1142/S237774002150007X?srsltid=AfmBOorrzjQat0mHbvpzKzT25zkNRJYqJXEVZpIfh1g5pDBqzccZelwj to /tmp/doi-pdf-10.1142-s237774002150007x.\n",
            "2025-01-24 01:11:21,723 [MainThread  ] [INFO ]  Retrieving https://www.pjoes.com/China-Pakistan-Economic-Corridor-nand-the-Impact-of-Coal-Based-Energy-Projects-non,112895,0,2.html to /tmp/china-pakistan-economic-corridor-nand-the-impact-of-coal-based-energy-projects-non-112895-0-2.html.\n",
            "INFO:tika.tika:Retrieving https://www.pjoes.com/China-Pakistan-Economic-Corridor-nand-the-Impact-of-Coal-Based-Energy-Projects-non,112895,0,2.html to /tmp/china-pakistan-economic-corridor-nand-the-impact-of-coal-based-energy-projects-non-112895-0-2.html.\n"
          ]
        },
        {
          "output_type": "stream",
          "name": "stdout",
          "text": [
            "Processed URL: https://eng.yidaiyilu.gov.cn/p/0JLDQFPD.html\n",
            "Error processing URL 'https://www.worldscientific.com/doi/pdf/10.1142/S237774002150007X?srsltid=AfmBOorrzjQat0mHbvpzKzT25zkNRJYqJXEVZpIfh1g5pDBqzccZelwj': HTTP Error 403: Forbidden\n"
          ]
        },
        {
          "output_type": "stream",
          "name": "stderr",
          "text": [
            "2025-01-24 01:11:22,556 [MainThread  ] [INFO ]  Retrieving https://www.lowyinstitute.org/the-interpreter/china-s-big-gamble-pakistan-10-year-scorecard-cpec to /tmp/the-interpreter-china-s-big-gamble-pakistan-10-year-scorecard-cpec.\n",
            "INFO:tika.tika:Retrieving https://www.lowyinstitute.org/the-interpreter/china-s-big-gamble-pakistan-10-year-scorecard-cpec to /tmp/the-interpreter-china-s-big-gamble-pakistan-10-year-scorecard-cpec.\n"
          ]
        },
        {
          "output_type": "stream",
          "name": "stdout",
          "text": [
            "Processed URL: https://www.pjoes.com/China-Pakistan-Economic-Corridor-nand-the-Impact-of-Coal-Based-Energy-Projects-non,112895,0,2.html\n"
          ]
        },
        {
          "output_type": "stream",
          "name": "stderr",
          "text": [
            "2025-01-24 01:11:22,967 [MainThread  ] [INFO ]  Retrieving https://vc.bridgew.edu/cgi/viewcontent.cgi?article=2132&context=jiws to /tmp/cgi-viewcontent.cgi.\n",
            "INFO:tika.tika:Retrieving https://vc.bridgew.edu/cgi/viewcontent.cgi?article=2132&context=jiws to /tmp/cgi-viewcontent.cgi.\n"
          ]
        },
        {
          "output_type": "stream",
          "name": "stdout",
          "text": [
            "Processed URL: https://www.lowyinstitute.org/the-interpreter/china-s-big-gamble-pakistan-10-year-scorecard-cpec\n"
          ]
        },
        {
          "output_type": "stream",
          "name": "stderr",
          "text": [
            "2025-01-24 01:11:25,165 [MainThread  ] [INFO ]  Retrieving  https://ieeexplore.ieee.org/document/8346410 to /tmp/document-8346410.\n",
            "INFO:tika.tika:Retrieving  https://ieeexplore.ieee.org/document/8346410 to /tmp/document-8346410.\n",
            "2025-01-24 01:11:25,229 [MainThread  ] [INFO ]  Retrieving https://www.chinadaily.com.cn/a/202410/15/WS670da8e8a310f1265a1c78d3.html to /tmp/a-202410-15-ws670da8e8a310f1265a1c78d3.html.\n",
            "INFO:tika.tika:Retrieving https://www.chinadaily.com.cn/a/202410/15/WS670da8e8a310f1265a1c78d3.html to /tmp/a-202410-15-ws670da8e8a310f1265a1c78d3.html.\n"
          ]
        },
        {
          "output_type": "stream",
          "name": "stdout",
          "text": [
            "Processed URL: https://vc.bridgew.edu/cgi/viewcontent.cgi?article=2132&context=jiws\n",
            "Error processing URL ' https://ieeexplore.ieee.org/document/8346410': HTTP Error 418: Unknown Code\n"
          ]
        },
        {
          "output_type": "stream",
          "name": "stderr",
          "text": [
            "2025-01-24 01:11:26,788 [MainThread  ] [INFO ]  Retrieving https://english.news.cn/20240822/b469184d934c4c0aa15298d50eb7a485/c.html to /tmp/20240822-b469184d934c4c0aa15298d50eb7a485-c.html.\n",
            "INFO:tika.tika:Retrieving https://english.news.cn/20240822/b469184d934c4c0aa15298d50eb7a485/c.html to /tmp/20240822-b469184d934c4c0aa15298d50eb7a485-c.html.\n"
          ]
        },
        {
          "output_type": "stream",
          "name": "stdout",
          "text": [
            "Processed URL: https://www.chinadaily.com.cn/a/202410/15/WS670da8e8a310f1265a1c78d3.html\n"
          ]
        },
        {
          "output_type": "stream",
          "name": "stderr",
          "text": [
            "2025-01-24 01:11:27,665 [MainThread  ] [INFO ]  Retrieving https://www.journal.multitechpublisher.com/index.php/ijla/article/view/2472/2566 to /tmp/index.php-ijla-article-view-2472-2566.\n",
            "INFO:tika.tika:Retrieving https://www.journal.multitechpublisher.com/index.php/ijla/article/view/2472/2566 to /tmp/index.php-ijla-article-view-2472-2566.\n"
          ]
        },
        {
          "output_type": "stream",
          "name": "stdout",
          "text": [
            "Processed URL: https://english.news.cn/20240822/b469184d934c4c0aa15298d50eb7a485/c.html\n"
          ]
        },
        {
          "output_type": "stream",
          "name": "stderr",
          "text": [
            "2025-01-24 01:11:30,874 [MainThread  ] [INFO ]  Retrieving https://www.mei.edu/publications/imf-cpec-and-pakistan-will-chinese-save-islamabad-yet-again to /tmp/publications-imf-cpec-and-pakistan-will-chinese-save-islamabad-yet-again.\n",
            "INFO:tika.tika:Retrieving https://www.mei.edu/publications/imf-cpec-and-pakistan-will-chinese-save-islamabad-yet-again to /tmp/publications-imf-cpec-and-pakistan-will-chinese-save-islamabad-yet-again.\n"
          ]
        },
        {
          "output_type": "stream",
          "name": "stdout",
          "text": [
            "Processed URL: https://www.journal.multitechpublisher.com/index.php/ijla/article/view/2472/2566\n"
          ]
        },
        {
          "output_type": "stream",
          "name": "stderr",
          "text": [
            "2025-01-24 01:11:31,440 [MainThread  ] [INFO ]  Retrieving https://www.mdpi.com/2673-4591/75/1/31 to /tmp/2673-4591-75-1-31.\n",
            "INFO:tika.tika:Retrieving https://www.mdpi.com/2673-4591/75/1/31 to /tmp/2673-4591-75-1-31.\n",
            "2025-01-24 01:11:31,504 [MainThread  ] [INFO ]  Retrieving https://www.brookings.edu/articles/at-all-costs-how-pakistan-and-china-control-the-narrative-on-the-china-pakistan-economic-corridor/ to /tmp/articles-at-all-costs-how-pakistan-and-china-control-the-narrative-on-the-china-pakistan-economic-corridor.\n",
            "INFO:tika.tika:Retrieving https://www.brookings.edu/articles/at-all-costs-how-pakistan-and-china-control-the-narrative-on-the-china-pakistan-economic-corridor/ to /tmp/articles-at-all-costs-how-pakistan-and-china-control-the-narrative-on-the-china-pakistan-economic-corridor.\n",
            "2025-01-24 01:11:31,566 [MainThread  ] [INFO ]  Retrieving https://ojs.pssr.org.pk/journal/article/view/394 to /tmp/journal-article-view-394.\n",
            "INFO:tika.tika:Retrieving https://ojs.pssr.org.pk/journal/article/view/394 to /tmp/journal-article-view-394.\n"
          ]
        },
        {
          "output_type": "stream",
          "name": "stdout",
          "text": [
            "Processed URL: https://www.mei.edu/publications/imf-cpec-and-pakistan-will-chinese-save-islamabad-yet-again\n",
            "Error processing URL 'https://www.mdpi.com/2673-4591/75/1/31': HTTP Error 403: Forbidden\n",
            "Error processing URL 'https://www.brookings.edu/articles/at-all-costs-how-pakistan-and-china-control-the-narrative-on-the-china-pakistan-economic-corridor/': HTTP Error 403: Forbidden\n"
          ]
        },
        {
          "output_type": "stream",
          "name": "stderr",
          "text": [
            "2025-01-24 01:11:32,620 [MainThread  ] [INFO ]  Retrieving https://www.medwinpublishers.com/article-description.php?artId=12274 to /tmp/article-description.php.\n",
            "INFO:tika.tika:Retrieving https://www.medwinpublishers.com/article-description.php?artId=12274 to /tmp/article-description.php.\n"
          ]
        },
        {
          "output_type": "stream",
          "name": "stdout",
          "text": [
            "Processed URL: https://ojs.pssr.org.pk/journal/article/view/394\n"
          ]
        },
        {
          "output_type": "stream",
          "name": "stderr",
          "text": [
            "2025-01-24 01:11:33,297 [MainThread  ] [INFO ]  Retrieving https://www.ejosdr.com/download/environmental-impact-assessment-eia-of-cpec-road-project-by-following-eia-index-approach-for-13107.pdf to /tmp/download-environmental-impact-assessment-eia-of-cpec-road-project-by-following-eia-index-approach-for-13107.pdf.\n",
            "INFO:tika.tika:Retrieving https://www.ejosdr.com/download/environmental-impact-assessment-eia-of-cpec-road-project-by-following-eia-index-approach-for-13107.pdf to /tmp/download-environmental-impact-assessment-eia-of-cpec-road-project-by-following-eia-index-approach-for-13107.pdf.\n"
          ]
        },
        {
          "output_type": "stream",
          "name": "stdout",
          "text": [
            "Processed URL: https://www.medwinpublishers.com/article-description.php?artId=12274\n"
          ]
        },
        {
          "output_type": "stream",
          "name": "stderr",
          "text": [
            "2025-01-24 01:11:37,116 [MainThread  ] [INFO ]  Retrieving https://www.chinadailyhk.com/hk/article/595324 to /tmp/hk-article-595324.\n",
            "INFO:tika.tika:Retrieving https://www.chinadailyhk.com/hk/article/595324 to /tmp/hk-article-595324.\n"
          ]
        },
        {
          "output_type": "stream",
          "name": "stdout",
          "text": [
            "Processed URL: https://www.ejosdr.com/download/environmental-impact-assessment-eia-of-cpec-road-project-by-following-eia-index-approach-for-13107.pdf\n"
          ]
        },
        {
          "output_type": "stream",
          "name": "stderr",
          "text": [
            "2025-01-24 01:11:41,054 [MainThread  ] [INFO ]  Retrieving https://invest.gov.pk/node/1821 to /tmp/node-1821.\n",
            "INFO:tika.tika:Retrieving https://invest.gov.pk/node/1821 to /tmp/node-1821.\n"
          ]
        },
        {
          "output_type": "stream",
          "name": "stdout",
          "text": [
            "Processed URL: https://www.chinadailyhk.com/hk/article/595324\n"
          ]
        },
        {
          "output_type": "stream",
          "name": "stderr",
          "text": [
            "2025-01-24 01:11:44,849 [MainThread  ] [INFO ]  Retrieving https://bloomsbury.ac.uk/an-ethnographic-approach-to-geopolitics-cpec-and-the-making-of-chinese-realities-in-northern-pakistan/ to /tmp/an-ethnographic-approach-to-geopolitics-cpec-and-the-making-of-chinese-realities-in-northern-pakistan.\n",
            "INFO:tika.tika:Retrieving https://bloomsbury.ac.uk/an-ethnographic-approach-to-geopolitics-cpec-and-the-making-of-chinese-realities-in-northern-pakistan/ to /tmp/an-ethnographic-approach-to-geopolitics-cpec-and-the-making-of-chinese-realities-in-northern-pakistan.\n"
          ]
        },
        {
          "output_type": "stream",
          "name": "stdout",
          "text": [
            "Processed URL: https://invest.gov.pk/node/1821\n"
          ]
        },
        {
          "output_type": "stream",
          "name": "stderr",
          "text": [
            "2025-01-24 01:11:45,738 [MainThread  ] [INFO ]  Retrieving https://acjce.com/?page_id=9569 to /tmp/.\n",
            "INFO:tika.tika:Retrieving https://acjce.com/?page_id=9569 to /tmp/.\n"
          ]
        },
        {
          "output_type": "stream",
          "name": "stdout",
          "text": [
            "Processed URL: https://bloomsbury.ac.uk/an-ethnographic-approach-to-geopolitics-cpec-and-the-making-of-chinese-realities-in-northern-pakistan/\n"
          ]
        },
        {
          "output_type": "stream",
          "name": "stderr",
          "text": [
            "2025-01-24 01:11:49,658 [MainThread  ] [INFO ]  Retrieving https://odi.org/en/publications/bri-energy-infrastructure-in-pakistan-environmental-and-climate-risks-and-opportunities/ to /tmp/en-publications-bri-energy-infrastructure-in-pakistan-environmental-and-climate-risks-and-opportunities.\n",
            "INFO:tika.tika:Retrieving https://odi.org/en/publications/bri-energy-infrastructure-in-pakistan-environmental-and-climate-risks-and-opportunities/ to /tmp/en-publications-bri-energy-infrastructure-in-pakistan-environmental-and-climate-risks-and-opportunities.\n",
            "2025-01-24 01:11:49,735 [MainThread  ] [INFO ]  Retrieving https://en.imsilkroad.com/p/333352.html to /tmp/p-333352.html.\n",
            "INFO:tika.tika:Retrieving https://en.imsilkroad.com/p/333352.html to /tmp/p-333352.html.\n"
          ]
        },
        {
          "output_type": "stream",
          "name": "stdout",
          "text": [
            "Error processing URL 'https://acjce.com/?page_id=9569': [Errno 21] Is a directory: '/tmp/'\n",
            "Error processing URL 'https://odi.org/en/publications/bri-energy-infrastructure-in-pakistan-environmental-and-climate-risks-and-opportunities/': HTTP Error 403: Forbidden\n"
          ]
        },
        {
          "output_type": "stream",
          "name": "stderr",
          "text": [
            "2025-01-24 01:11:52,146 [MainThread  ] [INFO ]  Retrieving https://www.cadtm.org/Pakistan-CPEC-A-game-changer-or-another-East-India-Company to /tmp/pakistan-cpec-a-game-changer-or-another-east-india-company.\n",
            "INFO:tika.tika:Retrieving https://www.cadtm.org/Pakistan-CPEC-A-game-changer-or-another-East-India-Company to /tmp/pakistan-cpec-a-game-changer-or-another-east-india-company.\n"
          ]
        },
        {
          "output_type": "stream",
          "name": "stdout",
          "text": [
            "Processed URL: https://en.imsilkroad.com/p/333352.html\n"
          ]
        },
        {
          "output_type": "stream",
          "name": "stderr",
          "text": [
            "2025-01-24 01:11:54,189 [MainThread  ] [INFO ]  Retrieving https://papers.ssrn.com/sol3/papers.cfm?abstract_id=3928027 to /tmp/sol3-papers.cfm.\n",
            "INFO:tika.tika:Retrieving https://papers.ssrn.com/sol3/papers.cfm?abstract_id=3928027 to /tmp/sol3-papers.cfm.\n",
            "2025-01-24 01:11:54,260 [MainThread  ] [INFO ]  Retrieving https://www.cpicglobal.com/urbanizing-infrastructure-pakistan-china-collaboration-under-cpec/ to /tmp/urbanizing-infrastructure-pakistan-china-collaboration-under-cpec.\n",
            "INFO:tika.tika:Retrieving https://www.cpicglobal.com/urbanizing-infrastructure-pakistan-china-collaboration-under-cpec/ to /tmp/urbanizing-infrastructure-pakistan-china-collaboration-under-cpec.\n",
            "2025-01-24 01:11:54,363 [MainThread  ] [INFO ]  Retrieving http://cpjrc.imde.ac.cn/en/news/ne/202211/t20221128_119784.html to /tmp/en-news-ne-202211-t20221128_119784.html.\n",
            "INFO:tika.tika:Retrieving http://cpjrc.imde.ac.cn/en/news/ne/202211/t20221128_119784.html to /tmp/en-news-ne-202211-t20221128_119784.html.\n"
          ]
        },
        {
          "output_type": "stream",
          "name": "stdout",
          "text": [
            "Processed URL: https://www.cadtm.org/Pakistan-CPEC-A-game-changer-or-another-East-India-Company\n",
            "Error processing URL 'https://papers.ssrn.com/sol3/papers.cfm?abstract_id=3928027': HTTP Error 429: Too Many Requests\n",
            "Error processing URL 'https://www.cpicglobal.com/urbanizing-infrastructure-pakistan-china-collaboration-under-cpec/': HTTP Error 403: Forbidden\n"
          ]
        },
        {
          "output_type": "stream",
          "name": "stderr",
          "text": [
            "2025-01-24 01:11:56,165 [MainThread  ] [INFO ]  Retrieving https://www.jstor.org/stable/resrep34174.4?seq=1 to /tmp/stable-resrep34174.4.\n",
            "INFO:tika.tika:Retrieving https://www.jstor.org/stable/resrep34174.4?seq=1 to /tmp/stable-resrep34174.4.\n",
            "2025-01-24 01:11:56,272 [MainThread  ] [INFO ]  Retrieving https://www.cell.com/heliyon/fulltext/S2405-8440(24)09386-1 to /tmp/heliyon-fulltext-s2405-8440-24-09386-1.\n",
            "INFO:tika.tika:Retrieving https://www.cell.com/heliyon/fulltext/S2405-8440(24)09386-1 to /tmp/heliyon-fulltext-s2405-8440-24-09386-1.\n"
          ]
        },
        {
          "output_type": "stream",
          "name": "stdout",
          "text": [
            "Processed URL: http://cpjrc.imde.ac.cn/en/news/ne/202211/t20221128_119784.html\n",
            "Error processing URL 'https://www.jstor.org/stable/resrep34174.4?seq=1': HTTP Error 403: Forbidden\n"
          ]
        },
        {
          "output_type": "stream",
          "name": "stderr",
          "text": [
            "2025-01-24 01:11:56,551 [MainThread  ] [INFO ]  Retrieving https://www.e-ir.info/2022/03/10/cpec-an-assessment-of-its-socio-economic-impact-on-pakistan/ to /tmp/2022-03-10-cpec-an-assessment-of-its-socio-economic-impact-on-pakistan.\n",
            "INFO:tika.tika:Retrieving https://www.e-ir.info/2022/03/10/cpec-an-assessment-of-its-socio-economic-impact-on-pakistan/ to /tmp/2022-03-10-cpec-an-assessment-of-its-socio-economic-impact-on-pakistan.\n"
          ]
        },
        {
          "output_type": "stream",
          "name": "stdout",
          "text": [
            "Error processing URL 'https://www.cell.com/heliyon/fulltext/S2405-8440(24)09386-1': HTTP Error 403: Forbidden\n"
          ]
        },
        {
          "output_type": "stream",
          "name": "stderr",
          "text": [
            "2025-01-24 01:11:58,306 [MainThread  ] [INFO ]  Retrieving https://pandapawdragonclaw.blog/2018/12/01/unpacking-chinese-financing-of-pakistans-dream-power-plant/ to /tmp/2018-12-01-unpacking-chinese-financing-of-pakistans-dream-power-plant.\n",
            "INFO:tika.tika:Retrieving https://pandapawdragonclaw.blog/2018/12/01/unpacking-chinese-financing-of-pakistans-dream-power-plant/ to /tmp/2018-12-01-unpacking-chinese-financing-of-pakistans-dream-power-plant.\n"
          ]
        },
        {
          "output_type": "stream",
          "name": "stdout",
          "text": [
            "Processed URL: https://www.e-ir.info/2022/03/10/cpec-an-assessment-of-its-socio-economic-impact-on-pakistan/\n"
          ]
        },
        {
          "output_type": "stream",
          "name": "stderr",
          "text": [
            "2025-01-24 01:11:58,745 [MainThread  ] [INFO ]  Retrieving https://www.finance.gov.pk/survey/chapters_17/Annex_III_CPEC.pdf to /tmp/survey-chapters_17-annex_iii_cpec.pdf.\n",
            "INFO:tika.tika:Retrieving https://www.finance.gov.pk/survey/chapters_17/Annex_III_CPEC.pdf to /tmp/survey-chapters_17-annex_iii_cpec.pdf.\n"
          ]
        },
        {
          "output_type": "stream",
          "name": "stdout",
          "text": [
            "Processed URL: https://pandapawdragonclaw.blog/2018/12/01/unpacking-chinese-financing-of-pakistans-dream-power-plant/\n"
          ]
        },
        {
          "output_type": "stream",
          "name": "stderr",
          "text": [
            "2025-01-24 01:12:00,934 [MainThread  ] [INFO ]  Retrieving https://ui.adsabs.harvard.edu/abs/2023WCE....4000570U/abstract to /tmp/abs-2023wce....4000570u-abstract.\n",
            "INFO:tika.tika:Retrieving https://ui.adsabs.harvard.edu/abs/2023WCE....4000570U/abstract to /tmp/abs-2023wce....4000570u-abstract.\n",
            "2025-01-24 01:12:00,996 [MainThread  ] [INFO ]  Retrieving https://pogeepakistan.com/news/cpec-driving-regional-and-international-growth-and-development/ to /tmp/news-cpec-driving-regional-and-international-growth-and-development.\n",
            "INFO:tika.tika:Retrieving https://pogeepakistan.com/news/cpec-driving-regional-and-international-growth-and-development/ to /tmp/news-cpec-driving-regional-and-international-growth-and-development.\n"
          ]
        },
        {
          "output_type": "stream",
          "name": "stdout",
          "text": [
            "Error processing URL 'https://www.finance.gov.pk/survey/chapters_17/Annex_III_CPEC.pdf': HTTP Error 403: ModSecurity Action\n",
            "Error processing URL 'https://ui.adsabs.harvard.edu/abs/2023WCE....4000570U/abstract': HTTP Error 503: Service Temporarily Unavailable\n"
          ]
        },
        {
          "output_type": "stream",
          "name": "stderr",
          "text": [
            "2025-01-24 01:12:02,824 [MainThread  ] [INFO ]  Retrieving https://www.orfonline.org/expert-speak/pakistan-why-has-china-halted-cpec-projects to /tmp/expert-speak-pakistan-why-has-china-halted-cpec-projects.\n",
            "INFO:tika.tika:Retrieving https://www.orfonline.org/expert-speak/pakistan-why-has-china-halted-cpec-projects to /tmp/expert-speak-pakistan-why-has-china-halted-cpec-projects.\n",
            "2025-01-24 01:12:02,957 [MainThread  ] [INFO ]  Retrieving https://www.globaltimes.cn/page/202302/1284986.shtml to /tmp/page-202302-1284986.shtml.\n",
            "INFO:tika.tika:Retrieving https://www.globaltimes.cn/page/202302/1284986.shtml to /tmp/page-202302-1284986.shtml.\n"
          ]
        },
        {
          "output_type": "stream",
          "name": "stdout",
          "text": [
            "Processed URL: https://pogeepakistan.com/news/cpec-driving-regional-and-international-growth-and-development/\n",
            "Error processing URL 'https://www.orfonline.org/expert-speak/pakistan-why-has-china-halted-cpec-projects': HTTP Error 403: Forbidden\n"
          ]
        },
        {
          "output_type": "stream",
          "name": "stderr",
          "text": [
            "2025-01-24 01:12:03,512 [MainThread  ] [INFO ]  Retrieving https://asiatimes.com/2017/03/cpec-game-changer-might-change-nothing/ to /tmp/2017-03-cpec-game-changer-might-change-nothing.\n",
            "INFO:tika.tika:Retrieving https://asiatimes.com/2017/03/cpec-game-changer-might-change-nothing/ to /tmp/2017-03-cpec-game-changer-might-change-nothing.\n"
          ]
        },
        {
          "output_type": "stream",
          "name": "stdout",
          "text": [
            "Processed URL: https://www.globaltimes.cn/page/202302/1284986.shtml\n"
          ]
        },
        {
          "output_type": "stream",
          "name": "stderr",
          "text": [
            "2025-01-24 01:12:04,421 [MainThread  ] [INFO ]  Retrieving https://muse.jhu.edu/article/837036 to /tmp/article-837036.\n",
            "INFO:tika.tika:Retrieving https://muse.jhu.edu/article/837036 to /tmp/article-837036.\n",
            "2025-01-24 01:12:04,504 [MainThread  ] [INFO ]  Retrieving https://english.www.gov.cn/news/internationalexchanges/202112/09/content_WS61b1b9e6c6d09c94e48a2022.html to /tmp/news-internationalexchanges-202112-09-content_ws61b1b9e6c6d09c94e48a2022.html.\n",
            "INFO:tika.tika:Retrieving https://english.www.gov.cn/news/internationalexchanges/202112/09/content_WS61b1b9e6c6d09c94e48a2022.html to /tmp/news-internationalexchanges-202112-09-content_ws61b1b9e6c6d09c94e48a2022.html.\n"
          ]
        },
        {
          "output_type": "stream",
          "name": "stdout",
          "text": [
            "Processed URL: https://asiatimes.com/2017/03/cpec-game-changer-might-change-nothing/\n",
            "Error processing URL 'https://muse.jhu.edu/article/837036': HTTP Error 503: Service Unavailable\n"
          ]
        },
        {
          "output_type": "stream",
          "name": "stderr",
          "text": [
            "2025-01-24 01:12:05,629 [MainThread  ] [INFO ]  Retrieving https://ouci.dntb.gov.ua/en/works/lxK0YB84/ to /tmp/en-works-lxk0yb84.\n",
            "INFO:tika.tika:Retrieving https://ouci.dntb.gov.ua/en/works/lxK0YB84/ to /tmp/en-works-lxk0yb84.\n"
          ]
        },
        {
          "output_type": "stream",
          "name": "stdout",
          "text": [
            "Processed URL: https://english.www.gov.cn/news/internationalexchanges/202112/09/content_WS61b1b9e6c6d09c94e48a2022.html\n"
          ]
        },
        {
          "output_type": "stream",
          "name": "stderr",
          "text": [
            "2025-01-24 01:12:07,504 [MainThread  ] [INFO ]  Retrieving https://uclg-aspac.org/brlc/2021/09/24/green-economic-corridor-contributes-to-pakistans-sustainable-development/ to /tmp/brlc-2021-09-24-green-economic-corridor-contributes-to-pakistans-sustainable-development.\n",
            "INFO:tika.tika:Retrieving https://uclg-aspac.org/brlc/2021/09/24/green-economic-corridor-contributes-to-pakistans-sustainable-development/ to /tmp/brlc-2021-09-24-green-economic-corridor-contributes-to-pakistans-sustainable-development.\n"
          ]
        },
        {
          "output_type": "stream",
          "name": "stdout",
          "text": [
            "Processed URL: https://ouci.dntb.gov.ua/en/works/lxK0YB84/\n"
          ]
        },
        {
          "output_type": "stream",
          "name": "stderr",
          "text": [
            "2025-01-24 01:12:09,536 [MainThread  ] [INFO ]  Retrieving https://www.proquest.com/docview/2356831322?pq-origsite=gscholar&fromopenview=true&sourcetype=Scholarly%20Journals to /tmp/docview-2356831322.\n",
            "INFO:tika.tika:Retrieving https://www.proquest.com/docview/2356831322?pq-origsite=gscholar&fromopenview=true&sourcetype=Scholarly%20Journals to /tmp/docview-2356831322.\n",
            "2025-01-24 01:12:09,622 [MainThread  ] [INFO ]  Retrieving https://enggpost.com/cpec-game-changer-energy-projects/ to /tmp/cpec-game-changer-energy-projects.\n",
            "INFO:tika.tika:Retrieving https://enggpost.com/cpec-game-changer-energy-projects/ to /tmp/cpec-game-changer-energy-projects.\n"
          ]
        },
        {
          "output_type": "stream",
          "name": "stdout",
          "text": [
            "Processed URL: https://uclg-aspac.org/brlc/2021/09/24/green-economic-corridor-contributes-to-pakistans-sustainable-development/\n",
            "Error processing URL 'https://www.proquest.com/docview/2356831322?pq-origsite=gscholar&fromopenview=true&sourcetype=Scholarly%20Journals': HTTP Error 403: Forbidden\n"
          ]
        },
        {
          "output_type": "stream",
          "name": "stderr",
          "text": [
            "2025-01-24 01:12:12,233 [MainThread  ] [INFO ]  Retrieving https://discovery.researcher.life/article/risk-assessment-of-sustainable-renewable-energy-resources-on-cpec-route/446f8e9f0dd53398afe2c430d84bba19 to /tmp/article-risk-assessment-of-sustainable-renewable-energy-resources-on-cpec-route-446f8e9f0dd53398afe2c430d84bba19.\n",
            "INFO:tika.tika:Retrieving https://discovery.researcher.life/article/risk-assessment-of-sustainable-renewable-energy-resources-on-cpec-route/446f8e9f0dd53398afe2c430d84bba19 to /tmp/article-risk-assessment-of-sustainable-renewable-energy-resources-on-cpec-route-446f8e9f0dd53398afe2c430d84bba19.\n"
          ]
        },
        {
          "output_type": "stream",
          "name": "stdout",
          "text": [
            "Processed URL: https://enggpost.com/cpec-game-changer-energy-projects/\n"
          ]
        },
        {
          "output_type": "stream",
          "name": "stderr",
          "text": [
            "2025-01-24 01:12:12,782 [MainThread  ] [INFO ]  Retrieving https://research.brighton.ac.uk/en/publications/integration-of-green-supply-chain-management-practices-in-constru to /tmp/en-publications-integration-of-green-supply-chain-management-practices-in-constru.\n",
            "INFO:tika.tika:Retrieving https://research.brighton.ac.uk/en/publications/integration-of-green-supply-chain-management-practices-in-constru to /tmp/en-publications-integration-of-green-supply-chain-management-practices-in-constru.\n",
            "2025-01-24 01:12:12,961 [MainThread  ] [INFO ]  Retrieving http://en.people.cn/n3/2024/0822/c90000-20208868.html to /tmp/n3-2024-0822-c90000-20208868.html.\n",
            "INFO:tika.tika:Retrieving http://en.people.cn/n3/2024/0822/c90000-20208868.html to /tmp/n3-2024-0822-c90000-20208868.html.\n"
          ]
        },
        {
          "output_type": "stream",
          "name": "stdout",
          "text": [
            "Processed URL: https://discovery.researcher.life/article/risk-assessment-of-sustainable-renewable-energy-resources-on-cpec-route/446f8e9f0dd53398afe2c430d84bba19\n",
            "Error processing URL 'https://research.brighton.ac.uk/en/publications/integration-of-green-supply-chain-management-practices-in-constru': HTTP Error 403: Forbidden\n"
          ]
        },
        {
          "output_type": "stream",
          "name": "stderr",
          "text": [
            "2025-01-24 01:12:14,209 [MainThread  ] [INFO ]  Retrieving https://english.news.cn/20230406/ce8a47f71f9244e09669f7c7449c7ef7/c.html to /tmp/20230406-ce8a47f71f9244e09669f7c7449c7ef7-c.html.\n",
            "INFO:tika.tika:Retrieving https://english.news.cn/20230406/ce8a47f71f9244e09669f7c7449c7ef7/c.html to /tmp/20230406-ce8a47f71f9244e09669f7c7449c7ef7-c.html.\n"
          ]
        },
        {
          "output_type": "stream",
          "name": "stdout",
          "text": [
            "Processed URL: http://en.people.cn/n3/2024/0822/c90000-20208868.html\n"
          ]
        },
        {
          "output_type": "stream",
          "name": "stderr",
          "text": [
            "2025-01-24 01:12:15,261 [MainThread  ] [INFO ]  Retrieving https://www.degruyter.com/document/doi/10.1515/reveh-2020-0111/html?lang=en&srsltid=AfmBOooMACMcsIYFJil8wHS2I6diH5bn-ylJZ2p8xCs6byrZeQftHTrZ to /tmp/document-doi-10.1515-reveh-2020-0111-html.\n",
            "INFO:tika.tika:Retrieving https://www.degruyter.com/document/doi/10.1515/reveh-2020-0111/html?lang=en&srsltid=AfmBOooMACMcsIYFJil8wHS2I6diH5bn-ylJZ2p8xCs6byrZeQftHTrZ to /tmp/document-doi-10.1515-reveh-2020-0111-html.\n"
          ]
        },
        {
          "output_type": "stream",
          "name": "stdout",
          "text": [
            "Processed URL: https://english.news.cn/20230406/ce8a47f71f9244e09669f7c7449c7ef7/c.html\n"
          ]
        },
        {
          "output_type": "stream",
          "name": "stderr",
          "text": [
            "2025-01-24 01:12:16,872 [MainThread  ] [INFO ]  Retrieving https://www.world-energy.org/article/29273.html to /tmp/article-29273.html.\n",
            "INFO:tika.tika:Retrieving https://www.world-energy.org/article/29273.html to /tmp/article-29273.html.\n",
            "2025-01-24 01:12:16,940 [MainThread  ] [INFO ]  Retrieving https://greenfdc.org/tag/cpec/ to /tmp/tag-cpec.\n",
            "INFO:tika.tika:Retrieving https://greenfdc.org/tag/cpec/ to /tmp/tag-cpec.\n"
          ]
        },
        {
          "output_type": "stream",
          "name": "stdout",
          "text": [
            "Processed URL: https://www.degruyter.com/document/doi/10.1515/reveh-2020-0111/html?lang=en&srsltid=AfmBOooMACMcsIYFJil8wHS2I6diH5bn-ylJZ2p8xCs6byrZeQftHTrZ\n",
            "Error processing URL 'https://www.world-energy.org/article/29273.html': HTTP Error 403: Forbidden\n"
          ]
        },
        {
          "output_type": "stream",
          "name": "stderr",
          "text": [
            "2025-01-24 01:12:19,137 [MainThread  ] [INFO ]  Retrieving https://gunnersshot.com/2019/12/08/coal-firing-cpec-colonisation-of-pakistan-enrichment-of-china/ to /tmp/2019-12-08-coal-firing-cpec-colonisation-of-pakistan-enrichment-of-china.\n",
            "INFO:tika.tika:Retrieving https://gunnersshot.com/2019/12/08/coal-firing-cpec-colonisation-of-pakistan-enrichment-of-china/ to /tmp/2019-12-08-coal-firing-cpec-colonisation-of-pakistan-enrichment-of-china.\n"
          ]
        },
        {
          "output_type": "stream",
          "name": "stdout",
          "text": [
            "Processed URL: https://greenfdc.org/tag/cpec/\n"
          ]
        },
        {
          "output_type": "stream",
          "name": "stderr",
          "text": [
            "2025-01-24 01:12:19,721 [MainThread  ] [INFO ]  Retrieving https://cscr.pk/explore/themes/trade-economics/cpec-through-the-lens-of-pakistans-foreign-policy/ to /tmp/explore-themes-trade-economics-cpec-through-the-lens-of-pakistans-foreign-policy.\n",
            "INFO:tika.tika:Retrieving https://cscr.pk/explore/themes/trade-economics/cpec-through-the-lens-of-pakistans-foreign-policy/ to /tmp/explore-themes-trade-economics-cpec-through-the-lens-of-pakistans-foreign-policy.\n"
          ]
        },
        {
          "output_type": "stream",
          "name": "stdout",
          "text": [
            "Processed URL: https://gunnersshot.com/2019/12/08/coal-firing-cpec-colonisation-of-pakistan-enrichment-of-china/\n"
          ]
        },
        {
          "output_type": "stream",
          "name": "stderr",
          "text": [
            "2025-01-24 01:12:20,121 [MainThread  ] [INFO ]  Retrieving https://journals.umt.edu.pk/index.php/jarms/article/view/4887 to /tmp/index.php-jarms-article-view-4887.\n",
            "INFO:tika.tika:Retrieving https://journals.umt.edu.pk/index.php/jarms/article/view/4887 to /tmp/index.php-jarms-article-view-4887.\n",
            "2025-01-24 01:12:20,207 [MainThread  ] [INFO ]  Retrieving https://cscc.sas.upenn.edu/events/2020/02/25/china-pakistan-economic-corridor-power-projects-insights-environmental-and-debt to /tmp/events-2020-02-25-china-pakistan-economic-corridor-power-projects-insights-environmental-and-debt.\n",
            "INFO:tika.tika:Retrieving https://cscc.sas.upenn.edu/events/2020/02/25/china-pakistan-economic-corridor-power-projects-insights-environmental-and-debt to /tmp/events-2020-02-25-china-pakistan-economic-corridor-power-projects-insights-environmental-and-debt.\n"
          ]
        },
        {
          "output_type": "stream",
          "name": "stdout",
          "text": [
            "Error processing URL 'https://cscr.pk/explore/themes/trade-economics/cpec-through-the-lens-of-pakistans-foreign-policy/': <urlopen error [Errno 104] Connection reset by peer>\n",
            "Error processing URL 'https://journals.umt.edu.pk/index.php/jarms/article/view/4887': HTTP Error 403: Forbidden\n",
            "Skipping URL (already processed): http://en.people.cn/n3/2024/0822/c90000-20208868.html\n",
            "Skipping URL (already processed): https://english.news.cn/20230406/ce8a47f71f9244e09669f7c7449c7ef7/c.html\n"
          ]
        },
        {
          "output_type": "stream",
          "name": "stderr",
          "text": [
            "2025-01-24 01:12:20,589 [MainThread  ] [INFO ]  Retrieving https://www.csis.org/analysis/china-pakistan-economic-corridor-five to /tmp/analysis-china-pakistan-economic-corridor-five.\n",
            "INFO:tika.tika:Retrieving https://www.csis.org/analysis/china-pakistan-economic-corridor-five to /tmp/analysis-china-pakistan-economic-corridor-five.\n"
          ]
        },
        {
          "output_type": "stream",
          "name": "stdout",
          "text": [
            "Processed URL: https://cscc.sas.upenn.edu/events/2020/02/25/china-pakistan-economic-corridor-power-projects-insights-environmental-and-debt\n"
          ]
        },
        {
          "output_type": "stream",
          "name": "stderr",
          "text": [
            "2025-01-24 01:12:21,699 [MainThread  ] [INFO ]  Retrieving https://science.thewire.in/external-affairs/south-asia/cpec-china-pakistan-military-environment-coal/ to /tmp/external-affairs-south-asia-cpec-china-pakistan-military-environment-coal.\n",
            "INFO:tika.tika:Retrieving https://science.thewire.in/external-affairs/south-asia/cpec-china-pakistan-military-environment-coal/ to /tmp/external-affairs-south-asia-cpec-china-pakistan-military-environment-coal.\n"
          ]
        },
        {
          "output_type": "stream",
          "name": "stdout",
          "text": [
            "Processed URL: https://www.csis.org/analysis/china-pakistan-economic-corridor-five\n"
          ]
        },
        {
          "output_type": "stream",
          "name": "stderr",
          "text": [
            "2025-01-24 01:12:23,654 [MainThread  ] [INFO ]  Retrieving https://www.jstor.org/stable/44986508?seq=1 to /tmp/stable-44986508.\n",
            "INFO:tika.tika:Retrieving https://www.jstor.org/stable/44986508?seq=1 to /tmp/stable-44986508.\n",
            "2025-01-24 01:12:23,747 [MainThread  ] [INFO ]  Retrieving https://www.internationalaffairs.org.au/australianoutlook/china-pakistan-corridor-quo-vadis/ to /tmp/australianoutlook-china-pakistan-corridor-quo-vadis.\n",
            "INFO:tika.tika:Retrieving https://www.internationalaffairs.org.au/australianoutlook/china-pakistan-corridor-quo-vadis/ to /tmp/australianoutlook-china-pakistan-corridor-quo-vadis.\n"
          ]
        },
        {
          "output_type": "stream",
          "name": "stdout",
          "text": [
            "Processed URL: https://science.thewire.in/external-affairs/south-asia/cpec-china-pakistan-military-environment-coal/\n",
            "Error processing URL 'https://www.jstor.org/stable/44986508?seq=1': HTTP Error 403: Forbidden\n"
          ]
        },
        {
          "output_type": "stream",
          "name": "stderr",
          "text": [
            "2025-01-24 01:12:25,065 [MainThread  ] [INFO ]  Retrieving https://www.eco-business.com/zh-hans/opinion/why-dont-cpec-projects-factor-in-the-climate-crisis/ to /tmp/zh-hans-opinion-why-dont-cpec-projects-factor-in-the-climate-crisis.\n",
            "INFO:tika.tika:Retrieving https://www.eco-business.com/zh-hans/opinion/why-dont-cpec-projects-factor-in-the-climate-crisis/ to /tmp/zh-hans-opinion-why-dont-cpec-projects-factor-in-the-climate-crisis.\n"
          ]
        },
        {
          "output_type": "stream",
          "name": "stdout",
          "text": [
            "Processed URL: https://www.internationalaffairs.org.au/australianoutlook/china-pakistan-corridor-quo-vadis/\n",
            "Skipping URL (already processed): https://www.cell.com/heliyon/fulltext/S2405-8440(24)09386-1\n"
          ]
        },
        {
          "output_type": "stream",
          "name": "stderr",
          "text": [
            "2025-01-24 01:12:27,005 [MainThread  ] [INFO ]  Retrieving https://www.ingentaconnect.com/content/mcb/ijdi/2021/00000021/00000001/art00008 to /tmp/content-mcb-ijdi-2021-00000021-00000001-art00008.\n",
            "INFO:tika.tika:Retrieving https://www.ingentaconnect.com/content/mcb/ijdi/2021/00000021/00000001/art00008 to /tmp/content-mcb-ijdi-2021-00000021-00000001-art00008.\n",
            "2025-01-24 01:12:27,083 [MainThread  ] [INFO ]  Retrieving https://www.iiss.org/online-analysis/online-analysis/2019/09/sasia-pakistan-protects-chinese-investments/ to /tmp/online-analysis-online-analysis-2019-09-sasia-pakistan-protects-chinese-investments.\n",
            "INFO:tika.tika:Retrieving https://www.iiss.org/online-analysis/online-analysis/2019/09/sasia-pakistan-protects-chinese-investments/ to /tmp/online-analysis-online-analysis-2019-09-sasia-pakistan-protects-chinese-investments.\n"
          ]
        },
        {
          "output_type": "stream",
          "name": "stdout",
          "text": [
            "Processed URL: https://www.eco-business.com/zh-hans/opinion/why-dont-cpec-projects-factor-in-the-climate-crisis/\n",
            "Error processing URL 'https://www.ingentaconnect.com/content/mcb/ijdi/2021/00000021/00000001/art00008': HTTP Error 403: Forbidden\n"
          ]
        },
        {
          "output_type": "stream",
          "name": "stderr",
          "text": [
            "2025-01-24 01:12:27,241 [MainThread  ] [INFO ]  Retrieving https://global.chinadaily.com.cn/a/202403/04/WS65e57fc3a31082fc043ba7f2.html to /tmp/a-202403-04-ws65e57fc3a31082fc043ba7f2.html.\n",
            "INFO:tika.tika:Retrieving https://global.chinadaily.com.cn/a/202403/04/WS65e57fc3a31082fc043ba7f2.html to /tmp/a-202403-04-ws65e57fc3a31082fc043ba7f2.html.\n"
          ]
        },
        {
          "output_type": "stream",
          "name": "stdout",
          "text": [
            "Error processing URL 'https://www.iiss.org/online-analysis/online-analysis/2019/09/sasia-pakistan-protects-chinese-investments/': HTTP Error 403: Forbidden\n"
          ]
        },
        {
          "output_type": "stream",
          "name": "stderr",
          "text": [
            "2025-01-24 01:12:37,671 [MainThread  ] [INFO ]  Retrieving https://iucn.org/news/pakistan/201902/chinese-delegation-studying-belt-and-road-initiative-calls-environmental-safeguards-along-cpec to /tmp/news-pakistan-201902-chinese-delegation-studying-belt-and-road-initiative-calls-environmental-safeguards-along-cpec.\n",
            "INFO:tika.tika:Retrieving https://iucn.org/news/pakistan/201902/chinese-delegation-studying-belt-and-road-initiative-calls-environmental-safeguards-along-cpec to /tmp/news-pakistan-201902-chinese-delegation-studying-belt-and-road-initiative-calls-environmental-safeguards-along-cpec.\n",
            "2025-01-24 01:12:37,741 [MainThread  ] [INFO ]  Retrieving https://www.mdpi.com/2071-1050/15/7/5870 to /tmp/2071-1050-15-7-5870.\n",
            "INFO:tika.tika:Retrieving https://www.mdpi.com/2071-1050/15/7/5870 to /tmp/2071-1050-15-7-5870.\n",
            "2025-01-24 01:12:37,816 [MainThread  ] [INFO ]  Retrieving https://www.cpicglobal.com/how-cpec-is-contributing-to-green-and-sustainable-development/ to /tmp/how-cpec-is-contributing-to-green-and-sustainable-development.\n",
            "INFO:tika.tika:Retrieving https://www.cpicglobal.com/how-cpec-is-contributing-to-green-and-sustainable-development/ to /tmp/how-cpec-is-contributing-to-green-and-sustainable-development.\n"
          ]
        },
        {
          "output_type": "stream",
          "name": "stdout",
          "text": [
            "Processed URL: https://global.chinadaily.com.cn/a/202403/04/WS65e57fc3a31082fc043ba7f2.html\n",
            "Error processing URL 'https://iucn.org/news/pakistan/201902/chinese-delegation-studying-belt-and-road-initiative-calls-environmental-safeguards-along-cpec': HTTP Error 403: Forbidden\n",
            "Error processing URL 'https://www.mdpi.com/2071-1050/15/7/5870': HTTP Error 403: Forbidden\n"
          ]
        },
        {
          "output_type": "stream",
          "name": "stderr",
          "text": [
            "2025-01-24 01:12:37,890 [MainThread  ] [INFO ]  Retrieving https://cscr.pk/explore/themes/energy-environment/dirty-energy-in-new-pakistan/ to /tmp/explore-themes-energy-environment-dirty-energy-in-new-pakistan.\n",
            "INFO:tika.tika:Retrieving https://cscr.pk/explore/themes/energy-environment/dirty-energy-in-new-pakistan/ to /tmp/explore-themes-energy-environment-dirty-energy-in-new-pakistan.\n"
          ]
        },
        {
          "output_type": "stream",
          "name": "stdout",
          "text": [
            "Error processing URL 'https://www.cpicglobal.com/how-cpec-is-contributing-to-green-and-sustainable-development/': HTTP Error 403: Forbidden\n"
          ]
        },
        {
          "output_type": "stream",
          "name": "stderr",
          "text": [
            "2025-01-24 01:12:38,269 [MainThread  ] [INFO ]  Retrieving https://www.eurasiareview.com/29032018-cpec-an-environment-friendly-project-oped/ to /tmp/29032018-cpec-an-environment-friendly-project-oped.\n",
            "INFO:tika.tika:Retrieving https://www.eurasiareview.com/29032018-cpec-an-environment-friendly-project-oped/ to /tmp/29032018-cpec-an-environment-friendly-project-oped.\n",
            "2025-01-24 01:12:38,348 [MainThread  ] [INFO ]  Retrieving https://profit.pakistantoday.com.pk/2025/01/20/green-sez-development-under-cpec-opportunity-for-pakistan-to-raise-climate-competitive-industry-experts/ to /tmp/2025-01-20-green-sez-development-under-cpec-opportunity-for-pakistan-to-raise-climate-competitive-industry-experts.\n",
            "INFO:tika.tika:Retrieving https://profit.pakistantoday.com.pk/2025/01/20/green-sez-development-under-cpec-opportunity-for-pakistan-to-raise-climate-competitive-industry-experts/ to /tmp/2025-01-20-green-sez-development-under-cpec-opportunity-for-pakistan-to-raise-climate-competitive-industry-experts.\n",
            "2025-01-24 01:12:38,417 [MainThread  ] [INFO ]  Retrieving https://ieeexplore.ieee.org/document/9417226 to /tmp/document-9417226.\n",
            "INFO:tika.tika:Retrieving https://ieeexplore.ieee.org/document/9417226 to /tmp/document-9417226.\n"
          ]
        },
        {
          "output_type": "stream",
          "name": "stdout",
          "text": [
            "Error processing URL 'https://cscr.pk/explore/themes/energy-environment/dirty-energy-in-new-pakistan/': <urlopen error [Errno 104] Connection reset by peer>\n",
            "Error processing URL 'https://www.eurasiareview.com/29032018-cpec-an-environment-friendly-project-oped/': HTTP Error 403: Forbidden\n",
            "Error processing URL 'https://profit.pakistantoday.com.pk/2025/01/20/green-sez-development-under-cpec-opportunity-for-pakistan-to-raise-climate-competitive-industry-experts/': HTTP Error 403: Forbidden\n"
          ]
        },
        {
          "output_type": "stream",
          "name": "stderr",
          "text": [
            "2025-01-24 01:12:38,491 [MainThread  ] [INFO ]  Retrieving https://cpecwire.com/analysis/china-pakistan-economic-corridor-what-is-cpec-faq/ to /tmp/analysis-china-pakistan-economic-corridor-what-is-cpec-faq.\n",
            "INFO:tika.tika:Retrieving https://cpecwire.com/analysis/china-pakistan-economic-corridor-what-is-cpec-faq/ to /tmp/analysis-china-pakistan-economic-corridor-what-is-cpec-faq.\n",
            "2025-01-24 01:12:38,560 [MainThread  ] [INFO ]  Retrieving https://carbs.superior.edu.pk/policy-lab/policy-paths-of-cpec-a-threat-to-environmental-degradation-in-pakistan/ to /tmp/policy-lab-policy-paths-of-cpec-a-threat-to-environmental-degradation-in-pakistan.\n",
            "INFO:tika.tika:Retrieving https://carbs.superior.edu.pk/policy-lab/policy-paths-of-cpec-a-threat-to-environmental-degradation-in-pakistan/ to /tmp/policy-lab-policy-paths-of-cpec-a-threat-to-environmental-degradation-in-pakistan.\n"
          ]
        },
        {
          "output_type": "stream",
          "name": "stdout",
          "text": [
            "Error processing URL 'https://ieeexplore.ieee.org/document/9417226': HTTP Error 418: Unknown Code\n",
            "Error processing URL 'https://cpecwire.com/analysis/china-pakistan-economic-corridor-what-is-cpec-faq/': HTTP Error 403: Forbidden\n"
          ]
        },
        {
          "output_type": "stream",
          "name": "stderr",
          "text": [
            "2025-01-24 01:12:47,135 [MainThread  ] [INFO ]  Retrieving https://www.dawn.com/news/1780109 to /tmp/news-1780109.\n",
            "INFO:tika.tika:Retrieving https://www.dawn.com/news/1780109 to /tmp/news-1780109.\n"
          ]
        },
        {
          "output_type": "stream",
          "name": "stdout",
          "text": [
            "Processed URL: https://carbs.superior.edu.pk/policy-lab/policy-paths-of-cpec-a-threat-to-environmental-degradation-in-pakistan/\n"
          ]
        },
        {
          "output_type": "stream",
          "name": "stderr",
          "text": [
            "2025-01-24 01:12:48,109 [MainThread  ] [INFO ]  Retrieving https://www.cfr.org/expert-brief/behind-chinas-gambit-pakistan to /tmp/expert-brief-behind-chinas-gambit-pakistan.\n",
            "INFO:tika.tika:Retrieving https://www.cfr.org/expert-brief/behind-chinas-gambit-pakistan to /tmp/expert-brief-behind-chinas-gambit-pakistan.\n",
            "2025-01-24 01:12:48,184 [MainThread  ] [INFO ]  Retrieving https://www.wilsoncenter.org/event/webcast-its-not-easy-being-green-obstacles-clean-energy-china-pakistan-economic-corridor to /tmp/event-webcast-its-not-easy-being-green-obstacles-clean-energy-china-pakistan-economic-corridor.\n",
            "INFO:tika.tika:Retrieving https://www.wilsoncenter.org/event/webcast-its-not-easy-being-green-obstacles-clean-energy-china-pakistan-economic-corridor to /tmp/event-webcast-its-not-easy-being-green-obstacles-clean-energy-china-pakistan-economic-corridor.\n"
          ]
        },
        {
          "output_type": "stream",
          "name": "stdout",
          "text": [
            "Processed URL: https://www.dawn.com/news/1780109\n",
            "Error processing URL 'https://www.cfr.org/expert-brief/behind-chinas-gambit-pakistan': HTTP Error 403: Forbidden\n"
          ]
        },
        {
          "output_type": "stream",
          "name": "stderr",
          "text": [
            "2025-01-24 01:12:48,588 [MainThread  ] [INFO ]  Retrieving https://www.degruyter.com/document/doi/10.1515/reveh-2020-0111/html?lang=en&srsltid=AfmBOooma-edT6uAXqIG1t6UlpsNyIOrvoTULFIwClRpDiYdZxQNwtkq to /tmp/document-doi-10.1515-reveh-2020-0111-html.\n",
            "INFO:tika.tika:Retrieving https://www.degruyter.com/document/doi/10.1515/reveh-2020-0111/html?lang=en&srsltid=AfmBOooma-edT6uAXqIG1t6UlpsNyIOrvoTULFIwClRpDiYdZxQNwtkq to /tmp/document-doi-10.1515-reveh-2020-0111-html.\n"
          ]
        },
        {
          "output_type": "stream",
          "name": "stdout",
          "text": [
            "Processed URL: https://www.wilsoncenter.org/event/webcast-its-not-easy-being-green-obstacles-clean-energy-china-pakistan-economic-corridor\n"
          ]
        },
        {
          "output_type": "stream",
          "name": "stderr",
          "text": [
            "2025-01-24 01:12:49,992 [MainThread  ] [INFO ]  Retrieving https://www.weforum.org/stories/2018/07/opportunities-and-risks-the-china-pakistan-economic-corridor/ to /tmp/stories-2018-07-opportunities-and-risks-the-china-pakistan-economic-corridor.\n",
            "INFO:tika.tika:Retrieving https://www.weforum.org/stories/2018/07/opportunities-and-risks-the-china-pakistan-economic-corridor/ to /tmp/stories-2018-07-opportunities-and-risks-the-china-pakistan-economic-corridor.\n"
          ]
        },
        {
          "output_type": "stream",
          "name": "stdout",
          "text": [
            "Processed URL: https://www.degruyter.com/document/doi/10.1515/reveh-2020-0111/html?lang=en&srsltid=AfmBOooma-edT6uAXqIG1t6UlpsNyIOrvoTULFIwClRpDiYdZxQNwtkq\n"
          ]
        },
        {
          "output_type": "stream",
          "name": "stderr",
          "text": [
            "2025-01-24 01:12:50,449 [MainThread  ] [INFO ]  Retrieving https://www.bu.edu/gdp/2022/02/15/growing-momentum-for-coal-phase-down-in-the-global-south-lessons-from-pakistan/ to /tmp/gdp-2022-02-15-growing-momentum-for-coal-phase-down-in-the-global-south-lessons-from-pakistan.\n",
            "INFO:tika.tika:Retrieving https://www.bu.edu/gdp/2022/02/15/growing-momentum-for-coal-phase-down-in-the-global-south-lessons-from-pakistan/ to /tmp/gdp-2022-02-15-growing-momentum-for-coal-phase-down-in-the-global-south-lessons-from-pakistan.\n"
          ]
        },
        {
          "output_type": "stream",
          "name": "stdout",
          "text": [
            "Error processing URL 'https://www.weforum.org/stories/2018/07/opportunities-and-risks-the-china-pakistan-economic-corridor/': HTTP Error 403: Forbidden\n"
          ]
        },
        {
          "output_type": "stream",
          "name": "stderr",
          "text": [
            "2025-01-24 01:12:50,759 [MainThread  ] [INFO ]  Retrieving https://www.newsecuritybeat.org/2022/02/reducing-environmental-social-costs-chinese-investments-pakistan/ to /tmp/2022-02-reducing-environmental-social-costs-chinese-investments-pakistan.\n",
            "INFO:tika.tika:Retrieving https://www.newsecuritybeat.org/2022/02/reducing-environmental-social-costs-chinese-investments-pakistan/ to /tmp/2022-02-reducing-environmental-social-costs-chinese-investments-pakistan.\n"
          ]
        },
        {
          "output_type": "stream",
          "name": "stdout",
          "text": [
            "Processed URL: https://www.bu.edu/gdp/2022/02/15/growing-momentum-for-coal-phase-down-in-the-global-south-lessons-from-pakistan/\n"
          ]
        },
        {
          "output_type": "stream",
          "name": "stderr",
          "text": [
            "2025-01-24 01:12:52,134 [MainThread  ] [INFO ]  Retrieving https://tribune.com.pk/story/1447859/cpec-environment-good-bad-ugly to /tmp/story-1447859-cpec-environment-good-bad-ugly.\n",
            "INFO:tika.tika:Retrieving https://tribune.com.pk/story/1447859/cpec-environment-good-bad-ugly to /tmp/story-1447859-cpec-environment-good-bad-ugly.\n"
          ]
        },
        {
          "output_type": "stream",
          "name": "stdout",
          "text": [
            "Processed URL: https://www.newsecuritybeat.org/2022/02/reducing-environmental-social-costs-chinese-investments-pakistan/\n"
          ]
        },
        {
          "output_type": "stream",
          "name": "stderr",
          "text": [
            "2025-01-24 01:12:52,636 [MainThread  ] [INFO ]  Retrieving https://www.voanews.com/a/china-calls-pakistan-cpec-fastest-and-most-effective-of-bri-projects/3951874.html to /tmp/a-china-calls-pakistan-cpec-fastest-and-most-effective-of-bri-projects-3951874.html.\n",
            "INFO:tika.tika:Retrieving https://www.voanews.com/a/china-calls-pakistan-cpec-fastest-and-most-effective-of-bri-projects/3951874.html to /tmp/a-china-calls-pakistan-cpec-fastest-and-most-effective-of-bri-projects-3951874.html.\n"
          ]
        },
        {
          "output_type": "stream",
          "name": "stdout",
          "text": [
            "Processed URL: https://tribune.com.pk/story/1447859/cpec-environment-good-bad-ugly\n"
          ]
        },
        {
          "output_type": "stream",
          "name": "stderr",
          "text": [
            "2025-01-24 01:12:53,328 [MainThread  ] [INFO ]  Retrieving http://pk.china-embassy.gov.cn/eng/zbgx/202106/t20210623_8906534.htm to /tmp/eng-zbgx-202106-t20210623_8906534.htm.\n",
            "INFO:tika.tika:Retrieving http://pk.china-embassy.gov.cn/eng/zbgx/202106/t20210623_8906534.htm to /tmp/eng-zbgx-202106-t20210623_8906534.htm.\n"
          ]
        },
        {
          "output_type": "stream",
          "name": "stdout",
          "text": [
            "Processed URL: https://www.voanews.com/a/china-calls-pakistan-cpec-fastest-and-most-effective-of-bri-projects/3951874.html\n"
          ]
        },
        {
          "output_type": "stream",
          "name": "stderr",
          "text": [
            "2025-01-24 01:12:55,748 [MainThread  ] [INFO ]  Retrieving https://www.frontiersin.org/journals/psychology/articles/10.3389/fpsyg.2021.816592/full to /tmp/journals-psychology-articles-10.3389-fpsyg.2021.816592-full.\n",
            "INFO:tika.tika:Retrieving https://www.frontiersin.org/journals/psychology/articles/10.3389/fpsyg.2021.816592/full to /tmp/journals-psychology-articles-10.3389-fpsyg.2021.816592-full.\n"
          ]
        },
        {
          "output_type": "stream",
          "name": "stdout",
          "text": [
            "Processed URL: http://pk.china-embassy.gov.cn/eng/zbgx/202106/t20210623_8906534.htm\n"
          ]
        },
        {
          "output_type": "stream",
          "name": "stderr",
          "text": [
            "2025-01-24 01:13:01,728 [MainThread  ] [INFO ]  Retrieving https://www.globaltimes.cn/page/202407/1316122.shtml to /tmp/page-202407-1316122.shtml.\n",
            "INFO:tika.tika:Retrieving https://www.globaltimes.cn/page/202407/1316122.shtml to /tmp/page-202407-1316122.shtml.\n"
          ]
        },
        {
          "output_type": "stream",
          "name": "stdout",
          "text": [
            "Processed URL: https://www.frontiersin.org/journals/psychology/articles/10.3389/fpsyg.2021.816592/full\n"
          ]
        },
        {
          "output_type": "stream",
          "name": "stderr",
          "text": [
            "2025-01-24 01:13:03,217 [MainThread  ] [INFO ]  Retrieving https://www.crisisgroup.org/asia/south-asia/pakistan/297-china-pakistan-economic-corridor-opportunities-and-risks to /tmp/asia-south-asia-pakistan-297-china-pakistan-economic-corridor-opportunities-and-risks.\n",
            "INFO:tika.tika:Retrieving https://www.crisisgroup.org/asia/south-asia/pakistan/297-china-pakistan-economic-corridor-opportunities-and-risks to /tmp/asia-south-asia-pakistan-297-china-pakistan-economic-corridor-opportunities-and-risks.\n",
            "2025-01-24 01:13:03,310 [MainThread  ] [INFO ]  Retrieving https://www.intellinews.com/chinese-power-projects-under-cpec-leave-pakistan-struggling-with-debt-362768/ to /tmp/chinese-power-projects-under-cpec-leave-pakistan-struggling-with-debt-362768.\n",
            "INFO:tika.tika:Retrieving https://www.intellinews.com/chinese-power-projects-under-cpec-leave-pakistan-struggling-with-debt-362768/ to /tmp/chinese-power-projects-under-cpec-leave-pakistan-struggling-with-debt-362768.\n"
          ]
        },
        {
          "output_type": "stream",
          "name": "stdout",
          "text": [
            "Processed URL: https://www.globaltimes.cn/page/202407/1316122.shtml\n",
            "Error processing URL 'https://www.crisisgroup.org/asia/south-asia/pakistan/297-china-pakistan-economic-corridor-opportunities-and-risks': HTTP Error 403: Forbidden\n"
          ]
        },
        {
          "output_type": "stream",
          "name": "stderr",
          "text": [
            "2025-01-24 01:13:06,737 [MainThread  ] [INFO ]  Retrieving https://pubs.aip.org/aip/jrse/article-abstract/10/6/065905/281336/Analysis-of-power-plants-in-China-Pakistan?redirectedFrom=fulltext to /tmp/aip-jrse-article-abstract-10-6-065905-281336-analysis-of-power-plants-in-china-pakistan.\n",
            "INFO:tika.tika:Retrieving https://pubs.aip.org/aip/jrse/article-abstract/10/6/065905/281336/Analysis-of-power-plants-in-China-Pakistan?redirectedFrom=fulltext to /tmp/aip-jrse-article-abstract-10-6-065905-281336-analysis-of-power-plants-in-china-pakistan.\n",
            "2025-01-24 01:13:06,794 [MainThread  ] [INFO ]  Retrieving https://www.reuters.com/article/world/pakistan-ramps-up-coal-power-with-chinese-backed-plants-idUSKBN17Z018/ to /tmp/article-world-pakistan-ramps-up-coal-power-with-chinese-backed-plants-iduskbn17z018.\n",
            "INFO:tika.tika:Retrieving https://www.reuters.com/article/world/pakistan-ramps-up-coal-power-with-chinese-backed-plants-idUSKBN17Z018/ to /tmp/article-world-pakistan-ramps-up-coal-power-with-chinese-backed-plants-iduskbn17z018.\n",
            "2025-01-24 01:13:06,904 [MainThread  ] [INFO ]  Retrieving https://reconasia.csis.org/cpec-at-three/ to /tmp/cpec-at-three.\n",
            "INFO:tika.tika:Retrieving https://reconasia.csis.org/cpec-at-three/ to /tmp/cpec-at-three.\n"
          ]
        },
        {
          "output_type": "stream",
          "name": "stdout",
          "text": [
            "Processed URL: https://www.intellinews.com/chinese-power-projects-under-cpec-leave-pakistan-struggling-with-debt-362768/\n",
            "Error processing URL 'https://pubs.aip.org/aip/jrse/article-abstract/10/6/065905/281336/Analysis-of-power-plants-in-China-Pakistan?redirectedFrom=fulltext': HTTP Error 403: Forbidden\n",
            "Error processing URL 'https://www.reuters.com/article/world/pakistan-ramps-up-coal-power-with-chinese-backed-plants-idUSKBN17Z018/': HTTP Error 401: HTTP Forbidden\n"
          ]
        },
        {
          "output_type": "stream",
          "name": "stderr",
          "text": [
            "2025-01-24 01:13:07,093 [MainThread  ] [INFO ]  Retrieving https://bulletin.ids.ac.uk/index.php/idsbo/article/view/3066/3047 to /tmp/index.php-idsbo-article-view-3066-3047.\n",
            "INFO:tika.tika:Retrieving https://bulletin.ids.ac.uk/index.php/idsbo/article/view/3066/3047 to /tmp/index.php-idsbo-article-view-3066-3047.\n"
          ]
        },
        {
          "output_type": "stream",
          "name": "stdout",
          "text": [
            "Error processing URL 'https://reconasia.csis.org/cpec-at-three/': HTTP Error 403: Forbidden\n"
          ]
        },
        {
          "output_type": "stream",
          "name": "stderr",
          "text": [
            "2025-01-24 01:13:07,730 [MainThread  ] [INFO ]  Retrieving https://www.cfr.org/backgrounder/chinas-massive-belt-and-road-initiative to /tmp/backgrounder-chinas-massive-belt-and-road-initiative.\n",
            "INFO:tika.tika:Retrieving https://www.cfr.org/backgrounder/chinas-massive-belt-and-road-initiative to /tmp/backgrounder-chinas-massive-belt-and-road-initiative.\n",
            "2025-01-24 01:13:07,804 [MainThread  ] [INFO ]  Retrieving https://ieefa.org/resources/pakistans-power-future-renewable-energy-provides-more-diverse-secure-and-cost-effective to /tmp/resources-pakistans-power-future-renewable-energy-provides-more-diverse-secure-and-cost-effective.\n",
            "INFO:tika.tika:Retrieving https://ieefa.org/resources/pakistans-power-future-renewable-energy-provides-more-diverse-secure-and-cost-effective to /tmp/resources-pakistans-power-future-renewable-energy-provides-more-diverse-secure-and-cost-effective.\n",
            "2025-01-24 01:13:07,866 [MainThread  ] [INFO ]  Retrieving https://www.bu.edu/pardeeschool/2017/12/01/najam-in-eurasia-reviwq-on-cpec-transparency/ to /tmp/pardeeschool-2017-12-01-najam-in-eurasia-reviwq-on-cpec-transparency.\n",
            "INFO:tika.tika:Retrieving https://www.bu.edu/pardeeschool/2017/12/01/najam-in-eurasia-reviwq-on-cpec-transparency/ to /tmp/pardeeschool-2017-12-01-najam-in-eurasia-reviwq-on-cpec-transparency.\n"
          ]
        },
        {
          "output_type": "stream",
          "name": "stdout",
          "text": [
            "Error processing URL 'https://bulletin.ids.ac.uk/index.php/idsbo/article/view/3066/3047': HTTP Error 403: Forbidden\n",
            "Error processing URL 'https://www.cfr.org/backgrounder/chinas-massive-belt-and-road-initiative': HTTP Error 403: Forbidden\n",
            "Error processing URL 'https://ieefa.org/resources/pakistans-power-future-renewable-energy-provides-more-diverse-secure-and-cost-effective': HTTP Error 403: Forbidden\n"
          ]
        },
        {
          "output_type": "stream",
          "name": "stderr",
          "text": [
            "2025-01-24 01:13:08,029 [MainThread  ] [INFO ]  Retrieving https://www.nation.com.pk/21-Jan-2025/experts-call-for-learning-from-china-s-experience-in-developing-green-sezs-under-cpec to /tmp/21-jan-2025-experts-call-for-learning-from-china-s-experience-in-developing-green-sezs-under-cpec.\n",
            "INFO:tika.tika:Retrieving https://www.nation.com.pk/21-Jan-2025/experts-call-for-learning-from-china-s-experience-in-developing-green-sezs-under-cpec to /tmp/21-jan-2025-experts-call-for-learning-from-china-s-experience-in-developing-green-sezs-under-cpec.\n"
          ]
        },
        {
          "output_type": "stream",
          "name": "stdout",
          "text": [
            "Processed URL: https://www.bu.edu/pardeeschool/2017/12/01/najam-in-eurasia-reviwq-on-cpec-transparency/\n"
          ]
        },
        {
          "output_type": "stream",
          "name": "stderr",
          "text": [
            "2025-01-24 01:13:10,130 [MainThread  ] [INFO ]  Retrieving https://www.arabnews.com/node/2586996/pakistan to /tmp/node-2586996-pakistan.\n",
            "INFO:tika.tika:Retrieving https://www.arabnews.com/node/2586996/pakistan to /tmp/node-2586996-pakistan.\n",
            "2025-01-24 01:13:10,244 [MainThread  ] [INFO ]  Retrieving https://unpo.org/gilgit-baltistan-cpec-likely-to-worsen-environmental-degradation-in-the-region/ to /tmp/gilgit-baltistan-cpec-likely-to-worsen-environmental-degradation-in-the-region.\n",
            "INFO:tika.tika:Retrieving https://unpo.org/gilgit-baltistan-cpec-likely-to-worsen-environmental-degradation-in-the-region/ to /tmp/gilgit-baltistan-cpec-likely-to-worsen-environmental-degradation-in-the-region.\n",
            "2025-01-24 01:13:10,309 [MainThread  ] [INFO ]  Retrieving https://www.plenglish.com/news/2025/01/22/experts-call-for-developing-sezs-under-china-pakistan-cooperation/ to /tmp/news-2025-01-22-experts-call-for-developing-sezs-under-china-pakistan-cooperation.\n",
            "INFO:tika.tika:Retrieving https://www.plenglish.com/news/2025/01/22/experts-call-for-developing-sezs-under-china-pakistan-cooperation/ to /tmp/news-2025-01-22-experts-call-for-developing-sezs-under-china-pakistan-cooperation.\n"
          ]
        },
        {
          "output_type": "stream",
          "name": "stdout",
          "text": [
            "Processed URL: https://www.nation.com.pk/21-Jan-2025/experts-call-for-learning-from-china-s-experience-in-developing-green-sezs-under-cpec\n",
            "Error processing URL 'https://www.arabnews.com/node/2586996/pakistan': HTTP Error 403: Forbidden\n",
            "Error processing URL 'https://unpo.org/gilgit-baltistan-cpec-likely-to-worsen-environmental-degradation-in-the-region/': HTTP Error 403: Forbidden\n"
          ]
        },
        {
          "output_type": "stream",
          "name": "stderr",
          "text": [
            "2025-01-24 01:13:15,689 [MainThread  ] [INFO ]  Retrieving http://en.people.cn/n3/2025/0122/c90000-20268972.html to /tmp/n3-2025-0122-c90000-20268972.html.\n",
            "INFO:tika.tika:Retrieving http://en.people.cn/n3/2025/0122/c90000-20268972.html to /tmp/n3-2025-0122-c90000-20268972.html.\n"
          ]
        },
        {
          "output_type": "stream",
          "name": "stdout",
          "text": [
            "Processed URL: https://www.plenglish.com/news/2025/01/22/experts-call-for-developing-sezs-under-china-pakistan-cooperation/\n"
          ]
        },
        {
          "output_type": "stream",
          "name": "stderr",
          "text": [
            "2025-01-24 01:13:17,168 [MainThread  ] [INFO ]  Retrieving https://asiatimes.com/2017/06/china-cant-lead-paris-accord-big-coal-cpec/ to /tmp/2017-06-china-cant-lead-paris-accord-big-coal-cpec.\n",
            "INFO:tika.tika:Retrieving https://asiatimes.com/2017/06/china-cant-lead-paris-accord-big-coal-cpec/ to /tmp/2017-06-china-cant-lead-paris-accord-big-coal-cpec.\n"
          ]
        },
        {
          "output_type": "stream",
          "name": "stdout",
          "text": [
            "Processed URL: http://en.people.cn/n3/2025/0122/c90000-20268972.html\n"
          ]
        },
        {
          "output_type": "stream",
          "name": "stderr",
          "text": [
            "2025-01-24 01:13:17,638 [MainThread  ] [INFO ]  Retrieving https://oilprice.com/Energy/Energy-General/Is-Pakistans-Energy-Sector-a-Ticking-Time-Bomb.html to /tmp/energy-energy-general-is-pakistans-energy-sector-a-ticking-time-bomb.html.\n",
            "INFO:tika.tika:Retrieving https://oilprice.com/Energy/Energy-General/Is-Pakistans-Energy-Sector-a-Ticking-Time-Bomb.html to /tmp/energy-energy-general-is-pakistans-energy-sector-a-ticking-time-bomb.html.\n"
          ]
        },
        {
          "output_type": "stream",
          "name": "stdout",
          "text": [
            "Processed URL: https://asiatimes.com/2017/06/china-cant-lead-paris-accord-big-coal-cpec/\n"
          ]
        },
        {
          "output_type": "stream",
          "name": "stderr",
          "text": [
            "2025-01-24 01:13:18,461 [MainThread  ] [INFO ]  Retrieving https://www.aninews.in/news/world/asia/cpec-brings-environmental-disasters-to-gilgit-baltistan201711210801160001/ to /tmp/news-world-asia-cpec-brings-environmental-disasters-to-gilgit-baltistan201711210801160001.\n",
            "INFO:tika.tika:Retrieving https://www.aninews.in/news/world/asia/cpec-brings-environmental-disasters-to-gilgit-baltistan201711210801160001/ to /tmp/news-world-asia-cpec-brings-environmental-disasters-to-gilgit-baltistan201711210801160001.\n",
            "2025-01-24 01:13:18,544 [MainThread  ] [INFO ]  Retrieving https://www.ia-forum.org/Content/ViewInternal_Document.cfm?contenttype_id=1&ContentID=8777 to /tmp/content-viewinternal_document.cfm.\n",
            "INFO:tika.tika:Retrieving https://www.ia-forum.org/Content/ViewInternal_Document.cfm?contenttype_id=1&ContentID=8777 to /tmp/content-viewinternal_document.cfm.\n"
          ]
        },
        {
          "output_type": "stream",
          "name": "stdout",
          "text": [
            "Processed URL: https://oilprice.com/Energy/Energy-General/Is-Pakistans-Energy-Sector-a-Ticking-Time-Bomb.html\n",
            "Error processing URL 'https://www.aninews.in/news/world/asia/cpec-brings-environmental-disasters-to-gilgit-baltistan201711210801160001/': HTTP Error 403: Forbidden\n"
          ]
        },
        {
          "output_type": "stream",
          "name": "stderr",
          "text": [
            "2025-01-24 01:13:19,173 [MainThread  ] [INFO ]  Retrieving https://www.radio.gov.pk/22-01-2025/achieving-sustainable-development-pakistans-top-priority-aurangzeb to /tmp/22-01-2025-achieving-sustainable-development-pakistans-top-priority-aurangzeb.\n",
            "INFO:tika.tika:Retrieving https://www.radio.gov.pk/22-01-2025/achieving-sustainable-development-pakistans-top-priority-aurangzeb to /tmp/22-01-2025-achieving-sustainable-development-pakistans-top-priority-aurangzeb.\n",
            "2025-01-24 01:13:19,254 [MainThread  ] [INFO ]  Retrieving https://thepakistantimes.com.pk/tag/and-mutual-growth-he-acknowledged-the-transformative-impact-of-cpecs-first-phase/ to /tmp/tag-and-mutual-growth-he-acknowledged-the-transformative-impact-of-cpecs-first-phase.\n",
            "INFO:tika.tika:Retrieving https://thepakistantimes.com.pk/tag/and-mutual-growth-he-acknowledged-the-transformative-impact-of-cpecs-first-phase/ to /tmp/tag-and-mutual-growth-he-acknowledged-the-transformative-impact-of-cpecs-first-phase.\n"
          ]
        },
        {
          "output_type": "stream",
          "name": "stdout",
          "text": [
            "Processed URL: https://www.ia-forum.org/Content/ViewInternal_Document.cfm?contenttype_id=1&ContentID=8777\n",
            "Error processing URL 'https://www.radio.gov.pk/22-01-2025/achieving-sustainable-development-pakistans-top-priority-aurangzeb': HTTP Error 403: Forbidden\n"
          ]
        },
        {
          "output_type": "stream",
          "name": "stderr",
          "text": [
            "2025-01-24 01:13:20,799 [MainThread  ] [INFO ]  Retrieving https://tnnenglish.com/coal-a-double-edged-sword-for-energy-and-the-environment to /tmp/coal-a-double-edged-sword-for-energy-and-the-environment.\n",
            "INFO:tika.tika:Retrieving https://tnnenglish.com/coal-a-double-edged-sword-for-energy-and-the-environment to /tmp/coal-a-double-edged-sword-for-energy-and-the-environment.\n",
            "2025-01-24 01:13:20,927 [MainThread  ] [INFO ]  Retrieving https://dunyanews.tv/en/Business/863868-achieving-sustainable-development-pakistans-top-priority-aurangzeb-t to /tmp/en-business-863868-achieving-sustainable-development-pakistans-top-priority-aurangzeb-t.\n",
            "INFO:tika.tika:Retrieving https://dunyanews.tv/en/Business/863868-achieving-sustainable-development-pakistans-top-priority-aurangzeb-t to /tmp/en-business-863868-achieving-sustainable-development-pakistans-top-priority-aurangzeb-t.\n"
          ]
        },
        {
          "output_type": "stream",
          "name": "stdout",
          "text": [
            "Processed URL: https://thepakistantimes.com.pk/tag/and-mutual-growth-he-acknowledged-the-transformative-impact-of-cpecs-first-phase/\n",
            "Error processing URL 'https://tnnenglish.com/coal-a-double-edged-sword-for-energy-and-the-environment': HTTP Error 403: Forbidden\n"
          ]
        },
        {
          "output_type": "stream",
          "name": "stderr",
          "text": [
            "2025-01-24 01:13:22,416 [MainThread  ] [INFO ]  Retrieving https://www.radio.gov.pk/22-01-2025/pakistan-china-writing-new-chapter-of-collaboration-ahsan to /tmp/22-01-2025-pakistan-china-writing-new-chapter-of-collaboration-ahsan.\n",
            "INFO:tika.tika:Retrieving https://www.radio.gov.pk/22-01-2025/pakistan-china-writing-new-chapter-of-collaboration-ahsan to /tmp/22-01-2025-pakistan-china-writing-new-chapter-of-collaboration-ahsan.\n",
            "2025-01-24 01:13:22,474 [MainThread  ] [INFO ]  Retrieving https://dailythepatriot.com/achieving-sustainable-development-pakistans-top-priority-aurangzeb/ to /tmp/achieving-sustainable-development-pakistans-top-priority-aurangzeb.\n",
            "INFO:tika.tika:Retrieving https://dailythepatriot.com/achieving-sustainable-development-pakistans-top-priority-aurangzeb/ to /tmp/achieving-sustainable-development-pakistans-top-priority-aurangzeb.\n"
          ]
        },
        {
          "output_type": "stream",
          "name": "stdout",
          "text": [
            "Processed URL: https://dunyanews.tv/en/Business/863868-achieving-sustainable-development-pakistans-top-priority-aurangzeb-t\n",
            "Error processing URL 'https://www.radio.gov.pk/22-01-2025/pakistan-china-writing-new-chapter-of-collaboration-ahsan': HTTP Error 403: Forbidden\n"
          ]
        },
        {
          "output_type": "stream",
          "name": "stderr",
          "text": [
            "2025-01-24 01:13:23,921 [MainThread  ] [INFO ]  Retrieving https://www.nation.com.pk/21-Jan-2025/pakistan-remains-committed-to-china to /tmp/21-jan-2025-pakistan-remains-committed-to-china.\n",
            "INFO:tika.tika:Retrieving https://www.nation.com.pk/21-Jan-2025/pakistan-remains-committed-to-china to /tmp/21-jan-2025-pakistan-remains-committed-to-china.\n"
          ]
        },
        {
          "output_type": "stream",
          "name": "stdout",
          "text": [
            "Processed URL: https://dailythepatriot.com/achieving-sustainable-development-pakistans-top-priority-aurangzeb/\n"
          ]
        },
        {
          "output_type": "stream",
          "name": "stderr",
          "text": [
            "2025-01-24 01:13:24,990 [MainThread  ] [INFO ]  Retrieving https://www.msn.com/en-ae/money/economy/reforms-and-export-led-growth/ar-AA1xwGSH to /tmp/en-ae-money-economy-reforms-and-export-led-growth-ar-aa1xwgsh.\n",
            "INFO:tika.tika:Retrieving https://www.msn.com/en-ae/money/economy/reforms-and-export-led-growth/ar-AA1xwGSH to /tmp/en-ae-money-economy-reforms-and-export-led-growth-ar-aa1xwgsh.\n",
            "2025-01-24 01:13:25,080 [MainThread  ] [INFO ]  Retrieving https://eprints.whiterose.ac.uk/193808/ to /tmp/193808.\n",
            "INFO:tika.tika:Retrieving https://eprints.whiterose.ac.uk/193808/ to /tmp/193808.\n"
          ]
        },
        {
          "output_type": "stream",
          "name": "stdout",
          "text": [
            "Processed URL: https://www.nation.com.pk/21-Jan-2025/pakistan-remains-committed-to-china\n",
            "Processed URL: https://www.msn.com/en-ae/money/economy/reforms-and-export-led-growth/ar-AA1xwGSH\n"
          ]
        },
        {
          "output_type": "stream",
          "name": "stderr",
          "text": [
            "2025-01-24 01:13:25,946 [MainThread  ] [INFO ]  Retrieving https://www.arabnews.com/node/2587004/pakistan to /tmp/node-2587004-pakistan.\n",
            "INFO:tika.tika:Retrieving https://www.arabnews.com/node/2587004/pakistan to /tmp/node-2587004-pakistan.\n",
            "2025-01-24 01:13:26,010 [MainThread  ] [INFO ]  Retrieving https://pakobserver.net/pakistan-committed-to-find-potential-solutions-to-challenges-of-climate-change-romina/ to /tmp/pakistan-committed-to-find-potential-solutions-to-challenges-of-climate-change-romina.\n",
            "INFO:tika.tika:Retrieving https://pakobserver.net/pakistan-committed-to-find-potential-solutions-to-challenges-of-climate-change-romina/ to /tmp/pakistan-committed-to-find-potential-solutions-to-challenges-of-climate-change-romina.\n",
            "2025-01-24 01:13:26,081 [MainThread  ] [INFO ]  Retrieving https://www.drishtiias.com/daily-updates/daily-news-editorials/india-and-china-rivalry-to-resilience to /tmp/daily-updates-daily-news-editorials-india-and-china-rivalry-to-resilience.\n",
            "INFO:tika.tika:Retrieving https://www.drishtiias.com/daily-updates/daily-news-editorials/india-and-china-rivalry-to-resilience to /tmp/daily-updates-daily-news-editorials-india-and-china-rivalry-to-resilience.\n"
          ]
        },
        {
          "output_type": "stream",
          "name": "stdout",
          "text": [
            "Processed URL: https://eprints.whiterose.ac.uk/193808/\n",
            "Error processing URL 'https://www.arabnews.com/node/2587004/pakistan': HTTP Error 403: Forbidden\n",
            "Error processing URL 'https://pakobserver.net/pakistan-committed-to-find-potential-solutions-to-challenges-of-climate-change-romina/': HTTP Error 403: Forbidden\n"
          ]
        },
        {
          "output_type": "stream",
          "name": "stderr",
          "text": [
            "2025-01-24 01:13:26,164 [MainThread  ] [INFO ]  Retrieving https://sabahnews.net/english/news/pakistans-economic-revival-durdana-najam/ to /tmp/english-news-pakistans-economic-revival-durdana-najam.\n",
            "INFO:tika.tika:Retrieving https://sabahnews.net/english/news/pakistans-economic-revival-durdana-najam/ to /tmp/english-news-pakistans-economic-revival-durdana-najam.\n"
          ]
        },
        {
          "output_type": "stream",
          "name": "stdout",
          "text": [
            "Error processing URL 'https://www.drishtiias.com/daily-updates/daily-news-editorials/india-and-china-rivalry-to-resilience': HTTP Error 403: Forbidden\n"
          ]
        },
        {
          "output_type": "stream",
          "name": "stderr",
          "text": [
            "2025-01-24 01:13:26,510 [MainThread  ] [INFO ]  Retrieving https://www.chinadailyhk.com/hk/article/368554 to /tmp/hk-article-368554.\n",
            "INFO:tika.tika:Retrieving https://www.chinadailyhk.com/hk/article/368554 to /tmp/hk-article-368554.\n"
          ]
        },
        {
          "output_type": "stream",
          "name": "stdout",
          "text": [
            "Error processing URL 'https://sabahnews.net/english/news/pakistans-economic-revival-durdana-najam/': HTTP Error 406: Not Acceptable\n"
          ]
        },
        {
          "output_type": "stream",
          "name": "stderr",
          "text": [
            "2025-01-24 01:13:27,110 [MainThread  ] [INFO ]  Retrieving https://ouci.dntb.gov.ua/en/works/4vWQRNel/ to /tmp/en-works-4vwqrnel.\n",
            "INFO:tika.tika:Retrieving https://ouci.dntb.gov.ua/en/works/4vWQRNel/ to /tmp/en-works-4vwqrnel.\n"
          ]
        },
        {
          "output_type": "stream",
          "name": "stdout",
          "text": [
            "Processed URL: https://www.chinadailyhk.com/hk/article/368554\n"
          ]
        },
        {
          "output_type": "stream",
          "name": "stderr",
          "text": [
            "2025-01-24 01:13:28,421 [MainThread  ] [INFO ]  Retrieving https://onlinelibrary.wiley.com/doi/abs/10.1002/pa.2600 to /tmp/doi-abs-10.1002-pa.2600.\n",
            "INFO:tika.tika:Retrieving https://onlinelibrary.wiley.com/doi/abs/10.1002/pa.2600 to /tmp/doi-abs-10.1002-pa.2600.\n",
            "2025-01-24 01:13:28,539 [MainThread  ] [INFO ]  Retrieving https://muse.jhu.edu/article/837036/pdf to /tmp/article-837036-pdf.\n",
            "INFO:tika.tika:Retrieving https://muse.jhu.edu/article/837036/pdf to /tmp/article-837036-pdf.\n",
            "2025-01-24 01:13:28,621 [MainThread  ] [INFO ]  Retrieving https://www.aiddata.org/blog/global-insights-with-national-implications-aiddatas-policy-engagements-on-the-china-pakistan-economic-corridor to /tmp/blog-global-insights-with-national-implications-aiddatas-policy-engagements-on-the-china-pakistan-economic-corridor.\n",
            "INFO:tika.tika:Retrieving https://www.aiddata.org/blog/global-insights-with-national-implications-aiddatas-policy-engagements-on-the-china-pakistan-economic-corridor to /tmp/blog-global-insights-with-national-implications-aiddatas-policy-engagements-on-the-china-pakistan-economic-corridor.\n"
          ]
        },
        {
          "output_type": "stream",
          "name": "stdout",
          "text": [
            "Processed URL: https://ouci.dntb.gov.ua/en/works/4vWQRNel/\n",
            "Error processing URL 'https://onlinelibrary.wiley.com/doi/abs/10.1002/pa.2600': HTTP Error 403: Forbidden\n",
            "Error processing URL 'https://muse.jhu.edu/article/837036/pdf': HTTP Error 503: Service Unavailable\n"
          ]
        },
        {
          "output_type": "stream",
          "name": "stderr",
          "text": [
            "2025-01-24 01:13:29,113 [MainThread  ] [INFO ]  Retrieving https://www.business-humanrights.org/en/latest-news/pakistan-the-changing-dynamics-of-the-chinapakistan-economic-corridor/ to /tmp/en-latest-news-pakistan-the-changing-dynamics-of-the-chinapakistan-economic-corridor.\n",
            "INFO:tika.tika:Retrieving https://www.business-humanrights.org/en/latest-news/pakistan-the-changing-dynamics-of-the-chinapakistan-economic-corridor/ to /tmp/en-latest-news-pakistan-the-changing-dynamics-of-the-chinapakistan-economic-corridor.\n",
            "2025-01-24 01:13:29,188 [MainThread  ] [INFO ]  Retrieving https://www.icwa.in/show_content.php?lang=1&level=3&ls_id=5103&lid=835 to /tmp/show_content.php.\n",
            "INFO:tika.tika:Retrieving https://www.icwa.in/show_content.php?lang=1&level=3&ls_id=5103&lid=835 to /tmp/show_content.php.\n"
          ]
        },
        {
          "output_type": "stream",
          "name": "stdout",
          "text": [
            "Processed URL: https://www.aiddata.org/blog/global-insights-with-national-implications-aiddatas-policy-engagements-on-the-china-pakistan-economic-corridor\n",
            "Error processing URL 'https://www.business-humanrights.org/en/latest-news/pakistan-the-changing-dynamics-of-the-chinapakistan-economic-corridor/': HTTP Error 403: Forbidden\n"
          ]
        },
        {
          "output_type": "stream",
          "name": "stderr",
          "text": [
            "2025-01-24 01:13:32,815 [MainThread  ] [INFO ]  Retrieving https://news.griffith.edu.au/2024/04/11/researchers-propose-mechanism-for-just-energy-transition-in-pakistan/ to /tmp/2024-04-11-researchers-propose-mechanism-for-just-energy-transition-in-pakistan.\n",
            "INFO:tika.tika:Retrieving https://news.griffith.edu.au/2024/04/11/researchers-propose-mechanism-for-just-energy-transition-in-pakistan/ to /tmp/2024-04-11-researchers-propose-mechanism-for-just-energy-transition-in-pakistan.\n"
          ]
        },
        {
          "output_type": "stream",
          "name": "stdout",
          "text": [
            "Processed URL: https://www.icwa.in/show_content.php?lang=1&level=3&ls_id=5103&lid=835\n"
          ]
        },
        {
          "output_type": "stream",
          "name": "stderr",
          "text": [
            "2025-01-24 01:13:33,106 [MainThread  ] [INFO ]  Retrieving https://journals.plos.org/plosone/article?id=10.1371/journal.pone.0288328 to /tmp/plosone-article.\n",
            "INFO:tika.tika:Retrieving https://journals.plos.org/plosone/article?id=10.1371/journal.pone.0288328 to /tmp/plosone-article.\n"
          ]
        },
        {
          "output_type": "stream",
          "name": "stdout",
          "text": [
            "Error processing URL 'https://news.griffith.edu.au/2024/04/11/researchers-propose-mechanism-for-just-energy-transition-in-pakistan/': HTTP Error 403: Forbidden\n"
          ]
        },
        {
          "output_type": "stream",
          "name": "stderr",
          "text": [
            "2025-01-24 01:13:36,300 [MainThread  ] [INFO ]  Retrieving https://eng.yidaiyilu.gov.cn/p/000LBO9G.html to /tmp/p-000lbo9g.html.\n",
            "INFO:tika.tika:Retrieving https://eng.yidaiyilu.gov.cn/p/000LBO9G.html to /tmp/p-000lbo9g.html.\n"
          ]
        },
        {
          "output_type": "stream",
          "name": "stdout",
          "text": [
            "Processed URL: https://journals.plos.org/plosone/article?id=10.1371/journal.pone.0288328\n"
          ]
        },
        {
          "output_type": "stream",
          "name": "stderr",
          "text": [
            "2025-01-24 01:13:41,846 [MainThread  ] [INFO ]  Retrieving https://www.rsis.edu.sg/rsis-publication/rsis/china-pakistan-economic-corridor-five-years-on/ to /tmp/rsis-publication-rsis-china-pakistan-economic-corridor-five-years-on.\n",
            "INFO:tika.tika:Retrieving https://www.rsis.edu.sg/rsis-publication/rsis/china-pakistan-economic-corridor-five-years-on/ to /tmp/rsis-publication-rsis-china-pakistan-economic-corridor-five-years-on.\n",
            "2025-01-24 01:13:41,929 [MainThread  ] [INFO ]  Retrieving https://www.orfonline.org/research/responding-to-the-china-pakistan-economic-corridor-challenge to /tmp/research-responding-to-the-china-pakistan-economic-corridor-challenge.\n",
            "INFO:tika.tika:Retrieving https://www.orfonline.org/research/responding-to-the-china-pakistan-economic-corridor-challenge to /tmp/research-responding-to-the-china-pakistan-economic-corridor-challenge.\n",
            "2025-01-24 01:13:41,994 [MainThread  ] [INFO ]  Retrieving https://unpo.org/roundtable-in-washington-d-c-on-china-pakistan-economic-corridor-environmental-impact/ to /tmp/roundtable-in-washington-d-c-on-china-pakistan-economic-corridor-environmental-impact.\n",
            "INFO:tika.tika:Retrieving https://unpo.org/roundtable-in-washington-d-c-on-china-pakistan-economic-corridor-environmental-impact/ to /tmp/roundtable-in-washington-d-c-on-china-pakistan-economic-corridor-environmental-impact.\n"
          ]
        },
        {
          "output_type": "stream",
          "name": "stdout",
          "text": [
            "Processed URL: https://eng.yidaiyilu.gov.cn/p/000LBO9G.html\n",
            "Error processing URL 'https://www.rsis.edu.sg/rsis-publication/rsis/china-pakistan-economic-corridor-five-years-on/': HTTP Error 403: Forbidden\n",
            "Error processing URL 'https://www.orfonline.org/research/responding-to-the-china-pakistan-economic-corridor-challenge': HTTP Error 403: Forbidden\n"
          ]
        },
        {
          "output_type": "stream",
          "name": "stderr",
          "text": [
            "2025-01-24 01:13:42,073 [MainThread  ] [INFO ]  Retrieving https://www.stimson.org/wp-content/files/file-attachments/The%20China-Pakistan%20Economic%20Corridor%20-%20Final.pdf to /tmp/wp-content-files-file-attachments-the-20china-pakistan-20economic-20corridor-20-20final.pdf.\n",
            "INFO:tika.tika:Retrieving https://www.stimson.org/wp-content/files/file-attachments/The%20China-Pakistan%20Economic%20Corridor%20-%20Final.pdf to /tmp/wp-content-files-file-attachments-the-20china-pakistan-20economic-20corridor-20-20final.pdf.\n",
            "2025-01-24 01:13:42,140 [MainThread  ] [INFO ]  Retrieving https://library.fes.de/pdf-files/bueros/pakistan/21402.pdf to /tmp/pdf-files-bueros-pakistan-21402.pdf.\n",
            "INFO:tika.tika:Retrieving https://library.fes.de/pdf-files/bueros/pakistan/21402.pdf to /tmp/pdf-files-bueros-pakistan-21402.pdf.\n"
          ]
        },
        {
          "output_type": "stream",
          "name": "stdout",
          "text": [
            "Error processing URL 'https://unpo.org/roundtable-in-washington-d-c-on-china-pakistan-economic-corridor-environmental-impact/': HTTP Error 403: Forbidden\n",
            "Error processing URL 'https://www.stimson.org/wp-content/files/file-attachments/The%20China-Pakistan%20Economic%20Corridor%20-%20Final.pdf': HTTP Error 403: Forbidden\n"
          ]
        },
        {
          "output_type": "stream",
          "name": "stderr",
          "text": [
            "2025-01-24 01:14:02,796 [MainThread  ] [INFO ]  Retrieving https://monthlyreview.org/2018/06/01/the-china-pakistan-economic-corridor/ to /tmp/2018-06-01-the-china-pakistan-economic-corridor.\n",
            "INFO:tika.tika:Retrieving https://monthlyreview.org/2018/06/01/the-china-pakistan-economic-corridor/ to /tmp/2018-06-01-the-china-pakistan-economic-corridor.\n",
            "2025-01-24 01:14:02,875 [MainThread  ] [INFO ]  Retrieving https://rmets.onlinelibrary.wiley.com/doi/abs/10.1002/joc.5894 to /tmp/doi-abs-10.1002-joc.5894.\n",
            "INFO:tika.tika:Retrieving https://rmets.onlinelibrary.wiley.com/doi/abs/10.1002/joc.5894 to /tmp/doi-abs-10.1002-joc.5894.\n"
          ]
        },
        {
          "output_type": "stream",
          "name": "stdout",
          "text": [
            "Processed URL: https://library.fes.de/pdf-files/bueros/pakistan/21402.pdf\n",
            "Error processing URL 'https://monthlyreview.org/2018/06/01/the-china-pakistan-economic-corridor/': HTTP Error 403: Forbidden\n"
          ]
        },
        {
          "output_type": "stream",
          "name": "stderr",
          "text": [
            "2025-01-24 01:14:03,051 [MainThread  ] [INFO ]  Retrieving https://unpo.org/washington-d-c-conference-on-environmental-consequences-and-the-china-pakistan-economic-corridor/ to /tmp/washington-d-c-conference-on-environmental-consequences-and-the-china-pakistan-economic-corridor.\n",
            "INFO:tika.tika:Retrieving https://unpo.org/washington-d-c-conference-on-environmental-consequences-and-the-china-pakistan-economic-corridor/ to /tmp/washington-d-c-conference-on-environmental-consequences-and-the-china-pakistan-economic-corridor.\n",
            "2025-01-24 01:14:03,119 [MainThread  ] [INFO ]  Retrieving https://www.bbc.co.uk/news/world-asia-32400091 to /tmp/news-world-asia-32400091.\n",
            "INFO:tika.tika:Retrieving https://www.bbc.co.uk/news/world-asia-32400091 to /tmp/news-world-asia-32400091.\n"
          ]
        },
        {
          "output_type": "stream",
          "name": "stdout",
          "text": [
            "Error processing URL 'https://rmets.onlinelibrary.wiley.com/doi/abs/10.1002/joc.5894': HTTP Error 403: Forbidden\n",
            "Error processing URL 'https://unpo.org/washington-d-c-conference-on-environmental-consequences-and-the-china-pakistan-economic-corridor/': HTTP Error 403: Forbidden\n"
          ]
        },
        {
          "output_type": "stream",
          "name": "stderr",
          "text": [
            "2025-01-24 01:14:03,825 [MainThread  ] [INFO ]  Retrieving https://www.dawn.com/news/1884746 to /tmp/news-1884746.\n",
            "INFO:tika.tika:Retrieving https://www.dawn.com/news/1884746 to /tmp/news-1884746.\n"
          ]
        },
        {
          "output_type": "stream",
          "name": "stdout",
          "text": [
            "Processed URL: https://www.bbc.co.uk/news/world-asia-32400091\n"
          ]
        },
        {
          "output_type": "stream",
          "name": "stderr",
          "text": [
            "2025-01-24 01:14:05,002 [MainThread  ] [INFO ]  Retrieving https://profit.pakistantoday.com.pk/2025/01/23/pakistan-determined-to-combating-poverty-climate-issues-says-finmin/ to /tmp/2025-01-23-pakistan-determined-to-combating-poverty-climate-issues-says-finmin.\n",
            "INFO:tika.tika:Retrieving https://profit.pakistantoday.com.pk/2025/01/23/pakistan-determined-to-combating-poverty-climate-issues-says-finmin/ to /tmp/2025-01-23-pakistan-determined-to-combating-poverty-climate-issues-says-finmin.\n"
          ]
        },
        {
          "output_type": "stream",
          "name": "stdout",
          "text": [
            "Processed URL: https://www.dawn.com/news/1884746\n",
            "Error processing URL 'https://profit.pakistantoday.com.pk/2025/01/23/pakistan-determined-to-combating-poverty-climate-issues-says-finmin/': HTTP Error 403: Forbidden\n"
          ]
        },
        {
          "output_type": "display_data",
          "data": {
            "text/plain": [
              "           Country                                                URL  \\\n",
              "0            China          https://pubmed.ncbi.nlm.nih.gov/39592827/   \n",
              "1         Pakistan  https://sdpi.org/assets/lib/uploads/Environmen...   \n",
              "2         Pakistan  https://sdpi.org/green-china-pakistan-economic...   \n",
              "3         Pakistan  https://link.springer.com/article/10.1007/s113...   \n",
              "4    United States  https://people.climate.columbia.edu/projects/v...   \n",
              "..             ...                                                ...   \n",
              "85   United States  https://journals.plos.org/plosone/article?id=1...   \n",
              "86           China       https://eng.yidaiyilu.gov.cn/p/000LBO9G.html   \n",
              "87        Pakistan  https://library.fes.de/pdf-files/bueros/pakist...   \n",
              "88  United Kingdom     https://www.bbc.co.uk/news/world-asia-32400091   \n",
              "89        Pakistan                  https://www.dawn.com/news/1884746   \n",
              "\n",
              "    Sentiment  Polarity  Subjectivity Overall Sentiment  \n",
              "0    0.017857  0.017857      0.494643           Neutral  \n",
              "1    0.044318  0.044318      0.405281           Neutral  \n",
              "2    0.039209  0.039209      0.381866           Neutral  \n",
              "3    0.108092  0.108092      0.377040          Positive  \n",
              "4    0.035373  0.035373      0.333327           Neutral  \n",
              "..        ...       ...           ...               ...  \n",
              "85   0.065394  0.065394      0.435508          Positive  \n",
              "86   0.068249  0.068249      0.247802          Positive  \n",
              "87   0.083898  0.083898      0.366021          Positive  \n",
              "88   0.082683  0.082683      0.359376          Positive  \n",
              "89   0.182885  0.182885      0.447344          Positive  \n",
              "\n",
              "[90 rows x 6 columns]"
            ],
            "text/html": [
              "\n",
              "  <div id=\"df-a477c1e6-ee3e-4153-9870-edc53cdf95f6\" class=\"colab-df-container\">\n",
              "    <div>\n",
              "<style scoped>\n",
              "    .dataframe tbody tr th:only-of-type {\n",
              "        vertical-align: middle;\n",
              "    }\n",
              "\n",
              "    .dataframe tbody tr th {\n",
              "        vertical-align: top;\n",
              "    }\n",
              "\n",
              "    .dataframe thead th {\n",
              "        text-align: right;\n",
              "    }\n",
              "</style>\n",
              "<table border=\"1\" class=\"dataframe\">\n",
              "  <thead>\n",
              "    <tr style=\"text-align: right;\">\n",
              "      <th></th>\n",
              "      <th>Country</th>\n",
              "      <th>URL</th>\n",
              "      <th>Sentiment</th>\n",
              "      <th>Polarity</th>\n",
              "      <th>Subjectivity</th>\n",
              "      <th>Overall Sentiment</th>\n",
              "    </tr>\n",
              "  </thead>\n",
              "  <tbody>\n",
              "    <tr>\n",
              "      <th>0</th>\n",
              "      <td>China</td>\n",
              "      <td>https://pubmed.ncbi.nlm.nih.gov/39592827/</td>\n",
              "      <td>0.017857</td>\n",
              "      <td>0.017857</td>\n",
              "      <td>0.494643</td>\n",
              "      <td>Neutral</td>\n",
              "    </tr>\n",
              "    <tr>\n",
              "      <th>1</th>\n",
              "      <td>Pakistan</td>\n",
              "      <td>https://sdpi.org/assets/lib/uploads/Environmen...</td>\n",
              "      <td>0.044318</td>\n",
              "      <td>0.044318</td>\n",
              "      <td>0.405281</td>\n",
              "      <td>Neutral</td>\n",
              "    </tr>\n",
              "    <tr>\n",
              "      <th>2</th>\n",
              "      <td>Pakistan</td>\n",
              "      <td>https://sdpi.org/green-china-pakistan-economic...</td>\n",
              "      <td>0.039209</td>\n",
              "      <td>0.039209</td>\n",
              "      <td>0.381866</td>\n",
              "      <td>Neutral</td>\n",
              "    </tr>\n",
              "    <tr>\n",
              "      <th>3</th>\n",
              "      <td>Pakistan</td>\n",
              "      <td>https://link.springer.com/article/10.1007/s113...</td>\n",
              "      <td>0.108092</td>\n",
              "      <td>0.108092</td>\n",
              "      <td>0.377040</td>\n",
              "      <td>Positive</td>\n",
              "    </tr>\n",
              "    <tr>\n",
              "      <th>4</th>\n",
              "      <td>United States</td>\n",
              "      <td>https://people.climate.columbia.edu/projects/v...</td>\n",
              "      <td>0.035373</td>\n",
              "      <td>0.035373</td>\n",
              "      <td>0.333327</td>\n",
              "      <td>Neutral</td>\n",
              "    </tr>\n",
              "    <tr>\n",
              "      <th>...</th>\n",
              "      <td>...</td>\n",
              "      <td>...</td>\n",
              "      <td>...</td>\n",
              "      <td>...</td>\n",
              "      <td>...</td>\n",
              "      <td>...</td>\n",
              "    </tr>\n",
              "    <tr>\n",
              "      <th>85</th>\n",
              "      <td>United States</td>\n",
              "      <td>https://journals.plos.org/plosone/article?id=1...</td>\n",
              "      <td>0.065394</td>\n",
              "      <td>0.065394</td>\n",
              "      <td>0.435508</td>\n",
              "      <td>Positive</td>\n",
              "    </tr>\n",
              "    <tr>\n",
              "      <th>86</th>\n",
              "      <td>China</td>\n",
              "      <td>https://eng.yidaiyilu.gov.cn/p/000LBO9G.html</td>\n",
              "      <td>0.068249</td>\n",
              "      <td>0.068249</td>\n",
              "      <td>0.247802</td>\n",
              "      <td>Positive</td>\n",
              "    </tr>\n",
              "    <tr>\n",
              "      <th>87</th>\n",
              "      <td>Pakistan</td>\n",
              "      <td>https://library.fes.de/pdf-files/bueros/pakist...</td>\n",
              "      <td>0.083898</td>\n",
              "      <td>0.083898</td>\n",
              "      <td>0.366021</td>\n",
              "      <td>Positive</td>\n",
              "    </tr>\n",
              "    <tr>\n",
              "      <th>88</th>\n",
              "      <td>United Kingdom</td>\n",
              "      <td>https://www.bbc.co.uk/news/world-asia-32400091</td>\n",
              "      <td>0.082683</td>\n",
              "      <td>0.082683</td>\n",
              "      <td>0.359376</td>\n",
              "      <td>Positive</td>\n",
              "    </tr>\n",
              "    <tr>\n",
              "      <th>89</th>\n",
              "      <td>Pakistan</td>\n",
              "      <td>https://www.dawn.com/news/1884746</td>\n",
              "      <td>0.182885</td>\n",
              "      <td>0.182885</td>\n",
              "      <td>0.447344</td>\n",
              "      <td>Positive</td>\n",
              "    </tr>\n",
              "  </tbody>\n",
              "</table>\n",
              "<p>90 rows × 6 columns</p>\n",
              "</div>\n",
              "    <div class=\"colab-df-buttons\">\n",
              "\n",
              "  <div class=\"colab-df-container\">\n",
              "    <button class=\"colab-df-convert\" onclick=\"convertToInteractive('df-a477c1e6-ee3e-4153-9870-edc53cdf95f6')\"\n",
              "            title=\"Convert this dataframe to an interactive table.\"\n",
              "            style=\"display:none;\">\n",
              "\n",
              "  <svg xmlns=\"http://www.w3.org/2000/svg\" height=\"24px\" viewBox=\"0 -960 960 960\">\n",
              "    <path d=\"M120-120v-720h720v720H120Zm60-500h600v-160H180v160Zm220 220h160v-160H400v160Zm0 220h160v-160H400v160ZM180-400h160v-160H180v160Zm440 0h160v-160H620v160ZM180-180h160v-160H180v160Zm440 0h160v-160H620v160Z\"/>\n",
              "  </svg>\n",
              "    </button>\n",
              "\n",
              "  <style>\n",
              "    .colab-df-container {\n",
              "      display:flex;\n",
              "      gap: 12px;\n",
              "    }\n",
              "\n",
              "    .colab-df-convert {\n",
              "      background-color: #E8F0FE;\n",
              "      border: none;\n",
              "      border-radius: 50%;\n",
              "      cursor: pointer;\n",
              "      display: none;\n",
              "      fill: #1967D2;\n",
              "      height: 32px;\n",
              "      padding: 0 0 0 0;\n",
              "      width: 32px;\n",
              "    }\n",
              "\n",
              "    .colab-df-convert:hover {\n",
              "      background-color: #E2EBFA;\n",
              "      box-shadow: 0px 1px 2px rgba(60, 64, 67, 0.3), 0px 1px 3px 1px rgba(60, 64, 67, 0.15);\n",
              "      fill: #174EA6;\n",
              "    }\n",
              "\n",
              "    .colab-df-buttons div {\n",
              "      margin-bottom: 4px;\n",
              "    }\n",
              "\n",
              "    [theme=dark] .colab-df-convert {\n",
              "      background-color: #3B4455;\n",
              "      fill: #D2E3FC;\n",
              "    }\n",
              "\n",
              "    [theme=dark] .colab-df-convert:hover {\n",
              "      background-color: #434B5C;\n",
              "      box-shadow: 0px 1px 3px 1px rgba(0, 0, 0, 0.15);\n",
              "      filter: drop-shadow(0px 1px 2px rgba(0, 0, 0, 0.3));\n",
              "      fill: #FFFFFF;\n",
              "    }\n",
              "  </style>\n",
              "\n",
              "    <script>\n",
              "      const buttonEl =\n",
              "        document.querySelector('#df-a477c1e6-ee3e-4153-9870-edc53cdf95f6 button.colab-df-convert');\n",
              "      buttonEl.style.display =\n",
              "        google.colab.kernel.accessAllowed ? 'block' : 'none';\n",
              "\n",
              "      async function convertToInteractive(key) {\n",
              "        const element = document.querySelector('#df-a477c1e6-ee3e-4153-9870-edc53cdf95f6');\n",
              "        const dataTable =\n",
              "          await google.colab.kernel.invokeFunction('convertToInteractive',\n",
              "                                                    [key], {});\n",
              "        if (!dataTable) return;\n",
              "\n",
              "        const docLinkHtml = 'Like what you see? Visit the ' +\n",
              "          '<a target=\"_blank\" href=https://colab.research.google.com/notebooks/data_table.ipynb>data table notebook</a>'\n",
              "          + ' to learn more about interactive tables.';\n",
              "        element.innerHTML = '';\n",
              "        dataTable['output_type'] = 'display_data';\n",
              "        await google.colab.output.renderOutput(dataTable, element);\n",
              "        const docLink = document.createElement('div');\n",
              "        docLink.innerHTML = docLinkHtml;\n",
              "        element.appendChild(docLink);\n",
              "      }\n",
              "    </script>\n",
              "  </div>\n",
              "\n",
              "\n",
              "<div id=\"df-52c9ec5d-5f39-4109-b400-ad655c5d2a3e\">\n",
              "  <button class=\"colab-df-quickchart\" onclick=\"quickchart('df-52c9ec5d-5f39-4109-b400-ad655c5d2a3e')\"\n",
              "            title=\"Suggest charts\"\n",
              "            style=\"display:none;\">\n",
              "\n",
              "<svg xmlns=\"http://www.w3.org/2000/svg\" height=\"24px\"viewBox=\"0 0 24 24\"\n",
              "     width=\"24px\">\n",
              "    <g>\n",
              "        <path d=\"M19 3H5c-1.1 0-2 .9-2 2v14c0 1.1.9 2 2 2h14c1.1 0 2-.9 2-2V5c0-1.1-.9-2-2-2zM9 17H7v-7h2v7zm4 0h-2V7h2v10zm4 0h-2v-4h2v4z\"/>\n",
              "    </g>\n",
              "</svg>\n",
              "  </button>\n",
              "\n",
              "<style>\n",
              "  .colab-df-quickchart {\n",
              "      --bg-color: #E8F0FE;\n",
              "      --fill-color: #1967D2;\n",
              "      --hover-bg-color: #E2EBFA;\n",
              "      --hover-fill-color: #174EA6;\n",
              "      --disabled-fill-color: #AAA;\n",
              "      --disabled-bg-color: #DDD;\n",
              "  }\n",
              "\n",
              "  [theme=dark] .colab-df-quickchart {\n",
              "      --bg-color: #3B4455;\n",
              "      --fill-color: #D2E3FC;\n",
              "      --hover-bg-color: #434B5C;\n",
              "      --hover-fill-color: #FFFFFF;\n",
              "      --disabled-bg-color: #3B4455;\n",
              "      --disabled-fill-color: #666;\n",
              "  }\n",
              "\n",
              "  .colab-df-quickchart {\n",
              "    background-color: var(--bg-color);\n",
              "    border: none;\n",
              "    border-radius: 50%;\n",
              "    cursor: pointer;\n",
              "    display: none;\n",
              "    fill: var(--fill-color);\n",
              "    height: 32px;\n",
              "    padding: 0;\n",
              "    width: 32px;\n",
              "  }\n",
              "\n",
              "  .colab-df-quickchart:hover {\n",
              "    background-color: var(--hover-bg-color);\n",
              "    box-shadow: 0 1px 2px rgba(60, 64, 67, 0.3), 0 1px 3px 1px rgba(60, 64, 67, 0.15);\n",
              "    fill: var(--button-hover-fill-color);\n",
              "  }\n",
              "\n",
              "  .colab-df-quickchart-complete:disabled,\n",
              "  .colab-df-quickchart-complete:disabled:hover {\n",
              "    background-color: var(--disabled-bg-color);\n",
              "    fill: var(--disabled-fill-color);\n",
              "    box-shadow: none;\n",
              "  }\n",
              "\n",
              "  .colab-df-spinner {\n",
              "    border: 2px solid var(--fill-color);\n",
              "    border-color: transparent;\n",
              "    border-bottom-color: var(--fill-color);\n",
              "    animation:\n",
              "      spin 1s steps(1) infinite;\n",
              "  }\n",
              "\n",
              "  @keyframes spin {\n",
              "    0% {\n",
              "      border-color: transparent;\n",
              "      border-bottom-color: var(--fill-color);\n",
              "      border-left-color: var(--fill-color);\n",
              "    }\n",
              "    20% {\n",
              "      border-color: transparent;\n",
              "      border-left-color: var(--fill-color);\n",
              "      border-top-color: var(--fill-color);\n",
              "    }\n",
              "    30% {\n",
              "      border-color: transparent;\n",
              "      border-left-color: var(--fill-color);\n",
              "      border-top-color: var(--fill-color);\n",
              "      border-right-color: var(--fill-color);\n",
              "    }\n",
              "    40% {\n",
              "      border-color: transparent;\n",
              "      border-right-color: var(--fill-color);\n",
              "      border-top-color: var(--fill-color);\n",
              "    }\n",
              "    60% {\n",
              "      border-color: transparent;\n",
              "      border-right-color: var(--fill-color);\n",
              "    }\n",
              "    80% {\n",
              "      border-color: transparent;\n",
              "      border-right-color: var(--fill-color);\n",
              "      border-bottom-color: var(--fill-color);\n",
              "    }\n",
              "    90% {\n",
              "      border-color: transparent;\n",
              "      border-bottom-color: var(--fill-color);\n",
              "    }\n",
              "  }\n",
              "</style>\n",
              "\n",
              "  <script>\n",
              "    async function quickchart(key) {\n",
              "      const quickchartButtonEl =\n",
              "        document.querySelector('#' + key + ' button');\n",
              "      quickchartButtonEl.disabled = true;  // To prevent multiple clicks.\n",
              "      quickchartButtonEl.classList.add('colab-df-spinner');\n",
              "      try {\n",
              "        const charts = await google.colab.kernel.invokeFunction(\n",
              "            'suggestCharts', [key], {});\n",
              "      } catch (error) {\n",
              "        console.error('Error during call to suggestCharts:', error);\n",
              "      }\n",
              "      quickchartButtonEl.classList.remove('colab-df-spinner');\n",
              "      quickchartButtonEl.classList.add('colab-df-quickchart-complete');\n",
              "    }\n",
              "    (() => {\n",
              "      let quickchartButtonEl =\n",
              "        document.querySelector('#df-52c9ec5d-5f39-4109-b400-ad655c5d2a3e button');\n",
              "      quickchartButtonEl.style.display =\n",
              "        google.colab.kernel.accessAllowed ? 'block' : 'none';\n",
              "    })();\n",
              "  </script>\n",
              "</div>\n",
              "\n",
              "  <div id=\"id_523bca8b-c7a3-416e-be9b-5c861062ff20\">\n",
              "    <style>\n",
              "      .colab-df-generate {\n",
              "        background-color: #E8F0FE;\n",
              "        border: none;\n",
              "        border-radius: 50%;\n",
              "        cursor: pointer;\n",
              "        display: none;\n",
              "        fill: #1967D2;\n",
              "        height: 32px;\n",
              "        padding: 0 0 0 0;\n",
              "        width: 32px;\n",
              "      }\n",
              "\n",
              "      .colab-df-generate:hover {\n",
              "        background-color: #E2EBFA;\n",
              "        box-shadow: 0px 1px 2px rgba(60, 64, 67, 0.3), 0px 1px 3px 1px rgba(60, 64, 67, 0.15);\n",
              "        fill: #174EA6;\n",
              "      }\n",
              "\n",
              "      [theme=dark] .colab-df-generate {\n",
              "        background-color: #3B4455;\n",
              "        fill: #D2E3FC;\n",
              "      }\n",
              "\n",
              "      [theme=dark] .colab-df-generate:hover {\n",
              "        background-color: #434B5C;\n",
              "        box-shadow: 0px 1px 3px 1px rgba(0, 0, 0, 0.15);\n",
              "        filter: drop-shadow(0px 1px 2px rgba(0, 0, 0, 0.3));\n",
              "        fill: #FFFFFF;\n",
              "      }\n",
              "    </style>\n",
              "    <button class=\"colab-df-generate\" onclick=\"generateWithVariable('results_df')\"\n",
              "            title=\"Generate code using this dataframe.\"\n",
              "            style=\"display:none;\">\n",
              "\n",
              "  <svg xmlns=\"http://www.w3.org/2000/svg\" height=\"24px\"viewBox=\"0 0 24 24\"\n",
              "       width=\"24px\">\n",
              "    <path d=\"M7,19H8.4L18.45,9,17,7.55,7,17.6ZM5,21V16.75L18.45,3.32a2,2,0,0,1,2.83,0l1.4,1.43a1.91,1.91,0,0,1,.58,1.4,1.91,1.91,0,0,1-.58,1.4L9.25,21ZM18.45,9,17,7.55Zm-12,3A5.31,5.31,0,0,0,4.9,8.1,5.31,5.31,0,0,0,1,6.5,5.31,5.31,0,0,0,4.9,4.9,5.31,5.31,0,0,0,6.5,1,5.31,5.31,0,0,0,8.1,4.9,5.31,5.31,0,0,0,12,6.5,5.46,5.46,0,0,0,6.5,12Z\"/>\n",
              "  </svg>\n",
              "    </button>\n",
              "    <script>\n",
              "      (() => {\n",
              "      const buttonEl =\n",
              "        document.querySelector('#id_523bca8b-c7a3-416e-be9b-5c861062ff20 button.colab-df-generate');\n",
              "      buttonEl.style.display =\n",
              "        google.colab.kernel.accessAllowed ? 'block' : 'none';\n",
              "\n",
              "      buttonEl.onclick = () => {\n",
              "        google.colab.notebook.generateWithVariable('results_df');\n",
              "      }\n",
              "      })();\n",
              "    </script>\n",
              "  </div>\n",
              "\n",
              "    </div>\n",
              "  </div>\n"
            ],
            "application/vnd.google.colaboratory.intrinsic+json": {
              "type": "dataframe",
              "variable_name": "results_df",
              "summary": "{\n  \"name\": \"results_df\",\n  \"rows\": 90,\n  \"fields\": [\n    {\n      \"column\": \"Country\",\n      \"properties\": {\n        \"dtype\": \"category\",\n        \"num_unique_values\": 13,\n        \"samples\": [\n          \"Cuba\",\n          \"Switzerland\",\n          \"China\"\n        ],\n        \"semantic_type\": \"\",\n        \"description\": \"\"\n      }\n    },\n    {\n      \"column\": \"URL\",\n      \"properties\": {\n        \"dtype\": \"string\",\n        \"num_unique_values\": 90,\n        \"samples\": [\n          \"https://english.www.gov.cn/news/internationalexchanges/202112/09/content_WS61b1b9e6c6d09c94e48a2022.html\",\n          \"https://www.chinadaily.com.cn/a/202410/15/WS670da8e8a310f1265a1c78d3.html\",\n          \"https://global.chinadaily.com.cn/a/202403/04/WS65e57fc3a31082fc043ba7f2.html\"\n        ],\n        \"semantic_type\": \"\",\n        \"description\": \"\"\n      }\n    },\n    {\n      \"column\": \"Sentiment\",\n      \"properties\": {\n        \"dtype\": \"number\",\n        \"std\": 0.056141125252196916,\n        \"min\": 0.0,\n        \"max\": 0.30190294438386045,\n        \"num_unique_values\": 88,\n        \"samples\": [\n          0.2178628389154705,\n          0.01785714285714286,\n          0.07526960784313727\n        ],\n        \"semantic_type\": \"\",\n        \"description\": \"\"\n      }\n    },\n    {\n      \"column\": \"Polarity\",\n      \"properties\": {\n        \"dtype\": \"number\",\n        \"std\": 0.056141125252196916,\n        \"min\": 0.0,\n        \"max\": 0.30190294438386045,\n        \"num_unique_values\": 88,\n        \"samples\": [\n          0.2178628389154705,\n          0.01785714285714286,\n          0.07526960784313727\n        ],\n        \"semantic_type\": \"\",\n        \"description\": \"\"\n      }\n    },\n    {\n      \"column\": \"Subjectivity\",\n      \"properties\": {\n        \"dtype\": \"number\",\n        \"std\": 0.0874717126907225,\n        \"min\": 0.0,\n        \"max\": 0.5519047619047618,\n        \"num_unique_values\": 88,\n        \"samples\": [\n          0.3674441786283892,\n          0.4946428571428571,\n          0.3107598039215686\n        ],\n        \"semantic_type\": \"\",\n        \"description\": \"\"\n      }\n    },\n    {\n      \"column\": \"Overall Sentiment\",\n      \"properties\": {\n        \"dtype\": \"category\",\n        \"num_unique_values\": 2,\n        \"samples\": [\n          \"Positive\",\n          \"Neutral\"\n        ],\n        \"semantic_type\": \"\",\n        \"description\": \"\"\n      }\n    }\n  ]\n}"
            }
          },
          "metadata": {}
        }
      ]
    },
    {
      "cell_type": "code",
      "source": [
        "# --- Geocoding and map plotting ---\n",
        "try:\n",
        "    !pip install geopandas  # Install geopandas if not already installed\n",
        "    import geopandas as gpd\n",
        "    import plotly.express as px\n",
        "\n",
        "    # Attempt to load a world map shapefile (replace with your preferred source)\n",
        "    world = gpd.read_file(gpd.datasets.get_path('naturalearth_lowres'))\n",
        "\n",
        "    # Merge sentiment data with the world map\n",
        "    # Assuming 'Country' in results_df matches 'name' in world DataFrame\n",
        "    merged_data = world.merge(results_df.groupby('Country')['Sentiment'].mean(), left_on='name', right_index=True, how='left')\n",
        "\n",
        "    # Create the choropleth map\n",
        "    fig = px.choropleth(merged_data,\n",
        "                        locations=\"iso_a3\",\n",
        "                        color=\"Sentiment\",\n",
        "                        hover_name=\"name\",\n",
        "                        projection=\"natural earth\",\n",
        "                        color_continuous_scale=px.colors.sequential.Plasma, # Customize colors\n",
        "                        title=\"Average Sentiment Scores by Country\")\n",
        "    fig.show()\n",
        "\n",
        "except FileNotFoundError:\n",
        "    print(\"Error: World map shapefile not found. Please ensure it's downloaded and accessible.\")\n",
        "except Exception as e:\n",
        "    print(f\"An error occurred during map plotting: {e}\")"
      ],
      "metadata": {
        "colab": {
          "base_uri": "https://localhost:8080/"
        },
        "id": "sQZvaGPW5-4t",
        "outputId": "8318aad5-b385-4fa1-ae2d-d9f135ce3f66"
      },
      "execution_count": 138,
      "outputs": [
        {
          "output_type": "stream",
          "name": "stdout",
          "text": [
            "Requirement already satisfied: geopandas in /usr/local/lib/python3.11/dist-packages (1.0.1)\n",
            "Requirement already satisfied: numpy>=1.22 in /usr/local/lib/python3.11/dist-packages (from geopandas) (1.26.4)\n",
            "Requirement already satisfied: pyogrio>=0.7.2 in /usr/local/lib/python3.11/dist-packages (from geopandas) (0.10.0)\n",
            "Requirement already satisfied: packaging in /usr/local/lib/python3.11/dist-packages (from geopandas) (24.2)\n",
            "Requirement already satisfied: pandas>=1.4.0 in /usr/local/lib/python3.11/dist-packages (from geopandas) (2.2.2)\n",
            "Requirement already satisfied: pyproj>=3.3.0 in /usr/local/lib/python3.11/dist-packages (from geopandas) (3.7.0)\n",
            "Requirement already satisfied: shapely>=2.0.0 in /usr/local/lib/python3.11/dist-packages (from geopandas) (2.0.6)\n",
            "Requirement already satisfied: python-dateutil>=2.8.2 in /usr/local/lib/python3.11/dist-packages (from pandas>=1.4.0->geopandas) (2.8.2)\n",
            "Requirement already satisfied: pytz>=2020.1 in /usr/local/lib/python3.11/dist-packages (from pandas>=1.4.0->geopandas) (2024.2)\n",
            "Requirement already satisfied: tzdata>=2022.7 in /usr/local/lib/python3.11/dist-packages (from pandas>=1.4.0->geopandas) (2024.2)\n",
            "Requirement already satisfied: certifi in /usr/local/lib/python3.11/dist-packages (from pyogrio>=0.7.2->geopandas) (2024.12.14)\n",
            "Requirement already satisfied: six>=1.5 in /usr/local/lib/python3.11/dist-packages (from python-dateutil>=2.8.2->pandas>=1.4.0->geopandas) (1.17.0)\n",
            "An error occurred during map plotting: The geopandas.dataset has been deprecated and was removed in GeoPandas 1.0. You can get the original 'naturalearth_lowres' data from https://www.naturalearthdata.com/downloads/110m-cultural-vectors/.\n"
          ]
        }
      ]
    },
    {
      "cell_type": "code",
      "source": [
        "import matplotlib.pyplot as plt\n",
        "import plotly.express as px # Import plotly.express\n",
        "\n",
        "fig = px.bar(country_stats, x='Country', y='mean', color='mean',\n",
        "             labels={'mean': 'Average Sentiment', 'Country': 'Country'},\n",
        "             title='Average Sentiment by Country',\n",
        "             hover_data=['count'],\n",
        "             color_continuous_scale='aggrnyl')  # Use a neutral color scale\n",
        "fig.update_layout(xaxis_title=\"Country\", yaxis_title=\"Average Sentiment\")\n",
        "fig.update_xaxes(tickangle=45)  # Rotate x-axis labels\n",
        "fig.show()\n"
      ],
      "metadata": {
        "colab": {
          "base_uri": "https://localhost:8080/",
          "height": 542
        },
        "id": "wcRpTki8qLA7",
        "outputId": "8c717cba-b559-4816-b6fe-738f4bfece01"
      },
      "execution_count": 131,
      "outputs": [
        {
          "output_type": "display_data",
          "data": {
            "text/html": [
              "<html>\n",
              "<head><meta charset=\"utf-8\" /></head>\n",
              "<body>\n",
              "    <div>            <script src=\"https://cdnjs.cloudflare.com/ajax/libs/mathjax/2.7.5/MathJax.js?config=TeX-AMS-MML_SVG\"></script><script type=\"text/javascript\">if (window.MathJax && window.MathJax.Hub && window.MathJax.Hub.Config) {window.MathJax.Hub.Config({SVG: {font: \"STIX-Web\"}});}</script>                <script type=\"text/javascript\">window.PlotlyConfig = {MathJaxConfig: 'local'};</script>\n",
              "        <script charset=\"utf-8\" src=\"https://cdn.plot.ly/plotly-2.35.2.min.js\"></script>                <div id=\"7da7c2b6-0f1e-4e84-8a9e-b098dcca2c11\" class=\"plotly-graph-div\" style=\"height:525px; width:100%;\"></div>            <script type=\"text/javascript\">                                    window.PLOTLYENV=window.PLOTLYENV || {};                                    if (document.getElementById(\"7da7c2b6-0f1e-4e84-8a9e-b098dcca2c11\")) {                    Plotly.newPlot(                        \"7da7c2b6-0f1e-4e84-8a9e-b098dcca2c11\",                        [{\"alignmentgroup\":\"True\",\"customdata\":[[1],[2],[29],[1],[1],[5],[24],[8],[1],[14],[1],[1],[2]],\"hovertemplate\":\"Country=%{x}\\u003cbr\\u003eAverage Sentiment=%{marker.color}\\u003cbr\\u003ecount=%{customdata[0]}\\u003cextra\\u003e\\u003c\\u002fextra\\u003e\",\"legendgroup\":\"\",\"marker\":{\"color\":[0.1384322344322344,0.12448901127545164,0.11676049104812321,0.11160272014696353,0.09878117913832199,0.08149223769006712,0.07956334325731854,0.07704708243056453,0.06708116883116884,0.06397364933421643,0.05110174500799506,0.04609577922077924,0.03964486622292948],\"coloraxis\":\"coloraxis\",\"pattern\":{\"shape\":\"\"}},\"name\":\"\",\"offsetgroup\":\"\",\"orientation\":\"v\",\"showlegend\":false,\"textposition\":\"auto\",\"x\":[\"Indonesia\",\"Poland\",\"Pakistan\",\"Switzerland\",\"Cuba\",\"India\",\"China\",\"United Kingdom\",\"Belgium\",\"United States\",\"Germany\",\"Ukraine\",\"Australia\"],\"xaxis\":\"x\",\"y\":[0.1384322344322344,0.12448901127545164,0.11676049104812321,0.11160272014696353,0.09878117913832199,0.08149223769006712,0.07956334325731854,0.07704708243056453,0.06708116883116884,0.06397364933421643,0.05110174500799506,0.04609577922077924,0.03964486622292948],\"yaxis\":\"y\",\"type\":\"bar\"}],                        {\"template\":{\"data\":{\"histogram2dcontour\":[{\"type\":\"histogram2dcontour\",\"colorbar\":{\"outlinewidth\":0,\"ticks\":\"\"},\"colorscale\":[[0.0,\"#0d0887\"],[0.1111111111111111,\"#46039f\"],[0.2222222222222222,\"#7201a8\"],[0.3333333333333333,\"#9c179e\"],[0.4444444444444444,\"#bd3786\"],[0.5555555555555556,\"#d8576b\"],[0.6666666666666666,\"#ed7953\"],[0.7777777777777778,\"#fb9f3a\"],[0.8888888888888888,\"#fdca26\"],[1.0,\"#f0f921\"]]}],\"choropleth\":[{\"type\":\"choropleth\",\"colorbar\":{\"outlinewidth\":0,\"ticks\":\"\"}}],\"histogram2d\":[{\"type\":\"histogram2d\",\"colorbar\":{\"outlinewidth\":0,\"ticks\":\"\"},\"colorscale\":[[0.0,\"#0d0887\"],[0.1111111111111111,\"#46039f\"],[0.2222222222222222,\"#7201a8\"],[0.3333333333333333,\"#9c179e\"],[0.4444444444444444,\"#bd3786\"],[0.5555555555555556,\"#d8576b\"],[0.6666666666666666,\"#ed7953\"],[0.7777777777777778,\"#fb9f3a\"],[0.8888888888888888,\"#fdca26\"],[1.0,\"#f0f921\"]]}],\"heatmap\":[{\"type\":\"heatmap\",\"colorbar\":{\"outlinewidth\":0,\"ticks\":\"\"},\"colorscale\":[[0.0,\"#0d0887\"],[0.1111111111111111,\"#46039f\"],[0.2222222222222222,\"#7201a8\"],[0.3333333333333333,\"#9c179e\"],[0.4444444444444444,\"#bd3786\"],[0.5555555555555556,\"#d8576b\"],[0.6666666666666666,\"#ed7953\"],[0.7777777777777778,\"#fb9f3a\"],[0.8888888888888888,\"#fdca26\"],[1.0,\"#f0f921\"]]}],\"heatmapgl\":[{\"type\":\"heatmapgl\",\"colorbar\":{\"outlinewidth\":0,\"ticks\":\"\"},\"colorscale\":[[0.0,\"#0d0887\"],[0.1111111111111111,\"#46039f\"],[0.2222222222222222,\"#7201a8\"],[0.3333333333333333,\"#9c179e\"],[0.4444444444444444,\"#bd3786\"],[0.5555555555555556,\"#d8576b\"],[0.6666666666666666,\"#ed7953\"],[0.7777777777777778,\"#fb9f3a\"],[0.8888888888888888,\"#fdca26\"],[1.0,\"#f0f921\"]]}],\"contourcarpet\":[{\"type\":\"contourcarpet\",\"colorbar\":{\"outlinewidth\":0,\"ticks\":\"\"}}],\"contour\":[{\"type\":\"contour\",\"colorbar\":{\"outlinewidth\":0,\"ticks\":\"\"},\"colorscale\":[[0.0,\"#0d0887\"],[0.1111111111111111,\"#46039f\"],[0.2222222222222222,\"#7201a8\"],[0.3333333333333333,\"#9c179e\"],[0.4444444444444444,\"#bd3786\"],[0.5555555555555556,\"#d8576b\"],[0.6666666666666666,\"#ed7953\"],[0.7777777777777778,\"#fb9f3a\"],[0.8888888888888888,\"#fdca26\"],[1.0,\"#f0f921\"]]}],\"surface\":[{\"type\":\"surface\",\"colorbar\":{\"outlinewidth\":0,\"ticks\":\"\"},\"colorscale\":[[0.0,\"#0d0887\"],[0.1111111111111111,\"#46039f\"],[0.2222222222222222,\"#7201a8\"],[0.3333333333333333,\"#9c179e\"],[0.4444444444444444,\"#bd3786\"],[0.5555555555555556,\"#d8576b\"],[0.6666666666666666,\"#ed7953\"],[0.7777777777777778,\"#fb9f3a\"],[0.8888888888888888,\"#fdca26\"],[1.0,\"#f0f921\"]]}],\"mesh3d\":[{\"type\":\"mesh3d\",\"colorbar\":{\"outlinewidth\":0,\"ticks\":\"\"}}],\"scatter\":[{\"fillpattern\":{\"fillmode\":\"overlay\",\"size\":10,\"solidity\":0.2},\"type\":\"scatter\"}],\"parcoords\":[{\"type\":\"parcoords\",\"line\":{\"colorbar\":{\"outlinewidth\":0,\"ticks\":\"\"}}}],\"scatterpolargl\":[{\"type\":\"scatterpolargl\",\"marker\":{\"colorbar\":{\"outlinewidth\":0,\"ticks\":\"\"}}}],\"bar\":[{\"error_x\":{\"color\":\"#2a3f5f\"},\"error_y\":{\"color\":\"#2a3f5f\"},\"marker\":{\"line\":{\"color\":\"#E5ECF6\",\"width\":0.5},\"pattern\":{\"fillmode\":\"overlay\",\"size\":10,\"solidity\":0.2}},\"type\":\"bar\"}],\"scattergeo\":[{\"type\":\"scattergeo\",\"marker\":{\"colorbar\":{\"outlinewidth\":0,\"ticks\":\"\"}}}],\"scatterpolar\":[{\"type\":\"scatterpolar\",\"marker\":{\"colorbar\":{\"outlinewidth\":0,\"ticks\":\"\"}}}],\"histogram\":[{\"marker\":{\"pattern\":{\"fillmode\":\"overlay\",\"size\":10,\"solidity\":0.2}},\"type\":\"histogram\"}],\"scattergl\":[{\"type\":\"scattergl\",\"marker\":{\"colorbar\":{\"outlinewidth\":0,\"ticks\":\"\"}}}],\"scatter3d\":[{\"type\":\"scatter3d\",\"line\":{\"colorbar\":{\"outlinewidth\":0,\"ticks\":\"\"}},\"marker\":{\"colorbar\":{\"outlinewidth\":0,\"ticks\":\"\"}}}],\"scattermapbox\":[{\"type\":\"scattermapbox\",\"marker\":{\"colorbar\":{\"outlinewidth\":0,\"ticks\":\"\"}}}],\"scatterternary\":[{\"type\":\"scatterternary\",\"marker\":{\"colorbar\":{\"outlinewidth\":0,\"ticks\":\"\"}}}],\"scattercarpet\":[{\"type\":\"scattercarpet\",\"marker\":{\"colorbar\":{\"outlinewidth\":0,\"ticks\":\"\"}}}],\"carpet\":[{\"aaxis\":{\"endlinecolor\":\"#2a3f5f\",\"gridcolor\":\"white\",\"linecolor\":\"white\",\"minorgridcolor\":\"white\",\"startlinecolor\":\"#2a3f5f\"},\"baxis\":{\"endlinecolor\":\"#2a3f5f\",\"gridcolor\":\"white\",\"linecolor\":\"white\",\"minorgridcolor\":\"white\",\"startlinecolor\":\"#2a3f5f\"},\"type\":\"carpet\"}],\"table\":[{\"cells\":{\"fill\":{\"color\":\"#EBF0F8\"},\"line\":{\"color\":\"white\"}},\"header\":{\"fill\":{\"color\":\"#C8D4E3\"},\"line\":{\"color\":\"white\"}},\"type\":\"table\"}],\"barpolar\":[{\"marker\":{\"line\":{\"color\":\"#E5ECF6\",\"width\":0.5},\"pattern\":{\"fillmode\":\"overlay\",\"size\":10,\"solidity\":0.2}},\"type\":\"barpolar\"}],\"pie\":[{\"automargin\":true,\"type\":\"pie\"}]},\"layout\":{\"autotypenumbers\":\"strict\",\"colorway\":[\"#636efa\",\"#EF553B\",\"#00cc96\",\"#ab63fa\",\"#FFA15A\",\"#19d3f3\",\"#FF6692\",\"#B6E880\",\"#FF97FF\",\"#FECB52\"],\"font\":{\"color\":\"#2a3f5f\"},\"hovermode\":\"closest\",\"hoverlabel\":{\"align\":\"left\"},\"paper_bgcolor\":\"white\",\"plot_bgcolor\":\"#E5ECF6\",\"polar\":{\"bgcolor\":\"#E5ECF6\",\"angularaxis\":{\"gridcolor\":\"white\",\"linecolor\":\"white\",\"ticks\":\"\"},\"radialaxis\":{\"gridcolor\":\"white\",\"linecolor\":\"white\",\"ticks\":\"\"}},\"ternary\":{\"bgcolor\":\"#E5ECF6\",\"aaxis\":{\"gridcolor\":\"white\",\"linecolor\":\"white\",\"ticks\":\"\"},\"baxis\":{\"gridcolor\":\"white\",\"linecolor\":\"white\",\"ticks\":\"\"},\"caxis\":{\"gridcolor\":\"white\",\"linecolor\":\"white\",\"ticks\":\"\"}},\"coloraxis\":{\"colorbar\":{\"outlinewidth\":0,\"ticks\":\"\"}},\"colorscale\":{\"sequential\":[[0.0,\"#0d0887\"],[0.1111111111111111,\"#46039f\"],[0.2222222222222222,\"#7201a8\"],[0.3333333333333333,\"#9c179e\"],[0.4444444444444444,\"#bd3786\"],[0.5555555555555556,\"#d8576b\"],[0.6666666666666666,\"#ed7953\"],[0.7777777777777778,\"#fb9f3a\"],[0.8888888888888888,\"#fdca26\"],[1.0,\"#f0f921\"]],\"sequentialminus\":[[0.0,\"#0d0887\"],[0.1111111111111111,\"#46039f\"],[0.2222222222222222,\"#7201a8\"],[0.3333333333333333,\"#9c179e\"],[0.4444444444444444,\"#bd3786\"],[0.5555555555555556,\"#d8576b\"],[0.6666666666666666,\"#ed7953\"],[0.7777777777777778,\"#fb9f3a\"],[0.8888888888888888,\"#fdca26\"],[1.0,\"#f0f921\"]],\"diverging\":[[0,\"#8e0152\"],[0.1,\"#c51b7d\"],[0.2,\"#de77ae\"],[0.3,\"#f1b6da\"],[0.4,\"#fde0ef\"],[0.5,\"#f7f7f7\"],[0.6,\"#e6f5d0\"],[0.7,\"#b8e186\"],[0.8,\"#7fbc41\"],[0.9,\"#4d9221\"],[1,\"#276419\"]]},\"xaxis\":{\"gridcolor\":\"white\",\"linecolor\":\"white\",\"ticks\":\"\",\"title\":{\"standoff\":15},\"zerolinecolor\":\"white\",\"automargin\":true,\"zerolinewidth\":2},\"yaxis\":{\"gridcolor\":\"white\",\"linecolor\":\"white\",\"ticks\":\"\",\"title\":{\"standoff\":15},\"zerolinecolor\":\"white\",\"automargin\":true,\"zerolinewidth\":2},\"scene\":{\"xaxis\":{\"backgroundcolor\":\"#E5ECF6\",\"gridcolor\":\"white\",\"linecolor\":\"white\",\"showbackground\":true,\"ticks\":\"\",\"zerolinecolor\":\"white\",\"gridwidth\":2},\"yaxis\":{\"backgroundcolor\":\"#E5ECF6\",\"gridcolor\":\"white\",\"linecolor\":\"white\",\"showbackground\":true,\"ticks\":\"\",\"zerolinecolor\":\"white\",\"gridwidth\":2},\"zaxis\":{\"backgroundcolor\":\"#E5ECF6\",\"gridcolor\":\"white\",\"linecolor\":\"white\",\"showbackground\":true,\"ticks\":\"\",\"zerolinecolor\":\"white\",\"gridwidth\":2}},\"shapedefaults\":{\"line\":{\"color\":\"#2a3f5f\"}},\"annotationdefaults\":{\"arrowcolor\":\"#2a3f5f\",\"arrowhead\":0,\"arrowwidth\":1},\"geo\":{\"bgcolor\":\"white\",\"landcolor\":\"#E5ECF6\",\"subunitcolor\":\"white\",\"showland\":true,\"showlakes\":true,\"lakecolor\":\"white\"},\"title\":{\"x\":0.05},\"mapbox\":{\"style\":\"light\"}}},\"xaxis\":{\"anchor\":\"y\",\"domain\":[0.0,1.0],\"title\":{\"text\":\"Country\"},\"tickangle\":45},\"yaxis\":{\"anchor\":\"x\",\"domain\":[0.0,1.0],\"title\":{\"text\":\"Average Sentiment\"}},\"coloraxis\":{\"colorbar\":{\"title\":{\"text\":\"Average Sentiment\"}},\"colorscale\":[[0.0,\"rgb(36, 86, 104)\"],[0.16666666666666666,\"rgb(15, 114, 121)\"],[0.3333333333333333,\"rgb(13, 143, 129)\"],[0.5,\"rgb(57, 171, 126)\"],[0.6666666666666666,\"rgb(110, 197, 116)\"],[0.8333333333333334,\"rgb(169, 220, 103)\"],[1.0,\"rgb(237, 239, 93)\"]]},\"legend\":{\"tracegroupgap\":0},\"title\":{\"text\":\"Average Sentiment by Country\"},\"barmode\":\"relative\"},                        {\"responsive\": true}                    ).then(function(){\n",
              "                            \n",
              "var gd = document.getElementById('7da7c2b6-0f1e-4e84-8a9e-b098dcca2c11');\n",
              "var x = new MutationObserver(function (mutations, observer) {{\n",
              "        var display = window.getComputedStyle(gd).display;\n",
              "        if (!display || display === 'none') {{\n",
              "            console.log([gd, 'removed!']);\n",
              "            Plotly.purge(gd);\n",
              "            observer.disconnect();\n",
              "        }}\n",
              "}});\n",
              "\n",
              "// Listen for the removal of the full notebook cells\n",
              "var notebookContainer = gd.closest('#notebook-container');\n",
              "if (notebookContainer) {{\n",
              "    x.observe(notebookContainer, {childList: true});\n",
              "}}\n",
              "\n",
              "// Listen for the clearing of the current output cell\n",
              "var outputEl = gd.closest('.output');\n",
              "if (outputEl) {{\n",
              "    x.observe(outputEl, {childList: true});\n",
              "}}\n",
              "\n",
              "                        })                };                            </script>        </div>\n",
              "</body>\n",
              "</html>"
            ]
          },
          "metadata": {}
        }
      ]
    },
    {
      "cell_type": "code",
      "source": [
        "country_article_counts = results_df.groupby('Country')['URL'].count().reset_index()\n",
        "country_article_counts = country_article_counts.rename(columns={'URL': 'Article Count'})\n",
        "\n",
        "# Sort the DataFrame by article count in descending order\n",
        "country_article_counts = country_article_counts.sort_values(by='Article Count', ascending=False)\n",
        "\n",
        "fig = px.bar(country_article_counts, x='Country', y='Article Count',\n",
        "             color='Article Count',  # Color the bars based on the count\n",
        "             labels={'Article Count': 'Number of Articles', 'Country': 'Country'},\n",
        "             title='Number of Articles by Country',\n",
        "             color_continuous_scale='viridis') # Use a suitable color scale\n",
        "\n",
        "fig.update_layout(xaxis_title=\"Country\", yaxis_title=\"Number of Articles\")\n",
        "fig.update_xaxes(tickangle=45)  # Rotate x-axis labels for readability\n",
        "fig.show()\n"
      ],
      "metadata": {
        "colab": {
          "base_uri": "https://localhost:8080/",
          "height": 542
        },
        "id": "rzCDWiGb63LO",
        "outputId": "98080489-fd0b-4431-9bd0-6474e698a120"
      },
      "execution_count": 148,
      "outputs": [
        {
          "output_type": "display_data",
          "data": {
            "text/html": [
              "<html>\n",
              "<head><meta charset=\"utf-8\" /></head>\n",
              "<body>\n",
              "    <div>            <script src=\"https://cdnjs.cloudflare.com/ajax/libs/mathjax/2.7.5/MathJax.js?config=TeX-AMS-MML_SVG\"></script><script type=\"text/javascript\">if (window.MathJax && window.MathJax.Hub && window.MathJax.Hub.Config) {window.MathJax.Hub.Config({SVG: {font: \"STIX-Web\"}});}</script>                <script type=\"text/javascript\">window.PlotlyConfig = {MathJaxConfig: 'local'};</script>\n",
              "        <script charset=\"utf-8\" src=\"https://cdn.plot.ly/plotly-2.35.2.min.js\"></script>                <div id=\"87ebeef0-db65-4777-984e-beedc3237521\" class=\"plotly-graph-div\" style=\"height:525px; width:100%;\"></div>            <script type=\"text/javascript\">                                    window.PLOTLYENV=window.PLOTLYENV || {};                                    if (document.getElementById(\"87ebeef0-db65-4777-984e-beedc3237521\")) {                    Plotly.newPlot(                        \"87ebeef0-db65-4777-984e-beedc3237521\",                        [{\"alignmentgroup\":\"True\",\"hovertemplate\":\"Country=%{x}\\u003cbr\\u003eNumber of Articles=%{marker.color}\\u003cextra\\u003e\\u003c\\u002fextra\\u003e\",\"legendgroup\":\"\",\"marker\":{\"color\":[29,24,14,8,5,2,2,1,1,1,1,1,1],\"coloraxis\":\"coloraxis\",\"pattern\":{\"shape\":\"\"}},\"name\":\"\",\"offsetgroup\":\"\",\"orientation\":\"v\",\"showlegend\":false,\"textposition\":\"auto\",\"x\":[\"Pakistan\",\"China\",\"United States\",\"United Kingdom\",\"India\",\"Australia\",\"Poland\",\"Belgium\",\"Cuba\",\"Germany\",\"Indonesia\",\"Switzerland\",\"Ukraine\"],\"xaxis\":\"x\",\"y\":[29,24,14,8,5,2,2,1,1,1,1,1,1],\"yaxis\":\"y\",\"type\":\"bar\"}],                        {\"template\":{\"data\":{\"histogram2dcontour\":[{\"type\":\"histogram2dcontour\",\"colorbar\":{\"outlinewidth\":0,\"ticks\":\"\"},\"colorscale\":[[0.0,\"#0d0887\"],[0.1111111111111111,\"#46039f\"],[0.2222222222222222,\"#7201a8\"],[0.3333333333333333,\"#9c179e\"],[0.4444444444444444,\"#bd3786\"],[0.5555555555555556,\"#d8576b\"],[0.6666666666666666,\"#ed7953\"],[0.7777777777777778,\"#fb9f3a\"],[0.8888888888888888,\"#fdca26\"],[1.0,\"#f0f921\"]]}],\"choropleth\":[{\"type\":\"choropleth\",\"colorbar\":{\"outlinewidth\":0,\"ticks\":\"\"}}],\"histogram2d\":[{\"type\":\"histogram2d\",\"colorbar\":{\"outlinewidth\":0,\"ticks\":\"\"},\"colorscale\":[[0.0,\"#0d0887\"],[0.1111111111111111,\"#46039f\"],[0.2222222222222222,\"#7201a8\"],[0.3333333333333333,\"#9c179e\"],[0.4444444444444444,\"#bd3786\"],[0.5555555555555556,\"#d8576b\"],[0.6666666666666666,\"#ed7953\"],[0.7777777777777778,\"#fb9f3a\"],[0.8888888888888888,\"#fdca26\"],[1.0,\"#f0f921\"]]}],\"heatmap\":[{\"type\":\"heatmap\",\"colorbar\":{\"outlinewidth\":0,\"ticks\":\"\"},\"colorscale\":[[0.0,\"#0d0887\"],[0.1111111111111111,\"#46039f\"],[0.2222222222222222,\"#7201a8\"],[0.3333333333333333,\"#9c179e\"],[0.4444444444444444,\"#bd3786\"],[0.5555555555555556,\"#d8576b\"],[0.6666666666666666,\"#ed7953\"],[0.7777777777777778,\"#fb9f3a\"],[0.8888888888888888,\"#fdca26\"],[1.0,\"#f0f921\"]]}],\"heatmapgl\":[{\"type\":\"heatmapgl\",\"colorbar\":{\"outlinewidth\":0,\"ticks\":\"\"},\"colorscale\":[[0.0,\"#0d0887\"],[0.1111111111111111,\"#46039f\"],[0.2222222222222222,\"#7201a8\"],[0.3333333333333333,\"#9c179e\"],[0.4444444444444444,\"#bd3786\"],[0.5555555555555556,\"#d8576b\"],[0.6666666666666666,\"#ed7953\"],[0.7777777777777778,\"#fb9f3a\"],[0.8888888888888888,\"#fdca26\"],[1.0,\"#f0f921\"]]}],\"contourcarpet\":[{\"type\":\"contourcarpet\",\"colorbar\":{\"outlinewidth\":0,\"ticks\":\"\"}}],\"contour\":[{\"type\":\"contour\",\"colorbar\":{\"outlinewidth\":0,\"ticks\":\"\"},\"colorscale\":[[0.0,\"#0d0887\"],[0.1111111111111111,\"#46039f\"],[0.2222222222222222,\"#7201a8\"],[0.3333333333333333,\"#9c179e\"],[0.4444444444444444,\"#bd3786\"],[0.5555555555555556,\"#d8576b\"],[0.6666666666666666,\"#ed7953\"],[0.7777777777777778,\"#fb9f3a\"],[0.8888888888888888,\"#fdca26\"],[1.0,\"#f0f921\"]]}],\"surface\":[{\"type\":\"surface\",\"colorbar\":{\"outlinewidth\":0,\"ticks\":\"\"},\"colorscale\":[[0.0,\"#0d0887\"],[0.1111111111111111,\"#46039f\"],[0.2222222222222222,\"#7201a8\"],[0.3333333333333333,\"#9c179e\"],[0.4444444444444444,\"#bd3786\"],[0.5555555555555556,\"#d8576b\"],[0.6666666666666666,\"#ed7953\"],[0.7777777777777778,\"#fb9f3a\"],[0.8888888888888888,\"#fdca26\"],[1.0,\"#f0f921\"]]}],\"mesh3d\":[{\"type\":\"mesh3d\",\"colorbar\":{\"outlinewidth\":0,\"ticks\":\"\"}}],\"scatter\":[{\"fillpattern\":{\"fillmode\":\"overlay\",\"size\":10,\"solidity\":0.2},\"type\":\"scatter\"}],\"parcoords\":[{\"type\":\"parcoords\",\"line\":{\"colorbar\":{\"outlinewidth\":0,\"ticks\":\"\"}}}],\"scatterpolargl\":[{\"type\":\"scatterpolargl\",\"marker\":{\"colorbar\":{\"outlinewidth\":0,\"ticks\":\"\"}}}],\"bar\":[{\"error_x\":{\"color\":\"#2a3f5f\"},\"error_y\":{\"color\":\"#2a3f5f\"},\"marker\":{\"line\":{\"color\":\"#E5ECF6\",\"width\":0.5},\"pattern\":{\"fillmode\":\"overlay\",\"size\":10,\"solidity\":0.2}},\"type\":\"bar\"}],\"scattergeo\":[{\"type\":\"scattergeo\",\"marker\":{\"colorbar\":{\"outlinewidth\":0,\"ticks\":\"\"}}}],\"scatterpolar\":[{\"type\":\"scatterpolar\",\"marker\":{\"colorbar\":{\"outlinewidth\":0,\"ticks\":\"\"}}}],\"histogram\":[{\"marker\":{\"pattern\":{\"fillmode\":\"overlay\",\"size\":10,\"solidity\":0.2}},\"type\":\"histogram\"}],\"scattergl\":[{\"type\":\"scattergl\",\"marker\":{\"colorbar\":{\"outlinewidth\":0,\"ticks\":\"\"}}}],\"scatter3d\":[{\"type\":\"scatter3d\",\"line\":{\"colorbar\":{\"outlinewidth\":0,\"ticks\":\"\"}},\"marker\":{\"colorbar\":{\"outlinewidth\":0,\"ticks\":\"\"}}}],\"scattermapbox\":[{\"type\":\"scattermapbox\",\"marker\":{\"colorbar\":{\"outlinewidth\":0,\"ticks\":\"\"}}}],\"scatterternary\":[{\"type\":\"scatterternary\",\"marker\":{\"colorbar\":{\"outlinewidth\":0,\"ticks\":\"\"}}}],\"scattercarpet\":[{\"type\":\"scattercarpet\",\"marker\":{\"colorbar\":{\"outlinewidth\":0,\"ticks\":\"\"}}}],\"carpet\":[{\"aaxis\":{\"endlinecolor\":\"#2a3f5f\",\"gridcolor\":\"white\",\"linecolor\":\"white\",\"minorgridcolor\":\"white\",\"startlinecolor\":\"#2a3f5f\"},\"baxis\":{\"endlinecolor\":\"#2a3f5f\",\"gridcolor\":\"white\",\"linecolor\":\"white\",\"minorgridcolor\":\"white\",\"startlinecolor\":\"#2a3f5f\"},\"type\":\"carpet\"}],\"table\":[{\"cells\":{\"fill\":{\"color\":\"#EBF0F8\"},\"line\":{\"color\":\"white\"}},\"header\":{\"fill\":{\"color\":\"#C8D4E3\"},\"line\":{\"color\":\"white\"}},\"type\":\"table\"}],\"barpolar\":[{\"marker\":{\"line\":{\"color\":\"#E5ECF6\",\"width\":0.5},\"pattern\":{\"fillmode\":\"overlay\",\"size\":10,\"solidity\":0.2}},\"type\":\"barpolar\"}],\"pie\":[{\"automargin\":true,\"type\":\"pie\"}]},\"layout\":{\"autotypenumbers\":\"strict\",\"colorway\":[\"#636efa\",\"#EF553B\",\"#00cc96\",\"#ab63fa\",\"#FFA15A\",\"#19d3f3\",\"#FF6692\",\"#B6E880\",\"#FF97FF\",\"#FECB52\"],\"font\":{\"color\":\"#2a3f5f\"},\"hovermode\":\"closest\",\"hoverlabel\":{\"align\":\"left\"},\"paper_bgcolor\":\"white\",\"plot_bgcolor\":\"#E5ECF6\",\"polar\":{\"bgcolor\":\"#E5ECF6\",\"angularaxis\":{\"gridcolor\":\"white\",\"linecolor\":\"white\",\"ticks\":\"\"},\"radialaxis\":{\"gridcolor\":\"white\",\"linecolor\":\"white\",\"ticks\":\"\"}},\"ternary\":{\"bgcolor\":\"#E5ECF6\",\"aaxis\":{\"gridcolor\":\"white\",\"linecolor\":\"white\",\"ticks\":\"\"},\"baxis\":{\"gridcolor\":\"white\",\"linecolor\":\"white\",\"ticks\":\"\"},\"caxis\":{\"gridcolor\":\"white\",\"linecolor\":\"white\",\"ticks\":\"\"}},\"coloraxis\":{\"colorbar\":{\"outlinewidth\":0,\"ticks\":\"\"}},\"colorscale\":{\"sequential\":[[0.0,\"#0d0887\"],[0.1111111111111111,\"#46039f\"],[0.2222222222222222,\"#7201a8\"],[0.3333333333333333,\"#9c179e\"],[0.4444444444444444,\"#bd3786\"],[0.5555555555555556,\"#d8576b\"],[0.6666666666666666,\"#ed7953\"],[0.7777777777777778,\"#fb9f3a\"],[0.8888888888888888,\"#fdca26\"],[1.0,\"#f0f921\"]],\"sequentialminus\":[[0.0,\"#0d0887\"],[0.1111111111111111,\"#46039f\"],[0.2222222222222222,\"#7201a8\"],[0.3333333333333333,\"#9c179e\"],[0.4444444444444444,\"#bd3786\"],[0.5555555555555556,\"#d8576b\"],[0.6666666666666666,\"#ed7953\"],[0.7777777777777778,\"#fb9f3a\"],[0.8888888888888888,\"#fdca26\"],[1.0,\"#f0f921\"]],\"diverging\":[[0,\"#8e0152\"],[0.1,\"#c51b7d\"],[0.2,\"#de77ae\"],[0.3,\"#f1b6da\"],[0.4,\"#fde0ef\"],[0.5,\"#f7f7f7\"],[0.6,\"#e6f5d0\"],[0.7,\"#b8e186\"],[0.8,\"#7fbc41\"],[0.9,\"#4d9221\"],[1,\"#276419\"]]},\"xaxis\":{\"gridcolor\":\"white\",\"linecolor\":\"white\",\"ticks\":\"\",\"title\":{\"standoff\":15},\"zerolinecolor\":\"white\",\"automargin\":true,\"zerolinewidth\":2},\"yaxis\":{\"gridcolor\":\"white\",\"linecolor\":\"white\",\"ticks\":\"\",\"title\":{\"standoff\":15},\"zerolinecolor\":\"white\",\"automargin\":true,\"zerolinewidth\":2},\"scene\":{\"xaxis\":{\"backgroundcolor\":\"#E5ECF6\",\"gridcolor\":\"white\",\"linecolor\":\"white\",\"showbackground\":true,\"ticks\":\"\",\"zerolinecolor\":\"white\",\"gridwidth\":2},\"yaxis\":{\"backgroundcolor\":\"#E5ECF6\",\"gridcolor\":\"white\",\"linecolor\":\"white\",\"showbackground\":true,\"ticks\":\"\",\"zerolinecolor\":\"white\",\"gridwidth\":2},\"zaxis\":{\"backgroundcolor\":\"#E5ECF6\",\"gridcolor\":\"white\",\"linecolor\":\"white\",\"showbackground\":true,\"ticks\":\"\",\"zerolinecolor\":\"white\",\"gridwidth\":2}},\"shapedefaults\":{\"line\":{\"color\":\"#2a3f5f\"}},\"annotationdefaults\":{\"arrowcolor\":\"#2a3f5f\",\"arrowhead\":0,\"arrowwidth\":1},\"geo\":{\"bgcolor\":\"white\",\"landcolor\":\"#E5ECF6\",\"subunitcolor\":\"white\",\"showland\":true,\"showlakes\":true,\"lakecolor\":\"white\"},\"title\":{\"x\":0.05},\"mapbox\":{\"style\":\"light\"}}},\"xaxis\":{\"anchor\":\"y\",\"domain\":[0.0,1.0],\"title\":{\"text\":\"Country\"},\"tickangle\":45},\"yaxis\":{\"anchor\":\"x\",\"domain\":[0.0,1.0],\"title\":{\"text\":\"Number of Articles\"}},\"coloraxis\":{\"colorbar\":{\"title\":{\"text\":\"Number of Articles\"}},\"colorscale\":[[0.0,\"#440154\"],[0.1111111111111111,\"#482878\"],[0.2222222222222222,\"#3e4989\"],[0.3333333333333333,\"#31688e\"],[0.4444444444444444,\"#26828e\"],[0.5555555555555556,\"#1f9e89\"],[0.6666666666666666,\"#35b779\"],[0.7777777777777778,\"#6ece58\"],[0.8888888888888888,\"#b5de2b\"],[1.0,\"#fde725\"]]},\"legend\":{\"tracegroupgap\":0},\"title\":{\"text\":\"Number of Articles by Country\"},\"barmode\":\"relative\"},                        {\"responsive\": true}                    ).then(function(){\n",
              "                            \n",
              "var gd = document.getElementById('87ebeef0-db65-4777-984e-beedc3237521');\n",
              "var x = new MutationObserver(function (mutations, observer) {{\n",
              "        var display = window.getComputedStyle(gd).display;\n",
              "        if (!display || display === 'none') {{\n",
              "            console.log([gd, 'removed!']);\n",
              "            Plotly.purge(gd);\n",
              "            observer.disconnect();\n",
              "        }}\n",
              "}});\n",
              "\n",
              "// Listen for the removal of the full notebook cells\n",
              "var notebookContainer = gd.closest('#notebook-container');\n",
              "if (notebookContainer) {{\n",
              "    x.observe(notebookContainer, {childList: true});\n",
              "}}\n",
              "\n",
              "// Listen for the clearing of the current output cell\n",
              "var outputEl = gd.closest('.output');\n",
              "if (outputEl) {{\n",
              "    x.observe(outputEl, {childList: true});\n",
              "}}\n",
              "\n",
              "                        })                };                            </script>        </div>\n",
              "</body>\n",
              "</html>"
            ]
          },
          "metadata": {}
        }
      ]
    },
    {
      "cell_type": "code",
      "source": [
        "import plotly.express as px\n",
        "\n",
        "country_sentiment = results_df.groupby('Country').agg({'Sentiment': 'mean', 'URL': 'count'}).reset_index()\n",
        "country_sentiment.columns = ['Country', 'Average Sentiment', 'Article Count']\n",
        "\n",
        "min_sent = country_sentiment['Average Sentiment'].min()\n",
        "max_sent = country_sentiment['Average Sentiment'].max()\n",
        "country_sentiment['Normalized Sentiment'] = (country_sentiment['Average Sentiment'] - min_sent) / (max_sent - min_sent)\n",
        "\n",
        "fig = px.scatter_geo(country_sentiment, locations=\"Country\", locationmode='country names',\n",
        "                     color=\"Normalized Sentiment\", size=\"Article Count\", hover_name=\"Country\",\n",
        "                     projection=\"natural earth\", color_continuous_scale=\"RdYlGn\",\n",
        "                     title='Sentiment Analysis on the Environmental Impacts of CPEC by Country',\n",
        "                     labels={'Normalized Sentiment': 'Average Sentiment (Normalized 0-1)', 'Article Count': 'Number of Articles'}\n",
        "                     )\n",
        "\n",
        "fig.update_traces(marker=dict(line=dict(width=0.5, color='DarkSlateGrey')),\n",
        "                  selector=dict(mode='markers'))\n",
        "fig.show()"
      ],
      "metadata": {
        "colab": {
          "base_uri": "https://localhost:8080/",
          "height": 542
        },
        "id": "o8koeZsEkJ1O",
        "outputId": "a6e31986-54b7-4b99-f653-9111387bc339"
      },
      "execution_count": 91,
      "outputs": [
        {
          "output_type": "display_data",
          "data": {
            "text/html": [
              "<html>\n",
              "<head><meta charset=\"utf-8\" /></head>\n",
              "<body>\n",
              "    <div>            <script src=\"https://cdnjs.cloudflare.com/ajax/libs/mathjax/2.7.5/MathJax.js?config=TeX-AMS-MML_SVG\"></script><script type=\"text/javascript\">if (window.MathJax && window.MathJax.Hub && window.MathJax.Hub.Config) {window.MathJax.Hub.Config({SVG: {font: \"STIX-Web\"}});}</script>                <script type=\"text/javascript\">window.PlotlyConfig = {MathJaxConfig: 'local'};</script>\n",
              "        <script charset=\"utf-8\" src=\"https://cdn.plot.ly/plotly-2.35.2.min.js\"></script>                <div id=\"082a3910-07e2-4438-906e-399ec5ac7122\" class=\"plotly-graph-div\" style=\"height:525px; width:100%;\"></div>            <script type=\"text/javascript\">                                    window.PLOTLYENV=window.PLOTLYENV || {};                                    if (document.getElementById(\"082a3910-07e2-4438-906e-399ec5ac7122\")) {                    Plotly.newPlot(                        \"082a3910-07e2-4438-906e-399ec5ac7122\",                        [{\"geo\":\"geo\",\"hovertemplate\":\"\\u003cb\\u003e%{hovertext}\\u003c\\u002fb\\u003e\\u003cbr\\u003e\\u003cbr\\u003eNumber of Articles=%{marker.size}\\u003cbr\\u003eCountry=%{location}\\u003cbr\\u003eAverage Sentiment (Normalized 0-1)=%{marker.color}\\u003cextra\\u003e\\u003c\\u002fextra\\u003e\",\"hovertext\":[\"Australia\",\"Belgium\",\"China\",\"Cuba\",\"Germany\",\"India\",\"Indonesia\",\"Pakistan\",\"Poland\",\"Switzerland\",\"Ukraine\",\"United Kingdom\",\"United States\"],\"legendgroup\":\"\",\"locationmode\":\"country names\",\"locations\":[\"Australia\",\"Belgium\",\"China\",\"Cuba\",\"Germany\",\"India\",\"Indonesia\",\"Pakistan\",\"Poland\",\"Switzerland\",\"Ukraine\",\"United Kingdom\",\"United States\"],\"marker\":{\"color\":[0.0,0.27773087901389293,0.40408483147169294,0.5986222124077436,0.11597513925860857,0.4236105508800869,1.0,0.7815642050240346,0.8588562140126997,0.728411488517175,0.06530099054954008,0.3786133478967616,0.24627423072695423],\"coloraxis\":\"coloraxis\",\"size\":[2,1,24,1,1,5,1,29,2,1,1,8,14],\"sizemode\":\"area\",\"sizeref\":0.0725,\"symbol\":\"circle\",\"line\":{\"color\":\"DarkSlateGrey\",\"width\":0.5}},\"mode\":\"markers\",\"name\":\"\",\"showlegend\":false,\"type\":\"scattergeo\"}],                        {\"template\":{\"data\":{\"histogram2dcontour\":[{\"type\":\"histogram2dcontour\",\"colorbar\":{\"outlinewidth\":0,\"ticks\":\"\"},\"colorscale\":[[0.0,\"#0d0887\"],[0.1111111111111111,\"#46039f\"],[0.2222222222222222,\"#7201a8\"],[0.3333333333333333,\"#9c179e\"],[0.4444444444444444,\"#bd3786\"],[0.5555555555555556,\"#d8576b\"],[0.6666666666666666,\"#ed7953\"],[0.7777777777777778,\"#fb9f3a\"],[0.8888888888888888,\"#fdca26\"],[1.0,\"#f0f921\"]]}],\"choropleth\":[{\"type\":\"choropleth\",\"colorbar\":{\"outlinewidth\":0,\"ticks\":\"\"}}],\"histogram2d\":[{\"type\":\"histogram2d\",\"colorbar\":{\"outlinewidth\":0,\"ticks\":\"\"},\"colorscale\":[[0.0,\"#0d0887\"],[0.1111111111111111,\"#46039f\"],[0.2222222222222222,\"#7201a8\"],[0.3333333333333333,\"#9c179e\"],[0.4444444444444444,\"#bd3786\"],[0.5555555555555556,\"#d8576b\"],[0.6666666666666666,\"#ed7953\"],[0.7777777777777778,\"#fb9f3a\"],[0.8888888888888888,\"#fdca26\"],[1.0,\"#f0f921\"]]}],\"heatmap\":[{\"type\":\"heatmap\",\"colorbar\":{\"outlinewidth\":0,\"ticks\":\"\"},\"colorscale\":[[0.0,\"#0d0887\"],[0.1111111111111111,\"#46039f\"],[0.2222222222222222,\"#7201a8\"],[0.3333333333333333,\"#9c179e\"],[0.4444444444444444,\"#bd3786\"],[0.5555555555555556,\"#d8576b\"],[0.6666666666666666,\"#ed7953\"],[0.7777777777777778,\"#fb9f3a\"],[0.8888888888888888,\"#fdca26\"],[1.0,\"#f0f921\"]]}],\"heatmapgl\":[{\"type\":\"heatmapgl\",\"colorbar\":{\"outlinewidth\":0,\"ticks\":\"\"},\"colorscale\":[[0.0,\"#0d0887\"],[0.1111111111111111,\"#46039f\"],[0.2222222222222222,\"#7201a8\"],[0.3333333333333333,\"#9c179e\"],[0.4444444444444444,\"#bd3786\"],[0.5555555555555556,\"#d8576b\"],[0.6666666666666666,\"#ed7953\"],[0.7777777777777778,\"#fb9f3a\"],[0.8888888888888888,\"#fdca26\"],[1.0,\"#f0f921\"]]}],\"contourcarpet\":[{\"type\":\"contourcarpet\",\"colorbar\":{\"outlinewidth\":0,\"ticks\":\"\"}}],\"contour\":[{\"type\":\"contour\",\"colorbar\":{\"outlinewidth\":0,\"ticks\":\"\"},\"colorscale\":[[0.0,\"#0d0887\"],[0.1111111111111111,\"#46039f\"],[0.2222222222222222,\"#7201a8\"],[0.3333333333333333,\"#9c179e\"],[0.4444444444444444,\"#bd3786\"],[0.5555555555555556,\"#d8576b\"],[0.6666666666666666,\"#ed7953\"],[0.7777777777777778,\"#fb9f3a\"],[0.8888888888888888,\"#fdca26\"],[1.0,\"#f0f921\"]]}],\"surface\":[{\"type\":\"surface\",\"colorbar\":{\"outlinewidth\":0,\"ticks\":\"\"},\"colorscale\":[[0.0,\"#0d0887\"],[0.1111111111111111,\"#46039f\"],[0.2222222222222222,\"#7201a8\"],[0.3333333333333333,\"#9c179e\"],[0.4444444444444444,\"#bd3786\"],[0.5555555555555556,\"#d8576b\"],[0.6666666666666666,\"#ed7953\"],[0.7777777777777778,\"#fb9f3a\"],[0.8888888888888888,\"#fdca26\"],[1.0,\"#f0f921\"]]}],\"mesh3d\":[{\"type\":\"mesh3d\",\"colorbar\":{\"outlinewidth\":0,\"ticks\":\"\"}}],\"scatter\":[{\"fillpattern\":{\"fillmode\":\"overlay\",\"size\":10,\"solidity\":0.2},\"type\":\"scatter\"}],\"parcoords\":[{\"type\":\"parcoords\",\"line\":{\"colorbar\":{\"outlinewidth\":0,\"ticks\":\"\"}}}],\"scatterpolargl\":[{\"type\":\"scatterpolargl\",\"marker\":{\"colorbar\":{\"outlinewidth\":0,\"ticks\":\"\"}}}],\"bar\":[{\"error_x\":{\"color\":\"#2a3f5f\"},\"error_y\":{\"color\":\"#2a3f5f\"},\"marker\":{\"line\":{\"color\":\"#E5ECF6\",\"width\":0.5},\"pattern\":{\"fillmode\":\"overlay\",\"size\":10,\"solidity\":0.2}},\"type\":\"bar\"}],\"scattergeo\":[{\"type\":\"scattergeo\",\"marker\":{\"colorbar\":{\"outlinewidth\":0,\"ticks\":\"\"}}}],\"scatterpolar\":[{\"type\":\"scatterpolar\",\"marker\":{\"colorbar\":{\"outlinewidth\":0,\"ticks\":\"\"}}}],\"histogram\":[{\"marker\":{\"pattern\":{\"fillmode\":\"overlay\",\"size\":10,\"solidity\":0.2}},\"type\":\"histogram\"}],\"scattergl\":[{\"type\":\"scattergl\",\"marker\":{\"colorbar\":{\"outlinewidth\":0,\"ticks\":\"\"}}}],\"scatter3d\":[{\"type\":\"scatter3d\",\"line\":{\"colorbar\":{\"outlinewidth\":0,\"ticks\":\"\"}},\"marker\":{\"colorbar\":{\"outlinewidth\":0,\"ticks\":\"\"}}}],\"scattermapbox\":[{\"type\":\"scattermapbox\",\"marker\":{\"colorbar\":{\"outlinewidth\":0,\"ticks\":\"\"}}}],\"scatterternary\":[{\"type\":\"scatterternary\",\"marker\":{\"colorbar\":{\"outlinewidth\":0,\"ticks\":\"\"}}}],\"scattercarpet\":[{\"type\":\"scattercarpet\",\"marker\":{\"colorbar\":{\"outlinewidth\":0,\"ticks\":\"\"}}}],\"carpet\":[{\"aaxis\":{\"endlinecolor\":\"#2a3f5f\",\"gridcolor\":\"white\",\"linecolor\":\"white\",\"minorgridcolor\":\"white\",\"startlinecolor\":\"#2a3f5f\"},\"baxis\":{\"endlinecolor\":\"#2a3f5f\",\"gridcolor\":\"white\",\"linecolor\":\"white\",\"minorgridcolor\":\"white\",\"startlinecolor\":\"#2a3f5f\"},\"type\":\"carpet\"}],\"table\":[{\"cells\":{\"fill\":{\"color\":\"#EBF0F8\"},\"line\":{\"color\":\"white\"}},\"header\":{\"fill\":{\"color\":\"#C8D4E3\"},\"line\":{\"color\":\"white\"}},\"type\":\"table\"}],\"barpolar\":[{\"marker\":{\"line\":{\"color\":\"#E5ECF6\",\"width\":0.5},\"pattern\":{\"fillmode\":\"overlay\",\"size\":10,\"solidity\":0.2}},\"type\":\"barpolar\"}],\"pie\":[{\"automargin\":true,\"type\":\"pie\"}]},\"layout\":{\"autotypenumbers\":\"strict\",\"colorway\":[\"#636efa\",\"#EF553B\",\"#00cc96\",\"#ab63fa\",\"#FFA15A\",\"#19d3f3\",\"#FF6692\",\"#B6E880\",\"#FF97FF\",\"#FECB52\"],\"font\":{\"color\":\"#2a3f5f\"},\"hovermode\":\"closest\",\"hoverlabel\":{\"align\":\"left\"},\"paper_bgcolor\":\"white\",\"plot_bgcolor\":\"#E5ECF6\",\"polar\":{\"bgcolor\":\"#E5ECF6\",\"angularaxis\":{\"gridcolor\":\"white\",\"linecolor\":\"white\",\"ticks\":\"\"},\"radialaxis\":{\"gridcolor\":\"white\",\"linecolor\":\"white\",\"ticks\":\"\"}},\"ternary\":{\"bgcolor\":\"#E5ECF6\",\"aaxis\":{\"gridcolor\":\"white\",\"linecolor\":\"white\",\"ticks\":\"\"},\"baxis\":{\"gridcolor\":\"white\",\"linecolor\":\"white\",\"ticks\":\"\"},\"caxis\":{\"gridcolor\":\"white\",\"linecolor\":\"white\",\"ticks\":\"\"}},\"coloraxis\":{\"colorbar\":{\"outlinewidth\":0,\"ticks\":\"\"}},\"colorscale\":{\"sequential\":[[0.0,\"#0d0887\"],[0.1111111111111111,\"#46039f\"],[0.2222222222222222,\"#7201a8\"],[0.3333333333333333,\"#9c179e\"],[0.4444444444444444,\"#bd3786\"],[0.5555555555555556,\"#d8576b\"],[0.6666666666666666,\"#ed7953\"],[0.7777777777777778,\"#fb9f3a\"],[0.8888888888888888,\"#fdca26\"],[1.0,\"#f0f921\"]],\"sequentialminus\":[[0.0,\"#0d0887\"],[0.1111111111111111,\"#46039f\"],[0.2222222222222222,\"#7201a8\"],[0.3333333333333333,\"#9c179e\"],[0.4444444444444444,\"#bd3786\"],[0.5555555555555556,\"#d8576b\"],[0.6666666666666666,\"#ed7953\"],[0.7777777777777778,\"#fb9f3a\"],[0.8888888888888888,\"#fdca26\"],[1.0,\"#f0f921\"]],\"diverging\":[[0,\"#8e0152\"],[0.1,\"#c51b7d\"],[0.2,\"#de77ae\"],[0.3,\"#f1b6da\"],[0.4,\"#fde0ef\"],[0.5,\"#f7f7f7\"],[0.6,\"#e6f5d0\"],[0.7,\"#b8e186\"],[0.8,\"#7fbc41\"],[0.9,\"#4d9221\"],[1,\"#276419\"]]},\"xaxis\":{\"gridcolor\":\"white\",\"linecolor\":\"white\",\"ticks\":\"\",\"title\":{\"standoff\":15},\"zerolinecolor\":\"white\",\"automargin\":true,\"zerolinewidth\":2},\"yaxis\":{\"gridcolor\":\"white\",\"linecolor\":\"white\",\"ticks\":\"\",\"title\":{\"standoff\":15},\"zerolinecolor\":\"white\",\"automargin\":true,\"zerolinewidth\":2},\"scene\":{\"xaxis\":{\"backgroundcolor\":\"#E5ECF6\",\"gridcolor\":\"white\",\"linecolor\":\"white\",\"showbackground\":true,\"ticks\":\"\",\"zerolinecolor\":\"white\",\"gridwidth\":2},\"yaxis\":{\"backgroundcolor\":\"#E5ECF6\",\"gridcolor\":\"white\",\"linecolor\":\"white\",\"showbackground\":true,\"ticks\":\"\",\"zerolinecolor\":\"white\",\"gridwidth\":2},\"zaxis\":{\"backgroundcolor\":\"#E5ECF6\",\"gridcolor\":\"white\",\"linecolor\":\"white\",\"showbackground\":true,\"ticks\":\"\",\"zerolinecolor\":\"white\",\"gridwidth\":2}},\"shapedefaults\":{\"line\":{\"color\":\"#2a3f5f\"}},\"annotationdefaults\":{\"arrowcolor\":\"#2a3f5f\",\"arrowhead\":0,\"arrowwidth\":1},\"geo\":{\"bgcolor\":\"white\",\"landcolor\":\"#E5ECF6\",\"subunitcolor\":\"white\",\"showland\":true,\"showlakes\":true,\"lakecolor\":\"white\"},\"title\":{\"x\":0.05},\"mapbox\":{\"style\":\"light\"}}},\"geo\":{\"domain\":{\"x\":[0.0,1.0],\"y\":[0.0,1.0]},\"projection\":{\"type\":\"natural earth\"},\"center\":{}},\"coloraxis\":{\"colorbar\":{\"title\":{\"text\":\"Average Sentiment (Normalized 0-1)\"}},\"colorscale\":[[0.0,\"rgb(165,0,38)\"],[0.1,\"rgb(215,48,39)\"],[0.2,\"rgb(244,109,67)\"],[0.3,\"rgb(253,174,97)\"],[0.4,\"rgb(254,224,139)\"],[0.5,\"rgb(255,255,191)\"],[0.6,\"rgb(217,239,139)\"],[0.7,\"rgb(166,217,106)\"],[0.8,\"rgb(102,189,99)\"],[0.9,\"rgb(26,152,80)\"],[1.0,\"rgb(0,104,55)\"]]},\"legend\":{\"tracegroupgap\":0,\"itemsizing\":\"constant\"},\"title\":{\"text\":\"Sentiment Analysis on the Environmental Impacts of CPEC by Country\"}},                        {\"responsive\": true}                    ).then(function(){\n",
              "                            \n",
              "var gd = document.getElementById('082a3910-07e2-4438-906e-399ec5ac7122');\n",
              "var x = new MutationObserver(function (mutations, observer) {{\n",
              "        var display = window.getComputedStyle(gd).display;\n",
              "        if (!display || display === 'none') {{\n",
              "            console.log([gd, 'removed!']);\n",
              "            Plotly.purge(gd);\n",
              "            observer.disconnect();\n",
              "        }}\n",
              "}});\n",
              "\n",
              "// Listen for the removal of the full notebook cells\n",
              "var notebookContainer = gd.closest('#notebook-container');\n",
              "if (notebookContainer) {{\n",
              "    x.observe(notebookContainer, {childList: true});\n",
              "}}\n",
              "\n",
              "// Listen for the clearing of the current output cell\n",
              "var outputEl = gd.closest('.output');\n",
              "if (outputEl) {{\n",
              "    x.observe(outputEl, {childList: true});\n",
              "}}\n",
              "\n",
              "                        })                };                            </script>        </div>\n",
              "</body>\n",
              "</html>"
            ]
          },
          "metadata": {}
        }
      ]
    },
    {
      "cell_type": "code",
      "source": [
        "# Group data by country and calculate the average sentiment\n",
        "average_sentiments = results_df.groupby('Country')['Sentiment'].mean()\n",
        "\n",
        "# Print the average sentiment for China, Pakistan, and Western countries\n",
        "print(\"Average Sentiment Scores:\")\n",
        "print(f\"China: {average_sentiments.get('China', 'N/A')}\")\n",
        "print(f\"Pakistan: {average_sentiments.get('Pakistan', 'N/A')}\")\n",
        "\n",
        "# Define Western countries (you might need to adjust this list)\n",
        "western_countries = ['USA', 'UK', 'Canada', 'France', 'Germany', 'Australia', 'Switzerland', 'Belgium', 'The Netherlands']  # Add other countries as needed\n",
        "\n",
        "# Calculate the average sentiment for all Western countries\n",
        "western_sentiment = results_df[results_df['Country'].isin(western_countries)]['Sentiment'].mean()\n",
        "print(f\"Western Countries (average): {western_sentiment}\")"
      ],
      "metadata": {
        "colab": {
          "base_uri": "https://localhost:8080/"
        },
        "id": "LsmdCmFTi4lG",
        "outputId": "878c9309-3b89-4c0f-8fcb-b012c4ff4c6e"
      },
      "execution_count": 120,
      "outputs": [
        {
          "output_type": "stream",
          "name": "stdout",
          "text": [
            "Average Sentiment Scores:\n",
            "China: 0.07956334325731854\n",
            "Pakistan: 0.11676049104812321\n",
            "Western Countries (average): 0.06181507328639728\n"
          ]
        }
      ]
    },
    {
      "cell_type": "code",
      "source": [
        "import matplotlib.pyplot as plt\n",
        "\n",
        "countries = ['China', 'Pakistan', 'Western Countries (average)']\n",
        "average_sentiments = [0.07956334325731854, 0.11676049104812321, 0.06181507328639728]\n",
        "\n",
        "plt.figure(figsize=(8, 6))\n",
        "bars = plt.bar(countries, average_sentiments, color=['skyblue', 'lightcoral', 'lightgreen']) # Store the bar objects\n",
        "plt.title('Average Sentiment Scores towards Environmental Contributions of CPEC by Country/Region')\n",
        "plt.xlabel('Country')\n",
        "plt.ylabel('Average Sentiment Score')\n",
        "plt.ylim(0, 0.15)\n",
        "\n",
        "for bar, sentiment in zip(bars, average_sentiments):\n",
        "    yval = bar.get_height()\n",
        "    plt.text(bar.get_x() + bar.get_width()/2, yval + 0.005, round(sentiment, 4), ha='center', va='bottom')\n",
        "\n",
        "plt.show()\n"
      ],
      "metadata": {
        "colab": {
          "base_uri": "https://localhost:8080/",
          "height": 469
        },
        "id": "1xSO6MV9jVZK",
        "outputId": "49258a39-c40c-4376-abb7-6b0b6cd3d6c2"
      },
      "execution_count": 130,
      "outputs": [
        {
          "output_type": "display_data",
          "data": {
            "text/plain": [
              "<Figure size 800x600 with 1 Axes>"
            ],
            "image/png": "[encoded data removed]"
          },
          "metadata": {}
        }
      ]
    }
  ]
}
