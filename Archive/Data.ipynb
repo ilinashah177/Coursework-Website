{
  "nbformat": 4,
  "nbformat_minor": 0,
  "metadata": {
    "colab": {
      "provenance": [],
      "authorship_tag": "ABX9TyNXtkXcTPG8ee3rdC79QqTI",
      "include_colab_link": true
    },
    "kernelspec": {
      "name": "python3",
      "display_name": "Python 3"
    },
    "language_info": {
      "name": "python"
    }
  },
  "cells": [
    {
      "cell_type": "markdown",
      "metadata": {
        "id": "view-in-github",
        "colab_type": "text"
      },
      "source": [
        "<a href=\"https://colab.research.google.com/github/ilinashah177/Coursework-Website/blob/main/Data.ipynb\" target=\"_parent\"><img src=\"https://colab.research.google.com/assets/colab-badge.svg\" alt=\"Open In Colab\"/></a>"
      ]
    },
    {
      "cell_type": "code",
      "source": [
        "from google.colab import files\n",
        "\n",
        "# Upload the file\n",
        "uploaded = files.upload()"
      ],
      "metadata": {
        "colab": {
          "base_uri": "https://localhost:8080/",
          "height": 74
        },
        "id": "3KtfbblAxYRr",
        "outputId": "5828034e-1357-4c96-f34a-b79909ed6011"
      },
      "execution_count": 1,
      "outputs": [
        {
          "output_type": "display_data",
          "data": {
            "text/plain": [
              "<IPython.core.display.HTML object>"
            ],
            "text/html": [
              "\n",
              "     <input type=\"file\" id=\"files-a1e4160c-57fe-4feb-925f-4ea33e976877\" name=\"files[]\" multiple disabled\n",
              "        style=\"border:none\" />\n",
              "     <output id=\"result-a1e4160c-57fe-4feb-925f-4ea33e976877\">\n",
              "      Upload widget is only available when the cell has been executed in the\n",
              "      current browser session. Please rerun this cell to enable.\n",
              "      </output>\n",
              "      <script>// Copyright 2017 Google LLC\n",
              "//\n",
              "// Licensed under the Apache License, Version 2.0 (the \"License\");\n",
              "// you may not use this file except in compliance with the License.\n",
              "// You may obtain a copy of the License at\n",
              "//\n",
              "//      http://www.apache.org/licenses/LICENSE-2.0\n",
              "//\n",
              "// Unless required by applicable law or agreed to in writing, software\n",
              "// distributed under the License is distributed on an \"AS IS\" BASIS,\n",
              "// WITHOUT WARRANTIES OR CONDITIONS OF ANY KIND, either express or implied.\n",
              "// See the License for the specific language governing permissions and\n",
              "// limitations under the License.\n",
              "\n",
              "/**\n",
              " * @fileoverview Helpers for google.colab Python module.\n",
              " */\n",
              "(function(scope) {\n",
              "function span(text, styleAttributes = {}) {\n",
              "  const element = document.createElement('span');\n",
              "  element.textContent = text;\n",
              "  for (const key of Object.keys(styleAttributes)) {\n",
              "    element.style[key] = styleAttributes[key];\n",
              "  }\n",
              "  return element;\n",
              "}\n",
              "\n",
              "// Max number of bytes which will be uploaded at a time.\n",
              "const MAX_PAYLOAD_SIZE = 100 * 1024;\n",
              "\n",
              "function _uploadFiles(inputId, outputId) {\n",
              "  const steps = uploadFilesStep(inputId, outputId);\n",
              "  const outputElement = document.getElementById(outputId);\n",
              "  // Cache steps on the outputElement to make it available for the next call\n",
              "  // to uploadFilesContinue from Python.\n",
              "  outputElement.steps = steps;\n",
              "\n",
              "  return _uploadFilesContinue(outputId);\n",
              "}\n",
              "\n",
              "// This is roughly an async generator (not supported in the browser yet),\n",
              "// where there are multiple asynchronous steps and the Python side is going\n",
              "// to poll for completion of each step.\n",
              "// This uses a Promise to block the python side on completion of each step,\n",
              "// then passes the result of the previous step as the input to the next step.\n",
              "function _uploadFilesContinue(outputId) {\n",
              "  const outputElement = document.getElementById(outputId);\n",
              "  const steps = outputElement.steps;\n",
              "\n",
              "  const next = steps.next(outputElement.lastPromiseValue);\n",
              "  return Promise.resolve(next.value.promise).then((value) => {\n",
              "    // Cache the last promise value to make it available to the next\n",
              "    // step of the generator.\n",
              "    outputElement.lastPromiseValue = value;\n",
              "    return next.value.response;\n",
              "  });\n",
              "}\n",
              "\n",
              "/**\n",
              " * Generator function which is called between each async step of the upload\n",
              " * process.\n",
              " * @param {string} inputId Element ID of the input file picker element.\n",
              " * @param {string} outputId Element ID of the output display.\n",
              " * @return {!Iterable<!Object>} Iterable of next steps.\n",
              " */\n",
              "function* uploadFilesStep(inputId, outputId) {\n",
              "  const inputElement = document.getElementById(inputId);\n",
              "  inputElement.disabled = false;\n",
              "\n",
              "  const outputElement = document.getElementById(outputId);\n",
              "  outputElement.innerHTML = '';\n",
              "\n",
              "  const pickedPromise = new Promise((resolve) => {\n",
              "    inputElement.addEventListener('change', (e) => {\n",
              "      resolve(e.target.files);\n",
              "    });\n",
              "  });\n",
              "\n",
              "  const cancel = document.createElement('button');\n",
              "  inputElement.parentElement.appendChild(cancel);\n",
              "  cancel.textContent = 'Cancel upload';\n",
              "  const cancelPromise = new Promise((resolve) => {\n",
              "    cancel.onclick = () => {\n",
              "      resolve(null);\n",
              "    };\n",
              "  });\n",
              "\n",
              "  // Wait for the user to pick the files.\n",
              "  const files = yield {\n",
              "    promise: Promise.race([pickedPromise, cancelPromise]),\n",
              "    response: {\n",
              "      action: 'starting',\n",
              "    }\n",
              "  };\n",
              "\n",
              "  cancel.remove();\n",
              "\n",
              "  // Disable the input element since further picks are not allowed.\n",
              "  inputElement.disabled = true;\n",
              "\n",
              "  if (!files) {\n",
              "    return {\n",
              "      response: {\n",
              "        action: 'complete',\n",
              "      }\n",
              "    };\n",
              "  }\n",
              "\n",
              "  for (const file of files) {\n",
              "    const li = document.createElement('li');\n",
              "    li.append(span(file.name, {fontWeight: 'bold'}));\n",
              "    li.append(span(\n",
              "        `(${file.type || 'n/a'}) - ${file.size} bytes, ` +\n",
              "        `last modified: ${\n",
              "            file.lastModifiedDate ? file.lastModifiedDate.toLocaleDateString() :\n",
              "                                    'n/a'} - `));\n",
              "    const percent = span('0% done');\n",
              "    li.appendChild(percent);\n",
              "\n",
              "    outputElement.appendChild(li);\n",
              "\n",
              "    const fileDataPromise = new Promise((resolve) => {\n",
              "      const reader = new FileReader();\n",
              "      reader.onload = (e) => {\n",
              "        resolve(e.target.result);\n",
              "      };\n",
              "      reader.readAsArrayBuffer(file);\n",
              "    });\n",
              "    // Wait for the data to be ready.\n",
              "    let fileData = yield {\n",
              "      promise: fileDataPromise,\n",
              "      response: {\n",
              "        action: 'continue',\n",
              "      }\n",
              "    };\n",
              "\n",
              "    // Use a chunked sending to avoid message size limits. See b/62115660.\n",
              "    let position = 0;\n",
              "    do {\n",
              "      const length = Math.min(fileData.byteLength - position, MAX_PAYLOAD_SIZE);\n",
              "      const chunk = new Uint8Array(fileData, position, length);\n",
              "      position += length;\n",
              "\n",
              "      const base64 = btoa(String.fromCharCode.apply(null, chunk));\n",
              "      yield {\n",
              "        response: {\n",
              "          action: 'append',\n",
              "          file: file.name,\n",
              "          data: base64,\n",
              "        },\n",
              "      };\n",
              "\n",
              "      let percentDone = fileData.byteLength === 0 ?\n",
              "          100 :\n",
              "          Math.round((position / fileData.byteLength) * 100);\n",
              "      percent.textContent = `${percentDone}% done`;\n",
              "\n",
              "    } while (position < fileData.byteLength);\n",
              "  }\n",
              "\n",
              "  // All done.\n",
              "  yield {\n",
              "    response: {\n",
              "      action: 'complete',\n",
              "    }\n",
              "  };\n",
              "}\n",
              "\n",
              "scope.google = scope.google || {};\n",
              "scope.google.colab = scope.google.colab || {};\n",
              "scope.google.colab._files = {\n",
              "  _uploadFiles,\n",
              "  _uploadFilesContinue,\n",
              "};\n",
              "})(self);\n",
              "</script> "
            ]
          },
          "metadata": {}
        },
        {
          "output_type": "stream",
          "name": "stdout",
          "text": [
            "Saving Dataset Group14 Coursework.xlsx to Dataset Group14 Coursework.xlsx\n"
          ]
        }
      ]
    },
    {
      "cell_type": "code",
      "source": [
        "import pandas as pd\n",
        "\n",
        "#Name of uploaded file\n",
        "file_name = 'Dataset Group14 Coursework.xlsx'\n",
        "\n",
        "#Load the Excel file into a pandas DataFrame\n",
        "df = pd.read_excel(file_name)"
      ],
      "metadata": {
        "id": "5v89CHzyxtl9"
      },
      "execution_count": 2,
      "outputs": []
    },
    {
      "cell_type": "code",
      "source": [
        "#Load all sheets into a dictionary of DataFrames\n",
        "df_dict = pd.read_excel(file_name, sheet_name=None)\n",
        "\n",
        "#Print the names of the sheets\n",
        "print(df_dict.keys())"
      ],
      "metadata": {
        "colab": {
          "base_uri": "https://localhost:8080/"
        },
        "id": "g7u90iV0yC_5",
        "outputId": "2676d864-5a3e-4176-da51-4126a3fc5569"
      },
      "execution_count": 3,
      "outputs": [
        {
          "output_type": "stream",
          "name": "stdout",
          "text": [
            "dict_keys(['Energy projects summary', 'BRI investments', 'Total energy capacity added', 'Access to electricity', 'GDP Per Capita ', 'Total pop.'])\n"
          ]
        }
      ]
    },
    {
      "cell_type": "code",
      "source": [
        "#Access a specific sheet by name\n",
        "sheet1_df = df_dict['Energy projects summary']\n",
        "\n",
        "#Load only specific columns\n",
        "columns_to_print1 = sheet1_df.columns[:4]\n",
        "\n",
        "#Select specific rows\n",
        "rows_to_print1 = sheet1_df.iloc[:17]\n",
        "\n",
        "#Combine columns and rows\n",
        "subset_df1 = rows_to_print1[columns_to_print1]\n",
        "\n",
        "#Print the subset\n",
        "print(subset_df1)"
      ],
      "metadata": {
        "colab": {
          "base_uri": "https://localhost:8080/"
        },
        "id": "rneEOnddrTQ8",
        "outputId": "4b0bf3f1-bbe4-46d6-dbd8-2b971c7b175f"
      },
      "execution_count": 9,
      "outputs": [
        {
          "output_type": "stream",
          "name": "stdout",
          "text": [
            "    Year                                       Project name  \\\n",
            "0   2015                            Quaid-e-Azam Solar Park   \n",
            "1   2016                            Quaid-e-Azam Solar Park   \n",
            "2   2016                          Dawood Wind Power Project   \n",
            "3   2017                         Sahiwal Coal Power Project   \n",
            "4   2017                                      UEP Wind Farm   \n",
            "5   2017                                   Sachal Wind Farm   \n",
            "6   2018                           Port Qasim Power Project   \n",
            "7   2018  Three Gorges Second and Third Wind Power Projects   \n",
            "8   2019                           Hubco Coal Power Project   \n",
            "9   2019       Coal Power Project of Engro Powergen Limited   \n",
            "10  2020                     Azad Pattan Hydropower Project   \n",
            "11  2021           Matiari to Lahore HVDC Transmission Line   \n",
            "12  2022                           Karot Hydropower Project   \n",
            "13  2022          Coal Power Project of Thar Energy Limited   \n",
            "14  2022      Coal Power Project of Thal Nova Power Limited   \n",
            "15  2023            Coal Power Project of Shanghai Electric   \n",
            "16  2024                     Suki Kinari Hydropower Project   \n",
            "\n",
            "    Estimated investment (USD millions)  Energy capacity (MW)  \n",
            "0                                520.40                   400  \n",
            "1                                780.60                   600  \n",
            "2                                112.65                    50  \n",
            "3                               1912.00                  1320  \n",
            "4                                250.00                    99  \n",
            "5                                134.00                    50  \n",
            "6                               1912.00                  1320  \n",
            "7                                150.00                   100  \n",
            "8                               1912.00                  1320  \n",
            "9                                995.00                   660  \n",
            "10                              1600.00                   701  \n",
            "11                              1658.00                  4000  \n",
            "12                              1720.00                   720  \n",
            "13                               498.00                   330  \n",
            "14                               498.00                   330  \n",
            "15                              1440.00                  1320  \n",
            "16                              2000.00                   870  \n"
          ]
        }
      ]
    },
    {
      "cell_type": "code",
      "source": [
        "#Access a specific sheet by name\n",
        "sheet2_df = df_dict['BRI investments']\n",
        "\n",
        "#Load only specific columns\n",
        "columns_to_print2 = sheet2_df.columns[:2]\n",
        "\n",
        "#Select specific rows\n",
        "rows_to_print2 = sheet2_df.iloc[:10]\n",
        "\n",
        "#Combine columns and rows\n",
        "subset_df2 = rows_to_print2[columns_to_print2]\n",
        "\n",
        "#Print the subset\n",
        "print(subset_df2)"
      ],
      "metadata": {
        "colab": {
          "base_uri": "https://localhost:8080/"
        },
        "id": "_lOGMiKYHQbq",
        "outputId": "808205c8-76f8-46d7-e0b0-dae7f3b5d882"
      },
      "execution_count": 10,
      "outputs": [
        {
          "output_type": "stream",
          "name": "stdout",
          "text": [
            "   Year  BRI Investments in Energy Sector (USD millions)\n",
            "0  2015                                           520.40\n",
            "1  2016                                           893.25\n",
            "2  2017                                          2296.00\n",
            "3  2018                                          2062.00\n",
            "4  2019                                          2907.00\n",
            "5  2020                                          1600.00\n",
            "6  2021                                          1658.00\n",
            "7  2022                                          2716.00\n",
            "8  2023                                          1440.00\n",
            "9  2024                                          2000.00\n"
          ]
        }
      ]
    },
    {
      "cell_type": "code",
      "source": [
        "#Access a specific sheet by name\n",
        "sheet3_df = df_dict['Total energy capacity added']\n",
        "\n",
        "#Load only specific columns\n",
        "columns_to_print3 = sheet3_df.columns[:2]\n",
        "\n",
        "#Select specific rows\n",
        "rows_to_print3 = sheet3_df.iloc[:10]\n",
        "\n",
        "#Combine columns and rows\n",
        "subset_df3 = rows_to_print3[columns_to_print3]\n",
        "\n",
        "#Print the subset\n",
        "print(subset_df3)"
      ],
      "metadata": {
        "colab": {
          "base_uri": "https://localhost:8080/"
        },
        "id": "xhvvma8Cybo-",
        "outputId": "196d3f8e-61d2-4b65-b2b6-e06fb5abe2e8"
      },
      "execution_count": 11,
      "outputs": [
        {
          "output_type": "stream",
          "name": "stdout",
          "text": [
            "   Year  Total Energy Capacity Added from Completed CPEC Projects (MW)\n",
            "0  2015                                                400            \n",
            "1  2016                                                650            \n",
            "2  2017                                               1469            \n",
            "3  2018                                               1420            \n",
            "4  2019                                               1980            \n",
            "5  2020                                                701            \n",
            "6  2021                                               4000            \n",
            "7  2022                                               1380            \n",
            "8  2023                                               1320            \n",
            "9  2024                                                870            \n"
          ]
        }
      ]
    },
    {
      "cell_type": "code",
      "source": [
        "#Access a specific sheet by name\n",
        "sheet4_df = df_dict['Access to electricity']\n",
        "\n",
        "#Load only specific columns\n",
        "columns_to_print4 = sheet4_df.columns[:2]\n",
        "\n",
        "#Select specific rows\n",
        "rows_to_print4 = sheet4_df.iloc[:13]\n",
        "\n",
        "#Combine columns and rows\n",
        "subset_df4 = rows_to_print4[columns_to_print4]\n",
        "\n",
        "#Print the subset\n",
        "print(subset_df4)"
      ],
      "metadata": {
        "colab": {
          "base_uri": "https://localhost:8080/"
        },
        "id": "kBzVo4X09VRC",
        "outputId": "66dc3560-a7c6-4be9-a9ee-cfdb6ccd8fea"
      },
      "execution_count": 16,
      "outputs": [
        {
          "output_type": "stream",
          "name": "stdout",
          "text": [
            "      Year  Access to electricity (% of population)\n",
            "0   2010.0                                     87.1\n",
            "1   2011.0                                     87.8\n",
            "2   2012.0                                     88.6\n",
            "3   2013.0                                     89.3\n",
            "4   2014.0                                     90.1\n",
            "5   2015.0                                     91.0\n",
            "6   2016.0                                     91.8\n",
            "7   2017.0                                     92.7\n",
            "8   2018.0                                     93.4\n",
            "9   2019.0                                     93.9\n",
            "10  2020.0                                     94.5\n",
            "11  2021.0                                     94.9\n",
            "12  2022.0                                     95.0\n"
          ]
        }
      ]
    },
    {
      "cell_type": "code",
      "source": [
        "#Access a specific sheet by name\n",
        "sheet5_df = df_dict['GDP Per Capita ']\n",
        "\n",
        "#Load only specific columns\n",
        "columns_to_print5 = sheet5_df.columns[:2]\n",
        "\n",
        "#Select specific rows\n",
        "rows_to_print5 = sheet5_df.iloc[:13]\n",
        "\n",
        "#Combine columns and rows\n",
        "subset_df5 = rows_to_print5[columns_to_print5]\n",
        "\n",
        "#Print the subset\n",
        "print(subset_df5)"
      ],
      "metadata": {
        "colab": {
          "base_uri": "https://localhost:8080/"
        },
        "id": "3pTuus0F9vm-",
        "outputId": "3199563e-59fa-4779-ef1b-3a5285ea7fc5"
      },
      "execution_count": 14,
      "outputs": [
        {
          "output_type": "stream",
          "name": "stdout",
          "text": [
            "    Year  GDP growth (annual %)\n",
            "0   2010                    1.5\n",
            "1   2011                    2.7\n",
            "2   2012                    3.0\n",
            "3   2013                    4.4\n",
            "4   2014                    4.1\n",
            "5   2015                    4.2\n",
            "6   2016                    6.6\n",
            "7   2017                    4.4\n",
            "8   2018                    6.2\n",
            "9   2019                    2.5\n",
            "10  2020                   -1.3\n",
            "11  2021                    6.5\n",
            "12  2022                    4.8\n"
          ]
        }
      ]
    },
    {
      "cell_type": "code",
      "source": [
        "#Access a specific sheet by name\n",
        "sheet6_df = df_dict['Total pop.']\n",
        "\n",
        "#Load only specific columns\n",
        "columns_to_print6 = sheet6_df.columns[:2]\n",
        "\n",
        "#Select specific rows\n",
        "rows_to_print6 = sheet6_df.iloc[:13]\n",
        "\n",
        "#Combine columns and rows\n",
        "subset_df6 = rows_to_print6[columns_to_print6]\n",
        "\n",
        "#Print the subset\n",
        "print(subset_df6)"
      ],
      "metadata": {
        "colab": {
          "base_uri": "https://localhost:8080/"
        },
        "id": "4_ecAJ5y-GRa",
        "outputId": "051e89d2-947c-4db2-9ed4-a90ccef1da3a"
      },
      "execution_count": 15,
      "outputs": [
        {
          "output_type": "stream",
          "name": "stdout",
          "text": [
            "    Year  Population, Total\n",
            "0   2010          199239047\n",
            "1   2011          203746065\n",
            "2   2012          207667125\n",
            "3   2013          211073978\n",
            "4   2014          214264647\n",
            "5   2015          217290883\n",
            "6   2016          220138869\n",
            "7   2017          223273967\n",
            "8   2018          226928892\n",
            "9   2019          230800899\n",
            "10  2020          235001746\n",
            "11  2021          239477801\n",
            "12  2022          243700667\n"
          ]
        }
      ]
    }
  ]
}
