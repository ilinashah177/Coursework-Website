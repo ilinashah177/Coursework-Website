{
  "nbformat": 4,
  "nbformat_minor": 0,
  "metadata": {
    "colab": {
      "provenance": [],
      "authorship_tag": "ABX9TyOiBr4mjTnZ2LRbqxT5Z/FV",
      "include_colab_link": true
    },
    "kernelspec": {
      "name": "python3",
      "display_name": "Python 3"
    },
    "language_info": {
      "name": "python"
    }
  },
  "cells": [
    {
      "cell_type": "markdown",
      "metadata": {
        "id": "view-in-github",
        "colab_type": "text"
      },
      "source": [
        "<a href=\"https://colab.research.google.com/github/ilinashah177/Coursework-Website/blob/main/Sentiment_Analysis_and_Mapping.ipynb\" target=\"_parent\"><img src=\"https://colab.research.google.com/assets/colab-badge.svg\" alt=\"Open In Colab\"/></a>"
      ]
    },
    {
      "cell_type": "code",
      "execution_count": 1,
      "metadata": {
        "id": "oyc4ByJJZpaB"
      },
      "outputs": [],
      "source": [
        "%%capture\n",
        "!pip install spacy\n",
        "!pip install scattertext\n",
        "!pip install tika\n",
        "!pip install spacytextblob\n",
        "!python -m spacy download en_core_web_sm"
      ]
    },
    {
      "cell_type": "code",
      "source": [
        "import spacy\n",
        "import json\n",
        "import pylab\n",
        "from IPython.core.display import display, HTML\n",
        "import nltk\n",
        "from tika import parser\n",
        "import numpy as np\n",
        "import pandas as pd\n",
        "import matplotlib.pyplot as plt\n",
        "from spacytextblob.spacytextblob import SpacyTextBlob\n",
        "\n",
        "%matplotlib inline\n",
        "pylab.rcParams['figure.figsize'] = (10., 8.)\n",
        "nlp = spacy.load(\"en_core_web_sm\")\n",
        "nlp.add_pipe('spacytextblob')"
      ],
      "metadata": {
        "colab": {
          "base_uri": "https://localhost:8080/"
        },
        "id": "H9UgPfm9aNVf",
        "outputId": "33fe0f72-f797-4a5a-ccf6-d4e8430bd7d1"
      },
      "execution_count": 2,
      "outputs": [
        {
          "output_type": "execute_result",
          "data": {
            "text/plain": [
              "<spacytextblob.spacytextblob.SpacyTextBlob at 0x7d4e1b820950>"
            ]
          },
          "metadata": {},
          "execution_count": 2
        }
      ]
    },
    {
      "cell_type": "code",
      "source": [
        "import re\n",
        "def process_urls(csv):\n",
        "    try:\n",
        "        df = pd.read_csv(csv)\n",
        "    except:\n",
        "        print(f\"Error reading the file\")\n",
        "        return None\n",
        "\n",
        "#Error handling\n",
        "    if not all(col in df.columns for col in ['Country', 'URL']):\n",
        "        print(\"Error: 'country' and 'url' columns are required.\")\n",
        "        return None\n",
        "\n",
        "    processed_urls = set()\n",
        "    results = []\n",
        "\n",
        "    for index, row in df.iterrows():\n",
        "        country = row['Country']\n",
        "        url = row['URL']\n",
        "\n",
        "        if url in processed_urls:\n",
        "            continue\n",
        "\n",
        "#Using TIKA parser\n",
        "        try:\n",
        "            raw = parser.from_file(url)\n",
        "            text = raw['content']\n",
        "\n",
        "#Data cleaning\n",
        "            if text:\n",
        "                text = \" \".join(text.split())\n",
        "                text = re.sub(r\"[^a-zA-Z ]+\", \"\", text)\n",
        "                text = text.lower()\n",
        "\n",
        "#Calculate polarity and subjectivity\n",
        "            if text:\n",
        "                doc = nlp(text)\n",
        "                polarity = doc._.blob.polarity\n",
        "                subjectivity = doc._.blob.subjectivity\n",
        "\n",
        "#Classify sentiment based on polarity scores\n",
        "                if polarity > 0.05 :\n",
        "                    sentiment_score_classification = \"Positive\"\n",
        "                elif polarity < -0.05:\n",
        "                    sentiment_score_classification = \"Negative\"\n",
        "                else:\n",
        "                    sentiment_score_classification = \"Neutral\"\n",
        "\n",
        "                results.append([country, url, polarity, subjectivity, sentiment_score_classification])\n",
        "                processed_urls.add(url)\n",
        "\n",
        "#Error handling\n",
        "        except:\n",
        "            print(f\"Error processing URL\")\n",
        "            continue\n",
        "\n",
        "    new_df = pd.DataFrame(results, columns=['country', 'url', 'polarity', 'subjectivity', 'sentiment_score_classification'])\n",
        "    return new_df"
      ],
      "metadata": {
        "id": "8yYFWXFLgKK3"
      },
      "execution_count": 3,
      "outputs": []
    },
    {
      "cell_type": "code",
      "source": [
        "from google.colab import files\n",
        "uploaded = files.upload()\n",
        "\n",
        "for fn in uploaded.keys():\n",
        "\n",
        "  processed_data = process_urls(fn)\n",
        "\n",
        "processed_data"
      ],
      "metadata": {
        "colab": {
          "base_uri": "https://localhost:8080/",
          "height": 1000
        },
        "id": "fc5PJDGgL0jd",
        "outputId": "7a832c2f-59f7-4189-f6b8-39696018bf14"
      },
      "execution_count": 4,
      "outputs": [
        {
          "output_type": "display_data",
          "data": {
            "text/plain": [
              "<IPython.core.display.HTML object>"
            ],
            "text/html": [
              "\n",
              "     <input type=\"file\" id=\"files-605bf1e4-8d83-43ea-b193-5e5d76d0ac59\" name=\"files[]\" multiple disabled\n",
              "        style=\"border:none\" />\n",
              "     <output id=\"result-605bf1e4-8d83-43ea-b193-5e5d76d0ac59\">\n",
              "      Upload widget is only available when the cell has been executed in the\n",
              "      current browser session. Please rerun this cell to enable.\n",
              "      </output>\n",
              "      <script>// Copyright 2017 Google LLC\n",
              "//\n",
              "// Licensed under the Apache License, Version 2.0 (the \"License\");\n",
              "// you may not use this file except in compliance with the License.\n",
              "// You may obtain a copy of the License at\n",
              "//\n",
              "//      http://www.apache.org/licenses/LICENSE-2.0\n",
              "//\n",
              "// Unless required by applicable law or agreed to in writing, software\n",
              "// distributed under the License is distributed on an \"AS IS\" BASIS,\n",
              "// WITHOUT WARRANTIES OR CONDITIONS OF ANY KIND, either express or implied.\n",
              "// See the License for the specific language governing permissions and\n",
              "// limitations under the License.\n",
              "\n",
              "/**\n",
              " * @fileoverview Helpers for google.colab Python module.\n",
              " */\n",
              "(function(scope) {\n",
              "function span(text, styleAttributes = {}) {\n",
              "  const element = document.createElement('span');\n",
              "  element.textContent = text;\n",
              "  for (const key of Object.keys(styleAttributes)) {\n",
              "    element.style[key] = styleAttributes[key];\n",
              "  }\n",
              "  return element;\n",
              "}\n",
              "\n",
              "// Max number of bytes which will be uploaded at a time.\n",
              "const MAX_PAYLOAD_SIZE = 100 * 1024;\n",
              "\n",
              "function _uploadFiles(inputId, outputId) {\n",
              "  const steps = uploadFilesStep(inputId, outputId);\n",
              "  const outputElement = document.getElementById(outputId);\n",
              "  // Cache steps on the outputElement to make it available for the next call\n",
              "  // to uploadFilesContinue from Python.\n",
              "  outputElement.steps = steps;\n",
              "\n",
              "  return _uploadFilesContinue(outputId);\n",
              "}\n",
              "\n",
              "// This is roughly an async generator (not supported in the browser yet),\n",
              "// where there are multiple asynchronous steps and the Python side is going\n",
              "// to poll for completion of each step.\n",
              "// This uses a Promise to block the python side on completion of each step,\n",
              "// then passes the result of the previous step as the input to the next step.\n",
              "function _uploadFilesContinue(outputId) {\n",
              "  const outputElement = document.getElementById(outputId);\n",
              "  const steps = outputElement.steps;\n",
              "\n",
              "  const next = steps.next(outputElement.lastPromiseValue);\n",
              "  return Promise.resolve(next.value.promise).then((value) => {\n",
              "    // Cache the last promise value to make it available to the next\n",
              "    // step of the generator.\n",
              "    outputElement.lastPromiseValue = value;\n",
              "    return next.value.response;\n",
              "  });\n",
              "}\n",
              "\n",
              "/**\n",
              " * Generator function which is called between each async step of the upload\n",
              " * process.\n",
              " * @param {string} inputId Element ID of the input file picker element.\n",
              " * @param {string} outputId Element ID of the output display.\n",
              " * @return {!Iterable<!Object>} Iterable of next steps.\n",
              " */\n",
              "function* uploadFilesStep(inputId, outputId) {\n",
              "  const inputElement = document.getElementById(inputId);\n",
              "  inputElement.disabled = false;\n",
              "\n",
              "  const outputElement = document.getElementById(outputId);\n",
              "  outputElement.innerHTML = '';\n",
              "\n",
              "  const pickedPromise = new Promise((resolve) => {\n",
              "    inputElement.addEventListener('change', (e) => {\n",
              "      resolve(e.target.files);\n",
              "    });\n",
              "  });\n",
              "\n",
              "  const cancel = document.createElement('button');\n",
              "  inputElement.parentElement.appendChild(cancel);\n",
              "  cancel.textContent = 'Cancel upload';\n",
              "  const cancelPromise = new Promise((resolve) => {\n",
              "    cancel.onclick = () => {\n",
              "      resolve(null);\n",
              "    };\n",
              "  });\n",
              "\n",
              "  // Wait for the user to pick the files.\n",
              "  const files = yield {\n",
              "    promise: Promise.race([pickedPromise, cancelPromise]),\n",
              "    response: {\n",
              "      action: 'starting',\n",
              "    }\n",
              "  };\n",
              "\n",
              "  cancel.remove();\n",
              "\n",
              "  // Disable the input element since further picks are not allowed.\n",
              "  inputElement.disabled = true;\n",
              "\n",
              "  if (!files) {\n",
              "    return {\n",
              "      response: {\n",
              "        action: 'complete',\n",
              "      }\n",
              "    };\n",
              "  }\n",
              "\n",
              "  for (const file of files) {\n",
              "    const li = document.createElement('li');\n",
              "    li.append(span(file.name, {fontWeight: 'bold'}));\n",
              "    li.append(span(\n",
              "        `(${file.type || 'n/a'}) - ${file.size} bytes, ` +\n",
              "        `last modified: ${\n",
              "            file.lastModifiedDate ? file.lastModifiedDate.toLocaleDateString() :\n",
              "                                    'n/a'} - `));\n",
              "    const percent = span('0% done');\n",
              "    li.appendChild(percent);\n",
              "\n",
              "    outputElement.appendChild(li);\n",
              "\n",
              "    const fileDataPromise = new Promise((resolve) => {\n",
              "      const reader = new FileReader();\n",
              "      reader.onload = (e) => {\n",
              "        resolve(e.target.result);\n",
              "      };\n",
              "      reader.readAsArrayBuffer(file);\n",
              "    });\n",
              "    // Wait for the data to be ready.\n",
              "    let fileData = yield {\n",
              "      promise: fileDataPromise,\n",
              "      response: {\n",
              "        action: 'continue',\n",
              "      }\n",
              "    };\n",
              "\n",
              "    // Use a chunked sending to avoid message size limits. See b/62115660.\n",
              "    let position = 0;\n",
              "    do {\n",
              "      const length = Math.min(fileData.byteLength - position, MAX_PAYLOAD_SIZE);\n",
              "      const chunk = new Uint8Array(fileData, position, length);\n",
              "      position += length;\n",
              "\n",
              "      const base64 = btoa(String.fromCharCode.apply(null, chunk));\n",
              "      yield {\n",
              "        response: {\n",
              "          action: 'append',\n",
              "          file: file.name,\n",
              "          data: base64,\n",
              "        },\n",
              "      };\n",
              "\n",
              "      let percentDone = fileData.byteLength === 0 ?\n",
              "          100 :\n",
              "          Math.round((position / fileData.byteLength) * 100);\n",
              "      percent.textContent = `${percentDone}% done`;\n",
              "\n",
              "    } while (position < fileData.byteLength);\n",
              "  }\n",
              "\n",
              "  // All done.\n",
              "  yield {\n",
              "    response: {\n",
              "      action: 'complete',\n",
              "    }\n",
              "  };\n",
              "}\n",
              "\n",
              "scope.google = scope.google || {};\n",
              "scope.google.colab = scope.google.colab || {};\n",
              "scope.google.colab._files = {\n",
              "  _uploadFiles,\n",
              "  _uploadFilesContinue,\n",
              "};\n",
              "})(self);\n",
              "</script> "
            ]
          },
          "metadata": {}
        },
        {
          "output_type": "stream",
          "name": "stderr",
          "text": [
            "2025-01-26 22:03:29,397 [MainThread  ] [INFO ]  Retrieving https://pubmed.ncbi.nlm.nih.gov/39592827/ to /tmp/39592827.\n",
            "INFO:tika.tika:Retrieving https://pubmed.ncbi.nlm.nih.gov/39592827/ to /tmp/39592827.\n"
          ]
        },
        {
          "output_type": "stream",
          "name": "stdout",
          "text": [
            "Saving NLP Sentiments 5.csv to NLP Sentiments 5.csv\n"
          ]
        },
        {
          "output_type": "stream",
          "name": "stderr",
          "text": [
            "2025-01-26 22:03:29,704 [MainThread  ] [INFO ]  Retrieving http://search.maven.org/remotecontent?filepath=org/apache/tika/tika-server-standard/2.6.0/tika-server-standard-2.6.0.jar to /tmp/tika-server.jar.\n",
            "INFO:tika.tika:Retrieving http://search.maven.org/remotecontent?filepath=org/apache/tika/tika-server-standard/2.6.0/tika-server-standard-2.6.0.jar to /tmp/tika-server.jar.\n",
            "2025-01-26 22:03:30,245 [MainThread  ] [INFO ]  Retrieving http://search.maven.org/remotecontent?filepath=org/apache/tika/tika-server-standard/2.6.0/tika-server-standard-2.6.0.jar.md5 to /tmp/tika-server.jar.md5.\n",
            "INFO:tika.tika:Retrieving http://search.maven.org/remotecontent?filepath=org/apache/tika/tika-server-standard/2.6.0/tika-server-standard-2.6.0.jar.md5 to /tmp/tika-server.jar.md5.\n",
            "2025-01-26 22:03:30,641 [MainThread  ] [WARNI]  Failed to see startup log message; retrying...\n",
            "WARNING:tika.tika:Failed to see startup log message; retrying...\n",
            "2025-01-26 22:03:36,889 [MainThread  ] [INFO ]  Retrieving https://www.sciencedirect.com/science/article/pii/S0960148122003494 to /tmp/science-article-pii-s0960148122003494.\n",
            "INFO:tika.tika:Retrieving https://www.sciencedirect.com/science/article/pii/S0960148122003494 to /tmp/science-article-pii-s0960148122003494.\n",
            "2025-01-26 22:03:37,205 [MainThread  ] [INFO ]  Retrieving https://www.energypolicy.columbia.edu/publications/china-pakistan-economic-corridor-power-projects-insights-environmental-and-debt-sustainability/ to /tmp/publications-china-pakistan-economic-corridor-power-projects-insights-environmental-and-debt-sustainability.\n",
            "INFO:tika.tika:Retrieving https://www.energypolicy.columbia.edu/publications/china-pakistan-economic-corridor-power-projects-insights-environmental-and-debt-sustainability/ to /tmp/publications-china-pakistan-economic-corridor-power-projects-insights-environmental-and-debt-sustainability.\n"
          ]
        },
        {
          "output_type": "stream",
          "name": "stdout",
          "text": [
            "Error processing URL\n"
          ]
        },
        {
          "output_type": "stream",
          "name": "stderr",
          "text": [
            "2025-01-26 22:03:37,417 [MainThread  ] [INFO ]  Retrieving https://sdpi.org/assets/lib/uploads/Environmental-implications-of-coal-based-energy-under-CPEC.pdf to /tmp/assets-lib-uploads-environmental-implications-of-coal-based-energy-under-cpec.pdf.\n",
            "INFO:tika.tika:Retrieving https://sdpi.org/assets/lib/uploads/Environmental-implications-of-coal-based-energy-under-CPEC.pdf to /tmp/assets-lib-uploads-environmental-implications-of-coal-based-energy-under-cpec.pdf.\n"
          ]
        },
        {
          "output_type": "stream",
          "name": "stdout",
          "text": [
            "Error processing URL\n"
          ]
        },
        {
          "output_type": "stream",
          "name": "stderr",
          "text": [
            "2025-01-26 22:03:39,949 [MainThread  ] [INFO ]  Retrieving https://cscr.pk/explore/themes/energy-environment/cpec-promoting-green-and-sustainable-development/ to /tmp/explore-themes-energy-environment-cpec-promoting-green-and-sustainable-development.\n",
            "INFO:tika.tika:Retrieving https://cscr.pk/explore/themes/energy-environment/cpec-promoting-green-and-sustainable-development/ to /tmp/explore-themes-energy-environment-cpec-promoting-green-and-sustainable-development.\n",
            "2025-01-26 22:03:40,793 [MainThread  ] [INFO ]  Retrieving https://pmc.ncbi.nlm.nih.gov/articles/PMC11259830/ to /tmp/articles-pmc11259830.\n",
            "INFO:tika.tika:Retrieving https://pmc.ncbi.nlm.nih.gov/articles/PMC11259830/ to /tmp/articles-pmc11259830.\n"
          ]
        },
        {
          "output_type": "stream",
          "name": "stdout",
          "text": [
            "Error processing URL\n"
          ]
        },
        {
          "output_type": "stream",
          "name": "stderr",
          "text": [
            "2025-01-26 22:03:41,291 [MainThread  ] [INFO ]  Retrieving https://sdpi.org/green-china-pakistan-economic-corridor-cpec-alliance/event_detail to /tmp/green-china-pakistan-economic-corridor-cpec-alliance-event_detail.\n",
            "INFO:tika.tika:Retrieving https://sdpi.org/green-china-pakistan-economic-corridor-cpec-alliance/event_detail to /tmp/green-china-pakistan-economic-corridor-cpec-alliance-event_detail.\n"
          ]
        },
        {
          "output_type": "stream",
          "name": "stdout",
          "text": [
            "Error processing URL\n"
          ]
        },
        {
          "output_type": "stream",
          "name": "stderr",
          "text": [
            "2025-01-26 22:03:42,713 [MainThread  ] [INFO ]  Retrieving https://link.springer.com/article/10.1007/s11356-022-22813-3 to /tmp/article-10.1007-s11356-022-22813-3.\n",
            "INFO:tika.tika:Retrieving https://link.springer.com/article/10.1007/s11356-022-22813-3 to /tmp/article-10.1007-s11356-022-22813-3.\n",
            "2025-01-26 22:03:48,067 [MainThread  ] [INFO ]  Retrieving https://people.climate.columbia.edu/projects/view/232 to /tmp/projects-view-232.\n",
            "INFO:tika.tika:Retrieving https://people.climate.columbia.edu/projects/view/232 to /tmp/projects-view-232.\n",
            "2025-01-26 22:03:48,632 [MainThread  ] [INFO ]  Retrieving https://dialogue.earth/en/business/11750-why-don-t-cpec-projects-factor-in-the-climate-crisis/ to /tmp/en-business-11750-why-don-t-cpec-projects-factor-in-the-climate-crisis.\n",
            "INFO:tika.tika:Retrieving https://dialogue.earth/en/business/11750-why-don-t-cpec-projects-factor-in-the-climate-crisis/ to /tmp/en-business-11750-why-don-t-cpec-projects-factor-in-the-climate-crisis.\n",
            "2025-01-26 22:03:50,312 [MainThread  ] [INFO ]  Retrieving https://www.eurasiantimes.com/cpec-environment-renewable-energy/ to /tmp/cpec-environment-renewable-energy.\n",
            "INFO:tika.tika:Retrieving https://www.eurasiantimes.com/cpec-environment-renewable-energy/ to /tmp/cpec-environment-renewable-energy.\n",
            "2025-01-26 22:03:51,608 [MainThread  ] [INFO ]  Retrieving https://link.springer.com/article/10.1007/s11356-019-07428-5 to /tmp/article-10.1007-s11356-019-07428-5.\n",
            "INFO:tika.tika:Retrieving https://link.springer.com/article/10.1007/s11356-019-07428-5 to /tmp/article-10.1007-s11356-019-07428-5.\n",
            "2025-01-26 22:03:55,156 [MainThread  ] [INFO ]  Retrieving https://ojs.jdss.org.pk/journal/article/view/820 to /tmp/journal-article-view-820.\n",
            "INFO:tika.tika:Retrieving https://ojs.jdss.org.pk/journal/article/view/820 to /tmp/journal-article-view-820.\n",
            "2025-01-26 22:03:56,447 [MainThread  ] [INFO ]  Retrieving https://greenfdc.org/green-finance-guideline-baseline-for-china-pakistan-economic-corridor-cpec/ to /tmp/green-finance-guideline-baseline-for-china-pakistan-economic-corridor-cpec.\n",
            "INFO:tika.tika:Retrieving https://greenfdc.org/green-finance-guideline-baseline-for-china-pakistan-economic-corridor-cpec/ to /tmp/green-finance-guideline-baseline-for-china-pakistan-economic-corridor-cpec.\n",
            "2025-01-26 22:03:58,596 [MainThread  ] [INFO ]  Retrieving https://www.bu.edu/gdp/2022/01/24/what-drives-pakistans-coal-fired-power-plant-construction-boom-understanding-the-china-pakistan-economic-corridors-energy-portfolio/ to /tmp/gdp-2022-01-24-what-drives-pakistans-coal-fired-power-plant-construction-boom-understanding-the-china-pakistan-economic-corridors-energy-portfolio.\n",
            "INFO:tika.tika:Retrieving https://www.bu.edu/gdp/2022/01/24/what-drives-pakistans-coal-fired-power-plant-construction-boom-understanding-the-china-pakistan-economic-corridors-energy-portfolio/ to /tmp/gdp-2022-01-24-what-drives-pakistans-coal-fired-power-plant-construction-boom-understanding-the-china-pakistan-economic-corridors-energy-portfolio.\n",
            "2025-01-26 22:03:59,051 [MainThread  ] [INFO ]  Retrieving https://dialogue.earth/en/energy/gwadar-coal-returns-to-china-pakistan-economic-corridor/ to /tmp/en-energy-gwadar-coal-returns-to-china-pakistan-economic-corridor.\n",
            "INFO:tika.tika:Retrieving https://dialogue.earth/en/energy/gwadar-coal-returns-to-china-pakistan-economic-corridor/ to /tmp/en-energy-gwadar-coal-returns-to-china-pakistan-economic-corridor.\n",
            "2025-01-26 22:04:01,183 [MainThread  ] [INFO ]  Retrieving https://migrationletters.com/index.php/ml/article/view/11540/7709 to /tmp/index.php-ml-article-view-11540-7709.\n",
            "INFO:tika.tika:Retrieving https://migrationletters.com/index.php/ml/article/view/11540/7709 to /tmp/index.php-ml-article-view-11540-7709.\n",
            "2025-01-26 22:04:02,205 [MainThread  ] [INFO ]  Retrieving https://cpec.gov.pk to /tmp/file_1737929042.\n",
            "INFO:tika.tika:Retrieving https://cpec.gov.pk to /tmp/file_1737929042.\n",
            "2025-01-26 22:04:04,936 [MainThread  ] [INFO ]  Retrieving http://www.xinhuanet.com/english/2019-08/11/c_138300906.htm to /tmp/english-2019-08-11-c_138300906.htm.\n",
            "INFO:tika.tika:Retrieving http://www.xinhuanet.com/english/2019-08/11/c_138300906.htm to /tmp/english-2019-08-11-c_138300906.htm.\n",
            "2025-01-26 22:04:06,757 [MainThread  ] [INFO ]  Retrieving https://thediplomat.com/2018/04/cpecs-environmental-toll/ to /tmp/2018-04-cpecs-environmental-toll.\n",
            "INFO:tika.tika:Retrieving https://thediplomat.com/2018/04/cpecs-environmental-toll/ to /tmp/2018-04-cpecs-environmental-toll.\n",
            "2025-01-26 22:04:06,891 [MainThread  ] [INFO ]  Retrieving https://ideas.repec.org/a/eee/renene/v190y2022icp188-207.html to /tmp/a-eee-renene-v190y2022icp188-207.html.\n",
            "INFO:tika.tika:Retrieving https://ideas.repec.org/a/eee/renene/v190y2022icp188-207.html to /tmp/a-eee-renene-v190y2022icp188-207.html.\n"
          ]
        },
        {
          "output_type": "stream",
          "name": "stdout",
          "text": [
            "Error processing URL\n"
          ]
        },
        {
          "output_type": "stream",
          "name": "stderr",
          "text": [
            "2025-01-26 22:04:08,080 [MainThread  ] [INFO ]  Retrieving http://ajss.abasyn.edu.pk/admineditor/papers/V11I1-13.pdf to /tmp/admineditor-papers-v11i1-13.pdf.\n",
            "INFO:tika.tika:Retrieving http://ajss.abasyn.edu.pk/admineditor/papers/V11I1-13.pdf to /tmp/admineditor-papers-v11i1-13.pdf.\n",
            "2025-01-26 22:04:10,561 [MainThread  ] [INFO ]  Retrieving https://pureportal.strath.ac.uk/en/publications/china-pakistan-economic-corridor-cpec-tourism-demand-and-environm/fingerprints/ to /tmp/en-publications-china-pakistan-economic-corridor-cpec-tourism-demand-and-environm-fingerprints.\n",
            "INFO:tika.tika:Retrieving https://pureportal.strath.ac.uk/en/publications/china-pakistan-economic-corridor-cpec-tourism-demand-and-environm/fingerprints/ to /tmp/en-publications-china-pakistan-economic-corridor-cpec-tourism-demand-and-environm-fingerprints.\n",
            "2025-01-26 22:04:10,976 [MainThread  ] [INFO ]  Retrieving https://newlinesinstitute.org/strategic-competition/mapping-a-u-s-strategy-to-counter-chinas-cpec-clout/ to /tmp/strategic-competition-mapping-a-u-s-strategy-to-counter-chinas-cpec-clout.\n",
            "INFO:tika.tika:Retrieving https://newlinesinstitute.org/strategic-competition/mapping-a-u-s-strategy-to-counter-chinas-cpec-clout/ to /tmp/strategic-competition-mapping-a-u-s-strategy-to-counter-chinas-cpec-clout.\n"
          ]
        },
        {
          "output_type": "stream",
          "name": "stdout",
          "text": [
            "Error processing URL\n"
          ]
        },
        {
          "output_type": "stream",
          "name": "stderr",
          "text": [
            "2025-01-26 22:04:11,278 [MainThread  ] [INFO ]  Retrieving https://www.thenews.com.pk/magazine/money-matters/1232789-cpecs-road-to-renewables to /tmp/magazine-money-matters-1232789-cpecs-road-to-renewables.\n",
            "INFO:tika.tika:Retrieving https://www.thenews.com.pk/magazine/money-matters/1232789-cpecs-road-to-renewables to /tmp/magazine-money-matters-1232789-cpecs-road-to-renewables.\n",
            "2025-01-26 22:04:11,436 [MainThread  ] [INFO ]  Retrieving https://www.thehindu.com/news/international/china-refuses-to-further-expand-cooperation-with-pak-in-energy-water-climate-under-cpec/article67348727.ece to /tmp/news-international-china-refuses-to-further-expand-cooperation-with-pak-in-energy-water-climate-under-cpec-article67348727.ece.\n",
            "INFO:tika.tika:Retrieving https://www.thehindu.com/news/international/china-refuses-to-further-expand-cooperation-with-pak-in-energy-water-climate-under-cpec/article67348727.ece to /tmp/news-international-china-refuses-to-further-expand-cooperation-with-pak-in-energy-water-climate-under-cpec-article67348727.ece.\n"
          ]
        },
        {
          "output_type": "stream",
          "name": "stdout",
          "text": [
            "Error processing URL\n",
            "Error processing URL\n"
          ]
        },
        {
          "output_type": "stream",
          "name": "stderr",
          "text": [
            "2025-01-26 22:04:11,573 [MainThread  ] [INFO ]  Retrieving https://issra.pk/pub/insight/2023/A-DECADE-OF-CPEC–AN-APPRAISAL/A-DECADE-OF-CPEC–AN-APPRAISAL.html to /tmp/pub-insight-2023-a-decade-of-cpec-an-appraisal-a-decade-of-cpec-an-appraisal.html.\n",
            "INFO:tika.tika:Retrieving https://issra.pk/pub/insight/2023/A-DECADE-OF-CPEC–AN-APPRAISAL/A-DECADE-OF-CPEC–AN-APPRAISAL.html to /tmp/pub-insight-2023-a-decade-of-cpec-an-appraisal-a-decade-of-cpec-an-appraisal.html.\n",
            "2025-01-26 22:04:11,578 [MainThread  ] [INFO ]  Retrieving https://www.gmfus.org/news/returning-shadows-china-pakistan-and-fate-cpec to /tmp/news-returning-shadows-china-pakistan-and-fate-cpec.\n",
            "INFO:tika.tika:Retrieving https://www.gmfus.org/news/returning-shadows-china-pakistan-and-fate-cpec to /tmp/news-returning-shadows-china-pakistan-and-fate-cpec.\n",
            "2025-01-26 22:04:11,744 [MainThread  ] [INFO ]  Retrieving https://www.dawn.com/news/1857807 to /tmp/news-1857807.\n",
            "INFO:tika.tika:Retrieving https://www.dawn.com/news/1857807 to /tmp/news-1857807.\n"
          ]
        },
        {
          "output_type": "stream",
          "name": "stdout",
          "text": [
            "Error processing URL\n",
            "Error processing URL\n",
            "Error processing URL\n"
          ]
        },
        {
          "output_type": "stream",
          "name": "stderr",
          "text": [
            "2025-01-26 22:04:13,415 [MainThread  ] [INFO ]  Retrieving https://eng.yidaiyilu.gov.cn/p/0JLDQFPD.html to /tmp/p-0jldqfpd.html.\n",
            "INFO:tika.tika:Retrieving https://eng.yidaiyilu.gov.cn/p/0JLDQFPD.html to /tmp/p-0jldqfpd.html.\n",
            "2025-01-26 22:04:18,466 [MainThread  ] [INFO ]  Retrieving https://www.worldscientific.com/doi/pdf/10.1142/S237774002150007X?srsltid=AfmBOorrzjQat0mHbvpzKzT25zkNRJYqJXEVZpIfh1g5pDBqzccZelwj to /tmp/doi-pdf-10.1142-s237774002150007x.\n",
            "INFO:tika.tika:Retrieving https://www.worldscientific.com/doi/pdf/10.1142/S237774002150007X?srsltid=AfmBOorrzjQat0mHbvpzKzT25zkNRJYqJXEVZpIfh1g5pDBqzccZelwj to /tmp/doi-pdf-10.1142-s237774002150007x.\n",
            "2025-01-26 22:04:18,649 [MainThread  ] [INFO ]  Retrieving https://www.pjoes.com/China-Pakistan-Economic-Corridor-nand-the-Impact-of-Coal-Based-Energy-Projects-non,112895,0,2.html to /tmp/china-pakistan-economic-corridor-nand-the-impact-of-coal-based-energy-projects-non-112895-0-2.html.\n",
            "INFO:tika.tika:Retrieving https://www.pjoes.com/China-Pakistan-Economic-Corridor-nand-the-Impact-of-Coal-Based-Energy-Projects-non,112895,0,2.html to /tmp/china-pakistan-economic-corridor-nand-the-impact-of-coal-based-energy-projects-non-112895-0-2.html.\n"
          ]
        },
        {
          "output_type": "stream",
          "name": "stdout",
          "text": [
            "Error processing URL\n"
          ]
        },
        {
          "output_type": "stream",
          "name": "stderr",
          "text": [
            "2025-01-26 22:04:20,431 [MainThread  ] [INFO ]  Retrieving https://www.lowyinstitute.org/the-interpreter/china-s-big-gamble-pakistan-10-year-scorecard-cpec to /tmp/the-interpreter-china-s-big-gamble-pakistan-10-year-scorecard-cpec.\n",
            "INFO:tika.tika:Retrieving https://www.lowyinstitute.org/the-interpreter/china-s-big-gamble-pakistan-10-year-scorecard-cpec to /tmp/the-interpreter-china-s-big-gamble-pakistan-10-year-scorecard-cpec.\n",
            "2025-01-26 22:04:21,839 [MainThread  ] [INFO ]  Retrieving https://vc.bridgew.edu/cgi/viewcontent.cgi?article=2132&context=jiws to /tmp/cgi-viewcontent.cgi.\n",
            "INFO:tika.tika:Retrieving https://vc.bridgew.edu/cgi/viewcontent.cgi?article=2132&context=jiws to /tmp/cgi-viewcontent.cgi.\n",
            "2025-01-26 22:04:23,993 [MainThread  ] [INFO ]  Retrieving  https://ieeexplore.ieee.org/document/8346410 to /tmp/document-8346410.\n",
            "INFO:tika.tika:Retrieving  https://ieeexplore.ieee.org/document/8346410 to /tmp/document-8346410.\n",
            "2025-01-26 22:04:24,112 [MainThread  ] [INFO ]  Retrieving https://www.chinadaily.com.cn/a/202410/15/WS670da8e8a310f1265a1c78d3.html to /tmp/a-202410-15-ws670da8e8a310f1265a1c78d3.html.\n",
            "INFO:tika.tika:Retrieving https://www.chinadaily.com.cn/a/202410/15/WS670da8e8a310f1265a1c78d3.html to /tmp/a-202410-15-ws670da8e8a310f1265a1c78d3.html.\n"
          ]
        },
        {
          "output_type": "stream",
          "name": "stdout",
          "text": [
            "Error processing URL\n"
          ]
        },
        {
          "output_type": "stream",
          "name": "stderr",
          "text": [
            "2025-01-26 22:04:25,302 [MainThread  ] [INFO ]  Retrieving https://english.news.cn/20240822/b469184d934c4c0aa15298d50eb7a485/c.html to /tmp/20240822-b469184d934c4c0aa15298d50eb7a485-c.html.\n",
            "INFO:tika.tika:Retrieving https://english.news.cn/20240822/b469184d934c4c0aa15298d50eb7a485/c.html to /tmp/20240822-b469184d934c4c0aa15298d50eb7a485-c.html.\n",
            "2025-01-26 22:04:26,958 [MainThread  ] [INFO ]  Retrieving https://www.journal.multitechpublisher.com/index.php/ijla/article/view/2472/2566 to /tmp/index.php-ijla-article-view-2472-2566.\n",
            "INFO:tika.tika:Retrieving https://www.journal.multitechpublisher.com/index.php/ijla/article/view/2472/2566 to /tmp/index.php-ijla-article-view-2472-2566.\n",
            "2025-01-26 22:04:27,951 [MainThread  ] [INFO ]  Retrieving https://www.mei.edu/publications/imf-cpec-and-pakistan-will-chinese-save-islamabad-yet-again to /tmp/publications-imf-cpec-and-pakistan-will-chinese-save-islamabad-yet-again.\n",
            "INFO:tika.tika:Retrieving https://www.mei.edu/publications/imf-cpec-and-pakistan-will-chinese-save-islamabad-yet-again to /tmp/publications-imf-cpec-and-pakistan-will-chinese-save-islamabad-yet-again.\n",
            "2025-01-26 22:04:28,759 [MainThread  ] [INFO ]  Retrieving https://www.mdpi.com/2673-4591/75/1/31 to /tmp/2673-4591-75-1-31.\n",
            "INFO:tika.tika:Retrieving https://www.mdpi.com/2673-4591/75/1/31 to /tmp/2673-4591-75-1-31.\n",
            "2025-01-26 22:04:28,911 [MainThread  ] [INFO ]  Retrieving https://www.brookings.edu/articles/at-all-costs-how-pakistan-and-china-control-the-narrative-on-the-china-pakistan-economic-corridor/ to /tmp/articles-at-all-costs-how-pakistan-and-china-control-the-narrative-on-the-china-pakistan-economic-corridor.\n",
            "INFO:tika.tika:Retrieving https://www.brookings.edu/articles/at-all-costs-how-pakistan-and-china-control-the-narrative-on-the-china-pakistan-economic-corridor/ to /tmp/articles-at-all-costs-how-pakistan-and-china-control-the-narrative-on-the-china-pakistan-economic-corridor.\n",
            "2025-01-26 22:04:29,039 [MainThread  ] [INFO ]  Retrieving https://ojs.pssr.org.pk/journal/article/view/394 to /tmp/journal-article-view-394.\n",
            "INFO:tika.tika:Retrieving https://ojs.pssr.org.pk/journal/article/view/394 to /tmp/journal-article-view-394.\n"
          ]
        },
        {
          "output_type": "stream",
          "name": "stdout",
          "text": [
            "Error processing URL\n",
            "Error processing URL\n"
          ]
        },
        {
          "output_type": "stream",
          "name": "stderr",
          "text": [
            "2025-01-26 22:04:29,973 [MainThread  ] [INFO ]  Retrieving https://www.medwinpublishers.com/article-description.php?artId=12274 to /tmp/article-description.php.\n",
            "INFO:tika.tika:Retrieving https://www.medwinpublishers.com/article-description.php?artId=12274 to /tmp/article-description.php.\n",
            "2025-01-26 22:04:30,403 [MainThread  ] [INFO ]  Retrieving https://www.ejosdr.com/download/environmental-impact-assessment-eia-of-cpec-road-project-by-following-eia-index-approach-for-13107.pdf to /tmp/download-environmental-impact-assessment-eia-of-cpec-road-project-by-following-eia-index-approach-for-13107.pdf.\n",
            "INFO:tika.tika:Retrieving https://www.ejosdr.com/download/environmental-impact-assessment-eia-of-cpec-road-project-by-following-eia-index-approach-for-13107.pdf to /tmp/download-environmental-impact-assessment-eia-of-cpec-road-project-by-following-eia-index-approach-for-13107.pdf.\n",
            "2025-01-26 22:04:36,273 [MainThread  ] [INFO ]  Retrieving https://www.chinadailyhk.com/hk/article/595324 to /tmp/hk-article-595324.\n",
            "INFO:tika.tika:Retrieving https://www.chinadailyhk.com/hk/article/595324 to /tmp/hk-article-595324.\n",
            "2025-01-26 22:04:39,345 [MainThread  ] [INFO ]  Retrieving https://invest.gov.pk/node/1821 to /tmp/node-1821.\n",
            "INFO:tika.tika:Retrieving https://invest.gov.pk/node/1821 to /tmp/node-1821.\n",
            "2025-01-26 22:04:43,535 [MainThread  ] [INFO ]  Retrieving https://bloomsbury.ac.uk/an-ethnographic-approach-to-geopolitics-cpec-and-the-making-of-chinese-realities-in-northern-pakistan/ to /tmp/an-ethnographic-approach-to-geopolitics-cpec-and-the-making-of-chinese-realities-in-northern-pakistan.\n",
            "INFO:tika.tika:Retrieving https://bloomsbury.ac.uk/an-ethnographic-approach-to-geopolitics-cpec-and-the-making-of-chinese-realities-in-northern-pakistan/ to /tmp/an-ethnographic-approach-to-geopolitics-cpec-and-the-making-of-chinese-realities-in-northern-pakistan.\n",
            "2025-01-26 22:04:44,539 [MainThread  ] [INFO ]  Retrieving https://acjce.com/?page_id=9569 to /tmp/.\n",
            "INFO:tika.tika:Retrieving https://acjce.com/?page_id=9569 to /tmp/.\n",
            "2025-01-26 22:04:47,568 [MainThread  ] [INFO ]  Retrieving https://odi.org/en/publications/bri-energy-infrastructure-in-pakistan-environmental-and-climate-risks-and-opportunities/ to /tmp/en-publications-bri-energy-infrastructure-in-pakistan-environmental-and-climate-risks-and-opportunities.\n",
            "INFO:tika.tika:Retrieving https://odi.org/en/publications/bri-energy-infrastructure-in-pakistan-environmental-and-climate-risks-and-opportunities/ to /tmp/en-publications-bri-energy-infrastructure-in-pakistan-environmental-and-climate-risks-and-opportunities.\n",
            "2025-01-26 22:04:47,669 [MainThread  ] [INFO ]  Retrieving https://en.imsilkroad.com/p/333352.html to /tmp/p-333352.html.\n",
            "INFO:tika.tika:Retrieving https://en.imsilkroad.com/p/333352.html to /tmp/p-333352.html.\n"
          ]
        },
        {
          "output_type": "stream",
          "name": "stdout",
          "text": [
            "Error processing URL\n",
            "Error processing URL\n"
          ]
        },
        {
          "output_type": "stream",
          "name": "stderr",
          "text": [
            "2025-01-26 22:04:53,007 [MainThread  ] [INFO ]  Retrieving https://www.cadtm.org/Pakistan-CPEC-A-game-changer-or-another-East-India-Company to /tmp/pakistan-cpec-a-game-changer-or-another-east-india-company.\n",
            "INFO:tika.tika:Retrieving https://www.cadtm.org/Pakistan-CPEC-A-game-changer-or-another-East-India-Company to /tmp/pakistan-cpec-a-game-changer-or-another-east-india-company.\n",
            "2025-01-26 22:04:55,290 [MainThread  ] [INFO ]  Retrieving https://papers.ssrn.com/sol3/papers.cfm?abstract_id=3928027 to /tmp/sol3-papers.cfm.\n",
            "INFO:tika.tika:Retrieving https://papers.ssrn.com/sol3/papers.cfm?abstract_id=3928027 to /tmp/sol3-papers.cfm.\n",
            "2025-01-26 22:04:55,513 [MainThread  ] [INFO ]  Retrieving https://www.cpicglobal.com/urbanizing-infrastructure-pakistan-china-collaboration-under-cpec/ to /tmp/urbanizing-infrastructure-pakistan-china-collaboration-under-cpec.\n",
            "INFO:tika.tika:Retrieving https://www.cpicglobal.com/urbanizing-infrastructure-pakistan-china-collaboration-under-cpec/ to /tmp/urbanizing-infrastructure-pakistan-china-collaboration-under-cpec.\n",
            "2025-01-26 22:04:55,620 [MainThread  ] [INFO ]  Retrieving http://cpjrc.imde.ac.cn/en/news/ne/202211/t20221128_119784.html to /tmp/en-news-ne-202211-t20221128_119784.html.\n",
            "INFO:tika.tika:Retrieving http://cpjrc.imde.ac.cn/en/news/ne/202211/t20221128_119784.html to /tmp/en-news-ne-202211-t20221128_119784.html.\n"
          ]
        },
        {
          "output_type": "stream",
          "name": "stdout",
          "text": [
            "Error processing URL\n",
            "Error processing URL\n"
          ]
        },
        {
          "output_type": "stream",
          "name": "stderr",
          "text": [
            "2025-01-26 22:04:57,068 [MainThread  ] [INFO ]  Retrieving https://www.jstor.org/stable/resrep34174.4?seq=1 to /tmp/stable-resrep34174.4.\n",
            "INFO:tika.tika:Retrieving https://www.jstor.org/stable/resrep34174.4?seq=1 to /tmp/stable-resrep34174.4.\n",
            "2025-01-26 22:04:57,333 [MainThread  ] [INFO ]  Retrieving https://www.cell.com/heliyon/fulltext/S2405-8440(24)09386-1 to /tmp/heliyon-fulltext-s2405-8440-24-09386-1.\n",
            "INFO:tika.tika:Retrieving https://www.cell.com/heliyon/fulltext/S2405-8440(24)09386-1 to /tmp/heliyon-fulltext-s2405-8440-24-09386-1.\n"
          ]
        },
        {
          "output_type": "stream",
          "name": "stdout",
          "text": [
            "Error processing URL\n"
          ]
        },
        {
          "output_type": "stream",
          "name": "stderr",
          "text": [
            "2025-01-26 22:04:57,568 [MainThread  ] [INFO ]  Retrieving https://www.e-ir.info/2022/03/10/cpec-an-assessment-of-its-socio-economic-impact-on-pakistan/ to /tmp/2022-03-10-cpec-an-assessment-of-its-socio-economic-impact-on-pakistan.\n",
            "INFO:tika.tika:Retrieving https://www.e-ir.info/2022/03/10/cpec-an-assessment-of-its-socio-economic-impact-on-pakistan/ to /tmp/2022-03-10-cpec-an-assessment-of-its-socio-economic-impact-on-pakistan.\n"
          ]
        },
        {
          "output_type": "stream",
          "name": "stdout",
          "text": [
            "Error processing URL\n"
          ]
        },
        {
          "output_type": "stream",
          "name": "stderr",
          "text": [
            "2025-01-26 22:04:59,591 [MainThread  ] [INFO ]  Retrieving https://pandapawdragonclaw.blog/2018/12/01/unpacking-chinese-financing-of-pakistans-dream-power-plant/ to /tmp/2018-12-01-unpacking-chinese-financing-of-pakistans-dream-power-plant.\n",
            "INFO:tika.tika:Retrieving https://pandapawdragonclaw.blog/2018/12/01/unpacking-chinese-financing-of-pakistans-dream-power-plant/ to /tmp/2018-12-01-unpacking-chinese-financing-of-pakistans-dream-power-plant.\n",
            "2025-01-26 22:05:00,956 [MainThread  ] [INFO ]  Retrieving https://www.finance.gov.pk/survey/chapters_17/Annex_III_CPEC.pdf to /tmp/survey-chapters_17-annex_iii_cpec.pdf.\n",
            "INFO:tika.tika:Retrieving https://www.finance.gov.pk/survey/chapters_17/Annex_III_CPEC.pdf to /tmp/survey-chapters_17-annex_iii_cpec.pdf.\n",
            "2025-01-26 22:05:03,731 [MainThread  ] [INFO ]  Retrieving https://ui.adsabs.harvard.edu/abs/2023WCE....4000570U/abstract to /tmp/abs-2023wce....4000570u-abstract.\n",
            "INFO:tika.tika:Retrieving https://ui.adsabs.harvard.edu/abs/2023WCE....4000570U/abstract to /tmp/abs-2023wce....4000570u-abstract.\n"
          ]
        },
        {
          "output_type": "stream",
          "name": "stdout",
          "text": [
            "Error processing URL\n"
          ]
        },
        {
          "output_type": "stream",
          "name": "stderr",
          "text": [
            "2025-01-26 22:05:04,804 [MainThread  ] [INFO ]  Retrieving https://pogeepakistan.com/news/cpec-driving-regional-and-international-growth-and-development/ to /tmp/news-cpec-driving-regional-and-international-growth-and-development.\n",
            "INFO:tika.tika:Retrieving https://pogeepakistan.com/news/cpec-driving-regional-and-international-growth-and-development/ to /tmp/news-cpec-driving-regional-and-international-growth-and-development.\n",
            "2025-01-26 22:05:06,934 [MainThread  ] [INFO ]  Retrieving https://www.orfonline.org/expert-speak/pakistan-why-has-china-halted-cpec-projects to /tmp/expert-speak-pakistan-why-has-china-halted-cpec-projects.\n",
            "INFO:tika.tika:Retrieving https://www.orfonline.org/expert-speak/pakistan-why-has-china-halted-cpec-projects to /tmp/expert-speak-pakistan-why-has-china-halted-cpec-projects.\n",
            "2025-01-26 22:05:07,053 [MainThread  ] [INFO ]  Retrieving https://www.globaltimes.cn/page/202302/1284986.shtml to /tmp/page-202302-1284986.shtml.\n",
            "INFO:tika.tika:Retrieving https://www.globaltimes.cn/page/202302/1284986.shtml to /tmp/page-202302-1284986.shtml.\n"
          ]
        },
        {
          "output_type": "stream",
          "name": "stdout",
          "text": [
            "Error processing URL\n"
          ]
        },
        {
          "output_type": "stream",
          "name": "stderr",
          "text": [
            "2025-01-26 22:05:07,658 [MainThread  ] [INFO ]  Retrieving https://asiatimes.com/2017/03/cpec-game-changer-might-change-nothing/ to /tmp/2017-03-cpec-game-changer-might-change-nothing.\n",
            "INFO:tika.tika:Retrieving https://asiatimes.com/2017/03/cpec-game-changer-might-change-nothing/ to /tmp/2017-03-cpec-game-changer-might-change-nothing.\n",
            "2025-01-26 22:05:11,437 [MainThread  ] [INFO ]  Retrieving https://muse.jhu.edu/article/837036 to /tmp/article-837036.\n",
            "INFO:tika.tika:Retrieving https://muse.jhu.edu/article/837036 to /tmp/article-837036.\n",
            "2025-01-26 22:05:11,960 [MainThread  ] [INFO ]  Retrieving https://english.www.gov.cn/news/internationalexchanges/202112/09/content_WS61b1b9e6c6d09c94e48a2022.html to /tmp/news-internationalexchanges-202112-09-content_ws61b1b9e6c6d09c94e48a2022.html.\n",
            "INFO:tika.tika:Retrieving https://english.www.gov.cn/news/internationalexchanges/202112/09/content_WS61b1b9e6c6d09c94e48a2022.html to /tmp/news-internationalexchanges-202112-09-content_ws61b1b9e6c6d09c94e48a2022.html.\n"
          ]
        },
        {
          "output_type": "stream",
          "name": "stdout",
          "text": [
            "Error processing URL\n"
          ]
        },
        {
          "output_type": "stream",
          "name": "stderr",
          "text": [
            "2025-01-26 22:05:13,582 [MainThread  ] [INFO ]  Retrieving https://ouci.dntb.gov.ua/en/works/lxK0YB84/ to /tmp/en-works-lxk0yb84.\n",
            "INFO:tika.tika:Retrieving https://ouci.dntb.gov.ua/en/works/lxK0YB84/ to /tmp/en-works-lxk0yb84.\n",
            "2025-01-26 22:05:15,854 [MainThread  ] [INFO ]  Retrieving https://uclg-aspac.org/brlc/2021/09/24/green-economic-corridor-contributes-to-pakistans-sustainable-development/ to /tmp/brlc-2021-09-24-green-economic-corridor-contributes-to-pakistans-sustainable-development.\n",
            "INFO:tika.tika:Retrieving https://uclg-aspac.org/brlc/2021/09/24/green-economic-corridor-contributes-to-pakistans-sustainable-development/ to /tmp/brlc-2021-09-24-green-economic-corridor-contributes-to-pakistans-sustainable-development.\n",
            "2025-01-26 22:05:17,553 [MainThread  ] [INFO ]  Retrieving https://www.proquest.com/docview/2356831322?pq-origsite=gscholar&fromopenview=true&sourcetype=Scholarly%20Journals to /tmp/docview-2356831322.\n",
            "INFO:tika.tika:Retrieving https://www.proquest.com/docview/2356831322?pq-origsite=gscholar&fromopenview=true&sourcetype=Scholarly%20Journals to /tmp/docview-2356831322.\n",
            "2025-01-26 22:05:17,712 [MainThread  ] [INFO ]  Retrieving https://enggpost.com/cpec-game-changer-energy-projects/ to /tmp/cpec-game-changer-energy-projects.\n",
            "INFO:tika.tika:Retrieving https://enggpost.com/cpec-game-changer-energy-projects/ to /tmp/cpec-game-changer-energy-projects.\n"
          ]
        },
        {
          "output_type": "stream",
          "name": "stdout",
          "text": [
            "Error processing URL\n"
          ]
        },
        {
          "output_type": "stream",
          "name": "stderr",
          "text": [
            "2025-01-26 22:05:20,509 [MainThread  ] [INFO ]  Retrieving https://discovery.researcher.life/article/risk-assessment-of-sustainable-renewable-energy-resources-on-cpec-route/446f8e9f0dd53398afe2c430d84bba19 to /tmp/article-risk-assessment-of-sustainable-renewable-energy-resources-on-cpec-route-446f8e9f0dd53398afe2c430d84bba19.\n",
            "INFO:tika.tika:Retrieving https://discovery.researcher.life/article/risk-assessment-of-sustainable-renewable-energy-resources-on-cpec-route/446f8e9f0dd53398afe2c430d84bba19 to /tmp/article-risk-assessment-of-sustainable-renewable-energy-resources-on-cpec-route-446f8e9f0dd53398afe2c430d84bba19.\n",
            "2025-01-26 22:05:24,297 [MainThread  ] [INFO ]  Retrieving https://research.brighton.ac.uk/en/publications/integration-of-green-supply-chain-management-practices-in-constru to /tmp/en-publications-integration-of-green-supply-chain-management-practices-in-constru.\n",
            "INFO:tika.tika:Retrieving https://research.brighton.ac.uk/en/publications/integration-of-green-supply-chain-management-practices-in-constru to /tmp/en-publications-integration-of-green-supply-chain-management-practices-in-constru.\n",
            "2025-01-26 22:05:24,721 [MainThread  ] [INFO ]  Retrieving http://en.people.cn/n3/2024/0822/c90000-20208868.html to /tmp/n3-2024-0822-c90000-20208868.html.\n",
            "INFO:tika.tika:Retrieving http://en.people.cn/n3/2024/0822/c90000-20208868.html to /tmp/n3-2024-0822-c90000-20208868.html.\n"
          ]
        },
        {
          "output_type": "stream",
          "name": "stdout",
          "text": [
            "Error processing URL\n"
          ]
        },
        {
          "output_type": "stream",
          "name": "stderr",
          "text": [
            "2025-01-26 22:05:26,169 [MainThread  ] [INFO ]  Retrieving https://english.news.cn/20230406/ce8a47f71f9244e09669f7c7449c7ef7/c.html to /tmp/20230406-ce8a47f71f9244e09669f7c7449c7ef7-c.html.\n",
            "INFO:tika.tika:Retrieving https://english.news.cn/20230406/ce8a47f71f9244e09669f7c7449c7ef7/c.html to /tmp/20230406-ce8a47f71f9244e09669f7c7449c7ef7-c.html.\n",
            "2025-01-26 22:05:27,378 [MainThread  ] [INFO ]  Retrieving https://www.degruyter.com/document/doi/10.1515/reveh-2020-0111/html?lang=en&srsltid=AfmBOooMACMcsIYFJil8wHS2I6diH5bn-ylJZ2p8xCs6byrZeQftHTrZ to /tmp/document-doi-10.1515-reveh-2020-0111-html.\n",
            "INFO:tika.tika:Retrieving https://www.degruyter.com/document/doi/10.1515/reveh-2020-0111/html?lang=en&srsltid=AfmBOooMACMcsIYFJil8wHS2I6diH5bn-ylJZ2p8xCs6byrZeQftHTrZ to /tmp/document-doi-10.1515-reveh-2020-0111-html.\n",
            "2025-01-26 22:05:28,550 [MainThread  ] [INFO ]  Retrieving https://www.world-energy.org/article/29273.html to /tmp/article-29273.html.\n",
            "INFO:tika.tika:Retrieving https://www.world-energy.org/article/29273.html to /tmp/article-29273.html.\n",
            "2025-01-26 22:05:28,667 [MainThread  ] [INFO ]  Retrieving https://greenfdc.org/tag/cpec/ to /tmp/tag-cpec.\n",
            "INFO:tika.tika:Retrieving https://greenfdc.org/tag/cpec/ to /tmp/tag-cpec.\n"
          ]
        },
        {
          "output_type": "stream",
          "name": "stdout",
          "text": [
            "Error processing URL\n"
          ]
        },
        {
          "output_type": "stream",
          "name": "stderr",
          "text": [
            "2025-01-26 22:05:30,285 [MainThread  ] [INFO ]  Retrieving https://gunnersshot.com/2019/12/08/coal-firing-cpec-colonisation-of-pakistan-enrichment-of-china/ to /tmp/2019-12-08-coal-firing-cpec-colonisation-of-pakistan-enrichment-of-china.\n",
            "INFO:tika.tika:Retrieving https://gunnersshot.com/2019/12/08/coal-firing-cpec-colonisation-of-pakistan-enrichment-of-china/ to /tmp/2019-12-08-coal-firing-cpec-colonisation-of-pakistan-enrichment-of-china.\n",
            "2025-01-26 22:05:31,089 [MainThread  ] [INFO ]  Retrieving https://cscr.pk/explore/themes/trade-economics/cpec-through-the-lens-of-pakistans-foreign-policy/ to /tmp/explore-themes-trade-economics-cpec-through-the-lens-of-pakistans-foreign-policy.\n",
            "INFO:tika.tika:Retrieving https://cscr.pk/explore/themes/trade-economics/cpec-through-the-lens-of-pakistans-foreign-policy/ to /tmp/explore-themes-trade-economics-cpec-through-the-lens-of-pakistans-foreign-policy.\n",
            "2025-01-26 22:05:31,803 [MainThread  ] [INFO ]  Retrieving https://journals.umt.edu.pk/index.php/jarms/article/view/4887 to /tmp/index.php-jarms-article-view-4887.\n",
            "INFO:tika.tika:Retrieving https://journals.umt.edu.pk/index.php/jarms/article/view/4887 to /tmp/index.php-jarms-article-view-4887.\n"
          ]
        },
        {
          "output_type": "stream",
          "name": "stdout",
          "text": [
            "Error processing URL\n"
          ]
        },
        {
          "output_type": "stream",
          "name": "stderr",
          "text": [
            "2025-01-26 22:05:32,103 [MainThread  ] [INFO ]  Retrieving https://cscc.sas.upenn.edu/events/2020/02/25/china-pakistan-economic-corridor-power-projects-insights-environmental-and-debt to /tmp/events-2020-02-25-china-pakistan-economic-corridor-power-projects-insights-environmental-and-debt.\n",
            "INFO:tika.tika:Retrieving https://cscc.sas.upenn.edu/events/2020/02/25/china-pakistan-economic-corridor-power-projects-insights-environmental-and-debt to /tmp/events-2020-02-25-china-pakistan-economic-corridor-power-projects-insights-environmental-and-debt.\n"
          ]
        },
        {
          "output_type": "stream",
          "name": "stdout",
          "text": [
            "Error processing URL\n"
          ]
        },
        {
          "output_type": "stream",
          "name": "stderr",
          "text": [
            "2025-01-26 22:05:32,567 [MainThread  ] [INFO ]  Retrieving https://www.csis.org/analysis/china-pakistan-economic-corridor-five to /tmp/analysis-china-pakistan-economic-corridor-five.\n",
            "INFO:tika.tika:Retrieving https://www.csis.org/analysis/china-pakistan-economic-corridor-five to /tmp/analysis-china-pakistan-economic-corridor-five.\n",
            "2025-01-26 22:05:33,733 [MainThread  ] [INFO ]  Retrieving https://science.thewire.in/external-affairs/south-asia/cpec-china-pakistan-military-environment-coal/ to /tmp/external-affairs-south-asia-cpec-china-pakistan-military-environment-coal.\n",
            "INFO:tika.tika:Retrieving https://science.thewire.in/external-affairs/south-asia/cpec-china-pakistan-military-environment-coal/ to /tmp/external-affairs-south-asia-cpec-china-pakistan-military-environment-coal.\n",
            "2025-01-26 22:05:35,720 [MainThread  ] [INFO ]  Retrieving https://www.jstor.org/stable/44986508?seq=1 to /tmp/stable-44986508.\n",
            "INFO:tika.tika:Retrieving https://www.jstor.org/stable/44986508?seq=1 to /tmp/stable-44986508.\n",
            "2025-01-26 22:05:35,997 [MainThread  ] [INFO ]  Retrieving https://www.internationalaffairs.org.au/australianoutlook/china-pakistan-corridor-quo-vadis/ to /tmp/australianoutlook-china-pakistan-corridor-quo-vadis.\n",
            "INFO:tika.tika:Retrieving https://www.internationalaffairs.org.au/australianoutlook/china-pakistan-corridor-quo-vadis/ to /tmp/australianoutlook-china-pakistan-corridor-quo-vadis.\n"
          ]
        },
        {
          "output_type": "stream",
          "name": "stdout",
          "text": [
            "Error processing URL\n"
          ]
        },
        {
          "output_type": "stream",
          "name": "stderr",
          "text": [
            "2025-01-26 22:05:37,422 [MainThread  ] [INFO ]  Retrieving https://www.cell.com/heliyon/fulltext/S2405-8440(24)09386-1 to /tmp/heliyon-fulltext-s2405-8440-24-09386-1.\n",
            "INFO:tika.tika:Retrieving https://www.cell.com/heliyon/fulltext/S2405-8440(24)09386-1 to /tmp/heliyon-fulltext-s2405-8440-24-09386-1.\n",
            "2025-01-26 22:05:37,635 [MainThread  ] [INFO ]  Retrieving https://www.eco-business.com/zh-hans/opinion/why-dont-cpec-projects-factor-in-the-climate-crisis/ to /tmp/zh-hans-opinion-why-dont-cpec-projects-factor-in-the-climate-crisis.\n",
            "INFO:tika.tika:Retrieving https://www.eco-business.com/zh-hans/opinion/why-dont-cpec-projects-factor-in-the-climate-crisis/ to /tmp/zh-hans-opinion-why-dont-cpec-projects-factor-in-the-climate-crisis.\n"
          ]
        },
        {
          "output_type": "stream",
          "name": "stdout",
          "text": [
            "Error processing URL\n"
          ]
        },
        {
          "output_type": "stream",
          "name": "stderr",
          "text": [
            "2025-01-26 22:05:39,238 [MainThread  ] [INFO ]  Retrieving https://www.ingentaconnect.com/content/mcb/ijdi/2021/00000021/00000001/art00008 to /tmp/content-mcb-ijdi-2021-00000021-00000001-art00008.\n",
            "INFO:tika.tika:Retrieving https://www.ingentaconnect.com/content/mcb/ijdi/2021/00000021/00000001/art00008 to /tmp/content-mcb-ijdi-2021-00000021-00000001-art00008.\n",
            "2025-01-26 22:05:39,415 [MainThread  ] [INFO ]  Retrieving https://www.iiss.org/online-analysis/online-analysis/2019/09/sasia-pakistan-protects-chinese-investments/ to /tmp/online-analysis-online-analysis-2019-09-sasia-pakistan-protects-chinese-investments.\n",
            "INFO:tika.tika:Retrieving https://www.iiss.org/online-analysis/online-analysis/2019/09/sasia-pakistan-protects-chinese-investments/ to /tmp/online-analysis-online-analysis-2019-09-sasia-pakistan-protects-chinese-investments.\n"
          ]
        },
        {
          "output_type": "stream",
          "name": "stdout",
          "text": [
            "Error processing URL\n"
          ]
        },
        {
          "output_type": "stream",
          "name": "stderr",
          "text": [
            "2025-01-26 22:05:39,622 [MainThread  ] [INFO ]  Retrieving https://global.chinadaily.com.cn/a/202403/04/WS65e57fc3a31082fc043ba7f2.html to /tmp/a-202403-04-ws65e57fc3a31082fc043ba7f2.html.\n",
            "INFO:tika.tika:Retrieving https://global.chinadaily.com.cn/a/202403/04/WS65e57fc3a31082fc043ba7f2.html to /tmp/a-202403-04-ws65e57fc3a31082fc043ba7f2.html.\n"
          ]
        },
        {
          "output_type": "stream",
          "name": "stdout",
          "text": [
            "Error processing URL\n"
          ]
        },
        {
          "output_type": "stream",
          "name": "stderr",
          "text": [
            "2025-01-26 22:05:40,360 [MainThread  ] [INFO ]  Retrieving https://iucn.org/news/pakistan/201902/chinese-delegation-studying-belt-and-road-initiative-calls-environmental-safeguards-along-cpec to /tmp/news-pakistan-201902-chinese-delegation-studying-belt-and-road-initiative-calls-environmental-safeguards-along-cpec.\n",
            "INFO:tika.tika:Retrieving https://iucn.org/news/pakistan/201902/chinese-delegation-studying-belt-and-road-initiative-calls-environmental-safeguards-along-cpec to /tmp/news-pakistan-201902-chinese-delegation-studying-belt-and-road-initiative-calls-environmental-safeguards-along-cpec.\n",
            "2025-01-26 22:05:40,502 [MainThread  ] [INFO ]  Retrieving https://www.mdpi.com/2071-1050/15/7/5870 to /tmp/2071-1050-15-7-5870.\n",
            "INFO:tika.tika:Retrieving https://www.mdpi.com/2071-1050/15/7/5870 to /tmp/2071-1050-15-7-5870.\n",
            "2025-01-26 22:05:40,626 [MainThread  ] [INFO ]  Retrieving https://www.cpicglobal.com/how-cpec-is-contributing-to-green-and-sustainable-development/ to /tmp/how-cpec-is-contributing-to-green-and-sustainable-development.\n",
            "INFO:tika.tika:Retrieving https://www.cpicglobal.com/how-cpec-is-contributing-to-green-and-sustainable-development/ to /tmp/how-cpec-is-contributing-to-green-and-sustainable-development.\n"
          ]
        },
        {
          "output_type": "stream",
          "name": "stdout",
          "text": [
            "Error processing URL\n",
            "Error processing URL\n"
          ]
        },
        {
          "output_type": "stream",
          "name": "stderr",
          "text": [
            "2025-01-26 22:05:40,738 [MainThread  ] [INFO ]  Retrieving https://cscr.pk/explore/themes/energy-environment/dirty-energy-in-new-pakistan/ to /tmp/explore-themes-energy-environment-dirty-energy-in-new-pakistan.\n",
            "INFO:tika.tika:Retrieving https://cscr.pk/explore/themes/energy-environment/dirty-energy-in-new-pakistan/ to /tmp/explore-themes-energy-environment-dirty-energy-in-new-pakistan.\n"
          ]
        },
        {
          "output_type": "stream",
          "name": "stdout",
          "text": [
            "Error processing URL\n"
          ]
        },
        {
          "output_type": "stream",
          "name": "stderr",
          "text": [
            "2025-01-26 22:05:41,356 [MainThread  ] [INFO ]  Retrieving https://www.eurasiareview.com/29032018-cpec-an-environment-friendly-project-oped/ to /tmp/29032018-cpec-an-environment-friendly-project-oped.\n",
            "INFO:tika.tika:Retrieving https://www.eurasiareview.com/29032018-cpec-an-environment-friendly-project-oped/ to /tmp/29032018-cpec-an-environment-friendly-project-oped.\n",
            "2025-01-26 22:05:41,483 [MainThread  ] [INFO ]  Retrieving https://profit.pakistantoday.com.pk/2025/01/20/green-sez-development-under-cpec-opportunity-for-pakistan-to-raise-climate-competitive-industry-experts/ to /tmp/2025-01-20-green-sez-development-under-cpec-opportunity-for-pakistan-to-raise-climate-competitive-industry-experts.\n",
            "INFO:tika.tika:Retrieving https://profit.pakistantoday.com.pk/2025/01/20/green-sez-development-under-cpec-opportunity-for-pakistan-to-raise-climate-competitive-industry-experts/ to /tmp/2025-01-20-green-sez-development-under-cpec-opportunity-for-pakistan-to-raise-climate-competitive-industry-experts.\n"
          ]
        },
        {
          "output_type": "stream",
          "name": "stdout",
          "text": [
            "Error processing URL\n",
            "Error processing URL\n"
          ]
        },
        {
          "output_type": "stream",
          "name": "stderr",
          "text": [
            "2025-01-26 22:05:41,594 [MainThread  ] [INFO ]  Retrieving https://ieeexplore.ieee.org/document/9417226 to /tmp/document-9417226.\n",
            "INFO:tika.tika:Retrieving https://ieeexplore.ieee.org/document/9417226 to /tmp/document-9417226.\n",
            "2025-01-26 22:05:41,681 [MainThread  ] [INFO ]  Retrieving https://cpecwire.com/analysis/china-pakistan-economic-corridor-what-is-cpec-faq/ to /tmp/analysis-china-pakistan-economic-corridor-what-is-cpec-faq.\n",
            "INFO:tika.tika:Retrieving https://cpecwire.com/analysis/china-pakistan-economic-corridor-what-is-cpec-faq/ to /tmp/analysis-china-pakistan-economic-corridor-what-is-cpec-faq.\n"
          ]
        },
        {
          "output_type": "stream",
          "name": "stdout",
          "text": [
            "Error processing URL\n",
            "Error processing URL\n"
          ]
        },
        {
          "output_type": "stream",
          "name": "stderr",
          "text": [
            "2025-01-26 22:05:41,799 [MainThread  ] [INFO ]  Retrieving https://carbs.superior.edu.pk/policy-lab/policy-paths-of-cpec-a-threat-to-environmental-degradation-in-pakistan/ to /tmp/policy-lab-policy-paths-of-cpec-a-threat-to-environmental-degradation-in-pakistan.\n",
            "INFO:tika.tika:Retrieving https://carbs.superior.edu.pk/policy-lab/policy-paths-of-cpec-a-threat-to-environmental-degradation-in-pakistan/ to /tmp/policy-lab-policy-paths-of-cpec-a-threat-to-environmental-degradation-in-pakistan.\n"
          ]
        },
        {
          "output_type": "stream",
          "name": "stdout",
          "text": [
            "Error processing URL\n"
          ]
        },
        {
          "output_type": "stream",
          "name": "stderr",
          "text": [
            "2025-01-26 22:05:45,210 [MainThread  ] [INFO ]  Retrieving https://www.dawn.com/news/1780109 to /tmp/news-1780109.\n",
            "INFO:tika.tika:Retrieving https://www.dawn.com/news/1780109 to /tmp/news-1780109.\n",
            "2025-01-26 22:05:46,488 [MainThread  ] [INFO ]  Retrieving https://www.cfr.org/expert-brief/behind-chinas-gambit-pakistan to /tmp/expert-brief-behind-chinas-gambit-pakistan.\n",
            "INFO:tika.tika:Retrieving https://www.cfr.org/expert-brief/behind-chinas-gambit-pakistan to /tmp/expert-brief-behind-chinas-gambit-pakistan.\n",
            "2025-01-26 22:05:46,619 [MainThread  ] [INFO ]  Retrieving https://www.wilsoncenter.org/event/webcast-its-not-easy-being-green-obstacles-clean-energy-china-pakistan-economic-corridor to /tmp/event-webcast-its-not-easy-being-green-obstacles-clean-energy-china-pakistan-economic-corridor.\n",
            "INFO:tika.tika:Retrieving https://www.wilsoncenter.org/event/webcast-its-not-easy-being-green-obstacles-clean-energy-china-pakistan-economic-corridor to /tmp/event-webcast-its-not-easy-being-green-obstacles-clean-energy-china-pakistan-economic-corridor.\n"
          ]
        },
        {
          "output_type": "stream",
          "name": "stdout",
          "text": [
            "Error processing URL\n"
          ]
        },
        {
          "output_type": "stream",
          "name": "stderr",
          "text": [
            "2025-01-26 22:05:47,615 [MainThread  ] [INFO ]  Retrieving https://www.degruyter.com/document/doi/10.1515/reveh-2020-0111/html?lang=en&srsltid=AfmBOooma-edT6uAXqIG1t6UlpsNyIOrvoTULFIwClRpDiYdZxQNwtkq to /tmp/document-doi-10.1515-reveh-2020-0111-html.\n",
            "INFO:tika.tika:Retrieving https://www.degruyter.com/document/doi/10.1515/reveh-2020-0111/html?lang=en&srsltid=AfmBOooma-edT6uAXqIG1t6UlpsNyIOrvoTULFIwClRpDiYdZxQNwtkq to /tmp/document-doi-10.1515-reveh-2020-0111-html.\n",
            "2025-01-26 22:05:49,467 [MainThread  ] [INFO ]  Retrieving https://www.weforum.org/stories/2018/07/opportunities-and-risks-the-china-pakistan-economic-corridor/ to /tmp/stories-2018-07-opportunities-and-risks-the-china-pakistan-economic-corridor.\n",
            "INFO:tika.tika:Retrieving https://www.weforum.org/stories/2018/07/opportunities-and-risks-the-china-pakistan-economic-corridor/ to /tmp/stories-2018-07-opportunities-and-risks-the-china-pakistan-economic-corridor.\n",
            "2025-01-26 22:05:49,819 [MainThread  ] [INFO ]  Retrieving https://www.bu.edu/gdp/2022/02/15/growing-momentum-for-coal-phase-down-in-the-global-south-lessons-from-pakistan/ to /tmp/gdp-2022-02-15-growing-momentum-for-coal-phase-down-in-the-global-south-lessons-from-pakistan.\n",
            "INFO:tika.tika:Retrieving https://www.bu.edu/gdp/2022/02/15/growing-momentum-for-coal-phase-down-in-the-global-south-lessons-from-pakistan/ to /tmp/gdp-2022-02-15-growing-momentum-for-coal-phase-down-in-the-global-south-lessons-from-pakistan.\n"
          ]
        },
        {
          "output_type": "stream",
          "name": "stdout",
          "text": [
            "Error processing URL\n"
          ]
        },
        {
          "output_type": "stream",
          "name": "stderr",
          "text": [
            "2025-01-26 22:05:50,328 [MainThread  ] [INFO ]  Retrieving https://www.newsecuritybeat.org/2022/02/reducing-environmental-social-costs-chinese-investments-pakistan/ to /tmp/2022-02-reducing-environmental-social-costs-chinese-investments-pakistan.\n",
            "INFO:tika.tika:Retrieving https://www.newsecuritybeat.org/2022/02/reducing-environmental-social-costs-chinese-investments-pakistan/ to /tmp/2022-02-reducing-environmental-social-costs-chinese-investments-pakistan.\n",
            "2025-01-26 22:05:52,021 [MainThread  ] [INFO ]  Retrieving https://tribune.com.pk/story/1447859/cpec-environment-good-bad-ugly to /tmp/story-1447859-cpec-environment-good-bad-ugly.\n",
            "INFO:tika.tika:Retrieving https://tribune.com.pk/story/1447859/cpec-environment-good-bad-ugly to /tmp/story-1447859-cpec-environment-good-bad-ugly.\n",
            "2025-01-26 22:05:52,583 [MainThread  ] [INFO ]  Retrieving https://www.voanews.com/a/china-calls-pakistan-cpec-fastest-and-most-effective-of-bri-projects/3951874.html to /tmp/a-china-calls-pakistan-cpec-fastest-and-most-effective-of-bri-projects-3951874.html.\n",
            "INFO:tika.tika:Retrieving https://www.voanews.com/a/china-calls-pakistan-cpec-fastest-and-most-effective-of-bri-projects/3951874.html to /tmp/a-china-calls-pakistan-cpec-fastest-and-most-effective-of-bri-projects-3951874.html.\n",
            "2025-01-26 22:05:53,517 [MainThread  ] [INFO ]  Retrieving http://pk.china-embassy.gov.cn/eng/zbgx/202106/t20210623_8906534.htm to /tmp/eng-zbgx-202106-t20210623_8906534.htm.\n",
            "INFO:tika.tika:Retrieving http://pk.china-embassy.gov.cn/eng/zbgx/202106/t20210623_8906534.htm to /tmp/eng-zbgx-202106-t20210623_8906534.htm.\n",
            "2025-01-26 22:05:54,416 [MainThread  ] [INFO ]  Retrieving https://www.frontiersin.org/journals/psychology/articles/10.3389/fpsyg.2021.816592/full to /tmp/journals-psychology-articles-10.3389-fpsyg.2021.816592-full.\n",
            "INFO:tika.tika:Retrieving https://www.frontiersin.org/journals/psychology/articles/10.3389/fpsyg.2021.816592/full to /tmp/journals-psychology-articles-10.3389-fpsyg.2021.816592-full.\n",
            "2025-01-26 22:05:58,544 [MainThread  ] [INFO ]  Retrieving https://www.globaltimes.cn/page/202407/1316122.shtml to /tmp/page-202407-1316122.shtml.\n",
            "INFO:tika.tika:Retrieving https://www.globaltimes.cn/page/202407/1316122.shtml to /tmp/page-202407-1316122.shtml.\n",
            "2025-01-26 22:05:59,675 [MainThread  ] [INFO ]  Retrieving https://www.crisisgroup.org/asia/south-asia/pakistan/297-china-pakistan-economic-corridor-opportunities-and-risks to /tmp/asia-south-asia-pakistan-297-china-pakistan-economic-corridor-opportunities-and-risks.\n",
            "INFO:tika.tika:Retrieving https://www.crisisgroup.org/asia/south-asia/pakistan/297-china-pakistan-economic-corridor-opportunities-and-risks to /tmp/asia-south-asia-pakistan-297-china-pakistan-economic-corridor-opportunities-and-risks.\n",
            "2025-01-26 22:05:59,800 [MainThread  ] [INFO ]  Retrieving https://www.intellinews.com/chinese-power-projects-under-cpec-leave-pakistan-struggling-with-debt-362768/ to /tmp/chinese-power-projects-under-cpec-leave-pakistan-struggling-with-debt-362768.\n",
            "INFO:tika.tika:Retrieving https://www.intellinews.com/chinese-power-projects-under-cpec-leave-pakistan-struggling-with-debt-362768/ to /tmp/chinese-power-projects-under-cpec-leave-pakistan-struggling-with-debt-362768.\n"
          ]
        },
        {
          "output_type": "stream",
          "name": "stdout",
          "text": [
            "Error processing URL\n"
          ]
        },
        {
          "output_type": "stream",
          "name": "stderr",
          "text": [
            "2025-01-26 22:06:02,819 [MainThread  ] [INFO ]  Retrieving https://pubs.aip.org/aip/jrse/article-abstract/10/6/065905/281336/Analysis-of-power-plants-in-China-Pakistan?redirectedFrom=fulltext to /tmp/aip-jrse-article-abstract-10-6-065905-281336-analysis-of-power-plants-in-china-pakistan.\n",
            "INFO:tika.tika:Retrieving https://pubs.aip.org/aip/jrse/article-abstract/10/6/065905/281336/Analysis-of-power-plants-in-China-Pakistan?redirectedFrom=fulltext to /tmp/aip-jrse-article-abstract-10-6-065905-281336-analysis-of-power-plants-in-china-pakistan.\n",
            "2025-01-26 22:06:02,925 [MainThread  ] [INFO ]  Retrieving https://www.reuters.com/article/world/pakistan-ramps-up-coal-power-with-chinese-backed-plants-idUSKBN17Z018/ to /tmp/article-world-pakistan-ramps-up-coal-power-with-chinese-backed-plants-iduskbn17z018.\n",
            "INFO:tika.tika:Retrieving https://www.reuters.com/article/world/pakistan-ramps-up-coal-power-with-chinese-backed-plants-idUSKBN17Z018/ to /tmp/article-world-pakistan-ramps-up-coal-power-with-chinese-backed-plants-iduskbn17z018.\n",
            "2025-01-26 22:06:03,078 [MainThread  ] [INFO ]  Retrieving https://reconasia.csis.org/cpec-at-three/ to /tmp/cpec-at-three.\n",
            "INFO:tika.tika:Retrieving https://reconasia.csis.org/cpec-at-three/ to /tmp/cpec-at-three.\n"
          ]
        },
        {
          "output_type": "stream",
          "name": "stdout",
          "text": [
            "Error processing URL\n",
            "Error processing URL\n"
          ]
        },
        {
          "output_type": "stream",
          "name": "stderr",
          "text": [
            "2025-01-26 22:06:03,412 [MainThread  ] [INFO ]  Retrieving https://bulletin.ids.ac.uk/index.php/idsbo/article/view/3066/3047 to /tmp/index.php-idsbo-article-view-3066-3047.\n",
            "INFO:tika.tika:Retrieving https://bulletin.ids.ac.uk/index.php/idsbo/article/view/3066/3047 to /tmp/index.php-idsbo-article-view-3066-3047.\n"
          ]
        },
        {
          "output_type": "stream",
          "name": "stdout",
          "text": [
            "Error processing URL\n"
          ]
        },
        {
          "output_type": "stream",
          "name": "stderr",
          "text": [
            "2025-01-26 22:06:03,922 [MainThread  ] [INFO ]  Retrieving https://www.cfr.org/backgrounder/chinas-massive-belt-and-road-initiative to /tmp/backgrounder-chinas-massive-belt-and-road-initiative.\n",
            "INFO:tika.tika:Retrieving https://www.cfr.org/backgrounder/chinas-massive-belt-and-road-initiative to /tmp/backgrounder-chinas-massive-belt-and-road-initiative.\n",
            "2025-01-26 22:06:04,022 [MainThread  ] [INFO ]  Retrieving https://ieefa.org/resources/pakistans-power-future-renewable-energy-provides-more-diverse-secure-and-cost-effective to /tmp/resources-pakistans-power-future-renewable-energy-provides-more-diverse-secure-and-cost-effective.\n",
            "INFO:tika.tika:Retrieving https://ieefa.org/resources/pakistans-power-future-renewable-energy-provides-more-diverse-secure-and-cost-effective to /tmp/resources-pakistans-power-future-renewable-energy-provides-more-diverse-secure-and-cost-effective.\n"
          ]
        },
        {
          "output_type": "stream",
          "name": "stdout",
          "text": [
            "Error processing URL\n",
            "Error processing URL\n"
          ]
        },
        {
          "output_type": "stream",
          "name": "stderr",
          "text": [
            "2025-01-26 22:06:04,161 [MainThread  ] [INFO ]  Retrieving https://www.bu.edu/pardeeschool/2017/12/01/najam-in-eurasia-reviwq-on-cpec-transparency/ to /tmp/pardeeschool-2017-12-01-najam-in-eurasia-reviwq-on-cpec-transparency.\n",
            "INFO:tika.tika:Retrieving https://www.bu.edu/pardeeschool/2017/12/01/najam-in-eurasia-reviwq-on-cpec-transparency/ to /tmp/pardeeschool-2017-12-01-najam-in-eurasia-reviwq-on-cpec-transparency.\n",
            "2025-01-26 22:06:04,323 [MainThread  ] [INFO ]  Retrieving https://www.nation.com.pk/21-Jan-2025/experts-call-for-learning-from-china-s-experience-in-developing-green-sezs-under-cpec to /tmp/21-jan-2025-experts-call-for-learning-from-china-s-experience-in-developing-green-sezs-under-cpec.\n",
            "INFO:tika.tika:Retrieving https://www.nation.com.pk/21-Jan-2025/experts-call-for-learning-from-china-s-experience-in-developing-green-sezs-under-cpec to /tmp/21-jan-2025-experts-call-for-learning-from-china-s-experience-in-developing-green-sezs-under-cpec.\n"
          ]
        },
        {
          "output_type": "stream",
          "name": "stdout",
          "text": [
            "Error processing URL\n"
          ]
        },
        {
          "output_type": "stream",
          "name": "stderr",
          "text": [
            "2025-01-26 22:06:05,931 [MainThread  ] [INFO ]  Retrieving https://www.arabnews.com/node/2586996/pakistan to /tmp/node-2586996-pakistan.\n",
            "INFO:tika.tika:Retrieving https://www.arabnews.com/node/2586996/pakistan to /tmp/node-2586996-pakistan.\n",
            "2025-01-26 22:06:06,055 [MainThread  ] [INFO ]  Retrieving https://unpo.org/gilgit-baltistan-cpec-likely-to-worsen-environmental-degradation-in-the-region/ to /tmp/gilgit-baltistan-cpec-likely-to-worsen-environmental-degradation-in-the-region.\n",
            "INFO:tika.tika:Retrieving https://unpo.org/gilgit-baltistan-cpec-likely-to-worsen-environmental-degradation-in-the-region/ to /tmp/gilgit-baltistan-cpec-likely-to-worsen-environmental-degradation-in-the-region.\n",
            "2025-01-26 22:06:06,197 [MainThread  ] [INFO ]  Retrieving https://www.plenglish.com/news/2025/01/22/experts-call-for-developing-sezs-under-china-pakistan-cooperation/ to /tmp/news-2025-01-22-experts-call-for-developing-sezs-under-china-pakistan-cooperation.\n",
            "INFO:tika.tika:Retrieving https://www.plenglish.com/news/2025/01/22/experts-call-for-developing-sezs-under-china-pakistan-cooperation/ to /tmp/news-2025-01-22-experts-call-for-developing-sezs-under-china-pakistan-cooperation.\n"
          ]
        },
        {
          "output_type": "stream",
          "name": "stdout",
          "text": [
            "Error processing URL\n",
            "Error processing URL\n"
          ]
        },
        {
          "output_type": "stream",
          "name": "stderr",
          "text": [
            "2025-01-26 22:06:08,373 [MainThread  ] [INFO ]  Retrieving http://en.people.cn/n3/2025/0122/c90000-20268972.html to /tmp/n3-2025-0122-c90000-20268972.html.\n",
            "INFO:tika.tika:Retrieving http://en.people.cn/n3/2025/0122/c90000-20268972.html to /tmp/n3-2025-0122-c90000-20268972.html.\n",
            "2025-01-26 22:06:09,420 [MainThread  ] [INFO ]  Retrieving https://asiatimes.com/2017/06/china-cant-lead-paris-accord-big-coal-cpec/ to /tmp/2017-06-china-cant-lead-paris-accord-big-coal-cpec.\n",
            "INFO:tika.tika:Retrieving https://asiatimes.com/2017/06/china-cant-lead-paris-accord-big-coal-cpec/ to /tmp/2017-06-china-cant-lead-paris-accord-big-coal-cpec.\n",
            "2025-01-26 22:06:12,977 [MainThread  ] [INFO ]  Retrieving https://oilprice.com/Energy/Energy-General/Is-Pakistans-Energy-Sector-a-Ticking-Time-Bomb.html to /tmp/energy-energy-general-is-pakistans-energy-sector-a-ticking-time-bomb.html.\n",
            "INFO:tika.tika:Retrieving https://oilprice.com/Energy/Energy-General/Is-Pakistans-Energy-Sector-a-Ticking-Time-Bomb.html to /tmp/energy-energy-general-is-pakistans-energy-sector-a-ticking-time-bomb.html.\n",
            "2025-01-26 22:06:13,967 [MainThread  ] [INFO ]  Retrieving https://www.aninews.in/news/world/asia/cpec-brings-environmental-disasters-to-gilgit-baltistan201711210801160001/ to /tmp/news-world-asia-cpec-brings-environmental-disasters-to-gilgit-baltistan201711210801160001.\n",
            "INFO:tika.tika:Retrieving https://www.aninews.in/news/world/asia/cpec-brings-environmental-disasters-to-gilgit-baltistan201711210801160001/ to /tmp/news-world-asia-cpec-brings-environmental-disasters-to-gilgit-baltistan201711210801160001.\n",
            "2025-01-26 22:06:14,098 [MainThread  ] [INFO ]  Retrieving https://www.ia-forum.org/Content/ViewInternal_Document.cfm?contenttype_id=1&ContentID=8777 to /tmp/content-viewinternal_document.cfm.\n",
            "INFO:tika.tika:Retrieving https://www.ia-forum.org/Content/ViewInternal_Document.cfm?contenttype_id=1&ContentID=8777 to /tmp/content-viewinternal_document.cfm.\n"
          ]
        },
        {
          "output_type": "stream",
          "name": "stdout",
          "text": [
            "Error processing URL\n"
          ]
        },
        {
          "output_type": "stream",
          "name": "stderr",
          "text": [
            "2025-01-26 22:06:15,282 [MainThread  ] [INFO ]  Retrieving https://www.radio.gov.pk/22-01-2025/achieving-sustainable-development-pakistans-top-priority-aurangzeb to /tmp/22-01-2025-achieving-sustainable-development-pakistans-top-priority-aurangzeb.\n",
            "INFO:tika.tika:Retrieving https://www.radio.gov.pk/22-01-2025/achieving-sustainable-development-pakistans-top-priority-aurangzeb to /tmp/22-01-2025-achieving-sustainable-development-pakistans-top-priority-aurangzeb.\n",
            "2025-01-26 22:06:15,404 [MainThread  ] [INFO ]  Retrieving https://thepakistantimes.com.pk/tag/and-mutual-growth-he-acknowledged-the-transformative-impact-of-cpecs-first-phase/ to /tmp/tag-and-mutual-growth-he-acknowledged-the-transformative-impact-of-cpecs-first-phase.\n",
            "INFO:tika.tika:Retrieving https://thepakistantimes.com.pk/tag/and-mutual-growth-he-acknowledged-the-transformative-impact-of-cpecs-first-phase/ to /tmp/tag-and-mutual-growth-he-acknowledged-the-transformative-impact-of-cpecs-first-phase.\n"
          ]
        },
        {
          "output_type": "stream",
          "name": "stdout",
          "text": [
            "Error processing URL\n"
          ]
        },
        {
          "output_type": "stream",
          "name": "stderr",
          "text": [
            "2025-01-26 22:06:17,278 [MainThread  ] [INFO ]  Retrieving https://tnnenglish.com/coal-a-double-edged-sword-for-energy-and-the-environment to /tmp/coal-a-double-edged-sword-for-energy-and-the-environment.\n",
            "INFO:tika.tika:Retrieving https://tnnenglish.com/coal-a-double-edged-sword-for-energy-and-the-environment to /tmp/coal-a-double-edged-sword-for-energy-and-the-environment.\n",
            "2025-01-26 22:06:17,417 [MainThread  ] [INFO ]  Retrieving https://dunyanews.tv/en/Business/863868-achieving-sustainable-development-pakistans-top-priority-aurangzeb-t to /tmp/en-business-863868-achieving-sustainable-development-pakistans-top-priority-aurangzeb-t.\n",
            "INFO:tika.tika:Retrieving https://dunyanews.tv/en/Business/863868-achieving-sustainable-development-pakistans-top-priority-aurangzeb-t to /tmp/en-business-863868-achieving-sustainable-development-pakistans-top-priority-aurangzeb-t.\n"
          ]
        },
        {
          "output_type": "stream",
          "name": "stdout",
          "text": [
            "Error processing URL\n"
          ]
        },
        {
          "output_type": "stream",
          "name": "stderr",
          "text": [
            "2025-01-26 22:06:18,223 [MainThread  ] [INFO ]  Retrieving https://www.radio.gov.pk/22-01-2025/pakistan-china-writing-new-chapter-of-collaboration-ahsan to /tmp/22-01-2025-pakistan-china-writing-new-chapter-of-collaboration-ahsan.\n",
            "INFO:tika.tika:Retrieving https://www.radio.gov.pk/22-01-2025/pakistan-china-writing-new-chapter-of-collaboration-ahsan to /tmp/22-01-2025-pakistan-china-writing-new-chapter-of-collaboration-ahsan.\n",
            "2025-01-26 22:06:18,336 [MainThread  ] [INFO ]  Retrieving https://dailythepatriot.com/achieving-sustainable-development-pakistans-top-priority-aurangzeb/ to /tmp/achieving-sustainable-development-pakistans-top-priority-aurangzeb.\n",
            "INFO:tika.tika:Retrieving https://dailythepatriot.com/achieving-sustainable-development-pakistans-top-priority-aurangzeb/ to /tmp/achieving-sustainable-development-pakistans-top-priority-aurangzeb.\n"
          ]
        },
        {
          "output_type": "stream",
          "name": "stdout",
          "text": [
            "Error processing URL\n"
          ]
        },
        {
          "output_type": "stream",
          "name": "stderr",
          "text": [
            "2025-01-26 22:06:21,959 [MainThread  ] [INFO ]  Retrieving https://www.nation.com.pk/21-Jan-2025/pakistan-remains-committed-to-china to /tmp/21-jan-2025-pakistan-remains-committed-to-china.\n",
            "INFO:tika.tika:Retrieving https://www.nation.com.pk/21-Jan-2025/pakistan-remains-committed-to-china to /tmp/21-jan-2025-pakistan-remains-committed-to-china.\n",
            "2025-01-26 22:06:23,516 [MainThread  ] [INFO ]  Retrieving https://www.msn.com/en-ae/money/economy/reforms-and-export-led-growth/ar-AA1xwGSH to /tmp/en-ae-money-economy-reforms-and-export-led-growth-ar-aa1xwgsh.\n",
            "INFO:tika.tika:Retrieving https://www.msn.com/en-ae/money/economy/reforms-and-export-led-growth/ar-AA1xwGSH to /tmp/en-ae-money-economy-reforms-and-export-led-growth-ar-aa1xwgsh.\n",
            "2025-01-26 22:06:23,687 [MainThread  ] [INFO ]  Retrieving https://eprints.whiterose.ac.uk/193808/ to /tmp/193808.\n",
            "INFO:tika.tika:Retrieving https://eprints.whiterose.ac.uk/193808/ to /tmp/193808.\n",
            "2025-01-26 22:06:25,182 [MainThread  ] [INFO ]  Retrieving https://www.arabnews.com/node/2587004/pakistan to /tmp/node-2587004-pakistan.\n",
            "INFO:tika.tika:Retrieving https://www.arabnews.com/node/2587004/pakistan to /tmp/node-2587004-pakistan.\n",
            "2025-01-26 22:06:25,262 [MainThread  ] [INFO ]  Retrieving https://pakobserver.net/pakistan-committed-to-find-potential-solutions-to-challenges-of-climate-change-romina/ to /tmp/pakistan-committed-to-find-potential-solutions-to-challenges-of-climate-change-romina.\n",
            "INFO:tika.tika:Retrieving https://pakobserver.net/pakistan-committed-to-find-potential-solutions-to-challenges-of-climate-change-romina/ to /tmp/pakistan-committed-to-find-potential-solutions-to-challenges-of-climate-change-romina.\n",
            "2025-01-26 22:06:25,440 [MainThread  ] [INFO ]  Retrieving https://www.drishtiias.com/daily-updates/daily-news-editorials/india-and-china-rivalry-to-resilience to /tmp/daily-updates-daily-news-editorials-india-and-china-rivalry-to-resilience.\n",
            "INFO:tika.tika:Retrieving https://www.drishtiias.com/daily-updates/daily-news-editorials/india-and-china-rivalry-to-resilience to /tmp/daily-updates-daily-news-editorials-india-and-china-rivalry-to-resilience.\n"
          ]
        },
        {
          "output_type": "stream",
          "name": "stdout",
          "text": [
            "Error processing URL\n",
            "Error processing URL\n"
          ]
        },
        {
          "output_type": "stream",
          "name": "stderr",
          "text": [
            "2025-01-26 22:06:25,577 [MainThread  ] [INFO ]  Retrieving https://sabahnews.net/english/news/pakistans-economic-revival-durdana-najam/ to /tmp/english-news-pakistans-economic-revival-durdana-najam.\n",
            "INFO:tika.tika:Retrieving https://sabahnews.net/english/news/pakistans-economic-revival-durdana-najam/ to /tmp/english-news-pakistans-economic-revival-durdana-najam.\n",
            "2025-01-26 22:06:25,767 [MainThread  ] [INFO ]  Retrieving https://www.chinadailyhk.com/hk/article/368554 to /tmp/hk-article-368554.\n",
            "INFO:tika.tika:Retrieving https://www.chinadailyhk.com/hk/article/368554 to /tmp/hk-article-368554.\n"
          ]
        },
        {
          "output_type": "stream",
          "name": "stdout",
          "text": [
            "Error processing URL\n",
            "Error processing URL\n"
          ]
        },
        {
          "output_type": "stream",
          "name": "stderr",
          "text": [
            "2025-01-26 22:06:26,540 [MainThread  ] [INFO ]  Retrieving https://ouci.dntb.gov.ua/en/works/4vWQRNel/ to /tmp/en-works-4vwqrnel.\n",
            "INFO:tika.tika:Retrieving https://ouci.dntb.gov.ua/en/works/4vWQRNel/ to /tmp/en-works-4vwqrnel.\n",
            "2025-01-26 22:06:28,154 [MainThread  ] [INFO ]  Retrieving https://onlinelibrary.wiley.com/doi/abs/10.1002/pa.2600 to /tmp/doi-abs-10.1002-pa.2600.\n",
            "INFO:tika.tika:Retrieving https://onlinelibrary.wiley.com/doi/abs/10.1002/pa.2600 to /tmp/doi-abs-10.1002-pa.2600.\n",
            "2025-01-26 22:06:28,347 [MainThread  ] [INFO ]  Retrieving https://muse.jhu.edu/article/837036/pdf to /tmp/article-837036-pdf.\n",
            "INFO:tika.tika:Retrieving https://muse.jhu.edu/article/837036/pdf to /tmp/article-837036-pdf.\n"
          ]
        },
        {
          "output_type": "stream",
          "name": "stdout",
          "text": [
            "Error processing URL\n"
          ]
        },
        {
          "output_type": "stream",
          "name": "stderr",
          "text": [
            "2025-01-26 22:06:28,847 [MainThread  ] [INFO ]  Retrieving https://www.aiddata.org/blog/global-insights-with-national-implications-aiddatas-policy-engagements-on-the-china-pakistan-economic-corridor to /tmp/blog-global-insights-with-national-implications-aiddatas-policy-engagements-on-the-china-pakistan-economic-corridor.\n",
            "INFO:tika.tika:Retrieving https://www.aiddata.org/blog/global-insights-with-national-implications-aiddatas-policy-engagements-on-the-china-pakistan-economic-corridor to /tmp/blog-global-insights-with-national-implications-aiddatas-policy-engagements-on-the-china-pakistan-economic-corridor.\n"
          ]
        },
        {
          "output_type": "stream",
          "name": "stdout",
          "text": [
            "Error processing URL\n"
          ]
        },
        {
          "output_type": "stream",
          "name": "stderr",
          "text": [
            "2025-01-26 22:06:29,603 [MainThread  ] [INFO ]  Retrieving https://www.business-humanrights.org/en/latest-news/pakistan-the-changing-dynamics-of-the-chinapakistan-economic-corridor/ to /tmp/en-latest-news-pakistan-the-changing-dynamics-of-the-chinapakistan-economic-corridor.\n",
            "INFO:tika.tika:Retrieving https://www.business-humanrights.org/en/latest-news/pakistan-the-changing-dynamics-of-the-chinapakistan-economic-corridor/ to /tmp/en-latest-news-pakistan-the-changing-dynamics-of-the-chinapakistan-economic-corridor.\n",
            "2025-01-26 22:06:29,723 [MainThread  ] [INFO ]  Retrieving https://www.icwa.in/show_content.php?lang=1&level=3&ls_id=5103&lid=835 to /tmp/show_content.php.\n",
            "INFO:tika.tika:Retrieving https://www.icwa.in/show_content.php?lang=1&level=3&ls_id=5103&lid=835 to /tmp/show_content.php.\n"
          ]
        },
        {
          "output_type": "stream",
          "name": "stdout",
          "text": [
            "Error processing URL\n"
          ]
        },
        {
          "output_type": "stream",
          "name": "stderr",
          "text": [
            "2025-01-26 22:06:33,195 [MainThread  ] [INFO ]  Retrieving https://news.griffith.edu.au/2024/04/11/researchers-propose-mechanism-for-just-energy-transition-in-pakistan/ to /tmp/2024-04-11-researchers-propose-mechanism-for-just-energy-transition-in-pakistan.\n",
            "INFO:tika.tika:Retrieving https://news.griffith.edu.au/2024/04/11/researchers-propose-mechanism-for-just-energy-transition-in-pakistan/ to /tmp/2024-04-11-researchers-propose-mechanism-for-just-energy-transition-in-pakistan.\n",
            "2025-01-26 22:06:33,543 [MainThread  ] [INFO ]  Retrieving https://journals.plos.org/plosone/article?id=10.1371/journal.pone.0288328 to /tmp/plosone-article.\n",
            "INFO:tika.tika:Retrieving https://journals.plos.org/plosone/article?id=10.1371/journal.pone.0288328 to /tmp/plosone-article.\n"
          ]
        },
        {
          "output_type": "stream",
          "name": "stdout",
          "text": [
            "Error processing URL\n"
          ]
        },
        {
          "output_type": "stream",
          "name": "stderr",
          "text": [
            "2025-01-26 22:06:35,849 [MainThread  ] [INFO ]  Retrieving https://eng.yidaiyilu.gov.cn/p/000LBO9G.html to /tmp/p-000lbo9g.html.\n",
            "INFO:tika.tika:Retrieving https://eng.yidaiyilu.gov.cn/p/000LBO9G.html to /tmp/p-000lbo9g.html.\n",
            "2025-01-26 22:06:45,134 [MainThread  ] [INFO ]  Retrieving https://www.rsis.edu.sg/rsis-publication/rsis/china-pakistan-economic-corridor-five-years-on/ to /tmp/rsis-publication-rsis-china-pakistan-economic-corridor-five-years-on.\n",
            "INFO:tika.tika:Retrieving https://www.rsis.edu.sg/rsis-publication/rsis/china-pakistan-economic-corridor-five-years-on/ to /tmp/rsis-publication-rsis-china-pakistan-economic-corridor-five-years-on.\n",
            "2025-01-26 22:06:45,268 [MainThread  ] [INFO ]  Retrieving https://www.orfonline.org/research/responding-to-the-china-pakistan-economic-corridor-challenge to /tmp/research-responding-to-the-china-pakistan-economic-corridor-challenge.\n",
            "INFO:tika.tika:Retrieving https://www.orfonline.org/research/responding-to-the-china-pakistan-economic-corridor-challenge to /tmp/research-responding-to-the-china-pakistan-economic-corridor-challenge.\n",
            "2025-01-26 22:06:45,388 [MainThread  ] [INFO ]  Retrieving https://unpo.org/roundtable-in-washington-d-c-on-china-pakistan-economic-corridor-environmental-impact/ to /tmp/roundtable-in-washington-d-c-on-china-pakistan-economic-corridor-environmental-impact.\n",
            "INFO:tika.tika:Retrieving https://unpo.org/roundtable-in-washington-d-c-on-china-pakistan-economic-corridor-environmental-impact/ to /tmp/roundtable-in-washington-d-c-on-china-pakistan-economic-corridor-environmental-impact.\n"
          ]
        },
        {
          "output_type": "stream",
          "name": "stdout",
          "text": [
            "Error processing URL\n",
            "Error processing URL\n"
          ]
        },
        {
          "output_type": "stream",
          "name": "stderr",
          "text": [
            "2025-01-26 22:06:45,517 [MainThread  ] [INFO ]  Retrieving https://www.stimson.org/wp-content/files/file-attachments/The%20China-Pakistan%20Economic%20Corridor%20-%20Final.pdf to /tmp/wp-content-files-file-attachments-the-20china-pakistan-20economic-20corridor-20-20final.pdf.\n",
            "INFO:tika.tika:Retrieving https://www.stimson.org/wp-content/files/file-attachments/The%20China-Pakistan%20Economic%20Corridor%20-%20Final.pdf to /tmp/wp-content-files-file-attachments-the-20china-pakistan-20economic-20corridor-20-20final.pdf.\n",
            "2025-01-26 22:06:45,631 [MainThread  ] [INFO ]  Retrieving https://library.fes.de/pdf-files/bueros/pakistan/21402.pdf to /tmp/pdf-files-bueros-pakistan-21402.pdf.\n",
            "INFO:tika.tika:Retrieving https://library.fes.de/pdf-files/bueros/pakistan/21402.pdf to /tmp/pdf-files-bueros-pakistan-21402.pdf.\n"
          ]
        },
        {
          "output_type": "stream",
          "name": "stdout",
          "text": [
            "Error processing URL\n",
            "Error processing URL\n"
          ]
        },
        {
          "output_type": "stream",
          "name": "stderr",
          "text": [
            "2025-01-26 22:07:00,484 [MainThread  ] [INFO ]  Retrieving https://monthlyreview.org/2018/06/01/the-china-pakistan-economic-corridor/ to /tmp/2018-06-01-the-china-pakistan-economic-corridor.\n",
            "INFO:tika.tika:Retrieving https://monthlyreview.org/2018/06/01/the-china-pakistan-economic-corridor/ to /tmp/2018-06-01-the-china-pakistan-economic-corridor.\n",
            "2025-01-26 22:07:00,614 [MainThread  ] [INFO ]  Retrieving https://rmets.onlinelibrary.wiley.com/doi/abs/10.1002/joc.5894 to /tmp/doi-abs-10.1002-joc.5894.\n",
            "INFO:tika.tika:Retrieving https://rmets.onlinelibrary.wiley.com/doi/abs/10.1002/joc.5894 to /tmp/doi-abs-10.1002-joc.5894.\n",
            "2025-01-26 22:07:00,781 [MainThread  ] [INFO ]  Retrieving https://unpo.org/washington-d-c-conference-on-environmental-consequences-and-the-china-pakistan-economic-corridor/ to /tmp/washington-d-c-conference-on-environmental-consequences-and-the-china-pakistan-economic-corridor.\n",
            "INFO:tika.tika:Retrieving https://unpo.org/washington-d-c-conference-on-environmental-consequences-and-the-china-pakistan-economic-corridor/ to /tmp/washington-d-c-conference-on-environmental-consequences-and-the-china-pakistan-economic-corridor.\n"
          ]
        },
        {
          "output_type": "stream",
          "name": "stdout",
          "text": [
            "Error processing URL\n",
            "Error processing URL\n"
          ]
        },
        {
          "output_type": "stream",
          "name": "stderr",
          "text": [
            "2025-01-26 22:07:00,965 [MainThread  ] [INFO ]  Retrieving https://www.bbc.co.uk/news/world-asia-32400091 to /tmp/news-world-asia-32400091.\n",
            "INFO:tika.tika:Retrieving https://www.bbc.co.uk/news/world-asia-32400091 to /tmp/news-world-asia-32400091.\n"
          ]
        },
        {
          "output_type": "stream",
          "name": "stdout",
          "text": [
            "Error processing URL\n"
          ]
        },
        {
          "output_type": "stream",
          "name": "stderr",
          "text": [
            "2025-01-26 22:07:02,008 [MainThread  ] [INFO ]  Retrieving https://www.dawn.com/news/1884746 to /tmp/news-1884746.\n",
            "INFO:tika.tika:Retrieving https://www.dawn.com/news/1884746 to /tmp/news-1884746.\n",
            "2025-01-26 22:07:02,885 [MainThread  ] [INFO ]  Retrieving https://profit.pakistantoday.com.pk/2025/01/23/pakistan-determined-to-combating-poverty-climate-issues-says-finmin/ to /tmp/2025-01-23-pakistan-determined-to-combating-poverty-climate-issues-says-finmin.\n",
            "INFO:tika.tika:Retrieving https://profit.pakistantoday.com.pk/2025/01/23/pakistan-determined-to-combating-poverty-climate-issues-says-finmin/ to /tmp/2025-01-23-pakistan-determined-to-combating-poverty-climate-issues-says-finmin.\n",
            "2025-01-26 22:07:03,183 [MainThread  ] [INFO ]  Retrieving https://www.sciencedirect.com/science/article/pii/S0016718520301809 to /tmp/science-article-pii-s0016718520301809.\n",
            "INFO:tika.tika:Retrieving https://www.sciencedirect.com/science/article/pii/S0016718520301809 to /tmp/science-article-pii-s0016718520301809.\n"
          ]
        },
        {
          "output_type": "stream",
          "name": "stdout",
          "text": [
            "Error processing URL\n"
          ]
        },
        {
          "output_type": "stream",
          "name": "stderr",
          "text": [
            "2025-01-26 22:07:03,543 [MainThread  ] [INFO ]  Retrieving https://carnegieendowment.org/posts/2022/01/what-drives-pakistans-coal-fired-power-plant-construction-boom-understanding-the-china-pakistan-economic-corridors-energy-portfolio?lang=en to /tmp/posts-2022-01-what-drives-pakistans-coal-fired-power-plant-construction-boom-understanding-the-china-pakistan-economic-corridors-energy-portfolio.\n",
            "INFO:tika.tika:Retrieving https://carnegieendowment.org/posts/2022/01/what-drives-pakistans-coal-fired-power-plant-construction-boom-understanding-the-china-pakistan-economic-corridors-energy-portfolio?lang=en to /tmp/posts-2022-01-what-drives-pakistans-coal-fired-power-plant-construction-boom-understanding-the-china-pakistan-economic-corridors-energy-portfolio.\n"
          ]
        },
        {
          "output_type": "stream",
          "name": "stdout",
          "text": [
            "Error processing URL\n"
          ]
        },
        {
          "output_type": "stream",
          "name": "stderr",
          "text": [
            "2025-01-26 22:07:06,249 [MainThread  ] [INFO ]  Retrieving https://interactive.carbonbrief.org/the-carbon-brief-profile-pakistan/index.html to /tmp/the-carbon-brief-profile-pakistan-index.html.\n",
            "INFO:tika.tika:Retrieving https://interactive.carbonbrief.org/the-carbon-brief-profile-pakistan/index.html to /tmp/the-carbon-brief-profile-pakistan-index.html.\n",
            "2025-01-26 22:07:06,385 [MainThread  ] [INFO ]  Retrieving https://www.jtlu.org/index.php/jtlu/article/view/1724 to /tmp/index.php-jtlu-article-view-1724.\n",
            "INFO:tika.tika:Retrieving https://www.jtlu.org/index.php/jtlu/article/view/1724 to /tmp/index.php-jtlu-article-view-1724.\n"
          ]
        },
        {
          "output_type": "stream",
          "name": "stdout",
          "text": [
            "Error processing URL\n"
          ]
        },
        {
          "output_type": "stream",
          "name": "stderr",
          "text": [
            "2025-01-26 22:07:06,797 [MainThread  ] [INFO ]  Retrieving https://www.orfonline.org/expert-speak/forgotten-promises-the-china-pakistan-economic-corridor to /tmp/expert-speak-forgotten-promises-the-china-pakistan-economic-corridor.\n",
            "INFO:tika.tika:Retrieving https://www.orfonline.org/expert-speak/forgotten-promises-the-china-pakistan-economic-corridor to /tmp/expert-speak-forgotten-promises-the-china-pakistan-economic-corridor.\n",
            "2025-01-26 22:07:06,903 [MainThread  ] [INFO ]  Retrieving https://english.news.cn/20240528/a032f1810bde45bdb21c2997ae50d2dd/c.html to /tmp/20240528-a032f1810bde45bdb21c2997ae50d2dd-c.html.\n",
            "INFO:tika.tika:Retrieving https://english.news.cn/20240528/a032f1810bde45bdb21c2997ae50d2dd/c.html to /tmp/20240528-a032f1810bde45bdb21c2997ae50d2dd-c.html.\n"
          ]
        },
        {
          "output_type": "stream",
          "name": "stdout",
          "text": [
            "Error processing URL\n",
            "Error processing URL\n"
          ]
        },
        {
          "output_type": "stream",
          "name": "stderr",
          "text": [
            "2025-01-26 22:07:08,144 [MainThread  ] [INFO ]  Retrieving https://chinafocus.ucsd.edu/2020/05/20/the-china-pakistan-economic-corridor-and-imbalanced-state-relations/ to /tmp/2020-05-20-the-china-pakistan-economic-corridor-and-imbalanced-state-relations.\n",
            "INFO:tika.tika:Retrieving https://chinafocus.ucsd.edu/2020/05/20/the-china-pakistan-economic-corridor-and-imbalanced-state-relations/ to /tmp/2020-05-20-the-china-pakistan-economic-corridor-and-imbalanced-state-relations.\n",
            "2025-01-26 22:07:11,942 [MainThread  ] [INFO ]  Retrieving https://www.chinausfocus.com/finance-economy/the-china-pakistan-economic-corridor-indias-dual-dilemma to /tmp/finance-economy-the-china-pakistan-economic-corridor-indias-dual-dilemma.\n",
            "INFO:tika.tika:Retrieving https://www.chinausfocus.com/finance-economy/the-china-pakistan-economic-corridor-indias-dual-dilemma to /tmp/finance-economy-the-china-pakistan-economic-corridor-indias-dual-dilemma.\n",
            "2025-01-26 22:07:12,993 [MainThread  ] [INFO ]  Retrieving https://www.prccsf.com/publication/Publications/pdf/Conference-Report-CPEC-Enhancing-Community-with-a-Shared-Future-for-Mankind.pdf to /tmp/publication-publications-pdf-conference-report-cpec-enhancing-community-with-a-shared-future-for-mankind.pdf.\n",
            "INFO:tika.tika:Retrieving https://www.prccsf.com/publication/Publications/pdf/Conference-Report-CPEC-Enhancing-Community-with-a-Shared-Future-for-Mankind.pdf to /tmp/publication-publications-pdf-conference-report-cpec-enhancing-community-with-a-shared-future-for-mankind.pdf.\n",
            "2025-01-26 22:07:21,696 [MainThread  ] [INFO ]  Retrieving https://www.uscc.gov/sites/default/files/transcripts/Hearing%20Transcript%20-%20January%2025%2C%202018_0.pdf to /tmp/sites-default-files-transcripts-hearing-20transcript-20-20january-2025-2c-202018_0.pdf.\n",
            "INFO:tika.tika:Retrieving https://www.uscc.gov/sites/default/files/transcripts/Hearing%20Transcript%20-%20January%2025%2C%202018_0.pdf to /tmp/sites-default-files-transcripts-hearing-20transcript-20-20january-2025-2c-202018_0.pdf.\n",
            "2025-01-26 22:07:43,312 [MainThread  ] [INFO ]  Retrieving https://www.risingpowersinitiative.org/publication/the-china-pakistan-economic-corridor-under-the-sugarcoating/ to /tmp/publication-the-china-pakistan-economic-corridor-under-the-sugarcoating.\n",
            "INFO:tika.tika:Retrieving https://www.risingpowersinitiative.org/publication/the-china-pakistan-economic-corridor-under-the-sugarcoating/ to /tmp/publication-the-china-pakistan-economic-corridor-under-the-sugarcoating.\n",
            "2025-01-26 22:07:44,328 [MainThread  ] [INFO ]  Retrieving https://www.preventionweb.net/news/china-pakistan-joint-research-center-inaugurated-help-mitigate-climate-change-impacts-pakistan to /tmp/news-china-pakistan-joint-research-center-inaugurated-help-mitigate-climate-change-impacts-pakistan.\n",
            "INFO:tika.tika:Retrieving https://www.preventionweb.net/news/china-pakistan-joint-research-center-inaugurated-help-mitigate-climate-change-impacts-pakistan to /tmp/news-china-pakistan-joint-research-center-inaugurated-help-mitigate-climate-change-impacts-pakistan.\n"
          ]
        },
        {
          "output_type": "stream",
          "name": "stdout",
          "text": [
            "Error processing URL\n"
          ]
        },
        {
          "output_type": "execute_result",
          "data": {
            "text/plain": [
              "          country                                                url  \\\n",
              "0           China          https://pubmed.ncbi.nlm.nih.gov/39592827/   \n",
              "1        Pakistan  https://sdpi.org/assets/lib/uploads/Environmen...   \n",
              "2        Pakistan  https://sdpi.org/green-china-pakistan-economic...   \n",
              "3        Pakistan  https://link.springer.com/article/10.1007/s113...   \n",
              "4   United States  https://people.climate.columbia.edu/projects/v...   \n",
              "..            ...                                                ...   \n",
              "93  United States  https://chinafocus.ucsd.edu/2020/05/20/the-chi...   \n",
              "94          China  https://www.chinausfocus.com/finance-economy/t...   \n",
              "95       Pakistan  https://www.prccsf.com/publication/Publication...   \n",
              "96  United States  https://www.uscc.gov/sites/default/files/trans...   \n",
              "97  United States  https://www.risingpowersinitiative.org/publica...   \n",
              "\n",
              "    polarity  subjectivity sentiment_score_classification  \n",
              "0   0.017857      0.494643                        Neutral  \n",
              "1   0.044318      0.405281                        Neutral  \n",
              "2   0.047099      0.379616                        Neutral  \n",
              "3   0.113526      0.367587                       Positive  \n",
              "4   0.052400      0.365708                       Positive  \n",
              "..       ...           ...                            ...  \n",
              "93  0.121541      0.349710                       Positive  \n",
              "94  0.073041      0.335356                       Positive  \n",
              "95  0.116506      0.362933                       Positive  \n",
              "96  0.098976      0.368287                       Positive  \n",
              "97  0.050597      0.372237                       Positive  \n",
              "\n",
              "[98 rows x 5 columns]"
            ],
            "text/html": [
              "\n",
              "  <div id=\"df-8696143b-b455-41e2-a0cb-c711c2c722be\" class=\"colab-df-container\">\n",
              "    <div>\n",
              "<style scoped>\n",
              "    .dataframe tbody tr th:only-of-type {\n",
              "        vertical-align: middle;\n",
              "    }\n",
              "\n",
              "    .dataframe tbody tr th {\n",
              "        vertical-align: top;\n",
              "    }\n",
              "\n",
              "    .dataframe thead th {\n",
              "        text-align: right;\n",
              "    }\n",
              "</style>\n",
              "<table border=\"1\" class=\"dataframe\">\n",
              "  <thead>\n",
              "    <tr style=\"text-align: right;\">\n",
              "      <th></th>\n",
              "      <th>country</th>\n",
              "      <th>url</th>\n",
              "      <th>polarity</th>\n",
              "      <th>subjectivity</th>\n",
              "      <th>sentiment_score_classification</th>\n",
              "    </tr>\n",
              "  </thead>\n",
              "  <tbody>\n",
              "    <tr>\n",
              "      <th>0</th>\n",
              "      <td>China</td>\n",
              "      <td>https://pubmed.ncbi.nlm.nih.gov/39592827/</td>\n",
              "      <td>0.017857</td>\n",
              "      <td>0.494643</td>\n",
              "      <td>Neutral</td>\n",
              "    </tr>\n",
              "    <tr>\n",
              "      <th>1</th>\n",
              "      <td>Pakistan</td>\n",
              "      <td>https://sdpi.org/assets/lib/uploads/Environmen...</td>\n",
              "      <td>0.044318</td>\n",
              "      <td>0.405281</td>\n",
              "      <td>Neutral</td>\n",
              "    </tr>\n",
              "    <tr>\n",
              "      <th>2</th>\n",
              "      <td>Pakistan</td>\n",
              "      <td>https://sdpi.org/green-china-pakistan-economic...</td>\n",
              "      <td>0.047099</td>\n",
              "      <td>0.379616</td>\n",
              "      <td>Neutral</td>\n",
              "    </tr>\n",
              "    <tr>\n",
              "      <th>3</th>\n",
              "      <td>Pakistan</td>\n",
              "      <td>https://link.springer.com/article/10.1007/s113...</td>\n",
              "      <td>0.113526</td>\n",
              "      <td>0.367587</td>\n",
              "      <td>Positive</td>\n",
              "    </tr>\n",
              "    <tr>\n",
              "      <th>4</th>\n",
              "      <td>United States</td>\n",
              "      <td>https://people.climate.columbia.edu/projects/v...</td>\n",
              "      <td>0.052400</td>\n",
              "      <td>0.365708</td>\n",
              "      <td>Positive</td>\n",
              "    </tr>\n",
              "    <tr>\n",
              "      <th>...</th>\n",
              "      <td>...</td>\n",
              "      <td>...</td>\n",
              "      <td>...</td>\n",
              "      <td>...</td>\n",
              "      <td>...</td>\n",
              "    </tr>\n",
              "    <tr>\n",
              "      <th>93</th>\n",
              "      <td>United States</td>\n",
              "      <td>https://chinafocus.ucsd.edu/2020/05/20/the-chi...</td>\n",
              "      <td>0.121541</td>\n",
              "      <td>0.349710</td>\n",
              "      <td>Positive</td>\n",
              "    </tr>\n",
              "    <tr>\n",
              "      <th>94</th>\n",
              "      <td>China</td>\n",
              "      <td>https://www.chinausfocus.com/finance-economy/t...</td>\n",
              "      <td>0.073041</td>\n",
              "      <td>0.335356</td>\n",
              "      <td>Positive</td>\n",
              "    </tr>\n",
              "    <tr>\n",
              "      <th>95</th>\n",
              "      <td>Pakistan</td>\n",
              "      <td>https://www.prccsf.com/publication/Publication...</td>\n",
              "      <td>0.116506</td>\n",
              "      <td>0.362933</td>\n",
              "      <td>Positive</td>\n",
              "    </tr>\n",
              "    <tr>\n",
              "      <th>96</th>\n",
              "      <td>United States</td>\n",
              "      <td>https://www.uscc.gov/sites/default/files/trans...</td>\n",
              "      <td>0.098976</td>\n",
              "      <td>0.368287</td>\n",
              "      <td>Positive</td>\n",
              "    </tr>\n",
              "    <tr>\n",
              "      <th>97</th>\n",
              "      <td>United States</td>\n",
              "      <td>https://www.risingpowersinitiative.org/publica...</td>\n",
              "      <td>0.050597</td>\n",
              "      <td>0.372237</td>\n",
              "      <td>Positive</td>\n",
              "    </tr>\n",
              "  </tbody>\n",
              "</table>\n",
              "<p>98 rows × 5 columns</p>\n",
              "</div>\n",
              "    <div class=\"colab-df-buttons\">\n",
              "\n",
              "  <div class=\"colab-df-container\">\n",
              "    <button class=\"colab-df-convert\" onclick=\"convertToInteractive('df-8696143b-b455-41e2-a0cb-c711c2c722be')\"\n",
              "            title=\"Convert this dataframe to an interactive table.\"\n",
              "            style=\"display:none;\">\n",
              "\n",
              "  <svg xmlns=\"http://www.w3.org/2000/svg\" height=\"24px\" viewBox=\"0 -960 960 960\">\n",
              "    <path d=\"M120-120v-720h720v720H120Zm60-500h600v-160H180v160Zm220 220h160v-160H400v160Zm0 220h160v-160H400v160ZM180-400h160v-160H180v160Zm440 0h160v-160H620v160ZM180-180h160v-160H180v160Zm440 0h160v-160H620v160Z\"/>\n",
              "  </svg>\n",
              "    </button>\n",
              "\n",
              "  <style>\n",
              "    .colab-df-container {\n",
              "      display:flex;\n",
              "      gap: 12px;\n",
              "    }\n",
              "\n",
              "    .colab-df-convert {\n",
              "      background-color: #E8F0FE;\n",
              "      border: none;\n",
              "      border-radius: 50%;\n",
              "      cursor: pointer;\n",
              "      display: none;\n",
              "      fill: #1967D2;\n",
              "      height: 32px;\n",
              "      padding: 0 0 0 0;\n",
              "      width: 32px;\n",
              "    }\n",
              "\n",
              "    .colab-df-convert:hover {\n",
              "      background-color: #E2EBFA;\n",
              "      box-shadow: 0px 1px 2px rgba(60, 64, 67, 0.3), 0px 1px 3px 1px rgba(60, 64, 67, 0.15);\n",
              "      fill: #174EA6;\n",
              "    }\n",
              "\n",
              "    .colab-df-buttons div {\n",
              "      margin-bottom: 4px;\n",
              "    }\n",
              "\n",
              "    [theme=dark] .colab-df-convert {\n",
              "      background-color: #3B4455;\n",
              "      fill: #D2E3FC;\n",
              "    }\n",
              "\n",
              "    [theme=dark] .colab-df-convert:hover {\n",
              "      background-color: #434B5C;\n",
              "      box-shadow: 0px 1px 3px 1px rgba(0, 0, 0, 0.15);\n",
              "      filter: drop-shadow(0px 1px 2px rgba(0, 0, 0, 0.3));\n",
              "      fill: #FFFFFF;\n",
              "    }\n",
              "  </style>\n",
              "\n",
              "    <script>\n",
              "      const buttonEl =\n",
              "        document.querySelector('#df-8696143b-b455-41e2-a0cb-c711c2c722be button.colab-df-convert');\n",
              "      buttonEl.style.display =\n",
              "        google.colab.kernel.accessAllowed ? 'block' : 'none';\n",
              "\n",
              "      async function convertToInteractive(key) {\n",
              "        const element = document.querySelector('#df-8696143b-b455-41e2-a0cb-c711c2c722be');\n",
              "        const dataTable =\n",
              "          await google.colab.kernel.invokeFunction('convertToInteractive',\n",
              "                                                    [key], {});\n",
              "        if (!dataTable) return;\n",
              "\n",
              "        const docLinkHtml = 'Like what you see? Visit the ' +\n",
              "          '<a target=\"_blank\" href=https://colab.research.google.com/notebooks/data_table.ipynb>data table notebook</a>'\n",
              "          + ' to learn more about interactive tables.';\n",
              "        element.innerHTML = '';\n",
              "        dataTable['output_type'] = 'display_data';\n",
              "        await google.colab.output.renderOutput(dataTable, element);\n",
              "        const docLink = document.createElement('div');\n",
              "        docLink.innerHTML = docLinkHtml;\n",
              "        element.appendChild(docLink);\n",
              "      }\n",
              "    </script>\n",
              "  </div>\n",
              "\n",
              "\n",
              "<div id=\"df-785e5765-dce5-4168-87ed-74adb4ccd0bf\">\n",
              "  <button class=\"colab-df-quickchart\" onclick=\"quickchart('df-785e5765-dce5-4168-87ed-74adb4ccd0bf')\"\n",
              "            title=\"Suggest charts\"\n",
              "            style=\"display:none;\">\n",
              "\n",
              "<svg xmlns=\"http://www.w3.org/2000/svg\" height=\"24px\"viewBox=\"0 0 24 24\"\n",
              "     width=\"24px\">\n",
              "    <g>\n",
              "        <path d=\"M19 3H5c-1.1 0-2 .9-2 2v14c0 1.1.9 2 2 2h14c1.1 0 2-.9 2-2V5c0-1.1-.9-2-2-2zM9 17H7v-7h2v7zm4 0h-2V7h2v10zm4 0h-2v-4h2v4z\"/>\n",
              "    </g>\n",
              "</svg>\n",
              "  </button>\n",
              "\n",
              "<style>\n",
              "  .colab-df-quickchart {\n",
              "      --bg-color: #E8F0FE;\n",
              "      --fill-color: #1967D2;\n",
              "      --hover-bg-color: #E2EBFA;\n",
              "      --hover-fill-color: #174EA6;\n",
              "      --disabled-fill-color: #AAA;\n",
              "      --disabled-bg-color: #DDD;\n",
              "  }\n",
              "\n",
              "  [theme=dark] .colab-df-quickchart {\n",
              "      --bg-color: #3B4455;\n",
              "      --fill-color: #D2E3FC;\n",
              "      --hover-bg-color: #434B5C;\n",
              "      --hover-fill-color: #FFFFFF;\n",
              "      --disabled-bg-color: #3B4455;\n",
              "      --disabled-fill-color: #666;\n",
              "  }\n",
              "\n",
              "  .colab-df-quickchart {\n",
              "    background-color: var(--bg-color);\n",
              "    border: none;\n",
              "    border-radius: 50%;\n",
              "    cursor: pointer;\n",
              "    display: none;\n",
              "    fill: var(--fill-color);\n",
              "    height: 32px;\n",
              "    padding: 0;\n",
              "    width: 32px;\n",
              "  }\n",
              "\n",
              "  .colab-df-quickchart:hover {\n",
              "    background-color: var(--hover-bg-color);\n",
              "    box-shadow: 0 1px 2px rgba(60, 64, 67, 0.3), 0 1px 3px 1px rgba(60, 64, 67, 0.15);\n",
              "    fill: var(--button-hover-fill-color);\n",
              "  }\n",
              "\n",
              "  .colab-df-quickchart-complete:disabled,\n",
              "  .colab-df-quickchart-complete:disabled:hover {\n",
              "    background-color: var(--disabled-bg-color);\n",
              "    fill: var(--disabled-fill-color);\n",
              "    box-shadow: none;\n",
              "  }\n",
              "\n",
              "  .colab-df-spinner {\n",
              "    border: 2px solid var(--fill-color);\n",
              "    border-color: transparent;\n",
              "    border-bottom-color: var(--fill-color);\n",
              "    animation:\n",
              "      spin 1s steps(1) infinite;\n",
              "  }\n",
              "\n",
              "  @keyframes spin {\n",
              "    0% {\n",
              "      border-color: transparent;\n",
              "      border-bottom-color: var(--fill-color);\n",
              "      border-left-color: var(--fill-color);\n",
              "    }\n",
              "    20% {\n",
              "      border-color: transparent;\n",
              "      border-left-color: var(--fill-color);\n",
              "      border-top-color: var(--fill-color);\n",
              "    }\n",
              "    30% {\n",
              "      border-color: transparent;\n",
              "      border-left-color: var(--fill-color);\n",
              "      border-top-color: var(--fill-color);\n",
              "      border-right-color: var(--fill-color);\n",
              "    }\n",
              "    40% {\n",
              "      border-color: transparent;\n",
              "      border-right-color: var(--fill-color);\n",
              "      border-top-color: var(--fill-color);\n",
              "    }\n",
              "    60% {\n",
              "      border-color: transparent;\n",
              "      border-right-color: var(--fill-color);\n",
              "    }\n",
              "    80% {\n",
              "      border-color: transparent;\n",
              "      border-right-color: var(--fill-color);\n",
              "      border-bottom-color: var(--fill-color);\n",
              "    }\n",
              "    90% {\n",
              "      border-color: transparent;\n",
              "      border-bottom-color: var(--fill-color);\n",
              "    }\n",
              "  }\n",
              "</style>\n",
              "\n",
              "  <script>\n",
              "    async function quickchart(key) {\n",
              "      const quickchartButtonEl =\n",
              "        document.querySelector('#' + key + ' button');\n",
              "      quickchartButtonEl.disabled = true;  // To prevent multiple clicks.\n",
              "      quickchartButtonEl.classList.add('colab-df-spinner');\n",
              "      try {\n",
              "        const charts = await google.colab.kernel.invokeFunction(\n",
              "            'suggestCharts', [key], {});\n",
              "      } catch (error) {\n",
              "        console.error('Error during call to suggestCharts:', error);\n",
              "      }\n",
              "      quickchartButtonEl.classList.remove('colab-df-spinner');\n",
              "      quickchartButtonEl.classList.add('colab-df-quickchart-complete');\n",
              "    }\n",
              "    (() => {\n",
              "      let quickchartButtonEl =\n",
              "        document.querySelector('#df-785e5765-dce5-4168-87ed-74adb4ccd0bf button');\n",
              "      quickchartButtonEl.style.display =\n",
              "        google.colab.kernel.accessAllowed ? 'block' : 'none';\n",
              "    })();\n",
              "  </script>\n",
              "</div>\n",
              "\n",
              "  <div id=\"id_00c0197c-56db-4b8d-8c27-42fa322fc52b\">\n",
              "    <style>\n",
              "      .colab-df-generate {\n",
              "        background-color: #E8F0FE;\n",
              "        border: none;\n",
              "        border-radius: 50%;\n",
              "        cursor: pointer;\n",
              "        display: none;\n",
              "        fill: #1967D2;\n",
              "        height: 32px;\n",
              "        padding: 0 0 0 0;\n",
              "        width: 32px;\n",
              "      }\n",
              "\n",
              "      .colab-df-generate:hover {\n",
              "        background-color: #E2EBFA;\n",
              "        box-shadow: 0px 1px 2px rgba(60, 64, 67, 0.3), 0px 1px 3px 1px rgba(60, 64, 67, 0.15);\n",
              "        fill: #174EA6;\n",
              "      }\n",
              "\n",
              "      [theme=dark] .colab-df-generate {\n",
              "        background-color: #3B4455;\n",
              "        fill: #D2E3FC;\n",
              "      }\n",
              "\n",
              "      [theme=dark] .colab-df-generate:hover {\n",
              "        background-color: #434B5C;\n",
              "        box-shadow: 0px 1px 3px 1px rgba(0, 0, 0, 0.15);\n",
              "        filter: drop-shadow(0px 1px 2px rgba(0, 0, 0, 0.3));\n",
              "        fill: #FFFFFF;\n",
              "      }\n",
              "    </style>\n",
              "    <button class=\"colab-df-generate\" onclick=\"generateWithVariable('processed_data')\"\n",
              "            title=\"Generate code using this dataframe.\"\n",
              "            style=\"display:none;\">\n",
              "\n",
              "  <svg xmlns=\"http://www.w3.org/2000/svg\" height=\"24px\"viewBox=\"0 0 24 24\"\n",
              "       width=\"24px\">\n",
              "    <path d=\"M7,19H8.4L18.45,9,17,7.55,7,17.6ZM5,21V16.75L18.45,3.32a2,2,0,0,1,2.83,0l1.4,1.43a1.91,1.91,0,0,1,.58,1.4,1.91,1.91,0,0,1-.58,1.4L9.25,21ZM18.45,9,17,7.55Zm-12,3A5.31,5.31,0,0,0,4.9,8.1,5.31,5.31,0,0,0,1,6.5,5.31,5.31,0,0,0,4.9,4.9,5.31,5.31,0,0,0,6.5,1,5.31,5.31,0,0,0,8.1,4.9,5.31,5.31,0,0,0,12,6.5,5.46,5.46,0,0,0,6.5,12Z\"/>\n",
              "  </svg>\n",
              "    </button>\n",
              "    <script>\n",
              "      (() => {\n",
              "      const buttonEl =\n",
              "        document.querySelector('#id_00c0197c-56db-4b8d-8c27-42fa322fc52b button.colab-df-generate');\n",
              "      buttonEl.style.display =\n",
              "        google.colab.kernel.accessAllowed ? 'block' : 'none';\n",
              "\n",
              "      buttonEl.onclick = () => {\n",
              "        google.colab.notebook.generateWithVariable('processed_data');\n",
              "      }\n",
              "      })();\n",
              "    </script>\n",
              "  </div>\n",
              "\n",
              "    </div>\n",
              "  </div>\n"
            ],
            "application/vnd.google.colaboratory.intrinsic+json": {
              "type": "dataframe",
              "variable_name": "processed_data",
              "summary": "{\n  \"name\": \"processed_data\",\n  \"rows\": 98,\n  \"fields\": [\n    {\n      \"column\": \"country\",\n      \"properties\": {\n        \"dtype\": \"category\",\n        \"num_unique_values\": 13,\n        \"samples\": [\n          \"Cuba\",\n          \"Switzerland\",\n          \"China\"\n        ],\n        \"semantic_type\": \"\",\n        \"description\": \"\"\n      }\n    },\n    {\n      \"column\": \"url\",\n      \"properties\": {\n        \"dtype\": \"string\",\n        \"num_unique_values\": 98,\n        \"samples\": [\n          \"https://www.newsecuritybeat.org/2022/02/reducing-environmental-social-costs-chinese-investments-pakistan/\",\n          \"https://asiatimes.com/2017/03/cpec-game-changer-might-change-nothing/\",\n          \"https://www.chinausfocus.com/finance-economy/the-china-pakistan-economic-corridor-indias-dual-dilemma\"\n        ],\n        \"semantic_type\": \"\",\n        \"description\": \"\"\n      }\n    },\n    {\n      \"column\": \"polarity\",\n      \"properties\": {\n        \"dtype\": \"number\",\n        \"std\": 0.05562066221516836,\n        \"min\": 0.0,\n        \"max\": 0.3003762268266085,\n        \"num_unique_values\": 96,\n        \"samples\": [\n          0.0805669793169793,\n          0.20499260901699928,\n          0.07697053473119823\n        ],\n        \"semantic_type\": \"\",\n        \"description\": \"\"\n      }\n    },\n    {\n      \"column\": \"subjectivity\",\n      \"properties\": {\n        \"dtype\": \"number\",\n        \"std\": 0.08450427467334791,\n        \"min\": 0.0,\n        \"max\": 0.5519047619047618,\n        \"num_unique_values\": 96,\n        \"samples\": [\n          0.2859022767356101,\n          0.36868810051736883,\n          0.3882925394773738\n        ],\n        \"semantic_type\": \"\",\n        \"description\": \"\"\n      }\n    },\n    {\n      \"column\": \"sentiment_score_classification\",\n      \"properties\": {\n        \"dtype\": \"category\",\n        \"num_unique_values\": 2,\n        \"samples\": [\n          \"Positive\",\n          \"Neutral\"\n        ],\n        \"semantic_type\": \"\",\n        \"description\": \"\"\n      }\n    }\n  ]\n}"
            }
          },
          "metadata": {},
          "execution_count": 4
        }
      ]
    },
    {
      "cell_type": "code",
      "source": [
        "processed_data"
      ],
      "metadata": {
        "colab": {
          "base_uri": "https://localhost:8080/",
          "height": 504
        },
        "id": "MXN05M0oYDCy",
        "outputId": "ac4a0467-5428-42b7-807d-69c149e34aee"
      },
      "execution_count": 5,
      "outputs": [
        {
          "output_type": "execute_result",
          "data": {
            "text/plain": [
              "          country                                                url  \\\n",
              "0           China          https://pubmed.ncbi.nlm.nih.gov/39592827/   \n",
              "1        Pakistan  https://sdpi.org/assets/lib/uploads/Environmen...   \n",
              "2        Pakistan  https://sdpi.org/green-china-pakistan-economic...   \n",
              "3        Pakistan  https://link.springer.com/article/10.1007/s113...   \n",
              "4   United States  https://people.climate.columbia.edu/projects/v...   \n",
              "..            ...                                                ...   \n",
              "93  United States  https://chinafocus.ucsd.edu/2020/05/20/the-chi...   \n",
              "94          China  https://www.chinausfocus.com/finance-economy/t...   \n",
              "95       Pakistan  https://www.prccsf.com/publication/Publication...   \n",
              "96  United States  https://www.uscc.gov/sites/default/files/trans...   \n",
              "97  United States  https://www.risingpowersinitiative.org/publica...   \n",
              "\n",
              "    polarity  subjectivity sentiment_score_classification  \n",
              "0   0.017857      0.494643                        Neutral  \n",
              "1   0.044318      0.405281                        Neutral  \n",
              "2   0.047099      0.379616                        Neutral  \n",
              "3   0.113526      0.367587                       Positive  \n",
              "4   0.052400      0.365708                       Positive  \n",
              "..       ...           ...                            ...  \n",
              "93  0.121541      0.349710                       Positive  \n",
              "94  0.073041      0.335356                       Positive  \n",
              "95  0.116506      0.362933                       Positive  \n",
              "96  0.098976      0.368287                       Positive  \n",
              "97  0.050597      0.372237                       Positive  \n",
              "\n",
              "[98 rows x 5 columns]"
            ],
            "text/html": [
              "\n",
              "  <div id=\"df-09e9f1e1-564f-43e0-8d79-29d9e52fa523\" class=\"colab-df-container\">\n",
              "    <div>\n",
              "<style scoped>\n",
              "    .dataframe tbody tr th:only-of-type {\n",
              "        vertical-align: middle;\n",
              "    }\n",
              "\n",
              "    .dataframe tbody tr th {\n",
              "        vertical-align: top;\n",
              "    }\n",
              "\n",
              "    .dataframe thead th {\n",
              "        text-align: right;\n",
              "    }\n",
              "</style>\n",
              "<table border=\"1\" class=\"dataframe\">\n",
              "  <thead>\n",
              "    <tr style=\"text-align: right;\">\n",
              "      <th></th>\n",
              "      <th>country</th>\n",
              "      <th>url</th>\n",
              "      <th>polarity</th>\n",
              "      <th>subjectivity</th>\n",
              "      <th>sentiment_score_classification</th>\n",
              "    </tr>\n",
              "  </thead>\n",
              "  <tbody>\n",
              "    <tr>\n",
              "      <th>0</th>\n",
              "      <td>China</td>\n",
              "      <td>https://pubmed.ncbi.nlm.nih.gov/39592827/</td>\n",
              "      <td>0.017857</td>\n",
              "      <td>0.494643</td>\n",
              "      <td>Neutral</td>\n",
              "    </tr>\n",
              "    <tr>\n",
              "      <th>1</th>\n",
              "      <td>Pakistan</td>\n",
              "      <td>https://sdpi.org/assets/lib/uploads/Environmen...</td>\n",
              "      <td>0.044318</td>\n",
              "      <td>0.405281</td>\n",
              "      <td>Neutral</td>\n",
              "    </tr>\n",
              "    <tr>\n",
              "      <th>2</th>\n",
              "      <td>Pakistan</td>\n",
              "      <td>https://sdpi.org/green-china-pakistan-economic...</td>\n",
              "      <td>0.047099</td>\n",
              "      <td>0.379616</td>\n",
              "      <td>Neutral</td>\n",
              "    </tr>\n",
              "    <tr>\n",
              "      <th>3</th>\n",
              "      <td>Pakistan</td>\n",
              "      <td>https://link.springer.com/article/10.1007/s113...</td>\n",
              "      <td>0.113526</td>\n",
              "      <td>0.367587</td>\n",
              "      <td>Positive</td>\n",
              "    </tr>\n",
              "    <tr>\n",
              "      <th>4</th>\n",
              "      <td>United States</td>\n",
              "      <td>https://people.climate.columbia.edu/projects/v...</td>\n",
              "      <td>0.052400</td>\n",
              "      <td>0.365708</td>\n",
              "      <td>Positive</td>\n",
              "    </tr>\n",
              "    <tr>\n",
              "      <th>...</th>\n",
              "      <td>...</td>\n",
              "      <td>...</td>\n",
              "      <td>...</td>\n",
              "      <td>...</td>\n",
              "      <td>...</td>\n",
              "    </tr>\n",
              "    <tr>\n",
              "      <th>93</th>\n",
              "      <td>United States</td>\n",
              "      <td>https://chinafocus.ucsd.edu/2020/05/20/the-chi...</td>\n",
              "      <td>0.121541</td>\n",
              "      <td>0.349710</td>\n",
              "      <td>Positive</td>\n",
              "    </tr>\n",
              "    <tr>\n",
              "      <th>94</th>\n",
              "      <td>China</td>\n",
              "      <td>https://www.chinausfocus.com/finance-economy/t...</td>\n",
              "      <td>0.073041</td>\n",
              "      <td>0.335356</td>\n",
              "      <td>Positive</td>\n",
              "    </tr>\n",
              "    <tr>\n",
              "      <th>95</th>\n",
              "      <td>Pakistan</td>\n",
              "      <td>https://www.prccsf.com/publication/Publication...</td>\n",
              "      <td>0.116506</td>\n",
              "      <td>0.362933</td>\n",
              "      <td>Positive</td>\n",
              "    </tr>\n",
              "    <tr>\n",
              "      <th>96</th>\n",
              "      <td>United States</td>\n",
              "      <td>https://www.uscc.gov/sites/default/files/trans...</td>\n",
              "      <td>0.098976</td>\n",
              "      <td>0.368287</td>\n",
              "      <td>Positive</td>\n",
              "    </tr>\n",
              "    <tr>\n",
              "      <th>97</th>\n",
              "      <td>United States</td>\n",
              "      <td>https://www.risingpowersinitiative.org/publica...</td>\n",
              "      <td>0.050597</td>\n",
              "      <td>0.372237</td>\n",
              "      <td>Positive</td>\n",
              "    </tr>\n",
              "  </tbody>\n",
              "</table>\n",
              "<p>98 rows × 5 columns</p>\n",
              "</div>\n",
              "    <div class=\"colab-df-buttons\">\n",
              "\n",
              "  <div class=\"colab-df-container\">\n",
              "    <button class=\"colab-df-convert\" onclick=\"convertToInteractive('df-09e9f1e1-564f-43e0-8d79-29d9e52fa523')\"\n",
              "            title=\"Convert this dataframe to an interactive table.\"\n",
              "            style=\"display:none;\">\n",
              "\n",
              "  <svg xmlns=\"http://www.w3.org/2000/svg\" height=\"24px\" viewBox=\"0 -960 960 960\">\n",
              "    <path d=\"M120-120v-720h720v720H120Zm60-500h600v-160H180v160Zm220 220h160v-160H400v160Zm0 220h160v-160H400v160ZM180-400h160v-160H180v160Zm440 0h160v-160H620v160ZM180-180h160v-160H180v160Zm440 0h160v-160H620v160Z\"/>\n",
              "  </svg>\n",
              "    </button>\n",
              "\n",
              "  <style>\n",
              "    .colab-df-container {\n",
              "      display:flex;\n",
              "      gap: 12px;\n",
              "    }\n",
              "\n",
              "    .colab-df-convert {\n",
              "      background-color: #E8F0FE;\n",
              "      border: none;\n",
              "      border-radius: 50%;\n",
              "      cursor: pointer;\n",
              "      display: none;\n",
              "      fill: #1967D2;\n",
              "      height: 32px;\n",
              "      padding: 0 0 0 0;\n",
              "      width: 32px;\n",
              "    }\n",
              "\n",
              "    .colab-df-convert:hover {\n",
              "      background-color: #E2EBFA;\n",
              "      box-shadow: 0px 1px 2px rgba(60, 64, 67, 0.3), 0px 1px 3px 1px rgba(60, 64, 67, 0.15);\n",
              "      fill: #174EA6;\n",
              "    }\n",
              "\n",
              "    .colab-df-buttons div {\n",
              "      margin-bottom: 4px;\n",
              "    }\n",
              "\n",
              "    [theme=dark] .colab-df-convert {\n",
              "      background-color: #3B4455;\n",
              "      fill: #D2E3FC;\n",
              "    }\n",
              "\n",
              "    [theme=dark] .colab-df-convert:hover {\n",
              "      background-color: #434B5C;\n",
              "      box-shadow: 0px 1px 3px 1px rgba(0, 0, 0, 0.15);\n",
              "      filter: drop-shadow(0px 1px 2px rgba(0, 0, 0, 0.3));\n",
              "      fill: #FFFFFF;\n",
              "    }\n",
              "  </style>\n",
              "\n",
              "    <script>\n",
              "      const buttonEl =\n",
              "        document.querySelector('#df-09e9f1e1-564f-43e0-8d79-29d9e52fa523 button.colab-df-convert');\n",
              "      buttonEl.style.display =\n",
              "        google.colab.kernel.accessAllowed ? 'block' : 'none';\n",
              "\n",
              "      async function convertToInteractive(key) {\n",
              "        const element = document.querySelector('#df-09e9f1e1-564f-43e0-8d79-29d9e52fa523');\n",
              "        const dataTable =\n",
              "          await google.colab.kernel.invokeFunction('convertToInteractive',\n",
              "                                                    [key], {});\n",
              "        if (!dataTable) return;\n",
              "\n",
              "        const docLinkHtml = 'Like what you see? Visit the ' +\n",
              "          '<a target=\"_blank\" href=https://colab.research.google.com/notebooks/data_table.ipynb>data table notebook</a>'\n",
              "          + ' to learn more about interactive tables.';\n",
              "        element.innerHTML = '';\n",
              "        dataTable['output_type'] = 'display_data';\n",
              "        await google.colab.output.renderOutput(dataTable, element);\n",
              "        const docLink = document.createElement('div');\n",
              "        docLink.innerHTML = docLinkHtml;\n",
              "        element.appendChild(docLink);\n",
              "      }\n",
              "    </script>\n",
              "  </div>\n",
              "\n",
              "\n",
              "<div id=\"df-513b2f1f-838f-47a6-acc9-54e806ce71b9\">\n",
              "  <button class=\"colab-df-quickchart\" onclick=\"quickchart('df-513b2f1f-838f-47a6-acc9-54e806ce71b9')\"\n",
              "            title=\"Suggest charts\"\n",
              "            style=\"display:none;\">\n",
              "\n",
              "<svg xmlns=\"http://www.w3.org/2000/svg\" height=\"24px\"viewBox=\"0 0 24 24\"\n",
              "     width=\"24px\">\n",
              "    <g>\n",
              "        <path d=\"M19 3H5c-1.1 0-2 .9-2 2v14c0 1.1.9 2 2 2h14c1.1 0 2-.9 2-2V5c0-1.1-.9-2-2-2zM9 17H7v-7h2v7zm4 0h-2V7h2v10zm4 0h-2v-4h2v4z\"/>\n",
              "    </g>\n",
              "</svg>\n",
              "  </button>\n",
              "\n",
              "<style>\n",
              "  .colab-df-quickchart {\n",
              "      --bg-color: #E8F0FE;\n",
              "      --fill-color: #1967D2;\n",
              "      --hover-bg-color: #E2EBFA;\n",
              "      --hover-fill-color: #174EA6;\n",
              "      --disabled-fill-color: #AAA;\n",
              "      --disabled-bg-color: #DDD;\n",
              "  }\n",
              "\n",
              "  [theme=dark] .colab-df-quickchart {\n",
              "      --bg-color: #3B4455;\n",
              "      --fill-color: #D2E3FC;\n",
              "      --hover-bg-color: #434B5C;\n",
              "      --hover-fill-color: #FFFFFF;\n",
              "      --disabled-bg-color: #3B4455;\n",
              "      --disabled-fill-color: #666;\n",
              "  }\n",
              "\n",
              "  .colab-df-quickchart {\n",
              "    background-color: var(--bg-color);\n",
              "    border: none;\n",
              "    border-radius: 50%;\n",
              "    cursor: pointer;\n",
              "    display: none;\n",
              "    fill: var(--fill-color);\n",
              "    height: 32px;\n",
              "    padding: 0;\n",
              "    width: 32px;\n",
              "  }\n",
              "\n",
              "  .colab-df-quickchart:hover {\n",
              "    background-color: var(--hover-bg-color);\n",
              "    box-shadow: 0 1px 2px rgba(60, 64, 67, 0.3), 0 1px 3px 1px rgba(60, 64, 67, 0.15);\n",
              "    fill: var(--button-hover-fill-color);\n",
              "  }\n",
              "\n",
              "  .colab-df-quickchart-complete:disabled,\n",
              "  .colab-df-quickchart-complete:disabled:hover {\n",
              "    background-color: var(--disabled-bg-color);\n",
              "    fill: var(--disabled-fill-color);\n",
              "    box-shadow: none;\n",
              "  }\n",
              "\n",
              "  .colab-df-spinner {\n",
              "    border: 2px solid var(--fill-color);\n",
              "    border-color: transparent;\n",
              "    border-bottom-color: var(--fill-color);\n",
              "    animation:\n",
              "      spin 1s steps(1) infinite;\n",
              "  }\n",
              "\n",
              "  @keyframes spin {\n",
              "    0% {\n",
              "      border-color: transparent;\n",
              "      border-bottom-color: var(--fill-color);\n",
              "      border-left-color: var(--fill-color);\n",
              "    }\n",
              "    20% {\n",
              "      border-color: transparent;\n",
              "      border-left-color: var(--fill-color);\n",
              "      border-top-color: var(--fill-color);\n",
              "    }\n",
              "    30% {\n",
              "      border-color: transparent;\n",
              "      border-left-color: var(--fill-color);\n",
              "      border-top-color: var(--fill-color);\n",
              "      border-right-color: var(--fill-color);\n",
              "    }\n",
              "    40% {\n",
              "      border-color: transparent;\n",
              "      border-right-color: var(--fill-color);\n",
              "      border-top-color: var(--fill-color);\n",
              "    }\n",
              "    60% {\n",
              "      border-color: transparent;\n",
              "      border-right-color: var(--fill-color);\n",
              "    }\n",
              "    80% {\n",
              "      border-color: transparent;\n",
              "      border-right-color: var(--fill-color);\n",
              "      border-bottom-color: var(--fill-color);\n",
              "    }\n",
              "    90% {\n",
              "      border-color: transparent;\n",
              "      border-bottom-color: var(--fill-color);\n",
              "    }\n",
              "  }\n",
              "</style>\n",
              "\n",
              "  <script>\n",
              "    async function quickchart(key) {\n",
              "      const quickchartButtonEl =\n",
              "        document.querySelector('#' + key + ' button');\n",
              "      quickchartButtonEl.disabled = true;  // To prevent multiple clicks.\n",
              "      quickchartButtonEl.classList.add('colab-df-spinner');\n",
              "      try {\n",
              "        const charts = await google.colab.kernel.invokeFunction(\n",
              "            'suggestCharts', [key], {});\n",
              "      } catch (error) {\n",
              "        console.error('Error during call to suggestCharts:', error);\n",
              "      }\n",
              "      quickchartButtonEl.classList.remove('colab-df-spinner');\n",
              "      quickchartButtonEl.classList.add('colab-df-quickchart-complete');\n",
              "    }\n",
              "    (() => {\n",
              "      let quickchartButtonEl =\n",
              "        document.querySelector('#df-513b2f1f-838f-47a6-acc9-54e806ce71b9 button');\n",
              "      quickchartButtonEl.style.display =\n",
              "        google.colab.kernel.accessAllowed ? 'block' : 'none';\n",
              "    })();\n",
              "  </script>\n",
              "</div>\n",
              "\n",
              "  <div id=\"id_3d24747f-c5ca-45a7-a543-7dc8103c1714\">\n",
              "    <style>\n",
              "      .colab-df-generate {\n",
              "        background-color: #E8F0FE;\n",
              "        border: none;\n",
              "        border-radius: 50%;\n",
              "        cursor: pointer;\n",
              "        display: none;\n",
              "        fill: #1967D2;\n",
              "        height: 32px;\n",
              "        padding: 0 0 0 0;\n",
              "        width: 32px;\n",
              "      }\n",
              "\n",
              "      .colab-df-generate:hover {\n",
              "        background-color: #E2EBFA;\n",
              "        box-shadow: 0px 1px 2px rgba(60, 64, 67, 0.3), 0px 1px 3px 1px rgba(60, 64, 67, 0.15);\n",
              "        fill: #174EA6;\n",
              "      }\n",
              "\n",
              "      [theme=dark] .colab-df-generate {\n",
              "        background-color: #3B4455;\n",
              "        fill: #D2E3FC;\n",
              "      }\n",
              "\n",
              "      [theme=dark] .colab-df-generate:hover {\n",
              "        background-color: #434B5C;\n",
              "        box-shadow: 0px 1px 3px 1px rgba(0, 0, 0, 0.15);\n",
              "        filter: drop-shadow(0px 1px 2px rgba(0, 0, 0, 0.3));\n",
              "        fill: #FFFFFF;\n",
              "      }\n",
              "    </style>\n",
              "    <button class=\"colab-df-generate\" onclick=\"generateWithVariable('processed_data')\"\n",
              "            title=\"Generate code using this dataframe.\"\n",
              "            style=\"display:none;\">\n",
              "\n",
              "  <svg xmlns=\"http://www.w3.org/2000/svg\" height=\"24px\"viewBox=\"0 0 24 24\"\n",
              "       width=\"24px\">\n",
              "    <path d=\"M7,19H8.4L18.45,9,17,7.55,7,17.6ZM5,21V16.75L18.45,3.32a2,2,0,0,1,2.83,0l1.4,1.43a1.91,1.91,0,0,1,.58,1.4,1.91,1.91,0,0,1-.58,1.4L9.25,21ZM18.45,9,17,7.55Zm-12,3A5.31,5.31,0,0,0,4.9,8.1,5.31,5.31,0,0,0,1,6.5,5.31,5.31,0,0,0,4.9,4.9,5.31,5.31,0,0,0,6.5,1,5.31,5.31,0,0,0,8.1,4.9,5.31,5.31,0,0,0,12,6.5,5.46,5.46,0,0,0,6.5,12Z\"/>\n",
              "  </svg>\n",
              "    </button>\n",
              "    <script>\n",
              "      (() => {\n",
              "      const buttonEl =\n",
              "        document.querySelector('#id_3d24747f-c5ca-45a7-a543-7dc8103c1714 button.colab-df-generate');\n",
              "      buttonEl.style.display =\n",
              "        google.colab.kernel.accessAllowed ? 'block' : 'none';\n",
              "\n",
              "      buttonEl.onclick = () => {\n",
              "        google.colab.notebook.generateWithVariable('processed_data');\n",
              "      }\n",
              "      })();\n",
              "    </script>\n",
              "  </div>\n",
              "\n",
              "    </div>\n",
              "  </div>\n"
            ],
            "application/vnd.google.colaboratory.intrinsic+json": {
              "type": "dataframe",
              "variable_name": "processed_data",
              "summary": "{\n  \"name\": \"processed_data\",\n  \"rows\": 98,\n  \"fields\": [\n    {\n      \"column\": \"country\",\n      \"properties\": {\n        \"dtype\": \"category\",\n        \"num_unique_values\": 13,\n        \"samples\": [\n          \"Cuba\",\n          \"Switzerland\",\n          \"China\"\n        ],\n        \"semantic_type\": \"\",\n        \"description\": \"\"\n      }\n    },\n    {\n      \"column\": \"url\",\n      \"properties\": {\n        \"dtype\": \"string\",\n        \"num_unique_values\": 98,\n        \"samples\": [\n          \"https://www.newsecuritybeat.org/2022/02/reducing-environmental-social-costs-chinese-investments-pakistan/\",\n          \"https://asiatimes.com/2017/03/cpec-game-changer-might-change-nothing/\",\n          \"https://www.chinausfocus.com/finance-economy/the-china-pakistan-economic-corridor-indias-dual-dilemma\"\n        ],\n        \"semantic_type\": \"\",\n        \"description\": \"\"\n      }\n    },\n    {\n      \"column\": \"polarity\",\n      \"properties\": {\n        \"dtype\": \"number\",\n        \"std\": 0.05562066221516836,\n        \"min\": 0.0,\n        \"max\": 0.3003762268266085,\n        \"num_unique_values\": 96,\n        \"samples\": [\n          0.0805669793169793,\n          0.20499260901699928,\n          0.07697053473119823\n        ],\n        \"semantic_type\": \"\",\n        \"description\": \"\"\n      }\n    },\n    {\n      \"column\": \"subjectivity\",\n      \"properties\": {\n        \"dtype\": \"number\",\n        \"std\": 0.08450427467334791,\n        \"min\": 0.0,\n        \"max\": 0.5519047619047618,\n        \"num_unique_values\": 96,\n        \"samples\": [\n          0.2859022767356101,\n          0.36868810051736883,\n          0.3882925394773738\n        ],\n        \"semantic_type\": \"\",\n        \"description\": \"\"\n      }\n    },\n    {\n      \"column\": \"sentiment_score_classification\",\n      \"properties\": {\n        \"dtype\": \"category\",\n        \"num_unique_values\": 2,\n        \"samples\": [\n          \"Positive\",\n          \"Neutral\"\n        ],\n        \"semantic_type\": \"\",\n        \"description\": \"\"\n      }\n    }\n  ]\n}"
            }
          },
          "metadata": {},
          "execution_count": 5
        }
      ]
    },
    {
      "cell_type": "code",
      "source": [
        "import matplotlib.pyplot as plt\n",
        "import plotly.express as px\n",
        "\n",
        "country_stats = processed_data.groupby('country')['polarity'].agg(['mean', 'count']).reset_index()\n",
        "\n",
        "country_stats = country_stats.sort_values(by=['mean'])\n",
        "\n",
        "fig = px.bar(country_stats, x='country', y='mean', color='mean',\n",
        "             labels={'mean': 'Average Sentiment', 'country': 'Country'},\n",
        "             title='Average Sentiment by Country',\n",
        "             hover_data=['count'],\n",
        "             color_continuous_scale='Greens')\n",
        "fig.update_layout(xaxis_title=\"Country\", yaxis_title=\"Average Sentiment\")\n",
        "fig.update_xaxes(tickangle=45)\n",
        "fig.show()\n"
      ],
      "metadata": {
        "colab": {
          "base_uri": "https://localhost:8080/",
          "height": 542
        },
        "id": "wcRpTki8qLA7",
        "outputId": "93f93e96-932c-40f0-dd3d-351780b75704"
      },
      "execution_count": 6,
      "outputs": [
        {
          "output_type": "display_data",
          "data": {
            "text/html": [
              "<html>\n",
              "<head><meta charset=\"utf-8\" /></head>\n",
              "<body>\n",
              "    <div>            <script src=\"https://cdnjs.cloudflare.com/ajax/libs/mathjax/2.7.5/MathJax.js?config=TeX-AMS-MML_SVG\"></script><script type=\"text/javascript\">if (window.MathJax && window.MathJax.Hub && window.MathJax.Hub.Config) {window.MathJax.Hub.Config({SVG: {font: \"STIX-Web\"}});}</script>                <script type=\"text/javascript\">window.PlotlyConfig = {MathJaxConfig: 'local'};</script>\n",
              "        <script charset=\"utf-8\" src=\"https://cdn.plot.ly/plotly-2.35.2.min.js\"></script>                <div id=\"83731a21-8815-4eab-8efc-0474439d8d8e\" class=\"plotly-graph-div\" style=\"height:525px; width:100%;\"></div>            <script type=\"text/javascript\">                                    window.PLOTLYENV=window.PLOTLYENV || {};                                    if (document.getElementById(\"83731a21-8815-4eab-8efc-0474439d8d8e\")) {                    Plotly.newPlot(                        \"83731a21-8815-4eab-8efc-0474439d8d8e\",                        [{\"alignmentgroup\":\"True\",\"customdata\":[[1],[2],[1],[1],[1],[19],[5],[26],[8],[1],[30],[2],[1]],\"hovertemplate\":\"Country=%{x}\\u003cbr\\u003eAverage Sentiment=%{marker.color}\\u003cbr\\u003ecount=%{customdata[0]}\\u003cextra\\u003e\\u003c\\u002fextra\\u003e\",\"legendgroup\":\"\",\"marker\":{\"color\":[0.03837853323147441,0.044796608317850165,0.04609577922077924,0.0494872711953192,0.06934523809523808,0.0736843672220648,0.07840875546761288,0.0815388959883714,0.08226016329656466,0.11231702262981866,0.11756655035488901,0.12436638210605991,0.1437202380952381],\"coloraxis\":\"coloraxis\",\"pattern\":{\"shape\":\"\"}},\"name\":\"\",\"offsetgroup\":\"\",\"orientation\":\"v\",\"showlegend\":false,\"textposition\":\"auto\",\"x\":[\"Cuba\",\"Australia\",\"Ukraine\",\"Germany\",\"Belgium\",\"United States\",\"India\",\"China\",\"United Kingdom\",\"Switzerland\",\"Pakistan\",\"Poland\",\"Indonesia\"],\"xaxis\":\"x\",\"y\":[0.03837853323147441,0.044796608317850165,0.04609577922077924,0.0494872711953192,0.06934523809523808,0.0736843672220648,0.07840875546761288,0.0815388959883714,0.08226016329656466,0.11231702262981866,0.11756655035488901,0.12436638210605991,0.1437202380952381],\"yaxis\":\"y\",\"type\":\"bar\"}],                        {\"template\":{\"data\":{\"histogram2dcontour\":[{\"type\":\"histogram2dcontour\",\"colorbar\":{\"outlinewidth\":0,\"ticks\":\"\"},\"colorscale\":[[0.0,\"#0d0887\"],[0.1111111111111111,\"#46039f\"],[0.2222222222222222,\"#7201a8\"],[0.3333333333333333,\"#9c179e\"],[0.4444444444444444,\"#bd3786\"],[0.5555555555555556,\"#d8576b\"],[0.6666666666666666,\"#ed7953\"],[0.7777777777777778,\"#fb9f3a\"],[0.8888888888888888,\"#fdca26\"],[1.0,\"#f0f921\"]]}],\"choropleth\":[{\"type\":\"choropleth\",\"colorbar\":{\"outlinewidth\":0,\"ticks\":\"\"}}],\"histogram2d\":[{\"type\":\"histogram2d\",\"colorbar\":{\"outlinewidth\":0,\"ticks\":\"\"},\"colorscale\":[[0.0,\"#0d0887\"],[0.1111111111111111,\"#46039f\"],[0.2222222222222222,\"#7201a8\"],[0.3333333333333333,\"#9c179e\"],[0.4444444444444444,\"#bd3786\"],[0.5555555555555556,\"#d8576b\"],[0.6666666666666666,\"#ed7953\"],[0.7777777777777778,\"#fb9f3a\"],[0.8888888888888888,\"#fdca26\"],[1.0,\"#f0f921\"]]}],\"heatmap\":[{\"type\":\"heatmap\",\"colorbar\":{\"outlinewidth\":0,\"ticks\":\"\"},\"colorscale\":[[0.0,\"#0d0887\"],[0.1111111111111111,\"#46039f\"],[0.2222222222222222,\"#7201a8\"],[0.3333333333333333,\"#9c179e\"],[0.4444444444444444,\"#bd3786\"],[0.5555555555555556,\"#d8576b\"],[0.6666666666666666,\"#ed7953\"],[0.7777777777777778,\"#fb9f3a\"],[0.8888888888888888,\"#fdca26\"],[1.0,\"#f0f921\"]]}],\"heatmapgl\":[{\"type\":\"heatmapgl\",\"colorbar\":{\"outlinewidth\":0,\"ticks\":\"\"},\"colorscale\":[[0.0,\"#0d0887\"],[0.1111111111111111,\"#46039f\"],[0.2222222222222222,\"#7201a8\"],[0.3333333333333333,\"#9c179e\"],[0.4444444444444444,\"#bd3786\"],[0.5555555555555556,\"#d8576b\"],[0.6666666666666666,\"#ed7953\"],[0.7777777777777778,\"#fb9f3a\"],[0.8888888888888888,\"#fdca26\"],[1.0,\"#f0f921\"]]}],\"contourcarpet\":[{\"type\":\"contourcarpet\",\"colorbar\":{\"outlinewidth\":0,\"ticks\":\"\"}}],\"contour\":[{\"type\":\"contour\",\"colorbar\":{\"outlinewidth\":0,\"ticks\":\"\"},\"colorscale\":[[0.0,\"#0d0887\"],[0.1111111111111111,\"#46039f\"],[0.2222222222222222,\"#7201a8\"],[0.3333333333333333,\"#9c179e\"],[0.4444444444444444,\"#bd3786\"],[0.5555555555555556,\"#d8576b\"],[0.6666666666666666,\"#ed7953\"],[0.7777777777777778,\"#fb9f3a\"],[0.8888888888888888,\"#fdca26\"],[1.0,\"#f0f921\"]]}],\"surface\":[{\"type\":\"surface\",\"colorbar\":{\"outlinewidth\":0,\"ticks\":\"\"},\"colorscale\":[[0.0,\"#0d0887\"],[0.1111111111111111,\"#46039f\"],[0.2222222222222222,\"#7201a8\"],[0.3333333333333333,\"#9c179e\"],[0.4444444444444444,\"#bd3786\"],[0.5555555555555556,\"#d8576b\"],[0.6666666666666666,\"#ed7953\"],[0.7777777777777778,\"#fb9f3a\"],[0.8888888888888888,\"#fdca26\"],[1.0,\"#f0f921\"]]}],\"mesh3d\":[{\"type\":\"mesh3d\",\"colorbar\":{\"outlinewidth\":0,\"ticks\":\"\"}}],\"scatter\":[{\"fillpattern\":{\"fillmode\":\"overlay\",\"size\":10,\"solidity\":0.2},\"type\":\"scatter\"}],\"parcoords\":[{\"type\":\"parcoords\",\"line\":{\"colorbar\":{\"outlinewidth\":0,\"ticks\":\"\"}}}],\"scatterpolargl\":[{\"type\":\"scatterpolargl\",\"marker\":{\"colorbar\":{\"outlinewidth\":0,\"ticks\":\"\"}}}],\"bar\":[{\"error_x\":{\"color\":\"#2a3f5f\"},\"error_y\":{\"color\":\"#2a3f5f\"},\"marker\":{\"line\":{\"color\":\"#E5ECF6\",\"width\":0.5},\"pattern\":{\"fillmode\":\"overlay\",\"size\":10,\"solidity\":0.2}},\"type\":\"bar\"}],\"scattergeo\":[{\"type\":\"scattergeo\",\"marker\":{\"colorbar\":{\"outlinewidth\":0,\"ticks\":\"\"}}}],\"scatterpolar\":[{\"type\":\"scatterpolar\",\"marker\":{\"colorbar\":{\"outlinewidth\":0,\"ticks\":\"\"}}}],\"histogram\":[{\"marker\":{\"pattern\":{\"fillmode\":\"overlay\",\"size\":10,\"solidity\":0.2}},\"type\":\"histogram\"}],\"scattergl\":[{\"type\":\"scattergl\",\"marker\":{\"colorbar\":{\"outlinewidth\":0,\"ticks\":\"\"}}}],\"scatter3d\":[{\"type\":\"scatter3d\",\"line\":{\"colorbar\":{\"outlinewidth\":0,\"ticks\":\"\"}},\"marker\":{\"colorbar\":{\"outlinewidth\":0,\"ticks\":\"\"}}}],\"scattermapbox\":[{\"type\":\"scattermapbox\",\"marker\":{\"colorbar\":{\"outlinewidth\":0,\"ticks\":\"\"}}}],\"scatterternary\":[{\"type\":\"scatterternary\",\"marker\":{\"colorbar\":{\"outlinewidth\":0,\"ticks\":\"\"}}}],\"scattercarpet\":[{\"type\":\"scattercarpet\",\"marker\":{\"colorbar\":{\"outlinewidth\":0,\"ticks\":\"\"}}}],\"carpet\":[{\"aaxis\":{\"endlinecolor\":\"#2a3f5f\",\"gridcolor\":\"white\",\"linecolor\":\"white\",\"minorgridcolor\":\"white\",\"startlinecolor\":\"#2a3f5f\"},\"baxis\":{\"endlinecolor\":\"#2a3f5f\",\"gridcolor\":\"white\",\"linecolor\":\"white\",\"minorgridcolor\":\"white\",\"startlinecolor\":\"#2a3f5f\"},\"type\":\"carpet\"}],\"table\":[{\"cells\":{\"fill\":{\"color\":\"#EBF0F8\"},\"line\":{\"color\":\"white\"}},\"header\":{\"fill\":{\"color\":\"#C8D4E3\"},\"line\":{\"color\":\"white\"}},\"type\":\"table\"}],\"barpolar\":[{\"marker\":{\"line\":{\"color\":\"#E5ECF6\",\"width\":0.5},\"pattern\":{\"fillmode\":\"overlay\",\"size\":10,\"solidity\":0.2}},\"type\":\"barpolar\"}],\"pie\":[{\"automargin\":true,\"type\":\"pie\"}]},\"layout\":{\"autotypenumbers\":\"strict\",\"colorway\":[\"#636efa\",\"#EF553B\",\"#00cc96\",\"#ab63fa\",\"#FFA15A\",\"#19d3f3\",\"#FF6692\",\"#B6E880\",\"#FF97FF\",\"#FECB52\"],\"font\":{\"color\":\"#2a3f5f\"},\"hovermode\":\"closest\",\"hoverlabel\":{\"align\":\"left\"},\"paper_bgcolor\":\"white\",\"plot_bgcolor\":\"#E5ECF6\",\"polar\":{\"bgcolor\":\"#E5ECF6\",\"angularaxis\":{\"gridcolor\":\"white\",\"linecolor\":\"white\",\"ticks\":\"\"},\"radialaxis\":{\"gridcolor\":\"white\",\"linecolor\":\"white\",\"ticks\":\"\"}},\"ternary\":{\"bgcolor\":\"#E5ECF6\",\"aaxis\":{\"gridcolor\":\"white\",\"linecolor\":\"white\",\"ticks\":\"\"},\"baxis\":{\"gridcolor\":\"white\",\"linecolor\":\"white\",\"ticks\":\"\"},\"caxis\":{\"gridcolor\":\"white\",\"linecolor\":\"white\",\"ticks\":\"\"}},\"coloraxis\":{\"colorbar\":{\"outlinewidth\":0,\"ticks\":\"\"}},\"colorscale\":{\"sequential\":[[0.0,\"#0d0887\"],[0.1111111111111111,\"#46039f\"],[0.2222222222222222,\"#7201a8\"],[0.3333333333333333,\"#9c179e\"],[0.4444444444444444,\"#bd3786\"],[0.5555555555555556,\"#d8576b\"],[0.6666666666666666,\"#ed7953\"],[0.7777777777777778,\"#fb9f3a\"],[0.8888888888888888,\"#fdca26\"],[1.0,\"#f0f921\"]],\"sequentialminus\":[[0.0,\"#0d0887\"],[0.1111111111111111,\"#46039f\"],[0.2222222222222222,\"#7201a8\"],[0.3333333333333333,\"#9c179e\"],[0.4444444444444444,\"#bd3786\"],[0.5555555555555556,\"#d8576b\"],[0.6666666666666666,\"#ed7953\"],[0.7777777777777778,\"#fb9f3a\"],[0.8888888888888888,\"#fdca26\"],[1.0,\"#f0f921\"]],\"diverging\":[[0,\"#8e0152\"],[0.1,\"#c51b7d\"],[0.2,\"#de77ae\"],[0.3,\"#f1b6da\"],[0.4,\"#fde0ef\"],[0.5,\"#f7f7f7\"],[0.6,\"#e6f5d0\"],[0.7,\"#b8e186\"],[0.8,\"#7fbc41\"],[0.9,\"#4d9221\"],[1,\"#276419\"]]},\"xaxis\":{\"gridcolor\":\"white\",\"linecolor\":\"white\",\"ticks\":\"\",\"title\":{\"standoff\":15},\"zerolinecolor\":\"white\",\"automargin\":true,\"zerolinewidth\":2},\"yaxis\":{\"gridcolor\":\"white\",\"linecolor\":\"white\",\"ticks\":\"\",\"title\":{\"standoff\":15},\"zerolinecolor\":\"white\",\"automargin\":true,\"zerolinewidth\":2},\"scene\":{\"xaxis\":{\"backgroundcolor\":\"#E5ECF6\",\"gridcolor\":\"white\",\"linecolor\":\"white\",\"showbackground\":true,\"ticks\":\"\",\"zerolinecolor\":\"white\",\"gridwidth\":2},\"yaxis\":{\"backgroundcolor\":\"#E5ECF6\",\"gridcolor\":\"white\",\"linecolor\":\"white\",\"showbackground\":true,\"ticks\":\"\",\"zerolinecolor\":\"white\",\"gridwidth\":2},\"zaxis\":{\"backgroundcolor\":\"#E5ECF6\",\"gridcolor\":\"white\",\"linecolor\":\"white\",\"showbackground\":true,\"ticks\":\"\",\"zerolinecolor\":\"white\",\"gridwidth\":2}},\"shapedefaults\":{\"line\":{\"color\":\"#2a3f5f\"}},\"annotationdefaults\":{\"arrowcolor\":\"#2a3f5f\",\"arrowhead\":0,\"arrowwidth\":1},\"geo\":{\"bgcolor\":\"white\",\"landcolor\":\"#E5ECF6\",\"subunitcolor\":\"white\",\"showland\":true,\"showlakes\":true,\"lakecolor\":\"white\"},\"title\":{\"x\":0.05},\"mapbox\":{\"style\":\"light\"}}},\"xaxis\":{\"anchor\":\"y\",\"domain\":[0.0,1.0],\"title\":{\"text\":\"Country\"},\"tickangle\":45},\"yaxis\":{\"anchor\":\"x\",\"domain\":[0.0,1.0],\"title\":{\"text\":\"Average Sentiment\"}},\"coloraxis\":{\"colorbar\":{\"title\":{\"text\":\"Average Sentiment\"}},\"colorscale\":[[0.0,\"rgb(247,252,245)\"],[0.125,\"rgb(229,245,224)\"],[0.25,\"rgb(199,233,192)\"],[0.375,\"rgb(161,217,155)\"],[0.5,\"rgb(116,196,118)\"],[0.625,\"rgb(65,171,93)\"],[0.75,\"rgb(35,139,69)\"],[0.875,\"rgb(0,109,44)\"],[1.0,\"rgb(0,68,27)\"]]},\"legend\":{\"tracegroupgap\":0},\"title\":{\"text\":\"Average Sentiment by Country\"},\"barmode\":\"relative\"},                        {\"responsive\": true}                    ).then(function(){\n",
              "                            \n",
              "var gd = document.getElementById('83731a21-8815-4eab-8efc-0474439d8d8e');\n",
              "var x = new MutationObserver(function (mutations, observer) {{\n",
              "        var display = window.getComputedStyle(gd).display;\n",
              "        if (!display || display === 'none') {{\n",
              "            console.log([gd, 'removed!']);\n",
              "            Plotly.purge(gd);\n",
              "            observer.disconnect();\n",
              "        }}\n",
              "}});\n",
              "\n",
              "// Listen for the removal of the full notebook cells\n",
              "var notebookContainer = gd.closest('#notebook-container');\n",
              "if (notebookContainer) {{\n",
              "    x.observe(notebookContainer, {childList: true});\n",
              "}}\n",
              "\n",
              "// Listen for the clearing of the current output cell\n",
              "var outputEl = gd.closest('.output');\n",
              "if (outputEl) {{\n",
              "    x.observe(outputEl, {childList: true});\n",
              "}}\n",
              "\n",
              "                        })                };                            </script>        </div>\n",
              "</body>\n",
              "</html>"
            ]
          },
          "metadata": {}
        }
      ]
    },
    {
      "cell_type": "code",
      "source": [
        "import plotly.io as pio\n",
        "\n",
        "plot_htmll = pio.to_html(fig, full_html=False)\n",
        "\n",
        "with open('country_sentiments.html', 'w') as f:\n",
        "  f.write(plot_htmll)\n",
        "\n",
        "from google.colab import files\n",
        "files.download('country_sentiments.html')"
      ],
      "metadata": {
        "id": "76oun4e-VGCx",
        "outputId": "40517a88-fb5e-45fa-80b6-e35aae386b63",
        "colab": {
          "base_uri": "https://localhost:8080/",
          "height": 17
        }
      },
      "execution_count": null,
      "outputs": [
        {
          "output_type": "display_data",
          "data": {
            "text/plain": [
              "<IPython.core.display.Javascript object>"
            ],
            "application/javascript": [
              "\n",
              "    async function download(id, filename, size) {\n",
              "      if (!google.colab.kernel.accessAllowed) {\n",
              "        return;\n",
              "      }\n",
              "      const div = document.createElement('div');\n",
              "      const label = document.createElement('label');\n",
              "      label.textContent = `Downloading \"${filename}\": `;\n",
              "      div.appendChild(label);\n",
              "      const progress = document.createElement('progress');\n",
              "      progress.max = size;\n",
              "      div.appendChild(progress);\n",
              "      document.body.appendChild(div);\n",
              "\n",
              "      const buffers = [];\n",
              "      let downloaded = 0;\n",
              "\n",
              "      const channel = await google.colab.kernel.comms.open(id);\n",
              "      // Send a message to notify the kernel that we're ready.\n",
              "      channel.send({})\n",
              "\n",
              "      for await (const message of channel.messages) {\n",
              "        // Send a message to notify the kernel that we're ready.\n",
              "        channel.send({})\n",
              "        if (message.buffers) {\n",
              "          for (const buffer of message.buffers) {\n",
              "            buffers.push(buffer);\n",
              "            downloaded += buffer.byteLength;\n",
              "            progress.value = downloaded;\n",
              "          }\n",
              "        }\n",
              "      }\n",
              "      const blob = new Blob(buffers, {type: 'application/binary'});\n",
              "      const a = document.createElement('a');\n",
              "      a.href = window.URL.createObjectURL(blob);\n",
              "      a.download = filename;\n",
              "      div.appendChild(a);\n",
              "      a.click();\n",
              "      div.remove();\n",
              "    }\n",
              "  "
            ]
          },
          "metadata": {}
        },
        {
          "output_type": "display_data",
          "data": {
            "text/plain": [
              "<IPython.core.display.Javascript object>"
            ],
            "application/javascript": [
              "download(\"download_6194f1fd-5cdc-4297-b5bf-6f8db4a3a971\", \"country_sentiments.html\", 4568102)"
            ]
          },
          "metadata": {}
        }
      ]
    },
    {
      "cell_type": "code",
      "source": [
        "country_article_counts = processed_data.groupby('country')['url'].count().reset_index()\n",
        "country_article_counts = country_article_counts.rename(columns={'url': 'Article Count'})\n",
        "\n",
        "country_article_counts = country_article_counts.sort_values(by='Article Count', ascending=False)\n",
        "\n",
        "fig = px.bar(country_article_counts, x='country', y='Article Count',\n",
        "             color='Article Count',\n",
        "             labels={'Article Count': 'Number of Articles', 'country': 'Country'},\n",
        "             title='Number of Articles by Country',\n",
        "             color_continuous_scale='Greens')\n",
        "\n",
        "fig.update_layout(xaxis_title=\"Country\", yaxis_title=\"Number of Articles\")\n",
        "fig.update_xaxes(tickangle=45)\n",
        "fig.show()"
      ],
      "metadata": {
        "colab": {
          "base_uri": "https://localhost:8080/",
          "height": 542
        },
        "id": "rzCDWiGb63LO",
        "outputId": "cf5945d0-58eb-4868-d8cd-1228acebabab"
      },
      "execution_count": null,
      "outputs": [
        {
          "output_type": "display_data",
          "data": {
            "text/html": [
              "<html>\n",
              "<head><meta charset=\"utf-8\" /></head>\n",
              "<body>\n",
              "    <div>            <script src=\"https://cdnjs.cloudflare.com/ajax/libs/mathjax/2.7.5/MathJax.js?config=TeX-AMS-MML_SVG\"></script><script type=\"text/javascript\">if (window.MathJax && window.MathJax.Hub && window.MathJax.Hub.Config) {window.MathJax.Hub.Config({SVG: {font: \"STIX-Web\"}});}</script>                <script type=\"text/javascript\">window.PlotlyConfig = {MathJaxConfig: 'local'};</script>\n",
              "        <script charset=\"utf-8\" src=\"https://cdn.plot.ly/plotly-2.35.2.min.js\"></script>                <div id=\"9333cc52-b212-4e2d-8f09-a5cbe85c3b8a\" class=\"plotly-graph-div\" style=\"height:525px; width:100%;\"></div>            <script type=\"text/javascript\">                                    window.PLOTLYENV=window.PLOTLYENV || {};                                    if (document.getElementById(\"9333cc52-b212-4e2d-8f09-a5cbe85c3b8a\")) {                    Plotly.newPlot(                        \"9333cc52-b212-4e2d-8f09-a5cbe85c3b8a\",                        [{\"alignmentgroup\":\"True\",\"hovertemplate\":\"Country=%{x}\\u003cbr\\u003eNumber of Articles=%{marker.color}\\u003cextra\\u003e\\u003c\\u002fextra\\u003e\",\"legendgroup\":\"\",\"marker\":{\"color\":[30,26,19,8,5,2,2,1,1,1,1,1,1],\"coloraxis\":\"coloraxis\",\"pattern\":{\"shape\":\"\"}},\"name\":\"\",\"offsetgroup\":\"\",\"orientation\":\"v\",\"showlegend\":false,\"textposition\":\"auto\",\"x\":[\"Pakistan\",\"China\",\"United States\",\"United Kingdom\",\"India\",\"Australia\",\"Poland\",\"Belgium\",\"Cuba\",\"Germany\",\"Indonesia\",\"Switzerland\",\"Ukraine\"],\"xaxis\":\"x\",\"y\":[30,26,19,8,5,2,2,1,1,1,1,1,1],\"yaxis\":\"y\",\"type\":\"bar\"}],                        {\"template\":{\"data\":{\"histogram2dcontour\":[{\"type\":\"histogram2dcontour\",\"colorbar\":{\"outlinewidth\":0,\"ticks\":\"\"},\"colorscale\":[[0.0,\"#0d0887\"],[0.1111111111111111,\"#46039f\"],[0.2222222222222222,\"#7201a8\"],[0.3333333333333333,\"#9c179e\"],[0.4444444444444444,\"#bd3786\"],[0.5555555555555556,\"#d8576b\"],[0.6666666666666666,\"#ed7953\"],[0.7777777777777778,\"#fb9f3a\"],[0.8888888888888888,\"#fdca26\"],[1.0,\"#f0f921\"]]}],\"choropleth\":[{\"type\":\"choropleth\",\"colorbar\":{\"outlinewidth\":0,\"ticks\":\"\"}}],\"histogram2d\":[{\"type\":\"histogram2d\",\"colorbar\":{\"outlinewidth\":0,\"ticks\":\"\"},\"colorscale\":[[0.0,\"#0d0887\"],[0.1111111111111111,\"#46039f\"],[0.2222222222222222,\"#7201a8\"],[0.3333333333333333,\"#9c179e\"],[0.4444444444444444,\"#bd3786\"],[0.5555555555555556,\"#d8576b\"],[0.6666666666666666,\"#ed7953\"],[0.7777777777777778,\"#fb9f3a\"],[0.8888888888888888,\"#fdca26\"],[1.0,\"#f0f921\"]]}],\"heatmap\":[{\"type\":\"heatmap\",\"colorbar\":{\"outlinewidth\":0,\"ticks\":\"\"},\"colorscale\":[[0.0,\"#0d0887\"],[0.1111111111111111,\"#46039f\"],[0.2222222222222222,\"#7201a8\"],[0.3333333333333333,\"#9c179e\"],[0.4444444444444444,\"#bd3786\"],[0.5555555555555556,\"#d8576b\"],[0.6666666666666666,\"#ed7953\"],[0.7777777777777778,\"#fb9f3a\"],[0.8888888888888888,\"#fdca26\"],[1.0,\"#f0f921\"]]}],\"heatmapgl\":[{\"type\":\"heatmapgl\",\"colorbar\":{\"outlinewidth\":0,\"ticks\":\"\"},\"colorscale\":[[0.0,\"#0d0887\"],[0.1111111111111111,\"#46039f\"],[0.2222222222222222,\"#7201a8\"],[0.3333333333333333,\"#9c179e\"],[0.4444444444444444,\"#bd3786\"],[0.5555555555555556,\"#d8576b\"],[0.6666666666666666,\"#ed7953\"],[0.7777777777777778,\"#fb9f3a\"],[0.8888888888888888,\"#fdca26\"],[1.0,\"#f0f921\"]]}],\"contourcarpet\":[{\"type\":\"contourcarpet\",\"colorbar\":{\"outlinewidth\":0,\"ticks\":\"\"}}],\"contour\":[{\"type\":\"contour\",\"colorbar\":{\"outlinewidth\":0,\"ticks\":\"\"},\"colorscale\":[[0.0,\"#0d0887\"],[0.1111111111111111,\"#46039f\"],[0.2222222222222222,\"#7201a8\"],[0.3333333333333333,\"#9c179e\"],[0.4444444444444444,\"#bd3786\"],[0.5555555555555556,\"#d8576b\"],[0.6666666666666666,\"#ed7953\"],[0.7777777777777778,\"#fb9f3a\"],[0.8888888888888888,\"#fdca26\"],[1.0,\"#f0f921\"]]}],\"surface\":[{\"type\":\"surface\",\"colorbar\":{\"outlinewidth\":0,\"ticks\":\"\"},\"colorscale\":[[0.0,\"#0d0887\"],[0.1111111111111111,\"#46039f\"],[0.2222222222222222,\"#7201a8\"],[0.3333333333333333,\"#9c179e\"],[0.4444444444444444,\"#bd3786\"],[0.5555555555555556,\"#d8576b\"],[0.6666666666666666,\"#ed7953\"],[0.7777777777777778,\"#fb9f3a\"],[0.8888888888888888,\"#fdca26\"],[1.0,\"#f0f921\"]]}],\"mesh3d\":[{\"type\":\"mesh3d\",\"colorbar\":{\"outlinewidth\":0,\"ticks\":\"\"}}],\"scatter\":[{\"fillpattern\":{\"fillmode\":\"overlay\",\"size\":10,\"solidity\":0.2},\"type\":\"scatter\"}],\"parcoords\":[{\"type\":\"parcoords\",\"line\":{\"colorbar\":{\"outlinewidth\":0,\"ticks\":\"\"}}}],\"scatterpolargl\":[{\"type\":\"scatterpolargl\",\"marker\":{\"colorbar\":{\"outlinewidth\":0,\"ticks\":\"\"}}}],\"bar\":[{\"error_x\":{\"color\":\"#2a3f5f\"},\"error_y\":{\"color\":\"#2a3f5f\"},\"marker\":{\"line\":{\"color\":\"#E5ECF6\",\"width\":0.5},\"pattern\":{\"fillmode\":\"overlay\",\"size\":10,\"solidity\":0.2}},\"type\":\"bar\"}],\"scattergeo\":[{\"type\":\"scattergeo\",\"marker\":{\"colorbar\":{\"outlinewidth\":0,\"ticks\":\"\"}}}],\"scatterpolar\":[{\"type\":\"scatterpolar\",\"marker\":{\"colorbar\":{\"outlinewidth\":0,\"ticks\":\"\"}}}],\"histogram\":[{\"marker\":{\"pattern\":{\"fillmode\":\"overlay\",\"size\":10,\"solidity\":0.2}},\"type\":\"histogram\"}],\"scattergl\":[{\"type\":\"scattergl\",\"marker\":{\"colorbar\":{\"outlinewidth\":0,\"ticks\":\"\"}}}],\"scatter3d\":[{\"type\":\"scatter3d\",\"line\":{\"colorbar\":{\"outlinewidth\":0,\"ticks\":\"\"}},\"marker\":{\"colorbar\":{\"outlinewidth\":0,\"ticks\":\"\"}}}],\"scattermapbox\":[{\"type\":\"scattermapbox\",\"marker\":{\"colorbar\":{\"outlinewidth\":0,\"ticks\":\"\"}}}],\"scatterternary\":[{\"type\":\"scatterternary\",\"marker\":{\"colorbar\":{\"outlinewidth\":0,\"ticks\":\"\"}}}],\"scattercarpet\":[{\"type\":\"scattercarpet\",\"marker\":{\"colorbar\":{\"outlinewidth\":0,\"ticks\":\"\"}}}],\"carpet\":[{\"aaxis\":{\"endlinecolor\":\"#2a3f5f\",\"gridcolor\":\"white\",\"linecolor\":\"white\",\"minorgridcolor\":\"white\",\"startlinecolor\":\"#2a3f5f\"},\"baxis\":{\"endlinecolor\":\"#2a3f5f\",\"gridcolor\":\"white\",\"linecolor\":\"white\",\"minorgridcolor\":\"white\",\"startlinecolor\":\"#2a3f5f\"},\"type\":\"carpet\"}],\"table\":[{\"cells\":{\"fill\":{\"color\":\"#EBF0F8\"},\"line\":{\"color\":\"white\"}},\"header\":{\"fill\":{\"color\":\"#C8D4E3\"},\"line\":{\"color\":\"white\"}},\"type\":\"table\"}],\"barpolar\":[{\"marker\":{\"line\":{\"color\":\"#E5ECF6\",\"width\":0.5},\"pattern\":{\"fillmode\":\"overlay\",\"size\":10,\"solidity\":0.2}},\"type\":\"barpolar\"}],\"pie\":[{\"automargin\":true,\"type\":\"pie\"}]},\"layout\":{\"autotypenumbers\":\"strict\",\"colorway\":[\"#636efa\",\"#EF553B\",\"#00cc96\",\"#ab63fa\",\"#FFA15A\",\"#19d3f3\",\"#FF6692\",\"#B6E880\",\"#FF97FF\",\"#FECB52\"],\"font\":{\"color\":\"#2a3f5f\"},\"hovermode\":\"closest\",\"hoverlabel\":{\"align\":\"left\"},\"paper_bgcolor\":\"white\",\"plot_bgcolor\":\"#E5ECF6\",\"polar\":{\"bgcolor\":\"#E5ECF6\",\"angularaxis\":{\"gridcolor\":\"white\",\"linecolor\":\"white\",\"ticks\":\"\"},\"radialaxis\":{\"gridcolor\":\"white\",\"linecolor\":\"white\",\"ticks\":\"\"}},\"ternary\":{\"bgcolor\":\"#E5ECF6\",\"aaxis\":{\"gridcolor\":\"white\",\"linecolor\":\"white\",\"ticks\":\"\"},\"baxis\":{\"gridcolor\":\"white\",\"linecolor\":\"white\",\"ticks\":\"\"},\"caxis\":{\"gridcolor\":\"white\",\"linecolor\":\"white\",\"ticks\":\"\"}},\"coloraxis\":{\"colorbar\":{\"outlinewidth\":0,\"ticks\":\"\"}},\"colorscale\":{\"sequential\":[[0.0,\"#0d0887\"],[0.1111111111111111,\"#46039f\"],[0.2222222222222222,\"#7201a8\"],[0.3333333333333333,\"#9c179e\"],[0.4444444444444444,\"#bd3786\"],[0.5555555555555556,\"#d8576b\"],[0.6666666666666666,\"#ed7953\"],[0.7777777777777778,\"#fb9f3a\"],[0.8888888888888888,\"#fdca26\"],[1.0,\"#f0f921\"]],\"sequentialminus\":[[0.0,\"#0d0887\"],[0.1111111111111111,\"#46039f\"],[0.2222222222222222,\"#7201a8\"],[0.3333333333333333,\"#9c179e\"],[0.4444444444444444,\"#bd3786\"],[0.5555555555555556,\"#d8576b\"],[0.6666666666666666,\"#ed7953\"],[0.7777777777777778,\"#fb9f3a\"],[0.8888888888888888,\"#fdca26\"],[1.0,\"#f0f921\"]],\"diverging\":[[0,\"#8e0152\"],[0.1,\"#c51b7d\"],[0.2,\"#de77ae\"],[0.3,\"#f1b6da\"],[0.4,\"#fde0ef\"],[0.5,\"#f7f7f7\"],[0.6,\"#e6f5d0\"],[0.7,\"#b8e186\"],[0.8,\"#7fbc41\"],[0.9,\"#4d9221\"],[1,\"#276419\"]]},\"xaxis\":{\"gridcolor\":\"white\",\"linecolor\":\"white\",\"ticks\":\"\",\"title\":{\"standoff\":15},\"zerolinecolor\":\"white\",\"automargin\":true,\"zerolinewidth\":2},\"yaxis\":{\"gridcolor\":\"white\",\"linecolor\":\"white\",\"ticks\":\"\",\"title\":{\"standoff\":15},\"zerolinecolor\":\"white\",\"automargin\":true,\"zerolinewidth\":2},\"scene\":{\"xaxis\":{\"backgroundcolor\":\"#E5ECF6\",\"gridcolor\":\"white\",\"linecolor\":\"white\",\"showbackground\":true,\"ticks\":\"\",\"zerolinecolor\":\"white\",\"gridwidth\":2},\"yaxis\":{\"backgroundcolor\":\"#E5ECF6\",\"gridcolor\":\"white\",\"linecolor\":\"white\",\"showbackground\":true,\"ticks\":\"\",\"zerolinecolor\":\"white\",\"gridwidth\":2},\"zaxis\":{\"backgroundcolor\":\"#E5ECF6\",\"gridcolor\":\"white\",\"linecolor\":\"white\",\"showbackground\":true,\"ticks\":\"\",\"zerolinecolor\":\"white\",\"gridwidth\":2}},\"shapedefaults\":{\"line\":{\"color\":\"#2a3f5f\"}},\"annotationdefaults\":{\"arrowcolor\":\"#2a3f5f\",\"arrowhead\":0,\"arrowwidth\":1},\"geo\":{\"bgcolor\":\"white\",\"landcolor\":\"#E5ECF6\",\"subunitcolor\":\"white\",\"showland\":true,\"showlakes\":true,\"lakecolor\":\"white\"},\"title\":{\"x\":0.05},\"mapbox\":{\"style\":\"light\"}}},\"xaxis\":{\"anchor\":\"y\",\"domain\":[0.0,1.0],\"title\":{\"text\":\"Country\"},\"tickangle\":45},\"yaxis\":{\"anchor\":\"x\",\"domain\":[0.0,1.0],\"title\":{\"text\":\"Number of Articles\"}},\"coloraxis\":{\"colorbar\":{\"title\":{\"text\":\"Number of Articles\"}},\"colorscale\":[[0.0,\"rgb(247,252,245)\"],[0.125,\"rgb(229,245,224)\"],[0.25,\"rgb(199,233,192)\"],[0.375,\"rgb(161,217,155)\"],[0.5,\"rgb(116,196,118)\"],[0.625,\"rgb(65,171,93)\"],[0.75,\"rgb(35,139,69)\"],[0.875,\"rgb(0,109,44)\"],[1.0,\"rgb(0,68,27)\"]]},\"legend\":{\"tracegroupgap\":0},\"title\":{\"text\":\"Number of Articles by Country\"},\"barmode\":\"relative\"},                        {\"responsive\": true}                    ).then(function(){\n",
              "                            \n",
              "var gd = document.getElementById('9333cc52-b212-4e2d-8f09-a5cbe85c3b8a');\n",
              "var x = new MutationObserver(function (mutations, observer) {{\n",
              "        var display = window.getComputedStyle(gd).display;\n",
              "        if (!display || display === 'none') {{\n",
              "            console.log([gd, 'removed!']);\n",
              "            Plotly.purge(gd);\n",
              "            observer.disconnect();\n",
              "        }}\n",
              "}});\n",
              "\n",
              "// Listen for the removal of the full notebook cells\n",
              "var notebookContainer = gd.closest('#notebook-container');\n",
              "if (notebookContainer) {{\n",
              "    x.observe(notebookContainer, {childList: true});\n",
              "}}\n",
              "\n",
              "// Listen for the clearing of the current output cell\n",
              "var outputEl = gd.closest('.output');\n",
              "if (outputEl) {{\n",
              "    x.observe(outputEl, {childList: true});\n",
              "}}\n",
              "\n",
              "                        })                };                            </script>        </div>\n",
              "</body>\n",
              "</html>"
            ]
          },
          "metadata": {}
        }
      ]
    },
    {
      "cell_type": "code",
      "source": [
        "#Converting to HTML\n",
        "plot_html = pio.to_html(fig, full_html=False)\n",
        "\n",
        "#Saving to HTML file\n",
        "with open('country_article_counts.html', 'w') as f:\n",
        "  f.write(plot_html)\n",
        "\n",
        "#Downloading the file\n",
        "from google.colab import files\n",
        "files.download('country_article_counts.html')"
      ],
      "metadata": {
        "id": "PZqSOPIOJeAH",
        "outputId": "a005750d-de71-4a11-a3ff-09ea1d4919df",
        "colab": {
          "base_uri": "https://localhost:8080/",
          "height": 17
        }
      },
      "execution_count": null,
      "outputs": [
        {
          "output_type": "display_data",
          "data": {
            "text/plain": [
              "<IPython.core.display.Javascript object>"
            ],
            "application/javascript": [
              "\n",
              "    async function download(id, filename, size) {\n",
              "      if (!google.colab.kernel.accessAllowed) {\n",
              "        return;\n",
              "      }\n",
              "      const div = document.createElement('div');\n",
              "      const label = document.createElement('label');\n",
              "      label.textContent = `Downloading \"${filename}\": `;\n",
              "      div.appendChild(label);\n",
              "      const progress = document.createElement('progress');\n",
              "      progress.max = size;\n",
              "      div.appendChild(progress);\n",
              "      document.body.appendChild(div);\n",
              "\n",
              "      const buffers = [];\n",
              "      let downloaded = 0;\n",
              "\n",
              "      const channel = await google.colab.kernel.comms.open(id);\n",
              "      // Send a message to notify the kernel that we're ready.\n",
              "      channel.send({})\n",
              "\n",
              "      for await (const message of channel.messages) {\n",
              "        // Send a message to notify the kernel that we're ready.\n",
              "        channel.send({})\n",
              "        if (message.buffers) {\n",
              "          for (const buffer of message.buffers) {\n",
              "            buffers.push(buffer);\n",
              "            downloaded += buffer.byteLength;\n",
              "            progress.value = downloaded;\n",
              "          }\n",
              "        }\n",
              "      }\n",
              "      const blob = new Blob(buffers, {type: 'application/binary'});\n",
              "      const a = document.createElement('a');\n",
              "      a.href = window.URL.createObjectURL(blob);\n",
              "      a.download = filename;\n",
              "      div.appendChild(a);\n",
              "      a.click();\n",
              "      div.remove();\n",
              "    }\n",
              "  "
            ]
          },
          "metadata": {}
        },
        {
          "output_type": "display_data",
          "data": {
            "text/plain": [
              "<IPython.core.display.Javascript object>"
            ],
            "application/javascript": [
              "download(\"download_4f934be1-e6db-4249-a6b2-978164bdb508\", \"country_article_counts.html\", 4567546)"
            ]
          },
          "metadata": {}
        }
      ]
    },
    {
      "cell_type": "code",
      "source": [
        "#Import plotly: used to create interactive maps\n",
        "import plotly.express as px\n",
        "\n",
        "#Get average country sentiments based on the polarity score\n",
        "country_sentiment = processed_data.groupby('country').agg({'polarity': 'mean', 'url': 'count'}).reset_index()\n",
        "country_sentiment.columns = ['Country', 'Average Sentiment', 'Article Count']\n",
        "\n",
        "#Create normalised scale used min and max average sentiments\n",
        "min_sent = country_sentiment['Average Sentiment'].min()\n",
        "max_sent = country_sentiment['Average Sentiment'].max()\n",
        "country_sentiment['Normalized Sentiment'] = (country_sentiment['Average Sentiment'] - min_sent) / (max_sent - min_sent)\n",
        "\n",
        "#Create the figure\n",
        "fig = px.scatter_geo(country_sentiment, locations=\"Country\", locationmode='country names',\n",
        "                     color=\"Normalized Sentiment\", size=\"Article Count\", hover_name=\"Country\",\n",
        "                     projection=\"natural earth\", color_continuous_scale=\"RdYlGn\",\n",
        "                     title='Sentiment Analysis on the Environmental Impacts of CPEC by Country',\n",
        "                     labels={'Normalized Sentiment': 'Average Sentiment (Normalized 0-1)', 'Article Count': 'Number of Articles'}\n",
        "                     )\n",
        "\n",
        "fig.update_traces(marker=dict(line=dict(width=0.5, color='DarkSlateGrey')),\n",
        "                  selector=dict(mode='markers'))\n",
        "\n",
        "#Show the plot\n",
        "fig.show()"
      ],
      "metadata": {
        "colab": {
          "base_uri": "https://localhost:8080/",
          "height": 542
        },
        "id": "o8koeZsEkJ1O",
        "outputId": "d9b9fa3c-43d9-4867-f37a-25d7b4799432"
      },
      "execution_count": null,
      "outputs": [
        {
          "output_type": "display_data",
          "data": {
            "text/html": [
              "<html>\n",
              "<head><meta charset=\"utf-8\" /></head>\n",
              "<body>\n",
              "    <div>            <script src=\"https://cdnjs.cloudflare.com/ajax/libs/mathjax/2.7.5/MathJax.js?config=TeX-AMS-MML_SVG\"></script><script type=\"text/javascript\">if (window.MathJax && window.MathJax.Hub && window.MathJax.Hub.Config) {window.MathJax.Hub.Config({SVG: {font: \"STIX-Web\"}});}</script>                <script type=\"text/javascript\">window.PlotlyConfig = {MathJaxConfig: 'local'};</script>\n",
              "        <script charset=\"utf-8\" src=\"https://cdn.plot.ly/plotly-2.35.2.min.js\"></script>                <div id=\"c71c4082-f4ff-482f-8916-86572cd84708\" class=\"plotly-graph-div\" style=\"height:525px; width:100%;\"></div>            <script type=\"text/javascript\">                                    window.PLOTLYENV=window.PLOTLYENV || {};                                    if (document.getElementById(\"c71c4082-f4ff-482f-8916-86572cd84708\")) {                    Plotly.newPlot(                        \"c71c4082-f4ff-482f-8916-86572cd84708\",                        [{\"geo\":\"geo\",\"hovertemplate\":\"\\u003cb\\u003e%{hovertext}\\u003c\\u002fb\\u003e\\u003cbr\\u003e\\u003cbr\\u003eNumber of Articles=%{marker.size}\\u003cbr\\u003eCountry=%{location}\\u003cbr\\u003eAverage Sentiment (Normalized 0-1)=%{marker.color}\\u003cextra\\u003e\\u003c\\u002fextra\\u003e\",\"hovertext\":[\"Australia\",\"Belgium\",\"China\",\"Cuba\",\"Germany\",\"India\",\"Indonesia\",\"Pakistan\",\"Poland\",\"Switzerland\",\"Ukraine\",\"United Kingdom\",\"United States\"],\"legendgroup\":\"\",\"locationmode\":\"country names\",\"locations\":[\"Australia\",\"Belgium\",\"China\",\"Cuba\",\"Germany\",\"India\",\"Indonesia\",\"Pakistan\",\"Poland\",\"Switzerland\",\"Ukraine\",\"United Kingdom\",\"United States\"],\"marker\":{\"color\":[0.25847205867027134,0.4339051463168516,0.5256306042971159,0.0,0.24468954917922786,0.5068618432963699,1.0,0.781580735054377,0.8526908467307758,0.7609788414914017,0.2569451594966949,0.5273006930044266,0.4632302611791073],\"coloraxis\":\"coloraxis\",\"size\":[2,1,26,1,1,5,1,30,2,1,1,8,19],\"sizemode\":\"area\",\"sizeref\":0.075,\"symbol\":\"circle\",\"line\":{\"color\":\"DarkSlateGrey\",\"width\":0.5}},\"mode\":\"markers\",\"name\":\"\",\"showlegend\":false,\"type\":\"scattergeo\"}],                        {\"template\":{\"data\":{\"histogram2dcontour\":[{\"type\":\"histogram2dcontour\",\"colorbar\":{\"outlinewidth\":0,\"ticks\":\"\"},\"colorscale\":[[0.0,\"#0d0887\"],[0.1111111111111111,\"#46039f\"],[0.2222222222222222,\"#7201a8\"],[0.3333333333333333,\"#9c179e\"],[0.4444444444444444,\"#bd3786\"],[0.5555555555555556,\"#d8576b\"],[0.6666666666666666,\"#ed7953\"],[0.7777777777777778,\"#fb9f3a\"],[0.8888888888888888,\"#fdca26\"],[1.0,\"#f0f921\"]]}],\"choropleth\":[{\"type\":\"choropleth\",\"colorbar\":{\"outlinewidth\":0,\"ticks\":\"\"}}],\"histogram2d\":[{\"type\":\"histogram2d\",\"colorbar\":{\"outlinewidth\":0,\"ticks\":\"\"},\"colorscale\":[[0.0,\"#0d0887\"],[0.1111111111111111,\"#46039f\"],[0.2222222222222222,\"#7201a8\"],[0.3333333333333333,\"#9c179e\"],[0.4444444444444444,\"#bd3786\"],[0.5555555555555556,\"#d8576b\"],[0.6666666666666666,\"#ed7953\"],[0.7777777777777778,\"#fb9f3a\"],[0.8888888888888888,\"#fdca26\"],[1.0,\"#f0f921\"]]}],\"heatmap\":[{\"type\":\"heatmap\",\"colorbar\":{\"outlinewidth\":0,\"ticks\":\"\"},\"colorscale\":[[0.0,\"#0d0887\"],[0.1111111111111111,\"#46039f\"],[0.2222222222222222,\"#7201a8\"],[0.3333333333333333,\"#9c179e\"],[0.4444444444444444,\"#bd3786\"],[0.5555555555555556,\"#d8576b\"],[0.6666666666666666,\"#ed7953\"],[0.7777777777777778,\"#fb9f3a\"],[0.8888888888888888,\"#fdca26\"],[1.0,\"#f0f921\"]]}],\"heatmapgl\":[{\"type\":\"heatmapgl\",\"colorbar\":{\"outlinewidth\":0,\"ticks\":\"\"},\"colorscale\":[[0.0,\"#0d0887\"],[0.1111111111111111,\"#46039f\"],[0.2222222222222222,\"#7201a8\"],[0.3333333333333333,\"#9c179e\"],[0.4444444444444444,\"#bd3786\"],[0.5555555555555556,\"#d8576b\"],[0.6666666666666666,\"#ed7953\"],[0.7777777777777778,\"#fb9f3a\"],[0.8888888888888888,\"#fdca26\"],[1.0,\"#f0f921\"]]}],\"contourcarpet\":[{\"type\":\"contourcarpet\",\"colorbar\":{\"outlinewidth\":0,\"ticks\":\"\"}}],\"contour\":[{\"type\":\"contour\",\"colorbar\":{\"outlinewidth\":0,\"ticks\":\"\"},\"colorscale\":[[0.0,\"#0d0887\"],[0.1111111111111111,\"#46039f\"],[0.2222222222222222,\"#7201a8\"],[0.3333333333333333,\"#9c179e\"],[0.4444444444444444,\"#bd3786\"],[0.5555555555555556,\"#d8576b\"],[0.6666666666666666,\"#ed7953\"],[0.7777777777777778,\"#fb9f3a\"],[0.8888888888888888,\"#fdca26\"],[1.0,\"#f0f921\"]]}],\"surface\":[{\"type\":\"surface\",\"colorbar\":{\"outlinewidth\":0,\"ticks\":\"\"},\"colorscale\":[[0.0,\"#0d0887\"],[0.1111111111111111,\"#46039f\"],[0.2222222222222222,\"#7201a8\"],[0.3333333333333333,\"#9c179e\"],[0.4444444444444444,\"#bd3786\"],[0.5555555555555556,\"#d8576b\"],[0.6666666666666666,\"#ed7953\"],[0.7777777777777778,\"#fb9f3a\"],[0.8888888888888888,\"#fdca26\"],[1.0,\"#f0f921\"]]}],\"mesh3d\":[{\"type\":\"mesh3d\",\"colorbar\":{\"outlinewidth\":0,\"ticks\":\"\"}}],\"scatter\":[{\"fillpattern\":{\"fillmode\":\"overlay\",\"size\":10,\"solidity\":0.2},\"type\":\"scatter\"}],\"parcoords\":[{\"type\":\"parcoords\",\"line\":{\"colorbar\":{\"outlinewidth\":0,\"ticks\":\"\"}}}],\"scatterpolargl\":[{\"type\":\"scatterpolargl\",\"marker\":{\"colorbar\":{\"outlinewidth\":0,\"ticks\":\"\"}}}],\"bar\":[{\"error_x\":{\"color\":\"#2a3f5f\"},\"error_y\":{\"color\":\"#2a3f5f\"},\"marker\":{\"line\":{\"color\":\"#E5ECF6\",\"width\":0.5},\"pattern\":{\"fillmode\":\"overlay\",\"size\":10,\"solidity\":0.2}},\"type\":\"bar\"}],\"scattergeo\":[{\"type\":\"scattergeo\",\"marker\":{\"colorbar\":{\"outlinewidth\":0,\"ticks\":\"\"}}}],\"scatterpolar\":[{\"type\":\"scatterpolar\",\"marker\":{\"colorbar\":{\"outlinewidth\":0,\"ticks\":\"\"}}}],\"histogram\":[{\"marker\":{\"pattern\":{\"fillmode\":\"overlay\",\"size\":10,\"solidity\":0.2}},\"type\":\"histogram\"}],\"scattergl\":[{\"type\":\"scattergl\",\"marker\":{\"colorbar\":{\"outlinewidth\":0,\"ticks\":\"\"}}}],\"scatter3d\":[{\"type\":\"scatter3d\",\"line\":{\"colorbar\":{\"outlinewidth\":0,\"ticks\":\"\"}},\"marker\":{\"colorbar\":{\"outlinewidth\":0,\"ticks\":\"\"}}}],\"scattermapbox\":[{\"type\":\"scattermapbox\",\"marker\":{\"colorbar\":{\"outlinewidth\":0,\"ticks\":\"\"}}}],\"scatterternary\":[{\"type\":\"scatterternary\",\"marker\":{\"colorbar\":{\"outlinewidth\":0,\"ticks\":\"\"}}}],\"scattercarpet\":[{\"type\":\"scattercarpet\",\"marker\":{\"colorbar\":{\"outlinewidth\":0,\"ticks\":\"\"}}}],\"carpet\":[{\"aaxis\":{\"endlinecolor\":\"#2a3f5f\",\"gridcolor\":\"white\",\"linecolor\":\"white\",\"minorgridcolor\":\"white\",\"startlinecolor\":\"#2a3f5f\"},\"baxis\":{\"endlinecolor\":\"#2a3f5f\",\"gridcolor\":\"white\",\"linecolor\":\"white\",\"minorgridcolor\":\"white\",\"startlinecolor\":\"#2a3f5f\"},\"type\":\"carpet\"}],\"table\":[{\"cells\":{\"fill\":{\"color\":\"#EBF0F8\"},\"line\":{\"color\":\"white\"}},\"header\":{\"fill\":{\"color\":\"#C8D4E3\"},\"line\":{\"color\":\"white\"}},\"type\":\"table\"}],\"barpolar\":[{\"marker\":{\"line\":{\"color\":\"#E5ECF6\",\"width\":0.5},\"pattern\":{\"fillmode\":\"overlay\",\"size\":10,\"solidity\":0.2}},\"type\":\"barpolar\"}],\"pie\":[{\"automargin\":true,\"type\":\"pie\"}]},\"layout\":{\"autotypenumbers\":\"strict\",\"colorway\":[\"#636efa\",\"#EF553B\",\"#00cc96\",\"#ab63fa\",\"#FFA15A\",\"#19d3f3\",\"#FF6692\",\"#B6E880\",\"#FF97FF\",\"#FECB52\"],\"font\":{\"color\":\"#2a3f5f\"},\"hovermode\":\"closest\",\"hoverlabel\":{\"align\":\"left\"},\"paper_bgcolor\":\"white\",\"plot_bgcolor\":\"#E5ECF6\",\"polar\":{\"bgcolor\":\"#E5ECF6\",\"angularaxis\":{\"gridcolor\":\"white\",\"linecolor\":\"white\",\"ticks\":\"\"},\"radialaxis\":{\"gridcolor\":\"white\",\"linecolor\":\"white\",\"ticks\":\"\"}},\"ternary\":{\"bgcolor\":\"#E5ECF6\",\"aaxis\":{\"gridcolor\":\"white\",\"linecolor\":\"white\",\"ticks\":\"\"},\"baxis\":{\"gridcolor\":\"white\",\"linecolor\":\"white\",\"ticks\":\"\"},\"caxis\":{\"gridcolor\":\"white\",\"linecolor\":\"white\",\"ticks\":\"\"}},\"coloraxis\":{\"colorbar\":{\"outlinewidth\":0,\"ticks\":\"\"}},\"colorscale\":{\"sequential\":[[0.0,\"#0d0887\"],[0.1111111111111111,\"#46039f\"],[0.2222222222222222,\"#7201a8\"],[0.3333333333333333,\"#9c179e\"],[0.4444444444444444,\"#bd3786\"],[0.5555555555555556,\"#d8576b\"],[0.6666666666666666,\"#ed7953\"],[0.7777777777777778,\"#fb9f3a\"],[0.8888888888888888,\"#fdca26\"],[1.0,\"#f0f921\"]],\"sequentialminus\":[[0.0,\"#0d0887\"],[0.1111111111111111,\"#46039f\"],[0.2222222222222222,\"#7201a8\"],[0.3333333333333333,\"#9c179e\"],[0.4444444444444444,\"#bd3786\"],[0.5555555555555556,\"#d8576b\"],[0.6666666666666666,\"#ed7953\"],[0.7777777777777778,\"#fb9f3a\"],[0.8888888888888888,\"#fdca26\"],[1.0,\"#f0f921\"]],\"diverging\":[[0,\"#8e0152\"],[0.1,\"#c51b7d\"],[0.2,\"#de77ae\"],[0.3,\"#f1b6da\"],[0.4,\"#fde0ef\"],[0.5,\"#f7f7f7\"],[0.6,\"#e6f5d0\"],[0.7,\"#b8e186\"],[0.8,\"#7fbc41\"],[0.9,\"#4d9221\"],[1,\"#276419\"]]},\"xaxis\":{\"gridcolor\":\"white\",\"linecolor\":\"white\",\"ticks\":\"\",\"title\":{\"standoff\":15},\"zerolinecolor\":\"white\",\"automargin\":true,\"zerolinewidth\":2},\"yaxis\":{\"gridcolor\":\"white\",\"linecolor\":\"white\",\"ticks\":\"\",\"title\":{\"standoff\":15},\"zerolinecolor\":\"white\",\"automargin\":true,\"zerolinewidth\":2},\"scene\":{\"xaxis\":{\"backgroundcolor\":\"#E5ECF6\",\"gridcolor\":\"white\",\"linecolor\":\"white\",\"showbackground\":true,\"ticks\":\"\",\"zerolinecolor\":\"white\",\"gridwidth\":2},\"yaxis\":{\"backgroundcolor\":\"#E5ECF6\",\"gridcolor\":\"white\",\"linecolor\":\"white\",\"showbackground\":true,\"ticks\":\"\",\"zerolinecolor\":\"white\",\"gridwidth\":2},\"zaxis\":{\"backgroundcolor\":\"#E5ECF6\",\"gridcolor\":\"white\",\"linecolor\":\"white\",\"showbackground\":true,\"ticks\":\"\",\"zerolinecolor\":\"white\",\"gridwidth\":2}},\"shapedefaults\":{\"line\":{\"color\":\"#2a3f5f\"}},\"annotationdefaults\":{\"arrowcolor\":\"#2a3f5f\",\"arrowhead\":0,\"arrowwidth\":1},\"geo\":{\"bgcolor\":\"white\",\"landcolor\":\"#E5ECF6\",\"subunitcolor\":\"white\",\"showland\":true,\"showlakes\":true,\"lakecolor\":\"white\"},\"title\":{\"x\":0.05},\"mapbox\":{\"style\":\"light\"}}},\"geo\":{\"domain\":{\"x\":[0.0,1.0],\"y\":[0.0,1.0]},\"projection\":{\"type\":\"natural earth\"},\"center\":{}},\"coloraxis\":{\"colorbar\":{\"title\":{\"text\":\"Average Sentiment (Normalized 0-1)\"}},\"colorscale\":[[0.0,\"rgb(165,0,38)\"],[0.1,\"rgb(215,48,39)\"],[0.2,\"rgb(244,109,67)\"],[0.3,\"rgb(253,174,97)\"],[0.4,\"rgb(254,224,139)\"],[0.5,\"rgb(255,255,191)\"],[0.6,\"rgb(217,239,139)\"],[0.7,\"rgb(166,217,106)\"],[0.8,\"rgb(102,189,99)\"],[0.9,\"rgb(26,152,80)\"],[1.0,\"rgb(0,104,55)\"]]},\"legend\":{\"tracegroupgap\":0,\"itemsizing\":\"constant\"},\"title\":{\"text\":\"Sentiment Analysis on the Environmental Impacts of CPEC by Country\"}},                        {\"responsive\": true}                    ).then(function(){\n",
              "                            \n",
              "var gd = document.getElementById('c71c4082-f4ff-482f-8916-86572cd84708');\n",
              "var x = new MutationObserver(function (mutations, observer) {{\n",
              "        var display = window.getComputedStyle(gd).display;\n",
              "        if (!display || display === 'none') {{\n",
              "            console.log([gd, 'removed!']);\n",
              "            Plotly.purge(gd);\n",
              "            observer.disconnect();\n",
              "        }}\n",
              "}});\n",
              "\n",
              "// Listen for the removal of the full notebook cells\n",
              "var notebookContainer = gd.closest('#notebook-container');\n",
              "if (notebookContainer) {{\n",
              "    x.observe(notebookContainer, {childList: true});\n",
              "}}\n",
              "\n",
              "// Listen for the clearing of the current output cell\n",
              "var outputEl = gd.closest('.output');\n",
              "if (outputEl) {{\n",
              "    x.observe(outputEl, {childList: true});\n",
              "}}\n",
              "\n",
              "                        })                };                            </script>        </div>\n",
              "</body>\n",
              "</html>"
            ]
          },
          "metadata": {}
        }
      ]
    },
    {
      "cell_type": "code",
      "source": [
        "average_sentiments = processed_data.groupby('country')['polarity'].mean()\n",
        "\n",
        "print(\"Average Sentiment Scores:\")\n",
        "print(f\"China: {average_sentiments.get('China', 'N/A')}\")\n",
        "print(f\"Pakistan: {average_sentiments.get('Pakistan', 'N/A')}\")\n",
        "\n",
        "western_countries = ['United States', 'United Kingdom', 'Canada', 'France', 'Germany', 'Australia', 'Switzerland', 'Belgium', 'The Netherlands' ]\n",
        "\n",
        "western_sentiment = processed_data[processed_data['country'].isin(western_countries)]['polarity'].mean()\n",
        "print(f\"Western Countries (average): {western_sentiment}\")"
      ],
      "metadata": {
        "colab": {
          "base_uri": "https://localhost:8080/"
        },
        "id": "LsmdCmFTi4lG",
        "outputId": "81b5c0f7-6091-4e71-9fd2-a864bcad110b"
      },
      "execution_count": null,
      "outputs": [
        {
          "output_type": "stream",
          "name": "stdout",
          "text": [
            "Average Sentiment Scores:\n",
            "China: 0.0813963650272285\n",
            "Pakistan: 0.11502375247160575\n",
            "Western Countries (average): 0.06374812812581954\n"
          ]
        }
      ]
    },
    {
      "cell_type": "code",
      "source": [
        "import matplotlib.pyplot as plt\n",
        "\n",
        "countries = ['China', 'Pakistan', 'Western Countries (average)']\n",
        "average_sentiments = [0.08064326808835337, 0.11369900738381963, 00.06382004939222162]\n",
        "\n",
        "plt.figure(figsize=(8, 6))\n",
        "bars = plt.bar(countries, average_sentiments, color=['forestgreen', 'darkgreen', 'lightgreen'])\n",
        "plt.title('Average Sentiment Scores towards Environmental Contributions of CPEC by Country/Region')\n",
        "plt.xlabel('Country')\n",
        "plt.ylabel('Average Sentiment Score')\n",
        "plt.ylim(0, 0.15)\n",
        "\n",
        "for bar, sentiment in zip(bars, average_sentiments):\n",
        "    yval = bar.get_height()\n",
        "    plt.text(bar.get_x() + bar.get_width()/2, yval + 0.005, round(sentiment, 4), ha='center', va='bottom')\n",
        "\n",
        "plt.show()\n"
      ],
      "metadata": {
        "colab": {
          "base_uri": "https://localhost:8080/",
          "height": 472
        },
        "id": "1xSO6MV9jVZK",
        "outputId": "3c706cb5-a405-4dc4-b277-9846bf375045"
      },
      "execution_count": null,
      "outputs": [
        {
          "output_type": "display_data",
          "data": {
            "text/plain": [
              "<Figure size 800x600 with 1 Axes>"
            ],
            "image/png": "[encoded data removed]"
          },
          "metadata": {}
        }
      ]
    }
  ]
}