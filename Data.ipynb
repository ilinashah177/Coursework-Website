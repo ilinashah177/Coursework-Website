{
  "nbformat": 4,
  "nbformat_minor": 0,
  "metadata": {
    "colab": {
      "provenance": [],
      "authorship_tag": "ABX9TyMpGezTZ48PZwOp+IR7wWEH",
      "include_colab_link": true
    },
    "kernelspec": {
      "name": "python3",
      "display_name": "Python 3"
    },
    "language_info": {
      "name": "python"
    }
  },
  "cells": [
    {
      "cell_type": "markdown",
      "metadata": {
        "id": "view-in-github",
        "colab_type": "text"
      },
      "source": [
        "<a href=\"https://colab.research.google.com/github/ilinashah177/Coursework-Website/blob/main/Data.ipynb\" target=\"_parent\"><img src=\"https://colab.research.google.com/assets/colab-badge.svg\" alt=\"Open In Colab\"/></a>"
      ]
    },
    {
      "cell_type": "code",
      "source": [
        "from google.colab import files\n",
        "\n",
        "# Upload the file\n",
        "uploaded = files.upload()"
      ],
      "metadata": {
        "colab": {
          "base_uri": "https://localhost:8080/",
          "height": 74
        },
        "id": "3KtfbblAxYRr",
        "outputId": "5003e90c-29fa-4586-e431-c46797c567bd"
      },
      "execution_count": 78,
      "outputs": [
        {
          "output_type": "display_data",
          "data": {
            "text/plain": [
              "<IPython.core.display.HTML object>"
            ],
            "text/html": [
              "\n",
              "     <input type=\"file\" id=\"files-5b15f14d-5417-4f51-921d-0be3ef4e446b\" name=\"files[]\" multiple disabled\n",
              "        style=\"border:none\" />\n",
              "     <output id=\"result-5b15f14d-5417-4f51-921d-0be3ef4e446b\">\n",
              "      Upload widget is only available when the cell has been executed in the\n",
              "      current browser session. Please rerun this cell to enable.\n",
              "      </output>\n",
              "      <script>// Copyright 2017 Google LLC\n",
              "//\n",
              "// Licensed under the Apache License, Version 2.0 (the \"License\");\n",
              "// you may not use this file except in compliance with the License.\n",
              "// You may obtain a copy of the License at\n",
              "//\n",
              "//      http://www.apache.org/licenses/LICENSE-2.0\n",
              "//\n",
              "// Unless required by applicable law or agreed to in writing, software\n",
              "// distributed under the License is distributed on an \"AS IS\" BASIS,\n",
              "// WITHOUT WARRANTIES OR CONDITIONS OF ANY KIND, either express or implied.\n",
              "// See the License for the specific language governing permissions and\n",
              "// limitations under the License.\n",
              "\n",
              "/**\n",
              " * @fileoverview Helpers for google.colab Python module.\n",
              " */\n",
              "(function(scope) {\n",
              "function span(text, styleAttributes = {}) {\n",
              "  const element = document.createElement('span');\n",
              "  element.textContent = text;\n",
              "  for (const key of Object.keys(styleAttributes)) {\n",
              "    element.style[key] = styleAttributes[key];\n",
              "  }\n",
              "  return element;\n",
              "}\n",
              "\n",
              "// Max number of bytes which will be uploaded at a time.\n",
              "const MAX_PAYLOAD_SIZE = 100 * 1024;\n",
              "\n",
              "function _uploadFiles(inputId, outputId) {\n",
              "  const steps = uploadFilesStep(inputId, outputId);\n",
              "  const outputElement = document.getElementById(outputId);\n",
              "  // Cache steps on the outputElement to make it available for the next call\n",
              "  // to uploadFilesContinue from Python.\n",
              "  outputElement.steps = steps;\n",
              "\n",
              "  return _uploadFilesContinue(outputId);\n",
              "}\n",
              "\n",
              "// This is roughly an async generator (not supported in the browser yet),\n",
              "// where there are multiple asynchronous steps and the Python side is going\n",
              "// to poll for completion of each step.\n",
              "// This uses a Promise to block the python side on completion of each step,\n",
              "// then passes the result of the previous step as the input to the next step.\n",
              "function _uploadFilesContinue(outputId) {\n",
              "  const outputElement = document.getElementById(outputId);\n",
              "  const steps = outputElement.steps;\n",
              "\n",
              "  const next = steps.next(outputElement.lastPromiseValue);\n",
              "  return Promise.resolve(next.value.promise).then((value) => {\n",
              "    // Cache the last promise value to make it available to the next\n",
              "    // step of the generator.\n",
              "    outputElement.lastPromiseValue = value;\n",
              "    return next.value.response;\n",
              "  });\n",
              "}\n",
              "\n",
              "/**\n",
              " * Generator function which is called between each async step of the upload\n",
              " * process.\n",
              " * @param {string} inputId Element ID of the input file picker element.\n",
              " * @param {string} outputId Element ID of the output display.\n",
              " * @return {!Iterable<!Object>} Iterable of next steps.\n",
              " */\n",
              "function* uploadFilesStep(inputId, outputId) {\n",
              "  const inputElement = document.getElementById(inputId);\n",
              "  inputElement.disabled = false;\n",
              "\n",
              "  const outputElement = document.getElementById(outputId);\n",
              "  outputElement.innerHTML = '';\n",
              "\n",
              "  const pickedPromise = new Promise((resolve) => {\n",
              "    inputElement.addEventListener('change', (e) => {\n",
              "      resolve(e.target.files);\n",
              "    });\n",
              "  });\n",
              "\n",
              "  const cancel = document.createElement('button');\n",
              "  inputElement.parentElement.appendChild(cancel);\n",
              "  cancel.textContent = 'Cancel upload';\n",
              "  const cancelPromise = new Promise((resolve) => {\n",
              "    cancel.onclick = () => {\n",
              "      resolve(null);\n",
              "    };\n",
              "  });\n",
              "\n",
              "  // Wait for the user to pick the files.\n",
              "  const files = yield {\n",
              "    promise: Promise.race([pickedPromise, cancelPromise]),\n",
              "    response: {\n",
              "      action: 'starting',\n",
              "    }\n",
              "  };\n",
              "\n",
              "  cancel.remove();\n",
              "\n",
              "  // Disable the input element since further picks are not allowed.\n",
              "  inputElement.disabled = true;\n",
              "\n",
              "  if (!files) {\n",
              "    return {\n",
              "      response: {\n",
              "        action: 'complete',\n",
              "      }\n",
              "    };\n",
              "  }\n",
              "\n",
              "  for (const file of files) {\n",
              "    const li = document.createElement('li');\n",
              "    li.append(span(file.name, {fontWeight: 'bold'}));\n",
              "    li.append(span(\n",
              "        `(${file.type || 'n/a'}) - ${file.size} bytes, ` +\n",
              "        `last modified: ${\n",
              "            file.lastModifiedDate ? file.lastModifiedDate.toLocaleDateString() :\n",
              "                                    'n/a'} - `));\n",
              "    const percent = span('0% done');\n",
              "    li.appendChild(percent);\n",
              "\n",
              "    outputElement.appendChild(li);\n",
              "\n",
              "    const fileDataPromise = new Promise((resolve) => {\n",
              "      const reader = new FileReader();\n",
              "      reader.onload = (e) => {\n",
              "        resolve(e.target.result);\n",
              "      };\n",
              "      reader.readAsArrayBuffer(file);\n",
              "    });\n",
              "    // Wait for the data to be ready.\n",
              "    let fileData = yield {\n",
              "      promise: fileDataPromise,\n",
              "      response: {\n",
              "        action: 'continue',\n",
              "      }\n",
              "    };\n",
              "\n",
              "    // Use a chunked sending to avoid message size limits. See b/62115660.\n",
              "    let position = 0;\n",
              "    do {\n",
              "      const length = Math.min(fileData.byteLength - position, MAX_PAYLOAD_SIZE);\n",
              "      const chunk = new Uint8Array(fileData, position, length);\n",
              "      position += length;\n",
              "\n",
              "      const base64 = btoa(String.fromCharCode.apply(null, chunk));\n",
              "      yield {\n",
              "        response: {\n",
              "          action: 'append',\n",
              "          file: file.name,\n",
              "          data: base64,\n",
              "        },\n",
              "      };\n",
              "\n",
              "      let percentDone = fileData.byteLength === 0 ?\n",
              "          100 :\n",
              "          Math.round((position / fileData.byteLength) * 100);\n",
              "      percent.textContent = `${percentDone}% done`;\n",
              "\n",
              "    } while (position < fileData.byteLength);\n",
              "  }\n",
              "\n",
              "  // All done.\n",
              "  yield {\n",
              "    response: {\n",
              "      action: 'complete',\n",
              "    }\n",
              "  };\n",
              "}\n",
              "\n",
              "scope.google = scope.google || {};\n",
              "scope.google.colab = scope.google.colab || {};\n",
              "scope.google.colab._files = {\n",
              "  _uploadFiles,\n",
              "  _uploadFilesContinue,\n",
              "};\n",
              "})(self);\n",
              "</script> "
            ]
          },
          "metadata": {}
        },
        {
          "output_type": "stream",
          "name": "stdout",
          "text": [
            "Saving Dataset For QM2 Coursework.xlsx to Dataset For QM2 Coursework (1).xlsx\n"
          ]
        }
      ]
    },
    {
      "cell_type": "code",
      "source": [
        "import pandas as pd\n",
        "\n",
        "#Name of uploaded file\n",
        "file_name = 'Dataset For QM2 Coursework.xlsx'\n",
        "\n",
        "#Load the Excel file into a pandas DataFrame\n",
        "df = pd.read_excel(file_name)"
      ],
      "metadata": {
        "id": "5v89CHzyxtl9"
      },
      "execution_count": 79,
      "outputs": []
    },
    {
      "cell_type": "code",
      "source": [
        "#Load all sheets into a dictionary of DataFrames\n",
        "df_dict = pd.read_excel(file_name, sheet_name=None)\n",
        "\n",
        "#Print the names of the sheets\n",
        "print(df_dict.keys())"
      ],
      "metadata": {
        "colab": {
          "base_uri": "https://localhost:8080/"
        },
        "id": "g7u90iV0yC_5",
        "outputId": "1148cf43-fcc5-407f-d559-f01c24603e66"
      },
      "execution_count": 80,
      "outputs": [
        {
          "output_type": "stream",
          "name": "stdout",
          "text": [
            "dict_keys(['Access to electricity', 'total energy capacity added ', 'GDP Per Capita ', 'Total pop.'])\n"
          ]
        }
      ]
    },
    {
      "cell_type": "code",
      "source": [
        "#Access a specific sheet by name\n",
        "sheet1_df = df_dict['Access to electricity']\n",
        "\n",
        "#Load only specific columns\n",
        "columns_to_print = sheet1_df.columns[:2]\n",
        "\n",
        "# Step 4: Select specific rows\n",
        "rows_to_print = sheet1_df.iloc[:13]\n",
        "\n",
        "#Combine columns and rows\n",
        "subset_df = rows_to_print[columns_to_print]\n",
        "\n",
        "#Print the subset\n",
        "print(subset_df)"
      ],
      "metadata": {
        "colab": {
          "base_uri": "https://localhost:8080/"
        },
        "id": "xhvvma8Cybo-",
        "outputId": "52719139-cace-4be4-b7f1-54bd03cdadd7"
      },
      "execution_count": 91,
      "outputs": [
        {
          "output_type": "stream",
          "name": "stdout",
          "text": [
            "    Year  Access to electricity (% of population)\n",
            "0   2010                                     87.1\n",
            "1   2011                                     87.8\n",
            "2   2012                                     88.6\n",
            "3   2013                                     89.3\n",
            "4   2014                                     90.1\n",
            "5   2015                                     91.0\n",
            "6   2016                                     91.8\n",
            "7   2017                                     92.7\n",
            "8   2018                                     93.4\n",
            "9   2019                                     93.9\n",
            "10  2020                                     94.5\n",
            "11  2021                                     94.9\n",
            "12  2022                                     95.0\n"
          ]
        }
      ]
    },
    {
      "cell_type": "code",
      "source": [
        "#Access a specific sheet by name\n",
        "sheet2_df = df_dict['total energy capacity added ']\n",
        "\n",
        "#Load only specific columns\n",
        "columns_to_print2 = sheet2_df.columns[:2]\n",
        "\n",
        "# Step 4: Select specific rows\n",
        "rows_to_print2 = sheet2_df.iloc[:8]\n",
        "\n",
        "#Combine columns and rows\n",
        "subset_df2 = rows_to_print2[columns_to_print2]\n",
        "\n",
        "#Print the subset\n",
        "print(subset_df2)"
      ],
      "metadata": {
        "colab": {
          "base_uri": "https://localhost:8080/"
        },
        "id": "kBzVo4X09VRC",
        "outputId": "78224cd6-d63b-440e-a058-1610aa4f61b7"
      },
      "execution_count": 92,
      "outputs": [
        {
          "output_type": "stream",
          "name": "stdout",
          "text": [
            "   Year Total Energy Capacity Added From completed CPEC Projects (MW)\n",
            "0  2015                                                  -           \n",
            "1  2016                                                400           \n",
            "2  2017                                               1370           \n",
            "3  2018                                               1420           \n",
            "4  2019                                               1980           \n",
            "5  2020                                                  -           \n",
            "6  2021                                               4000           \n",
            "7  2022                                               1050           \n"
          ]
        }
      ]
    },
    {
      "cell_type": "code",
      "source": [
        "#Access a specific sheet by name\n",
        "sheet3_df = df_dict['GDP Per Capita ']\n",
        "\n",
        "#Load only specific columns\n",
        "columns_to_print3 = sheet3_df.columns[:2]\n",
        "\n",
        "# Step 4: Select specific rows\n",
        "rows_to_print3 = sheet3_df.iloc[:13]\n",
        "\n",
        "#Combine columns and rows\n",
        "subset_df3 = rows_to_print3[columns_to_print3]\n",
        "\n",
        "#Print the subset\n",
        "print(subset_df3)"
      ],
      "metadata": {
        "colab": {
          "base_uri": "https://localhost:8080/"
        },
        "id": "3pTuus0F9vm-",
        "outputId": "1aca41aa-91bc-4f61-f9c7-9a6bb2bc766d"
      },
      "execution_count": 93,
      "outputs": [
        {
          "output_type": "stream",
          "name": "stdout",
          "text": [
            "    Year  GDP growth (annual %)\n",
            "0   2010                    1.5\n",
            "1   2011                    2.7\n",
            "2   2012                    3.0\n",
            "3   2013                    4.4\n",
            "4   2014                    4.1\n",
            "5   2015                    4.2\n",
            "6   2016                    6.6\n",
            "7   2017                    4.4\n",
            "8   2018                    6.2\n",
            "9   2019                    2.5\n",
            "10  2020                   -1.3\n",
            "11  2021                    6.5\n",
            "12  2022                    4.8\n"
          ]
        }
      ]
    },
    {
      "cell_type": "code",
      "source": [
        "#Access a specific sheet by name\n",
        "sheet4_df = df_dict['Total pop.']\n",
        "\n",
        "#Load only specific columns\n",
        "columns_to_print4 = sheet4_df.columns[:2]\n",
        "\n",
        "# Step 4: Select specific rows\n",
        "rows_to_print4 = sheet4_df.iloc[:13]\n",
        "\n",
        "#Combine columns and rows\n",
        "subset_df4 = rows_to_print4[columns_to_print4]\n",
        "\n",
        "#Print the subset\n",
        "print(subset_df4)"
      ],
      "metadata": {
        "colab": {
          "base_uri": "https://localhost:8080/"
        },
        "id": "4_ecAJ5y-GRa",
        "outputId": "073f1033-9730-4639-8451-e49abd4176da"
      },
      "execution_count": 94,
      "outputs": [
        {
          "output_type": "stream",
          "name": "stdout",
          "text": [
            "    Year  Population, Total\n",
            "0   2010        199239047.0\n",
            "1   2011        203746065.0\n",
            "2   2012        207667125.0\n",
            "3   2013        211073978.0\n",
            "4   2014        214264647.0\n",
            "5   2015        217290883.0\n",
            "6   2016        220138869.0\n",
            "7   2017        223273967.0\n",
            "8   2018        226928892.0\n",
            "9   2019        230800899.0\n",
            "10  2020        235001746.0\n",
            "11  2021        239477801.0\n",
            "12  2022        243700667.0\n"
          ]
        }
      ]
    }
  ]
}